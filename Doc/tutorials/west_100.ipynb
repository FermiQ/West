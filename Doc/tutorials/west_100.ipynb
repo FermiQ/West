{
 "cells": [
  {
   "cell_type": "markdown",
   "metadata": {},
   "source": [
    "This tutorial can be downloaded [link](http://greatfire.uchicago.edu/west-public/West/raw/master/doc/tutorials/west_100.ipynb)."
   ]
  },
  {
   "cell_type": "markdown",
   "metadata": {},
   "source": [
    "# 1.0 Getting Started: GW calculation"
   ]
  },
  {
   "cell_type": "markdown",
   "metadata": {},
   "source": [
    "In order to compute the GW electronic structure of the silane molecule you need to run `pw.x`, `wstat.x` and `wfreq.x` in sequence. Documentation for building and installing WEST is available at this [link](http://www.west-code.org/doc/West/latest/installation.html)."
   ]
  },
  {
   "cell_type": "markdown",
   "metadata": {},
   "source": [
    "The GW workflow involves three sequental steps: \n",
    "- Step 1: Ground State\n",
    "- Step 2: Screening\n",
    "- Step 3: Quasiparticle corrections\n",
    "\n",
    "Each step is explained below. At the end of step 3 you will be able to obtain the electronic structure of the silane molecule at the $G_0W_0 @ PBE$ level of theory, where the GW is computed without empty states and with full frequency integration using the countour deformation technique. For more information about the implementation, we refer to [Govoni et al., J. Chem. Theory Comput. 11, 2680 (2015)](https://doi.org/10.1021/ct500958p)."
   ]
  },
  {
   "cell_type": "markdown",
   "metadata": {},
   "source": [
    "## Step 1: Ground State "
   ]
  },
  {
   "cell_type": "markdown",
   "metadata": {},
   "source": [
    "The ground state electronic structure of silane molecule with [QuantumEspresso](https://www.quantum-espresso.org/) is obtained by running `pw.x`. Currently, WEST supports the version 6.1.0 of Quantum Espresso. The pseudopotential files for **Si** and **H** in UPF format can be downloaded from: [QE-PP](https://www.quantum-espresso.org/pseudopotentials) database, or from [SG15](http://www.quantum-simulation.org/potentials/sg15_oncv/upf/) database. Check out the `pw.x` [input description](https://www.quantum-espresso.org/Doc/INPUT_PW.html) in order to generate an input file for QuantumEspresso called `pw.in`. "
   ]
  },
  {
   "cell_type": "markdown",
   "metadata": {},
   "source": [
    "Download these files in your current working directory:"
   ]
  },
  {
   "cell_type": "code",
   "execution_count": 1,
   "metadata": {},
   "outputs": [],
   "source": [
    "%%bash\n",
    "wget -N -q http://www.west-code.org/doc/training/silane/pw.in\n",
    "wget -N -q http://www.quantum-simulation.org/potentials/sg15_oncv/upf/H_ONCV_PBE-1.2.upf\n",
    "wget -N -q http://www.quantum-simulation.org/potentials/sg15_oncv/upf/Si_ONCV_PBE-1.2.upf"
   ]
  },
  {
   "cell_type": "markdown",
   "metadata": {},
   "source": [
    "Let's inspect the ``pw.in`` file, input for ``pw.x``."
   ]
  },
  {
   "cell_type": "code",
   "execution_count": 2,
   "metadata": {},
   "outputs": [
    {
     "name": "stdout",
     "output_type": "stream",
     "text": [
      "&control\n",
      "calculation  = 'scf'\n",
      "restart_mode = 'from_scratch'\n",
      "pseudo_dir   = './'\n",
      "outdir       = './'\n",
      "prefix       = 'silane'\n",
      "wf_collect   = .TRUE.\n",
      "/\n",
      "&system\n",
      "ibrav           = 1\n",
      "celldm(1)       = 20\n",
      "nat             = 5\n",
      "ntyp            = 2\n",
      "ecutwfc         = 25.0\n",
      "nbnd            = 10\n",
      "assume_isolated ='mp'\n",
      "/\n",
      "&electrons\n",
      "diago_full_acc = .TRUE.\n",
      "/\n",
      "ATOMIC_SPECIES\n",
      "Si 28.0855  Si_ONCV_PBE-1.2.upf\n",
      "H  1.00794   H_ONCV_PBE-1.2.upf\n",
      "ATOMIC_POSITIONS bohr\n",
      "Si      10.000000   10.000000  10.000000\n",
      "H       11.614581   11.614581  11.614581\n",
      "H        8.385418    8.385418  11.614581\n",
      "H        8.385418   11.614581   8.385418\n",
      "H       11.614581    8.385418   8.385418\n",
      "K_POINTS {gamma}\n"
     ]
    }
   ],
   "source": [
    "%%bash\n",
    "cat pw.in"
   ]
  },
  {
   "cell_type": "markdown",
   "metadata": {},
   "source": [
    "Run ``pw.in`` on 2 cores."
   ]
  },
  {
   "cell_type": "code",
   "execution_count": null,
   "metadata": {},
   "outputs": [],
   "source": [
    "%%bash\n",
    "mpirun -n 2 pw.x < pw.in > pw.out"
   ]
  },
  {
   "cell_type": "markdown",
   "metadata": {},
   "source": [
    "The output file ``pw.out`` contains information about the ground state calculation."
   ]
  },
  {
   "cell_type": "markdown",
   "metadata": {},
   "source": [
    "## Step 2: Screening"
   ]
  },
  {
   "cell_type": "markdown",
   "metadata": {},
   "source": [
    "The static dielectric screening is computed using the projective dielectric eigendecomposition (PDEP) technique. Check out the ``wstat.x`` [input description](http://www.west-code.org/doc/West/latest/) and generate an input file for WEST called ``wstat.in``."
   ]
  },
  {
   "cell_type": "markdown",
   "metadata": {},
   "source": [
    "Download this file in your current working directory:"
   ]
  },
  {
   "cell_type": "code",
   "execution_count": 3,
   "metadata": {},
   "outputs": [],
   "source": [
    "%%bash\n",
    "wget -N -q http://www.west-code.org/doc/training/silane/wstat.in"
   ]
  },
  {
   "cell_type": "markdown",
   "metadata": {},
   "source": [
    "Let's inspect the ``wstat.in`` file, input for ``wstat.x``."
   ]
  },
  {
   "cell_type": "code",
   "execution_count": 4,
   "metadata": {},
   "outputs": [
    {
     "name": "stdout",
     "output_type": "stream",
     "text": [
      "input_west:\n",
      "    qe_prefix: silane\n",
      "    west_prefix: silane\n",
      "    outdir: ./\n",
      "\n",
      "wstat_control:\n",
      "    wstat_calculation: S\n",
      "    n_pdep_eigen: 50"
     ]
    }
   ],
   "source": [
    "%%bash\n",
    "cat wstat.in"
   ]
  },
  {
   "cell_type": "markdown",
   "metadata": {},
   "source": [
    "Run ``wstat.in`` on 2 cores."
   ]
  },
  {
   "cell_type": "code",
   "execution_count": null,
   "metadata": {},
   "outputs": [],
   "source": [
    "%%bash\n",
    "mpirun -n 2 wstat.x -i wstat.in > wstat.out"
   ]
  },
  {
   "cell_type": "markdown",
   "metadata": {},
   "source": [
    "The output file ``wstat.out`` contains information about the PDEP iterations, and the dielectric eigenvalues can be found in the file ``<west_prefix>.wstat.save/wstat.json``. \n",
    "\n",
    "Below we show how to load, print, and plot the PDEP eigenvalues."
   ]
  },
  {
   "cell_type": "code",
   "execution_count": 5,
   "metadata": {},
   "outputs": [],
   "source": [
    "import json\n",
    "import numpy as np\n",
    "\n",
    "# Load the output data\n",
    "with open('silane.wstat.save/wstat.json') as json_file:\n",
    "    data = json.load(json_file)\n",
    "    \n",
    "# Extract converged PDEP eigenvalues\n",
    "ev = np.array(data[\"exec\"][\"davitr\"][-1][\"ev\"],dtype=\"f8\")"
   ]
  },
  {
   "cell_type": "code",
   "execution_count": 6,
   "metadata": {},
   "outputs": [
    {
     "name": "stdout",
     "output_type": "stream",
     "text": [
      "[-1.27478021 -1.19127122 -1.19120182 -1.19117265 -0.82405876 -0.82403634\n",
      " -0.8239814  -0.63586048 -0.62939276 -0.62938952 -0.5005205  -0.50049623\n",
      " -0.50047244 -0.42993907 -0.42992203 -0.42991856 -0.23238121 -0.23237804\n",
      " -0.23237301 -0.18322991 -0.18321449 -0.18320583 -0.1783964  -0.17750084\n",
      " -0.17749955 -0.1459245  -0.14591779 -0.1459143  -0.12258015 -0.12012226\n",
      " -0.12011826 -0.12011616 -0.11634693 -0.11634526 -0.11528926 -0.11528499\n",
      " -0.11528457 -0.09408215 -0.09408058 -0.09408013 -0.07995372 -0.07995119\n",
      " -0.07995041 -0.07477358 -0.07310084 -0.07309955 -0.0657784  -0.06577326\n",
      " -0.06576894 -0.06313431]\n"
     ]
    }
   ],
   "source": [
    "# Print\n",
    "print(ev)"
   ]
  },
  {
   "cell_type": "code",
   "execution_count": 7,
   "metadata": {},
   "outputs": [
    {
     "data": {
      "image/png": "[encoded data removed]",
      "text/plain": [
       "<Figure size 432x288 with 1 Axes>"
      ]
     },
     "metadata": {
      "needs_background": "light"
     },
     "output_type": "display_data"
    }
   ],
   "source": [
    "import matplotlib.pyplot as plt\n",
    "\n",
    "# Create x-axis\n",
    "iv = np.linspace(1,ev.size,ev.size,endpoint=True)\n",
    "\n",
    "# Plot \n",
    "plt.plot(iv,ev,'o-',label=\"XXX\")\n",
    "plt.xlabel(\"i\")\n",
    "plt.ylabel(\"PDEP eigenvalue\")\n",
    "\n",
    "plt.show()"
   ]
  },
  {
   "cell_type": "markdown",
   "metadata": {},
   "source": [
    "## Step 3: Quasiparticle corrections"
   ]
  },
  {
   "cell_type": "markdown",
   "metadata": {},
   "source": [
    "The GW electronic structure is computed treating the frequency integration of the correlation part of the self energy with the Contour Deformation techinique and by computing the dielectric screening at multipole frequencies with Lanczos iterations. Check out the ``wfreq.x`` [input description](http://www.west-code.org/doc/West/latest/) and generate an input file for WEST called ``wfreq.in``."
   ]
  },
  {
   "cell_type": "markdown",
   "metadata": {},
   "source": [
    "Download this file in your current working directory:"
   ]
  },
  {
   "cell_type": "code",
   "execution_count": 8,
   "metadata": {},
   "outputs": [],
   "source": [
    "%%bash\n",
    "wget -N -q http://www.west-code.org/doc/training/silane/wfreq.in"
   ]
  },
  {
   "cell_type": "markdown",
   "metadata": {},
   "source": [
    "Let's inspect the ``wfreq.in`` file, input for ``wfreq.x``."
   ]
  },
  {
   "cell_type": "code",
   "execution_count": 9,
   "metadata": {},
   "outputs": [
    {
     "name": "stdout",
     "output_type": "stream",
     "text": [
      "input_west:\n",
      "    qe_prefix: silane\n",
      "    west_prefix: silane\n",
      "    outdir: ./\n",
      "\n",
      "wstat_control:\n",
      "    wstat_calculation: S\n",
      "    n_pdep_eigen: 50\n",
      "\n",
      "wfreq_control:\n",
      "    wfreq_calculation: XWGQ\n",
      "    n_pdep_eigen_to_use: 50\n",
      "    qp_bandrange: [1,5]\n",
      "    n_refreq: 300\n",
      "    ecut_refreq: 2.0"
     ]
    }
   ],
   "source": [
    "%%bash\n",
    "cat wfreq.in"
   ]
  },
  {
   "cell_type": "markdown",
   "metadata": {},
   "source": [
    "Run ``wfreq.in`` on 2 cores."
   ]
  },
  {
   "cell_type": "code",
   "execution_count": null,
   "metadata": {},
   "outputs": [],
   "source": [
    "%%bash \n",
    "mpirun -n 2 wfreq.x -i wfreq.in > wfreq.out "
   ]
  },
  {
   "cell_type": "markdown",
   "metadata": {},
   "source": [
    "The output file ``wfreq.out`` contains information about the calculation of the GW self-energy, and the corrected electronic structure can be found in the file ``<west_prefix>.wfreq.save/wfreq.json``.\n",
    "\n",
    "Below we show how to load, print, and plot the quasiparticle corrections. "
   ]
  },
  {
   "cell_type": "code",
   "execution_count": 10,
   "metadata": {},
   "outputs": [],
   "source": [
    "import json\n",
    "import numpy as np\n",
    "\n",
    "# Load the output data\n",
    "with open('silane.wfreq.save/wfreq.json') as json_file:\n",
    "    data = json.load(json_file)\n",
    "\n",
    "# Extract converged quasiparticle (QP) corrections\n",
    "k=1 \n",
    "kindex = f\"K{k:06d}\"\n",
    "    \n",
    "bandmap = data[\"output\"][\"Q\"][\"bandmap\"]\n",
    "eqp = data[\"output\"][\"Q\"][kindex]"
   ]
  },
  {
   "cell_type": "code",
   "execution_count": 11,
   "metadata": {},
   "outputs": [
    {
     "name": "stdout",
     "output_type": "stream",
     "text": [
      "    k      |    band    |    eks [eV]     |   eqpLin [eV]   |   eqpSec [eV]  \n",
      "-----------------------------------------------------------------------------\n",
      "    1      |     4      |     -8.230      |     -12.150     |     -12.044    \n",
      "    1      |     5      |     -0.466      |      0.666      |      0.665     \n"
     ]
    }
   ],
   "source": [
    "# Print QP corrections\n",
    "print (f\"{'k':^10} | {'band':^10} | {'eks [eV]':^15} | {'eqpLin [eV]':^15} | {'eqpSec [eV]':^15}\")\n",
    "print(77*\"-\")\n",
    "for i, b in enumerate(bandmap) : \n",
    "    print(f\"{k:^10} | {b:^10} | {eqp['eks'][i]:^15.3f} | {eqp['eqpLin'][i]:^15.3f} | {eqp['eqpSec'][i]:^15.3f}\")"
   ]
  },
  {
   "cell_type": "markdown",
   "metadata": {},
   "source": [
    "Explanation of keys:\n",
    "\n",
    "- `eks` : Kohn-Sham energy (obtained in Step 1)\n",
    "- `eqpLin` : Quasiparticle energy ($G_0W_0 @ PBE$), obtained by approximating the self-energy to first order in the frequency\n",
    "- `eqpSec` : Quasiparticle energy ($G_0W_0 @ PBE$)"
   ]
  },
  {
   "cell_type": "code",
   "execution_count": null,
   "metadata": {},
   "outputs": [],
   "source": []
  }
 ],
 "metadata": {
  "kernelspec": {
   "display_name": "Python 3",
   "language": "python",
   "name": "python3"
  },
  "language_info": {
   "codemirror_mode": {
    "name": "ipython",
    "version": 3
   },
   "file_extension": ".py",
   "mimetype": "text/x-python",
   "name": "python",
   "nbconvert_exporter": "python",
   "pygments_lexer": "ipython3",
   "version": "3.8.6"
  }
 },
 "nbformat": 4,
 "nbformat_minor": 4
}
