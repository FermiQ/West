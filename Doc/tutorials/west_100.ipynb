{
 "cells": [
  {
   "cell_type": "markdown",
   "metadata": {},
   "source": [
    "This tutorial can be downloaded [link](http://greatfire.uchicago.edu/west-public/West/raw/master/doc/tutorials/west_100.ipynb)."
   ]
  },
  {
   "cell_type": "markdown",
   "metadata": {},
   "source": [
    "# 1.0 Getting Started: GW calculation"
   ]
  },
  {
   "cell_type": "markdown",
   "metadata": {},
   "source": [
    "In order to compute the GW electronic structure of the silane molecule you need to run `pw.x`, `wstat.x` and `wfreq.x` in sequence. "
   ]
  },
  {
   "cell_type": "markdown",
   "metadata": {},
   "source": [
    "## Step 1: Ground State "
   ]
  },
  {
   "cell_type": "markdown",
   "metadata": {},
   "source": [
    "The ground state electronic structure of silane molecule with [QuantumEspresso 6.1.0](https://www.quantum-espresso.org/) is obtained by running `pw.x`. The pseudopotential files for **Si** and **H** in UPF format can be downloaded from: [QE-PP](https://www.quantum-espresso.org/pseudopotentials) database, or from [SG15](http://www.quantum-simulation.org/potentials/sg15_oncv/upf/) database. Check out the `pw.x` [input description](https://www.quantum-espresso.org/Doc/INPUT_PW.html) in order to generate an input file for QuantumEspresso called `pw.in`. "
   ]
  },
  {
   "cell_type": "markdown",
   "metadata": {},
   "source": [
    "Download these files in your current working directory:"
   ]
  },
  {
   "cell_type": "code",
   "execution_count": 1,
   "metadata": {},
   "outputs": [],
   "source": [
    "%%bash\n",
    "wget -N -q http://www.west-code.org/doc/training/silane/pw.in\n",
    "wget -N -q http://www.quantum-simulation.org/potentials/sg15_oncv/upf/H_ONCV_PBE-1.2.upf\n",
    "wget -N -q http://www.quantum-simulation.org/potentials/sg15_oncv/upf/Si_ONCV_PBE-1.2.upf"
   ]
  },
  {
   "cell_type": "markdown",
   "metadata": {},
   "source": [
    "Let's inspect the ``pw.in`` file, input for ``pw.x``."
   ]
  },
  {
   "cell_type": "code",
   "execution_count": 2,
   "metadata": {},
   "outputs": [
    {
     "name": "stdout",
     "output_type": "stream",
     "text": [
      "&control\n",
      "calculation  = 'scf'\n",
      "restart_mode = 'from_scratch'\n",
      "pseudo_dir   = './'\n",
      "outdir       = './'\n",
      "prefix       = 'silane'\n",
      "wf_collect   = .TRUE.\n",
      "/\n",
      "&system\n",
      "ibrav           = 1\n",
      "celldm(1)       = 20\n",
      "nat             = 5\n",
      "ntyp            = 2\n",
      "ecutwfc         = 25.0\n",
      "nbnd            = 10\n",
      "assume_isolated ='mp'\n",
      "/\n",
      "&electrons\n",
      "diago_full_acc = .TRUE.\n",
      "/\n",
      "ATOMIC_SPECIES\n",
      "Si 28.0855  Si_ONCV_PBE-1.2.upf\n",
      "H  1.00794   H_ONCV_PBE-1.2.upf\n",
      "ATOMIC_POSITIONS bohr\n",
      "Si      10.000000   10.000000  10.000000\n",
      "H       11.614581   11.614581  11.614581\n",
      "H        8.385418    8.385418  11.614581\n",
      "H        8.385418   11.614581   8.385418\n",
      "H       11.614581    8.385418   8.385418\n",
      "K_POINTS {gamma}\n"
     ]
    }
   ],
   "source": [
    "%%bash\n",
    "cat pw.in"
   ]
  },
  {
   "cell_type": "markdown",
   "metadata": {},
   "source": [
    "Run ``pw.in`` on 2 cores."
   ]
  },
  {
   "cell_type": "code",
   "execution_count": null,
   "metadata": {},
   "outputs": [],
   "source": [
    "%%bash \n",
    "mpirun -n 2 pw.x < pw.in > pw.out "
   ]
  },
  {
   "cell_type": "markdown",
   "metadata": {},
   "source": [
    "The output file ``pw.out`` contains information about the ground state calculation."
   ]
  },
  {
   "cell_type": "markdown",
   "metadata": {},
   "source": [
    "## Step 2: Screening"
   ]
  },
  {
   "cell_type": "markdown",
   "metadata": {},
   "source": [
    "The static dielectric screening is computed using the projective dielectric eigendecomposition (PDEP) technique. Check out the ``wstat.x`` [input description](http://www.west-code.org/doc/West/latest/) and generate an input file for WEST called ``wstat.in``."
   ]
  },
  {
   "cell_type": "markdown",
   "metadata": {},
   "source": [
    "Download this file in your current working directory:"
   ]
  },
  {
   "cell_type": "code",
   "execution_count": 3,
   "metadata": {},
   "outputs": [],
   "source": [
    "%%bash\n",
    "wget -N -q http://www.west-code.org/doc/training/silane/wstat.in"
   ]
  },
  {
   "cell_type": "markdown",
   "metadata": {},
   "source": [
    "Let's inspect the ``wstat.in`` file, input for ``wstat.x``."
   ]
  },
  {
   "cell_type": "code",
   "execution_count": 4,
   "metadata": {},
   "outputs": [
    {
     "name": "stdout",
     "output_type": "stream",
     "text": [
      "input_west:\n",
      "    qe_prefix: silane\n",
      "    west_prefix: silane\n",
      "    outdir: ./\n",
      "\n",
      "wstat_control:\n",
      "    wstat_calculation: S\n",
      "    n_pdep_eigen: 50"
     ]
    }
   ],
   "source": [
    "%%bash\n",
    "cat wstat.in"
   ]
  },
  {
   "cell_type": "markdown",
   "metadata": {},
   "source": [
    "Run ``wstat.in`` on 2 cores."
   ]
  },
  {
   "cell_type": "code",
   "execution_count": null,
   "metadata": {},
   "outputs": [],
   "source": [
    "%%bash \n",
    "mpirun -n 2 wstat.x -i wstat.in > wstat.out "
   ]
  },
  {
   "cell_type": "markdown",
   "metadata": {},
   "source": [
    "The output file ``wstat.out`` contains information about the PDEP iterations, and the dielectric eigenvalues can be found in the file ``<west_prefix>.wstat.save/wstat.json``."
   ]
  },
  {
   "cell_type": "code",
   "execution_count": 5,
   "metadata": {},
   "outputs": [
    {
     "data": {
      "image/png": "[encoded data removed]",
      "text/plain": [
       "<Figure size 432x288 with 1 Axes>"
      ]
     },
     "metadata": {
      "needs_background": "light"
     },
     "output_type": "display_data"
    }
   ],
   "source": [
    "import json\n",
    "import numpy as np\n",
    "import matplotlib.pyplot as plt\n",
    "\n",
    "with open('silane.wstat.save/wstat.json') as json_file:\n",
    "    data = json.load(json_file)\n",
    "\n",
    "ev = np.array(data[\"exec\"][\"davitr\"][-1][\"ev\"],dtype=\"f8\")\n",
    "iv = np.linspace(1,ev.size,ev.size,endpoint=True)\n",
    "\n",
    "plt.plot(iv,ev,'o-',label=\"XXX\")\n",
    "plt.xlabel(\"i\")\n",
    "plt.ylabel(\"PDEP eigenvalue\")\n",
    "\n",
    "plt.show()"
   ]
  },
  {
   "cell_type": "markdown",
   "metadata": {},
   "source": [
    "## Step 3: GW"
   ]
  },
  {
   "cell_type": "markdown",
   "metadata": {},
   "source": [
    "The GW electronic structure is computed treating the frequency integration of the correlation part of the self energy with the Contour Deformation techinique and by computing the dielectric screening at multipole frequencies with Lanczos iterations. Check out the ``wfreq.x`` [input description](http://www.west-code.org/doc/West/latest/) and generate an input file for WEST called ``wfreq.in``."
   ]
  },
  {
   "cell_type": "markdown",
   "metadata": {},
   "source": [
    "Download this file in your current working directory:"
   ]
  },
  {
   "cell_type": "code",
   "execution_count": 6,
   "metadata": {},
   "outputs": [],
   "source": [
    "%%bash\n",
    "wget -N -q http://www.west-code.org/doc/training/silane/wfreq.in"
   ]
  },
  {
   "cell_type": "markdown",
   "metadata": {},
   "source": [
    "Let's inspect the ``wfreq.in`` file, input for ``wfreq.x``."
   ]
  },
  {
   "cell_type": "code",
   "execution_count": 7,
   "metadata": {},
   "outputs": [
    {
     "name": "stdout",
     "output_type": "stream",
     "text": [
      "input_west:\n",
      "    qe_prefix: silane\n",
      "    west_prefix: silane\n",
      "    outdir: ./\n",
      "\n",
      "wstat_control:\n",
      "    wstat_calculation: S\n",
      "    n_pdep_eigen: 50\n",
      "\n",
      "wfreq_control:\n",
      "    wfreq_calculation: XWGQ\n",
      "    n_pdep_eigen_to_use: 50\n",
      "    qp_bandrange: [1,5]\n",
      "    n_refreq: 300\n",
      "    ecut_refreq: 2.0"
     ]
    }
   ],
   "source": [
    "%%bash\n",
    "cat wfreq.in"
   ]
  },
  {
   "cell_type": "markdown",
   "metadata": {},
   "source": [
    "Run ``wfreq.in`` on 2 cores."
   ]
  },
  {
   "cell_type": "code",
   "execution_count": null,
   "metadata": {},
   "outputs": [],
   "source": [
    "%%bash \n",
    "mpirun -n 2 wfreq.x -i wfreq.in > wfreq.out "
   ]
  },
  {
   "cell_type": "markdown",
   "metadata": {},
   "source": [
    "The output file ``wfreq.out`` contains information about the calculation of the GW self-energy, and the corrected electronic structure can be found in the file ``<west_prefix>.wstat.save/wfreq.json``."
   ]
  },
  {
   "cell_type": "code",
   "execution_count": 53,
   "metadata": {},
   "outputs": [
    {
     "name": "stdout",
     "output_type": "stream",
     "text": [
      "K000001\n",
      "\n",
      "band = 1\n",
      "   sigmax = -17.606 eV\n",
      "   vxcl = -11.250 eV\n",
      "   vxcnl = 0.000 eV\n",
      "   hf = -6.357 eV\n",
      "   z = 0.661 eV\n",
      "   eks = -13.236 eV\n",
      "   eqpLin = -16.273 eV\n",
      "   eqpSec = -16.135 eV\n",
      "   sigmac_eks = 1.765, 0.015 eV\n",
      "   sigmac_eqpLin = 3.577, 0.076 eV\n",
      "   sigmac_eqpSec = 3.439, 0.116 eV\n",
      "   sigma_diff = -0.023 eV\n",
      "\n",
      "band = 2\n",
      "   sigmax = -15.766 eV\n",
      "   vxcl = -11.243 eV\n",
      "   vxcnl = 0.000 eV\n",
      "   hf = -4.523 eV\n",
      "   z = 0.869 eV\n",
      "   eks = -8.231 eV\n",
      "   eqpLin = -12.151 eV\n",
      "   eqpSec = -12.046 eV\n",
      "   sigmac_eks = 0.011, 0.003 eV\n",
      "   sigmac_eqpLin = 0.730, 0.009 eV\n",
      "   sigmac_eqpSec = 0.707, 0.009 eV\n",
      "   sigma_diff = -0.003 eV\n",
      "\n",
      "band = 3\n",
      "   sigmax = -15.765 eV\n",
      "   vxcl = -11.243 eV\n",
      "   vxcnl = 0.000 eV\n",
      "   hf = -4.523 eV\n",
      "   z = 0.869 eV\n",
      "   eks = -8.231 eV\n",
      "   eqpLin = -12.148 eV\n",
      "   eqpSec = -12.044 eV\n",
      "   sigmac_eks = 0.013, 0.003 eV\n",
      "   sigmac_eqpLin = 0.732, 0.009 eV\n",
      "   sigmac_eqpSec = 0.709, 0.009 eV\n",
      "   sigma_diff = -0.003 eV\n",
      "\n",
      "band = 4\n",
      "   sigmax = -15.765 eV\n",
      "   vxcl = -11.242 eV\n",
      "   vxcnl = 0.000 eV\n",
      "   hf = -4.523 eV\n",
      "   z = 0.869 eV\n",
      "   eks = -8.230 eV\n",
      "   eqpLin = -12.148 eV\n",
      "   eqpSec = -12.043 eV\n",
      "   sigmac_eks = 0.013, 0.003 eV\n",
      "   sigmac_eqpLin = 0.732, 0.009 eV\n",
      "   sigmac_eqpSec = 0.709, 0.009 eV\n",
      "   sigma_diff = -0.003 eV\n",
      "\n",
      "band = 5\n",
      "   sigmax = -0.587 eV\n",
      "   vxcl = -2.090 eV\n",
      "   vxcnl = 0.000 eV\n",
      "   hf = 1.503 eV\n",
      "   z = 0.980 eV\n",
      "   eks = -0.466 eV\n",
      "   eqpLin = 0.666 eV\n",
      "   eqpSec = 0.665 eV\n",
      "   sigmac_eks = -0.349, -0.000 eV\n",
      "   sigmac_eqpLin = -0.373, -0.000 eV\n",
      "   sigmac_eqpSec = -0.373, -0.000 eV\n",
      "   sigma_diff = 0.000 eV\n",
      "\n"
     ]
    }
   ],
   "source": [
    "import json\n",
    "import numpy as np\n",
    "\n",
    "with open('silane.wfreq.save/wfreq.json') as json_file:\n",
    "    data = json.load(json_file)\n",
    "\n",
    "k=1 \n",
    "kindex = f\"K{k:06d}\"\n",
    "    \n",
    "print(kindex)\n",
    "print()\n",
    "    \n",
    "bandmap = data[\"output\"][\"Q\"][\"bandmap\"]\n",
    "eqp = data[\"output\"][\"Q\"][kindex]\n",
    "\n",
    "for i, b in enumerate(bandmap) : \n",
    "    print(f\"band = {b}\")\n",
    "    for key in eqp:\n",
    "        if(\"re\" in eqp[key]):\n",
    "            print(f\"   {key} = {eqp[key]['re'][i]:.3f}, {eqp[key]['im'][i]:.3f} eV\")\n",
    "        else:\n",
    "            print(f\"   {key} = {eqp[key][i]:.3f} eV\")\n",
    "    print()"
   ]
  },
  {
   "cell_type": "markdown",
   "metadata": {},
   "source": [
    "Explanation of keys:\n",
    "\n",
    "- `k` : k-point\n",
    "- `s` : spin\n",
    "- `b` : band\n",
    "- `sigmax` : $\\langle k,s,b|\\Sigma_x|k,s,b\\rangle$, Exchange self-energy\n",
    "- `vxcl` : $\\langle k,s,b|V_{xc}^{local}|k,s,b\\rangle$, Local exchange and correlation\n",
    "- `vxcnl` : $\\langle k,s,b|V_{xc}^{non-local}|k,s,b\\rangle$, Non-local exchange and correlation\n",
    "- `hf` : $\\varepsilon_{k,s,b}+\\langle k,s,b|\\Sigma_x-V_{xc}^{local}-V_{xc}^{non-local}|k,s,b\\rangle$,  perturbative Hartree-Fock\n",
    "- `z` : \n",
    "- `eks` : $\\varepsilon_{k,s,b} = \\langle k,s,b|H_{KS}|k,s,b\\rangle$, Kohn-Sham eigenvalue\n",
    "- `eqpLin` : $\\varepsilon_{k,s,b} + \\langle k,s,b|\\Sigma_c(\\varepsilon_{k,s,b})|k,s,b\\rangle$, Kohn-Sham eigenvalue\n",
    "- `eqpSec` : $\\varepsilon_{k,s,b} + \\langle k,s,b|\\Sigma_c(\\varepsilon_{k,s,b})|k,s,b\\rangle$, Kohn-Sham eigenvalue\n",
    "- `sigmac_eks` : $\\langle k,s,b|\\Sigma_c(\\varepsilon_{k,s,b})|k,s,b\\rangle$, Correlation self-energy evaluated at $\\varepsilon_{k,s,b}$\n",
    "- `sigmac_eqpLin` : $\\langle k,s,b|\\Sigma_c(\\varepsilon_{k,s,b})|k,s,b\\rangle$, Correlation self-energy evaluated at $\\varepsilon_{k,s,b}$\n",
    "- `sigmac_eqpSec` : $\\langle k,s,b|\\Sigma_c(\\varepsilon_{k,s,b})|k,s,b\\rangle$, Correlation self-energy evaluated at $\\varepsilon_{k,s,b}$\n"
   ]
  },
  {
   "cell_type": "code",
   "execution_count": 13,
   "metadata": {},
   "outputs": [
    {
     "name": "stdout",
     "output_type": "stream",
     "text": [
      " \n",
      " _    _ _____ _____ _____            \n",
      "| |  | |  ___/  ___|_   _|           \n",
      "| |  | | |__ \\ `--.  | |_ __  _   _  \n",
      "| |/\\| |  __| `--. \\ | | '_ \\| | | | \n",
      "\\  /\\  / |___/\\__/ / | | |_) | |_| | \n",
      " \\/  \\/\\____/\\____/  \\_/ .__/ \\__, | \n",
      "                       | |     __/ | \n",
      "                       |_|    |___/  \n",
      " \n",
      "WEST version     :  3.1.1\n",
      "Today            :  2021-05-19 21:55:09.144532\n"
     ]
    }
   ],
   "source": [
    "from westpy import ElectronicStructure"
   ]
  },
  {
   "cell_type": "code",
   "execution_count": 23,
   "metadata": {},
   "outputs": [],
   "source": [
    "es = ElectronicStructure()\n",
    "es.addKey(\"eks\",\"Kohn-Sham energy (eV)\")\n",
    "es.addKey(\"eqp\",\"Quasiparticle energy (eV)\")"
   ]
  },
  {
   "cell_type": "code",
   "execution_count": 24,
   "metadata": {},
   "outputs": [],
   "source": [
    "for i, b in enumerate(bandmap) : \n",
    "    es.addDataPoint([1,1,b],\"eks\",eqp[\"eks\"][i])\n",
    "    es.addDataPoint([1,1,b],\"eqp\",eqp[\"eqpSec\"][i])"
   ]
  },
  {
   "cell_type": "code",
   "execution_count": 30,
   "metadata": {},
   "outputs": [
    {
     "name": "stdout",
     "output_type": "stream",
     "text": [
      "Requested (emin,emax) :  -20 5\n",
      "Detected  (emin,emax) :  -16.134751796731177 0.6648562238096314\n",
      "output written in :  dos.png\n",
      "waiting for user to close image preview...\n"
     ]
    },
    {
     "data": {
      "image/png": "[encoded data removed]",
      "text/plain": [
       "<Figure size 432x288 with 1 Axes>"
      ]
     },
     "metadata": {
      "needs_background": "light"
     },
     "output_type": "display_data"
    }
   ],
   "source": [
    "es.plotDOS(k=1,s=1,energyKeys=[\"eks\",\"eqp\"],energyRange=[-20,5,0.01])"
   ]
  },
  {
   "cell_type": "code",
   "execution_count": 80,
   "metadata": {},
   "outputs": [],
   "source": [
    "%%bash\n",
    "wget -N -q http://www.west-code.org/doc/training/silane/wfreq_spec.in"
   ]
  },
  {
   "cell_type": "code",
   "execution_count": 81,
   "metadata": {},
   "outputs": [
    {
     "name": "stdout",
     "output_type": "stream",
     "text": [
      "input_west:\n",
      "    qe_prefix: silane\n",
      "    west_prefix: silane\n",
      "    outdir: ./\n",
      "\n",
      "wstat_control:\n",
      "    wstat_calculation: S\n",
      "    n_pdep_eigen: 50\n",
      "\n",
      "wfreq_control:\n",
      "    wfreq_calculation: XwgQP\n",
      "    n_pdep_eigen_to_use: 50\n",
      "    qp_bandrange: [1,5]\n",
      "    n_refreq: 300\n",
      "    ecut_refreq: 2.0\n",
      "    ecut_spectralf: [-1.5,0.5]\n",
      "    n_spectralf: 1000"
     ]
    }
   ],
   "source": [
    "%%bash\n",
    "cat wfreq_spec.in"
   ]
  },
  {
   "cell_type": "code",
   "execution_count": null,
   "metadata": {},
   "outputs": [],
   "source": [
    "%%bash \n",
    "mpirun -n 2 wfreq.x -i wfreq_spec.in > wfreq_spec.out "
   ]
  },
  {
   "cell_type": "code",
   "execution_count": 128,
   "metadata": {},
   "outputs": [
    {
     "name": "stdout",
     "output_type": "stream",
     "text": [
      "K000001\n",
      "dict_keys(['freqlist', 'K000001'])\n",
      "band = 4\n",
      "-8.230102882308456 0.012646784475642808\n"
     ]
    },
    {
     "data": {
      "image/png": "[encoded data removed]",
      "text/plain": [
       "<Figure size 432x288 with 1 Axes>"
      ]
     },
     "metadata": {
      "needs_background": "light"
     },
     "output_type": "display_data"
    },
    {
     "name": "stdout",
     "output_type": "stream",
     "text": [
      "\n",
      "band = 5\n",
      "-0.46551944347590346 -0.34895815035534355\n"
     ]
    },
    {
     "data": {
      "image/png": "[encoded data removed]",
      "text/plain": [
       "<Figure size 432x288 with 1 Axes>"
      ]
     },
     "metadata": {
      "needs_background": "light"
     },
     "output_type": "display_data"
    },
    {
     "name": "stdout",
     "output_type": "stream",
     "text": [
      "\n"
     ]
    }
   ],
   "source": [
    "import json\n",
    "import numpy as np\n",
    "import matplotlib.pyplot as plt\n",
    "\n",
    "with open('silane.wfreq.save/wfreq.json') as json_file:\n",
    "    data = json.load(json_file)\n",
    "\n",
    "k = 1 \n",
    "kindex = f\"K{k:06d}\"\n",
    "    \n",
    "print(kindex)\n",
    "print(data[\"output\"][\"P\"].keys())\n",
    "\n",
    "bandmap = data[\"output\"][\"Q\"][\"bandmap\"]\n",
    "eqp = data[\"output\"][\"Q\"][index]\n",
    "\n",
    "freqlist = np.array(data[\"output\"][\"P\"][\"freqlist\"], dtype=\"f8\")\n",
    "spf = data[\"output\"][\"P\"][index]\n",
    "\n",
    "for i, b in enumerate(bandmap) : \n",
    "    print(f\"band = {b}\")\n",
    "    eks, eqpLin, eqpSec = eqp['eks'][i], eqp['eqpLin'][i], eqp['eqpSec'][i]\n",
    "    sigmax, vxcl, vxcnl = eqp['sigmax'][i], eqp['vxcl'][i], eqp['vxcnl'][i]\n",
    "    sigmac_eks = eqp['sigmac_eks']['re'][i]\n",
    "    sigmac_eqpLin = eqp['sigmac_eqpLin']['re'][i]\n",
    "    sigmac_eqpSec = eqp['sigmac_eqpSec']['re'][i]\n",
    "    z = eqp['z'][i]\n",
    "    print(eks,eqp['sigmac_eks']['re'][i])\n",
    "    \n",
    "    bindex = f\"B{b:06d}\"\n",
    "    sigmac = np.array(spf[bindex]['sigmac']['re'], dtype=\"f8\")\n",
    "    \n",
    "    plt.plot(freqlist,sigmac+sigmax-vxcl-vxcnl,'b-',label=r\"$\\Sigma_{xc}(E)-V_{xc}$\")\n",
    "    plt.plot(freqlist,freqlist-eks,'r-',label=r\"$E-\\varepsilon_{KS}$\")\n",
    "    plt.plot(freqlist,sigmac_eks+sigmax-vxcl-vxcnl+(1-1/z)*(freqlist-eks),'g-',label=r\"$\\Sigma^{lin}_{xc}(E)-V_{xc}$\")\n",
    "    plt.legend()\n",
    "    plt.title(kindex+\" \"+bindex)\n",
    "    plt.xlabel(\"frequency (eV)\")\n",
    "    plt.ylabel(r\"$function (eV)$\")\n",
    "    xmin, xmax = min(eks, eqpLin, eqpSec), max(eks, eqpLin, eqpSec)\n",
    "    ymin, ymax = min(sigmac_eks, sigmac_eqpLin, sigmac_eqpSec), max(sigmac_eks, sigmac_eqpLin, sigmac_eqpSec)\n",
    "    ymin += sigmax - vxcl -vxcnl \n",
    "    ymax += sigmax - vxcl -vxcnl\n",
    "    plt.vlines(x=eks,ymin=ymin-0.2*(ymax-ymin),ymax=ymax+0.2*(ymax-ymin),ls=\"--\")\n",
    "    plt.vlines(x=eqpLin,ymin=ymin-0.2*(ymax-ymin),ymax=ymax+0.2*(ymax-ymin),ls=\":\")\n",
    "    plt.vlines(x=eqpSec,ymin=ymin-0.2*(ymax-ymin),ymax=ymax+0.2*(ymax-ymin),ls=\":\")\n",
    "    plt.xlim([xmin-0.2*(xmax-xmin),xmax+0.2*(xmax-xmin)])\n",
    "    plt.ylim([ymin-0.2*(ymax-ymin),ymax+0.2*(ymax-ymin)])\n",
    "    plt.show()\n",
    "    \n",
    "    #for key in eqp:\n",
    "    #    if(\"re\" in eqp[key]):\n",
    "    #        print(f\"   {key} = {eqp[key]['re'][i]:.3f}, {eqp[key]['im'][i]:.3f} eV\")\n",
    "    #    else:\n",
    "    #        print(f\"   {key} = {eqp[key][i]:.3f} eV\")\n",
    "    print()"
   ]
  },
  {
   "cell_type": "code",
   "execution_count": null,
   "metadata": {},
   "outputs": [],
   "source": []
  }
 ],
 "metadata": {
  "kernelspec": {
   "display_name": "Python 3",
   "language": "python",
   "name": "python3"
  },
  "language_info": {
   "codemirror_mode": {
    "name": "ipython",
    "version": 3
   },
   "file_extension": ".py",
   "mimetype": "text/x-python",
   "name": "python",
   "nbconvert_exporter": "python",
   "pygments_lexer": "ipython3",
   "version": "3.8.6"
  }
 },
 "nbformat": 4,
 "nbformat_minor": 4
}
