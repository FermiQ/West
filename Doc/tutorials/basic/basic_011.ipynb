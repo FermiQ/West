{
 "cells": [
  {
   "cell_type": "markdown",
   "metadata": {},
   "source": [
    "This tutorial can be downloaded [link](https://github.com/west-code-development/West/raw/master/Doc/tutorials/basic/basic_011.ipynb)."
   ]
  },
  {
   "cell_type": "markdown",
   "metadata": {},
   "source": [
    "# Intro Tutorial 11: Computing Absorption Spectra Using Time-Dependent Density Functional Theory (TDDFT)"
   ]
  },
  {
   "cell_type": "markdown",
   "metadata": {},
   "source": [
    "This tutorial shows how to compute the absorption spectrum of the ethene (C$_2$H$_4$) molecule using linear-response time-dependent density functional theory (TDDFT) within the Tamm-Dancoff approximation. WEST implements two distinct methods to compute the absorption spectrum:\n",
    "\n",
    "* the Davidson approach, which iteratively diagonalizes the Liouville superoperator and uses its eigenvalues and eigenvectors to calculate the absorption spectrum;\n",
    "* the Lanczos approach, which computes an effective tri-diagonalization of the Liouville superoperator and uses its resolvent to calculate the absorption spectrum over a broad energy range.\n",
    "\n",
    "More details about the TDDFT implementation in WEST can be found in [Y. Jin, V. Yu, M. Govoni, A. Xu, and G. Galli, J. Chem. Theory Comput. 19, 8689–8705 (2023)](https://doi.org/10.1021/acs.jctc.3c00986).\n",
    "\n",
    "In this tutorial, the TDDFT calculations are conducted using the semi-local PBE functional. See [Tutorial 10](https://github.com/west-code-development/West/raw/master/Doc/tutorials/basic/basic_010.ipynb) for TDDFT calculations using hybrid functionals."
   ]
  },
  {
   "cell_type": "markdown",
   "metadata": {},
   "source": [
    "## Step 1: Mean-field starting point"
   ]
  },
  {
   "cell_type": "markdown",
   "metadata": {},
   "source": [
    "We first perform the DFT calculation using the [Quantum ESPRESSO](https://www.quantum-espresso.org/) code.\n",
    "\n",
    "Download the following files to your working directory:"
   ]
  },
  {
   "cell_type": "code",
   "execution_count": null,
   "metadata": {},
   "outputs": [],
   "source": [
    "%%bash\n",
    "wget -N -q http://www.quantum-simulation.org/potentials/sg15_oncv/upf/C_ONCV_PBE-1.2.upf\n",
    "wget -N -q http://www.quantum-simulation.org/potentials/sg15_oncv/upf/H_ONCV_PBE-1.2.upf\n",
    "wget -N -q https://west-code.org/doc/training/C2H4/pw.in"
   ]
  },
  {
   "cell_type": "markdown",
   "metadata": {},
   "source": [
    "We can inspect the `pw.in` file, the input for the `pw.x` code:"
   ]
  },
  {
   "cell_type": "code",
   "execution_count": 1,
   "metadata": {},
   "outputs": [
    {
     "name": "stdout",
     "output_type": "stream",
     "text": [
      "&control\n",
      "calculation = 'scf'\n",
      "pseudo_dir  = './'\n",
      "/\n",
      "&system\n",
      "ibrav           = 1\n",
      "celldm(1)       = 30.0\n",
      "nat             = 6\n",
      "ntyp            = 2\n",
      "ecutwfc         = 25.0\n",
      "nbnd            = 50\n",
      "assume_isolated = 'mp'\n",
      "/\n",
      "&electrons\n",
      "diago_full_acc = .TRUE.\n",
      "/\n",
      "ATOMIC_SPECIES\n",
      "C  12.011   C_ONCV_PBE-1.2.upf\n",
      "H  1.00784  H_ONCV_PBE-1.2.upf\n",
      "ATOMIC_POSITIONS angstrom\n",
      "C  6.842010  7.500000  7.500000\n",
      "H  6.261924  6.560696  7.500000\n",
      "H  6.261924  8.439284  7.500000\n",
      "C  8.180848  7.500000  7.500000\n",
      "H  8.761131  6.560806  7.500000\n",
      "H  8.761131  8.439200  7.500000\n",
      "K_POINTS gamma\n"
     ]
    }
   ],
   "source": [
    "%%bash\n",
    "cat pw.in"
   ]
  },
  {
   "cell_type": "markdown",
   "metadata": {},
   "source": [
    "We run `pw.x` on 2 cores."
   ]
  },
  {
   "cell_type": "code",
   "execution_count": null,
   "metadata": {},
   "outputs": [],
   "source": [
    "%%bash\n",
    "mpirun -n 2 pw.x -i pw.in > pw.out"
   ]
  },
  {
   "cell_type": "markdown",
   "metadata": {},
   "source": [
    "## Step 2: Calculation of absorption spectrum using the Davidson method"
   ]
  },
  {
   "cell_type": "markdown",
   "metadata": {},
   "source": [
    "We run the `wbse.x` executable to compute the excitation energies of the low-lying excited states of C$_2$H$_4$. Download the following file to your working directory:"
   ]
  },
  {
   "cell_type": "code",
   "execution_count": null,
   "metadata": {},
   "outputs": [],
   "source": [
    "%%bash\n",
    "wget -N -q https://west-code.org/doc/training/C2H4/davidson_wbse.in"
   ]
  },
  {
   "cell_type": "markdown",
   "metadata": {},
   "source": [
    "Let us inspect the `davidson_wbse.in` file:"
   ]
  },
  {
   "cell_type": "code",
   "execution_count": 2,
   "metadata": {},
   "outputs": [
    {
     "name": "stdout",
     "output_type": "stream",
     "text": [
      "input_west:\n",
      "  qe_prefix: pwscf\n",
      "  west_prefix: davidson\n",
      "  outdir: ./\n",
      "\n",
      "wbse_init_control:\n",
      "  wbse_init_calculation: S\n",
      "  solver: TDDFT\n",
      "\n",
      "wbse_control:\n",
      "  wbse_calculation: D\n",
      "  n_liouville_eigen: 100\n",
      "  n_liouville_maxiter: 1000\n",
      "  trev_liouville: 0.000001\n",
      "  trev_liouville_rel: 0.0001\n",
      "  l_preconditioning: True\n",
      "  l_pre_shift: True\n"
     ]
    }
   ],
   "source": [
    "%%bash\n",
    "cat davidson_wbse.in"
   ]
  },
  {
   "cell_type": "markdown",
   "metadata": {},
   "source": [
    "The `wbse_calculation: D` keyword instructs the code to diagonalize the Liouville superoperator using the Davidson method, obtaining the leading eigenvalues and eigenvectors. The `n_liouville_eigen: 100` keyword specifies that the first 100 eigenvalues are computed."
   ]
  },
  {
   "cell_type": "markdown",
   "metadata": {},
   "source": [
    "We run `wbse.x` on 2 cores:"
   ]
  },
  {
   "cell_type": "code",
   "execution_count": null,
   "metadata": {},
   "outputs": [],
   "source": [
    "%%bash\n",
    "mpirun -n 2 wbse.x -i davidson_wbse.in > davidson_wbse.out"
   ]
  },
  {
   "cell_type": "markdown",
   "metadata": {},
   "source": [
    "We run the `westpp.x` executable to compute the transition dipole moments (TDMs) of the low-lying excited states of C$_2$H$_4$. Download the following file to your working directory:"
   ]
  },
  {
   "cell_type": "code",
   "execution_count": null,
   "metadata": {},
   "outputs": [],
   "source": [
    "%%bash\n",
    "wget -N -q https://west-code.org/doc/training/C2H4/davidson_westpp.in"
   ]
  },
  {
   "cell_type": "markdown",
   "metadata": {},
   "source": [
    "Let us inspect the `davidson_westpp.in` file:"
   ]
  },
  {
   "cell_type": "code",
   "execution_count": 3,
   "metadata": {},
   "outputs": [
    {
     "name": "stdout",
     "output_type": "stream",
     "text": [
      "input_west:\n",
      "   qe_prefix: pwscf\n",
      "   west_prefix: davidson\n",
      "   outdir: ./\n",
      "\n",
      "westpp_control:\n",
      "   westpp_calculation: C\n",
      "   westpp_n_liouville_to_use: 100\n",
      "   westpp_range: [1, 50]\n",
      "   westpp_l_compute_tdm: True\n"
     ]
    }
   ],
   "source": [
    "%%bash\n",
    "cat davidson_westpp.in"
   ]
  },
  {
   "cell_type": "markdown",
   "metadata": {},
   "source": [
    "The `westpp_calculation: C` keyword instructs the code to decompose the leading eigenvectors in terms of pairs of occupied and empty Kohn-Sham orbitals. The `westpp_n_liouville_to_use: 100` and `westpp_l_compute_tdm: True` keywords specify that the TDMs of the first 100 low-lying excited states are computed."
   ]
  },
  {
   "cell_type": "markdown",
   "metadata": {},
   "source": [
    "We run `westpp.x` on 2 cores:"
   ]
  },
  {
   "cell_type": "code",
   "execution_count": null,
   "metadata": {},
   "outputs": [],
   "source": [
    "%%bash\n",
    "mpirun -n 2 westpp.x -i davidson_westpp.in > davidson_westpp.out"
   ]
  },
  {
   "cell_type": "markdown",
   "metadata": {},
   "source": [
    "The output can be found in the file `davidson.westpp.save/westpp.json`. If the reader does NOT have the computational resources to run the calculations, the output file can be directly downloaded as:"
   ]
  },
  {
   "cell_type": "code",
   "execution_count": null,
   "metadata": {},
   "outputs": [],
   "source": [
    "%%bash\n",
    "mkdir -p davidson.westpp.save\n",
    "wget -N -q https://west-code.org/doc/training/C2H4/westpp.json -O davidson.westpp.save/westpp.json"
   ]
  },
  {
   "cell_type": "markdown",
   "metadata": {},
   "source": [
    "We use the [WESTpy Python package](https://west-code.org/doc/westpy/latest/) to parse this file and plot the absorption coefficient as a function of the photon frequency."
   ]
  },
  {
   "cell_type": "code",
   "execution_count": 4,
   "metadata": {},
   "outputs": [
    {
     "name": "stdout",
     "output_type": "stream",
     "text": [
      " \n",
      " _    _ _____ _____ _____            \n",
      "| |  | |  ___/  ___|_   _|           \n",
      "| |  | | |__ \\ `--.  | |_ __  _   _  \n",
      "| |/\\| |  __| `--. \\ | | '_ \\| | | | \n",
      "\\  /\\  / |___/\\__/ / | | |_) | |_| | \n",
      " \\/  \\/\\____/\\____/  \\_/ .__/ \\__, | \n",
      "                       | |     __/ | \n",
      "                       |_|    |___/  \n",
      " \n",
      "WEST version     :  5.5.0\n",
      "Today            :  2024-02-01 15:10:57.307555\n",
      "plotting absorption spectrum (Davidson)\n",
      "output written in :  davidson_XYZ.png\n",
      "waiting for user to close image preview...\n"
     ]
    },
    {
     "data": {
      "image/png": "[encoded data removed]",
      "text/plain": [
       "<Figure size 640x480 with 1 Axes>"
      ]
     },
     "metadata": {},
     "output_type": "display_data"
    }
   ],
   "source": [
    "from westpy.bse import *\n",
    "\n",
    "davidson_result = BSEResult(\"davidson.westpp.save/westpp.json\")\n",
    "davidson_result.plotSpectrum(ipol=\"XYZ\",energyRange=[0.0,10.0,0.01],sigma=0.1,fname=\"davidson_XYZ.png\")"
   ]
  },
  {
   "cell_type": "markdown",
   "metadata": {},
   "source": [
    "## Step 3: Calculation of absorption spectrum using the Lanczos method"
   ]
  },
  {
   "cell_type": "markdown",
   "metadata": {},
   "source": [
    "We run the `wbse.x` executable to compute the absorption spectrum of C$_2$H$_4$ using the Lanczos method. Download the following file to your working directory:"
   ]
  },
  {
   "cell_type": "code",
   "execution_count": null,
   "metadata": {},
   "outputs": [],
   "source": [
    "%%bash\n",
    "wget -N -q https://west-code.org/doc/training/C2H4/lanczos_wbse.in"
   ]
  },
  {
   "cell_type": "markdown",
   "metadata": {},
   "source": [
    "Let us inspect the `lanczos_wbse.in` file:"
   ]
  },
  {
   "cell_type": "code",
   "execution_count": 5,
   "metadata": {},
   "outputs": [
    {
     "name": "stdout",
     "output_type": "stream",
     "text": [
      "input_west:\n",
      "  qe_prefix: pwscf\n",
      "  west_prefix: lanczos\n",
      "  outdir: ./\n",
      "\n",
      "wbse_init_control:\n",
      "  wbse_init_calculation: S\n",
      "  solver: TDDFT\n",
      "\n",
      "wbse_control:\n",
      "  wbse_calculation: L\n",
      "  wbse_ipol: XYZ\n",
      "  n_lanczos: 3000\n",
      "  n_steps_write_restart: -1\n"
     ]
    }
   ],
   "source": [
    "%%bash\n",
    "cat lanczos_wbse.in"
   ]
  },
  {
   "cell_type": "markdown",
   "metadata": {},
   "source": [
    "The `wbse_calculation: L` keyword instructs the code to compute the absorption spectrum using the Lanczos algorithm. The `wbse_ipol: XYZ` keyword specifies which components of the polarizability tensor are computed, where `XYZ` means that three Lanczos chains are sequentially performed to compute the full polarizability tensor."
   ]
  },
  {
   "cell_type": "markdown",
   "metadata": {},
   "source": [
    "We run `wbse.x` on 2 cores:"
   ]
  },
  {
   "cell_type": "code",
   "execution_count": null,
   "metadata": {},
   "outputs": [],
   "source": [
    "%%bash\n",
    "mpirun -n 2 wbse.x -i lanczos_wbse.in > lanczos_wbse.out"
   ]
  },
  {
   "cell_type": "markdown",
   "metadata": {},
   "source": [
    "The output can be found in the file `lanczos.wbse.save/wbse.json`. If the reader does NOT have the computational resources to run the calculations, the output file can be directly downloaded as:"
   ]
  },
  {
   "cell_type": "code",
   "execution_count": null,
   "metadata": {},
   "outputs": [],
   "source": [
    "%%bash\n",
    "mkdir -p lanczos.wbse.save\n",
    "wget -N -q https://west-code.org/doc/training/C2H4/wbse.json -O lanczos.wbse.save/wbse.json"
   ]
  },
  {
   "cell_type": "markdown",
   "metadata": {},
   "source": [
    "We use WESTpy to parse this file and plot the absorption coefficient as a function of the photon frequency."
   ]
  },
  {
   "cell_type": "code",
   "execution_count": 6,
   "metadata": {},
   "outputs": [
    {
     "name": "stdout",
     "output_type": "stream",
     "text": [
      "plotting absorption spectrum (Lanczos)\n",
      "output written in :  lanczos_XYZ.png\n",
      "waiting for user to close image preview...\n"
     ]
    },
    {
     "data": {
      "image/png": "[encoded data removed]",
      "text/plain": [
       "<Figure size 640x480 with 1 Axes>"
      ]
     },
     "metadata": {},
     "output_type": "display_data"
    }
   ],
   "source": [
    "lanczos_result = BSEResult(\"lanczos.wbse.save/wbse.json\")\n",
    "lanczos_result.plotSpectrum(ipol=\"XYZ\",energyRange=[0.0,10.0,0.01],sigma=0.1,n_extra=97000,fname=\"lanczos_XYZ.png\")"
   ]
  },
  {
   "cell_type": "markdown",
   "metadata": {},
   "source": [
    "The spectra computed with the Davidson and Lanczos methods closely align with each other, as anticipated. Although the two methods are theoretically expected to produce identical absorption spectra, each has its unique advantages and disadvantages.\n",
    "\n",
    "* The Davidson approach is particularly beneficial when it's necessary to explicitly determine the eigenvalues and eigenvectors of a few low-lying excited states, such as in the analysis of excited state potential energy surfaces. This method is also capable of identifying \"dark\" excited states, which are dipole forbidden. However, its application is less suited for studying the absorption spectrum over a broad energy range in large systems due to the significant computational demands associated with computing a large number of eigenvalues and eigenvectors of the Liouville superoperator.\n",
    "\n",
    "* Conversely, the Lanczos approach excels in computing the absorption spectrum for large systems across a wide energy range. However, it does not provide direct insights into the composition of excited states.\n",
    "\n",
    "Users should choose the appropriate method based on their specific requirements and the nature of the system under study."
   ]
  }
 ],
 "metadata": {
  "kernelspec": {
   "display_name": "Python 3 (ipykernel)",
   "language": "python",
   "name": "python3"
  },
  "language_info": {
   "codemirror_mode": {
    "name": "ipython",
    "version": 3
   },
   "file_extension": ".py",
   "mimetype": "text/x-python",
   "name": "python",
   "nbconvert_exporter": "python",
   "pygments_lexer": "ipython3",
   "version": "3.11.5"
  }
 },
 "nbformat": 4,
 "nbformat_minor": 4
}
