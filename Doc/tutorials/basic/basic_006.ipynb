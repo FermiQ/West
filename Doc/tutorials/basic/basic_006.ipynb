{
 "cells": [
  {
   "cell_type": "markdown",
   "id": "e0845d05",
   "metadata": {},
   "source": [
    "This tutorial can be downloaded [link](http://greatfire.uchicago.edu/west-public/West/raw/master/Doc/tutorials/basic/basic_006.ipynb)."
   ]
  },
  {
   "cell_type": "markdown",
   "id": "8b30e2ba",
   "metadata": {},
   "source": [
    "# Intro tutorial 6: Identification of localized states"
   ]
  },
  {
   "cell_type": "markdown",
   "id": "f9649cee",
   "metadata": {},
   "source": [
    "In this tutorial, we show how to identify Kohn-Sham states that are localized in real space. We will identify defect orbitals of the $\\mathrm{NV^-}$ center in diamond based on the localization factor, defined as\n",
    "\n",
    "$$\n",
    "L_n = \\int_{V \\in \\Omega} d^3\\mathbf{r} \\left| \\psi^{\\text{KS}}_n(\\mathbf{r}) \\right|^2\n",
    "$$\n",
    "\n",
    "It describes the localization of the n-th KS wavefunction in a given volume $V$ within the supercell volume $\\Omega$. The volume $V$ can be a box or a sphere.\n",
    "\n",
    "More details can be found in [N. Sheng, C. Vorwerk, M. Govoni, and G. Galli, J. Chem. Theory Comput. 18, 6, 3512 (2022)](https://doi.org/10.1021/acs.jctc.2c00240)."
   ]
  },
  {
   "cell_type": "markdown",
   "id": "e0d1d971",
   "metadata": {},
   "source": [
    "## Step 1: Mean-field starting point"
   ]
  },
  {
   "cell_type": "markdown",
   "id": "2d2e9ec2",
   "metadata": {},
   "source": [
    "As a first step, we perform the mean-field electronic structure calculation within density-functional theory (DFT) using the [Quantum ESPRESSO](https://www.quantum-espresso.org/) code."
   ]
  },
  {
   "cell_type": "markdown",
   "id": "61d07a52",
   "metadata": {},
   "source": [
    "Download the following files in your working directory:"
   ]
  },
  {
   "cell_type": "code",
   "execution_count": 1,
   "id": "5237a5e9",
   "metadata": {},
   "outputs": [],
   "source": [
    "%%bash\n",
    "wget -N -q http://www.west-code.org/doc/training/nv_diamond_63/pw.in\n",
    "wget -N -q http://www.quantum-simulation.org/potentials/sg15_oncv/upf/C_ONCV_PBE-1.0.upf\n",
    "wget -N -q http://www.quantum-simulation.org/potentials/sg15_oncv/upf/N_ONCV_PBE-1.0.upf"
   ]
  },
  {
   "cell_type": "markdown",
   "id": "5c1cc2e9",
   "metadata": {},
   "source": [
    "We can now inspect the `pw.in` file, the input for the `pw.x` code:"
   ]
  },
  {
   "cell_type": "code",
   "execution_count": 2,
   "id": "1a3e89c7",
   "metadata": {
    "scrolled": false
   },
   "outputs": [
    {
     "name": "stdout",
     "output_type": "stream",
     "text": [
      "&CONTROL\n",
      "calculation = 'scf'\n",
      "wf_collect = .true.\n",
      "pseudo_dir = './'\n",
      "/\n",
      "&SYSTEM\n",
      "input_dft = 'PBE'\n",
      "ibrav = 0\n",
      "ecutwfc = 50\n",
      "nosym = .true.\n",
      "tot_charge = -1\n",
      "nspin = 1\n",
      "nbnd = 176\n",
      "occupations = 'from_input'\n",
      "nat = 63\n",
      "ntyp = 2\n",
      "/\n",
      "&ELECTRONS\n",
      "conv_thr = 1D-08\n",
      "/\n",
      "K_POINTS gamma\n",
      "CELL_PARAMETERS angstrom\n",
      "7.136012  0.000000  0.000000\n",
      "0.000000  7.136012  0.000000\n",
      "0.000000  0.000000  7.136012\n",
      "ATOMIC_SPECIES\n",
      "C  12.01099968  C_ONCV_PBE-1.0.upf\n",
      "N  14.00699997  N_ONCV_PBE-1.0.upf\n",
      "ATOMIC_POSITIONS crystal\n",
      "C    0.99996000  0.99996000  0.99996000\n",
      "C    0.12495000  0.12495000  0.12495000\n",
      "C    0.99905000  0.25039000  0.25039000\n",
      "C    0.12350000  0.37499000  0.37499000\n",
      "C    0.25039000  0.99905000  0.25039000\n",
      "C    0.37499000  0.12350000  0.37499000\n",
      "C    0.25039000  0.25039000  0.99905000\n",
      "C    0.37499000  0.37499000  0.12350000\n",
      "C    0.00146000  0.00146000  0.50100000\n",
      "C    0.12510000  0.12510000  0.62503000\n",
      "C    0.00102000  0.24944000  0.74960000\n",
      "C    0.12614000  0.37542000  0.87402000\n",
      "C    0.24944000  0.00102000  0.74960000\n",
      "C    0.37542000  0.12614000  0.87402000\n",
      "C    0.24839000  0.24839000  0.49966000\n",
      "C    0.37509000  0.37509000  0.61906000\n",
      "C    0.00146000  0.50100000  0.00146000\n",
      "C    0.12510000  0.62503000  0.12510000\n",
      "C    0.00102000  0.74960000  0.24944000\n",
      "C    0.12614000  0.87402000  0.37542000\n",
      "C    0.24839000  0.49966000  0.24839000\n",
      "C    0.37509000  0.61906000  0.37509000\n",
      "C    0.24944000  0.74960000  0.00102000\n",
      "C    0.37542000  0.87402000  0.12614000\n",
      "C    0.99883000  0.50076000  0.50076000\n",
      "C    0.12502000  0.62512000  0.62512000\n",
      "C    0.99961000  0.74983000  0.74983000\n",
      "C    0.12491000  0.87493000  0.87493000\n",
      "C    0.25216000  0.50142000  0.74767000\n",
      "C    0.37740000  0.62659000  0.87314000\n",
      "C    0.25216000  0.74767000  0.50142000\n",
      "C    0.37740000  0.87314000  0.62659000\n",
      "C    0.50100000  0.00146000  0.00146000\n",
      "C    0.62503000  0.12510000  0.12510000\n",
      "C    0.49966000  0.24839000  0.24839000\n",
      "C    0.61906000  0.37509000  0.37509000\n",
      "C    0.74960000  0.00102000  0.24944000\n",
      "C    0.87402000  0.12614000  0.37542000\n",
      "C    0.74960000  0.24944000  0.00102000\n",
      "C    0.87402000  0.37542000  0.12614000\n",
      "C    0.50076000  0.99883000  0.50076000\n",
      "C    0.62512000  0.12502000  0.62512000\n",
      "C    0.50142000  0.25216000  0.74767000\n",
      "C    0.62659000  0.37740000  0.87314000\n",
      "C    0.74983000  0.99961000  0.74983000\n",
      "C    0.87493000  0.12491000  0.87493000\n",
      "C    0.74767000  0.25216000  0.50142000\n",
      "C    0.87314000  0.37740000  0.62659000\n",
      "C    0.50076000  0.50076000  0.99883000\n",
      "C    0.62512000  0.62512000  0.12502000\n",
      "C    0.50142000  0.74767000  0.25216000\n",
      "C    0.62659000  0.87314000  0.37740000\n",
      "C    0.74767000  0.50142000  0.25216000\n",
      "C    0.87314000  0.62659000  0.37740000\n",
      "C    0.74983000  0.74983000  0.99961000\n",
      "C    0.87493000  0.87493000  0.12491000\n",
      "N    0.48731000  0.48731000  0.48731000\n",
      "C    0.49191000  0.76093000  0.76093000\n",
      "C    0.62368000  0.87476000  0.87476000\n",
      "C    0.76093000  0.49191000  0.76093000\n",
      "C    0.87476000  0.62368000  0.87476000\n",
      "C    0.76093000  0.76093000  0.49191000\n",
      "C    0.87476000  0.87476000  0.62368000\n",
      "OCCUPATIONS\n",
      "2.00  2.00  2.00  2.00  2.00  2.00  2.00  2.00  2.00  2.00  \n",
      "2.00  2.00  2.00  2.00  2.00  2.00  2.00  2.00  2.00  2.00  \n",
      "2.00  2.00  2.00  2.00  2.00  2.00  2.00  2.00  2.00  2.00  \n",
      "2.00  2.00  2.00  2.00  2.00  2.00  2.00  2.00  2.00  2.00  \n",
      "2.00  2.00  2.00  2.00  2.00  2.00  2.00  2.00  2.00  2.00  \n",
      "2.00  2.00  2.00  2.00  2.00  2.00  2.00  2.00  2.00  2.00  \n",
      "2.00  2.00  2.00  2.00  2.00  2.00  2.00  2.00  2.00  2.00  \n",
      "2.00  2.00  2.00  2.00  2.00  2.00  2.00  2.00  2.00  2.00  \n",
      "2.00  2.00  2.00  2.00  2.00  2.00  2.00  2.00  2.00  2.00  \n",
      "2.00  2.00  2.00  2.00  2.00  2.00  2.00  2.00  2.00  2.00  \n",
      "2.00  2.00  2.00  2.00  2.00  2.00  2.00  2.00  2.00  2.00  \n",
      "2.00  2.00  2.00  2.00  2.00  2.00  2.00  2.00  2.00  2.00  \n",
      "2.00  2.00  2.00  2.00  2.00  2.00  1.00  1.00  0.00  0.00  \n",
      "0.00  0.00  0.00  0.00  0.00  0.00  0.00  0.00  0.00  0.00  \n",
      "0.00  0.00  0.00  0.00  0.00  0.00  0.00  0.00  0.00  0.00  \n",
      "0.00  0.00  0.00  0.00  0.00  0.00  0.00  0.00  0.00  0.00  \n",
      "0.00  0.00  0.00  0.00  0.00  0.00  0.00  0.00  0.00  0.00  \n",
      "0.00  0.00  0.00  0.00  0.00  0.00  \n"
     ]
    }
   ],
   "source": [
    "%%bash\n",
    "cat pw.in"
   ]
  },
  {
   "cell_type": "markdown",
   "id": "fbe30401",
   "metadata": {},
   "source": [
    "We can now run `pw.x` on 2 cores."
   ]
  },
  {
   "cell_type": "code",
   "execution_count": null,
   "id": "178fbd0e",
   "metadata": {},
   "outputs": [],
   "source": [
    "%%bash\n",
    "mpirun -n 2 pw.x -i pw.in > pw.out"
   ]
  },
  {
   "cell_type": "markdown",
   "id": "5fd383d5",
   "metadata": {},
   "source": [
    "We have carried out a spin unpolarized calculation (i.e., `nspin = 1`) because we want to use $L_n$ to define an active space for quantum defect embedding theory (QDET, see [Tutorial 5](http://greatfire.uchicago.edu/west-public/West/raw/master/Doc/tutorials/basic/basic_005.ipynb)). The latter uses a spin-unpolarized mean-field starting point to reduce spin contamination in the generation of the parameters for the effective Hamiltonian."
   ]
  },
  {
   "cell_type": "markdown",
   "id": "28cb007c",
   "metadata": {},
   "source": [
    "## Step 2.1: Calculation of the localization factor using a box"
   ]
  },
  {
   "cell_type": "markdown",
   "id": "def5296c",
   "metadata": {},
   "source": [
    "Localization factors are calculated with the `westpp.x` executable within WEST. You can generate the input file with the following command:"
   ]
  },
  {
   "cell_type": "code",
   "execution_count": 4,
   "id": "b627e8d6",
   "metadata": {},
   "outputs": [],
   "source": [
    "import yaml\n",
    "\n",
    "d={}\n",
    "d[\"wstat_control\"]={}\n",
    "d[\"wstat_control\"][\"wstat_calculation\"]=\"S\"\n",
    "d[\"wstat_control\"][\"n_pdep_eigen\"]=512\n",
    "d[\"westpp_control\"]={}\n",
    "d[\"westpp_control\"][\"westpp_calculation\"]=\"L\"\n",
    "d[\"westpp_control\"][\"westpp_range\"]=[1,176]\n",
    "d[\"westpp_control\"][\"westpp_box\"]=[6.19,10.19,6.28,10.28,6.28,10.28]\n",
    "        \n",
    "with open('westpp.in', 'w') as f:\n",
    "    yaml.dump(d, f, sort_keys=False)"
   ]
  },
  {
   "cell_type": "markdown",
   "id": "f8ec27e5",
   "metadata": {},
   "source": [
    "Let us inspect the input file."
   ]
  },
  {
   "cell_type": "code",
   "execution_count": 5,
   "id": "b635aa24",
   "metadata": {},
   "outputs": [
    {
     "name": "stdout",
     "output_type": "stream",
     "text": [
      "wstat_control:\n",
      "  wstat_calculation: S\n",
      "  n_pdep_eigen: 512\n",
      "westpp_control:\n",
      "  westpp_calculation: L\n",
      "  westpp_range:\n",
      "  - 1\n",
      "  - 176\n",
      "  westpp_box:\n",
      "  - 6.19\n",
      "  - 10.19\n",
      "  - 6.28\n",
      "  - 10.28\n",
      "  - 6.28\n",
      "  - 10.28\n"
     ]
    }
   ],
   "source": [
    "%%bash\n",
    "cat \"westpp.in\""
   ]
  },
  {
   "cell_type": "markdown",
   "id": "b41088a5",
   "metadata": {},
   "source": [
    "The keyword `westpp_calculation: L` triggers the calculation of the localization factor. With `westpp_range`, we can select for which Kohn-Sham states we compute the localization factor. In this tutorial, we use all 176 states. Finally, `westpp_box` specifies the parameter of a box in atomic units to use for the integration. In this case, we have chosen a cubic box around the carbon vacancy at $\\left( 8.18, 8.28, 8.28 \\right)$ Bohr with an edge of 4 Bohr. The box has a volume of 64 Bohr$^3$, which is smaller than the supercell volume of 2452.24 Bohr$^3$."
   ]
  },
  {
   "cell_type": "markdown",
   "id": "fc8fc6ff",
   "metadata": {},
   "source": [
    "Run `westpp.x` on 2 cores."
   ]
  },
  {
   "cell_type": "code",
   "execution_count": null,
   "id": "4331fa4b",
   "metadata": {},
   "outputs": [],
   "source": [
    "%%bash\n",
    "mpirun -n 2 westpp.x -i westpp.in > westpp.out"
   ]
  },
  {
   "cell_type": "markdown",
   "id": "c8a00151",
   "metadata": {},
   "source": [
    "`westpp.x` creates a file named `west.westpp.save/westpp.json`. If the reader does NOT have the computational resources to run the calculation, the WEST output file needed for the next step can be directly downloaded as:"
   ]
  },
  {
   "cell_type": "code",
   "execution_count": null,
   "id": "45b74d14",
   "metadata": {},
   "outputs": [],
   "source": [
    "%%bash\n",
    "mkdir -p west.westpp.save\n",
    "wget -N -q http://www.west-code.org/doc/training/nv_diamond_63/westpp.json -O west.westpp.save/westpp.json"
   ]
  },
  {
   "cell_type": "markdown",
   "id": "6e97b019",
   "metadata": {},
   "source": [
    "We can now visualize the results:"
   ]
  },
  {
   "cell_type": "code",
   "execution_count": 5,
   "id": "431b8f85",
   "metadata": {},
   "outputs": [
    {
     "data": {
      "image/png": "[encoded data removed]",
      "text/plain": [
       "<Figure size 640x480 with 1 Axes>"
      ]
     },
     "metadata": {},
     "output_type": "display_data"
    }
   ],
   "source": [
    "import json\n",
    "import numpy as np\n",
    "import matplotlib.pyplot as plt\n",
    "\n",
    "with open('west.westpp.save/westpp.json','r') as f:\n",
    "    data = json.load(f)\n",
    "\n",
    "y = np.array(data['output']['L']['K00001']['local_factor'],dtype='f8')\n",
    "x = np.array([i+1 for i in range(y.shape[0])])\n",
    "\n",
    "plt.plot(x,y,'o')\n",
    "plt.axhline(y=0.08,linestyle='--',color='red')\n",
    "\n",
    "\n",
    "plt.xlabel(r'$\\mathrm{KS \\; Index}$')\n",
    "plt.ylabel(r'$\\mathrm{Localization \\; Factor}$')\n",
    "\n",
    "plt.show()"
   ]
  },
  {
   "cell_type": "markdown",
   "id": "47975b5a",
   "metadata": {},
   "source": [
    "We see that a number of Kohn-Sham orbitals have a localization factor $>0.08$."
   ]
  },
  {
   "cell_type": "code",
   "execution_count": 6,
   "id": "f6005eb9",
   "metadata": {},
   "outputs": [
    {
     "name": "stdout",
     "output_type": "stream",
     "text": [
      "[122 123 126 127 128]\n"
     ]
    }
   ],
   "source": [
    "print(x[y>=0.08])"
   ]
  },
  {
   "cell_type": "markdown",
   "id": "1bdb72d4",
   "metadata": {},
   "source": [
    "The highest localization factor (`>0.08`) is found for Kohn-Sham orbitals with indices 122, 123, 126, 127, and 128."
   ]
  },
  {
   "cell_type": "markdown",
   "id": "47138ed5",
   "metadata": {},
   "source": [
    "## Step 2.2: Calculation of the localization factor using a sphere"
   ]
  },
  {
   "cell_type": "markdown",
   "id": "65575e17",
   "metadata": {},
   "source": [
    "Let us modify the input file `westpp.in` to compute localization factors within a sphere."
   ]
  },
  {
   "cell_type": "code",
   "execution_count": 6,
   "id": "790e186b",
   "metadata": {},
   "outputs": [],
   "source": [
    "import yaml\n",
    "\n",
    "d={}\n",
    "d[\"wstat_control\"]={}\n",
    "d[\"wstat_control\"][\"wstat_calculation\"]=\"S\"\n",
    "d[\"wstat_control\"][\"n_pdep_eigen\"]=512\n",
    "d[\"westpp_control\"]={}\n",
    "d['westpp_control']['westpp_calculation'] = 'L'\n",
    "d['westpp_control']['westpp_format'] = 'S'\n",
    "d['westpp_control']['westpp_r0'] = [8.18, 8.28, 8.28]\n",
    "d['westpp_control']['westpp_rmax'] = 2.4814\n",
    "        \n",
    "with open('westpp.in', 'w') as f:\n",
    "    yaml.dump(d, f, sort_keys=False)"
   ]
  },
  {
   "cell_type": "markdown",
   "id": "cfd183b7",
   "metadata": {},
   "source": [
    "Let us inspect the input file."
   ]
  },
  {
   "cell_type": "code",
   "execution_count": 7,
   "id": "ab70fd42",
   "metadata": {},
   "outputs": [
    {
     "name": "stdout",
     "output_type": "stream",
     "text": [
      "wstat_control:\n",
      "  wstat_calculation: S\n",
      "  n_pdep_eigen: 512\n",
      "westpp_control:\n",
      "  westpp_calculation: L\n",
      "  westpp_format: S\n",
      "  westpp_r0:\n",
      "  - 8.18\n",
      "  - 8.28\n",
      "  - 8.28\n",
      "  westpp_rmax: 2.4814\n"
     ]
    }
   ],
   "source": [
    "%%bash\n",
    "cat westpp.in"
   ]
  },
  {
   "cell_type": "markdown",
   "id": "806f20f1",
   "metadata": {},
   "source": [
    "The keyword `westpp_format: S` instructs the code to compute the localization factor within a sphere, which is centered around $\\left( 8.18, 8.28, 8.28 \\right)$ Bohr as specified by `westpp_r0` and has a radius of 2.4814 Bohr as specified by `westpp_rmax`. The sphere has a volume of ~64 Bohr$^3$, which is roughly the same as the volume of the box used in the previous section."
   ]
  },
  {
   "cell_type": "markdown",
   "id": "8b109e1e",
   "metadata": {},
   "source": [
    "Run `westpp.x` on 2 cores."
   ]
  },
  {
   "cell_type": "code",
   "execution_count": null,
   "id": "d81a1487",
   "metadata": {},
   "outputs": [],
   "source": [
    "%%bash\n",
    "mpirun -n 2 westpp.x -i westpp.in > westpp.out"
   ]
  },
  {
   "cell_type": "markdown",
   "id": "583f9beb",
   "metadata": {},
   "source": [
    "`westpp.x` creates a file named `west.westpp.save/westpp.json`. If the reader does NOT have the computational resources to run the calculation, the WEST output file needed for the next step can be directly downloaded as:"
   ]
  },
  {
   "cell_type": "code",
   "execution_count": null,
   "id": "b9ef8a5b",
   "metadata": {},
   "outputs": [],
   "source": [
    "%%bash\n",
    "mkdir -p west.westpp.save\n",
    "wget -N -q http://www.west-code.org/doc/training/nv_diamond_63/westpp_2.json -O west.westpp.save/westpp.json"
   ]
  },
  {
   "cell_type": "markdown",
   "id": "b10ccb14",
   "metadata": {},
   "source": [
    "We can now visualize the results:"
   ]
  },
  {
   "cell_type": "code",
   "execution_count": 9,
   "id": "6c8a27e1",
   "metadata": {},
   "outputs": [
    {
     "data": {
      "image/png": "[encoded data removed]",
      "text/plain": [
       "<Figure size 640x480 with 1 Axes>"
      ]
     },
     "metadata": {},
     "output_type": "display_data"
    }
   ],
   "source": [
    "import json\n",
    "import numpy as np\n",
    "import matplotlib.pyplot as plt\n",
    "\n",
    "with open('west.westpp.save/westpp.json','r') as f:\n",
    "    data = json.load(f)\n",
    "\n",
    "y = np.array(data['output']['L']['K00001']['local_factor'],dtype='f8')\n",
    "x = np.array([i+1 for i in range(y.shape[0])])\n",
    "\n",
    "plt.plot(x,y,'o')\n",
    "plt.axhline(y=0.08,linestyle='--',color='red')\n",
    "\n",
    "plt.xlabel(r'$\\mathrm{KS \\; Index}$')\n",
    "plt.ylabel(r'$\\mathrm{Localization \\; Factor}$')\n",
    "\n",
    "plt.show()"
   ]
  },
  {
   "cell_type": "markdown",
   "id": "23c18291",
   "metadata": {},
   "source": [
    "We see that a number of Kohn-Sham orbitals have a localization factor $>0.08$."
   ]
  },
  {
   "cell_type": "code",
   "execution_count": 10,
   "id": "588bd776",
   "metadata": {},
   "outputs": [
    {
     "name": "stdout",
     "output_type": "stream",
     "text": [
      "[122 123 126 127 128]\n"
     ]
    }
   ],
   "source": [
    "print(x[y>=0.08])"
   ]
  },
  {
   "cell_type": "markdown",
   "id": "e363637b",
   "metadata": {},
   "source": [
    "The highest localization factor (`>0.08`) is found for Kohn-Sham orbitals with indices 122, 123, 126, 127, and 128, which are the same orbitals as identified by computing localization factors in a box."
   ]
  }
 ],
 "metadata": {
  "kernelspec": {
   "display_name": "Python 3 (ipykernel)",
   "language": "python",
   "name": "python3"
  },
  "language_info": {
   "codemirror_mode": {
    "name": "ipython",
    "version": 3
   },
   "file_extension": ".py",
   "mimetype": "text/x-python",
   "name": "python",
   "nbconvert_exporter": "python",
   "pygments_lexer": "ipython3",
   "version": "3.8.8"
  }
 },
 "nbformat": 4,
 "nbformat_minor": 5
}
