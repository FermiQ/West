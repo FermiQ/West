{
 "cells": [
  {
   "cell_type": "markdown",
   "metadata": {},
   "source": [
    "This tutorial can be downloaded [link](http://greatfire.uchicago.edu/west-public/West/raw/master/Doc/tutorials/basic/basic_004.ipynb)."
   ]
  },
  {
   "cell_type": "markdown",
   "metadata": {},
   "source": [
    "# 4.0 Plotting density of states and local density of states"
   ]
  },
  {
   "cell_type": "markdown",
   "metadata": {},
   "source": [
    "We show how to use the [WESTpy Python package](http://www.west-code.org/doc/westpy/latest/) to plot the density of states and local density of states from GW quasiparticle energy levels calculated using WEST."
   ]
  },
  {
   "cell_type": "markdown",
   "metadata": {},
   "source": [
    "## Running DFT and GW calculations"
   ]
  },
  {
   "cell_type": "markdown",
   "metadata": {},
   "source": [
    "We will use the negatively charged nitrogen-vacancy center in diamond as an example. Download the input and pseudopotential files to your current directory:"
   ]
  },
  {
   "cell_type": "code",
   "execution_count": null,
   "metadata": {},
   "outputs": [],
   "source": [
    "%%bash\n",
    "wget -N -q http://www.west-code.org/doc/training/nv_diamond/pw.in\n",
    "wget -N -q http://www.west-code.org/doc/training/nv_diamond/wstat.in\n",
    "wget -N -q http://www.west-code.org/doc/training/nv_diamond/wfreq.in\n",
    "wget -N -q http://www.quantum-simulation.org/potentials/sg15_oncv/upf/C_ONCV_PBE-1.2.upf\n",
    "wget -N -q http://www.quantum-simulation.org/potentials/sg15_oncv/upf/N_ONCV_PBE-1.2.upf"
   ]
  },
  {
   "cell_type": "markdown",
   "metadata": {},
   "source": [
    "Let's inspect the ``pw.in`` file."
   ]
  },
  {
   "cell_type": "code",
   "execution_count": null,
   "metadata": {},
   "outputs": [],
   "source": [
    "%%bash\n",
    "cat pw.in"
   ]
  },
  {
   "cell_type": "markdown",
   "metadata": {},
   "source": [
    "This is a relatively big system with 215 atoms and 862 valence electrons, and requires an explicit treatment of spin polarization. As detailed in [Yu et al., J. Chem. Theory Comput. 18, 4690-4707 (2022)](https://doi.org/10.1021/acs.jctc.2c00241), WEST can use GPU accelerators to carry out large-scale GW calculations. For instance, we can use four GPUs for the ground state DFT calculation, and 64 GPUs for the GW calculation."
   ]
  },
  {
   "cell_type": "code",
   "execution_count": null,
   "metadata": {},
   "outputs": [],
   "source": [
    "%%bash\n",
    "mpirun -n 4 pw.x -i pw.in > pw.out\n",
    "mpirun -n 64 wstat.x -nimage 16 -npool 2 -nbgrp 2 -i wstat.in > wstat.out\n",
    "mpirun -n 64 wfreq.x -nimage 8 -npool 2 -nbgrp 4 -i wfreq.in > wfreq.out"
   ]
  },
  {
   "cell_type": "markdown",
   "metadata": {},
   "source": [
    "Note that we have used the image, pool, and band group parallelization levels, as discussed in the [3.0 Tutorial](http://greatfire.uchicago.edu/west-public/West/raw/master/Doc/tutorials/basic_003.ipynb). By using all the parallelization levels, we avoid carrying out fast Fourier transforms (FFTs) on multiple GPUs, which is inefficient because of the all-to-all communication involved in parallel FFTs."
   ]
  },
  {
   "cell_type": "markdown",
   "metadata": {},
   "source": [
    "If the reader does not have the computational resource to run the calculation, the WEST output file needed for the next step can be directly downloaded:"
   ]
  },
  {
   "cell_type": "code",
   "execution_count": null,
   "metadata": {},
   "outputs": [],
   "source": [
    "%%bash\n",
    "mkdir nv_diamond.wfreq.save\n",
    "wget -N -q http://www.west-code.org/doc/training/nv_diamond/wfreq.json -O nv_diamond.wfreq.save/wfreq.json"
   ]
  },
  {
   "cell_type": "markdown",
   "metadata": {},
   "source": [
    "## Plotting density of states"
   ]
  },
  {
   "cell_type": "markdown",
   "metadata": {},
   "source": [
    "The density of states (DOS) is defined as follows:\n",
    "\\begin{equation}\n",
    "\\text{DOS}(E) = \\frac{1}{V} \\sum_{i=1}^N \\delta (E-E_i)\n",
    "\\end{equation}\n",
    "where $E_i$ is the energy of the $i$th wavefunction obtained at the PBE or GW level of theory, $V$ is the volume of the simulation cell, and $\\delta$ is the Dirac delta function. In practice, we model the delta function by a Gaussian function with a chosen width. Here we are going to use 0.1 eV."
   ]
  },
  {
   "cell_type": "markdown",
   "metadata": {},
   "source": [
    "To plot the DOS, we first load the Kohn-Sham and quasiparticle energy levels from the WEST log file in JSON format."
   ]
  },
  {
   "cell_type": "code",
   "execution_count": null,
   "metadata": {},
   "outputs": [],
   "source": [
    "import json\n",
    "\n",
    "vbm_dft = 13.0777\n",
    "vbm_gw = 12.4665\n",
    "\n",
    "# read data from JSON file\n",
    "with open('nv_diamond.wfreq.save/wfreq.json') as file:\n",
    "    data = json.load(file)\n",
    "    \n",
    "# extracting energy levels from the data \n",
    "y = {}\n",
    "y['dft'] = {}\n",
    "y['gw'] = {}\n",
    "\n",
    "for s in [1,2] :\n",
    "    y['dft'][s] = [e-vbm_dft for e in data['output']['Q'][f'K{s:06d}']['eks']]\n",
    "    y['gw'][s] = [e-vbm_gw for e in data['output']['Q'][f'K{s:06d}']['eqpSec']]"
   ]
  },
  {
   "cell_type": "markdown",
   "metadata": {},
   "source": [
    "We then create an ``ElectronicStructure`` object and attach to it the DFT and GW energy levels. Finally we call the ``plotDOS`` method to plot the DOS."
   ]
  },
  {
   "cell_type": "code",
   "execution_count": null,
   "metadata": {},
   "outputs": [],
   "source": [
    "from westpy import *\n",
    "\n",
    "es = ElectronicStructure()\n",
    "\n",
    "for key in ['dft','gw'] :\n",
    "    es.addKey(key,key)\n",
    "    # spin loop\n",
    "    for s in [1,2] :\n",
    "        b = 1\n",
    "        # band loop\n",
    "        for energy in y[key][s] :\n",
    "            es.addDataPoint([1,s,b],key,energy)\n",
    "            b += 1\n",
    "\n",
    "es.plotDOS(kk=[1],ss=[1,2],energyKeys=['dft'],energyRange=[-4.,6.,0.01],fname='dos_dft.jpg')\n",
    "es.plotDOS(kk=[1],ss=[1,2],energyKeys=['gw'],energyRange=[-4.,6.,0.01],fname='dos_gw.jpg')"
   ]
  },
  {
   "cell_type": "markdown",
   "metadata": {},
   "source": [
    "## Plotting local density of states"
   ]
  },
  {
   "cell_type": "markdown",
   "metadata": {},
   "source": [
    "The local density of states (LDOS) is defined as follows:\n",
    "\\begin{equation}\n",
    "\\text{LDOS}(z,E) = \\sum_{i=1}^N \\int \\frac{\\text{d}x}{L_x} \\int \\frac{\\text{d}y}{L_y} \\vert \\psi_i (x,y,z)\\vert ^2 \\delta(E-E_i)\n",
    "\\end{equation}\n",
    "where $\\psi_i$ is the $i$th wavefunction obtained at the PBE level of theory, with energy $E_i$ obtained at the PBE or GW level of theory. $L_x$ and $L_y$ are the lengths of the x and y axes of the simulation box, respectively, whereas $z$ corresponds to the z axis of the simulation box. $\\delta$ is the Dirac delta function, modeled by a Gaussian function with a width of 0.05 eV in our case."
   ]
  },
  {
   "cell_type": "markdown",
   "metadata": {},
   "source": [
    "To plot the LDOS along the z axis of the simulation box, in addition to the Kohn-Sham and quasiparticle energy levels, we need the wavefunctions averaged over z. Check out the ``westpp.x`` [input description](http://www.west-code.org/doc/West/latest/) and generate an input file for WEST called ``westpp.in``."
   ]
  },
  {
   "cell_type": "markdown",
   "metadata": {},
   "source": [
    "Download this file to your current working directory:"
   ]
  },
  {
   "cell_type": "code",
   "execution_count": null,
   "metadata": {},
   "outputs": [],
   "source": [
    "%%bash\n",
    "wget -N -q http://www.west-code.org/doc/training/nv_diamond/westpp.in"
   ]
  },
  {
   "cell_type": "markdown",
   "metadata": {},
   "source": [
    "Let's inspect the ``westpp.in`` file, input for ``westpp.x``."
   ]
  },
  {
   "cell_type": "code",
   "execution_count": null,
   "metadata": {},
   "outputs": [],
   "source": [
    "%%bash\n",
    "cat westpp.in"
   ]
  },
  {
   "cell_type": "markdown",
   "metadata": {},
   "source": [
    "Run ``westpp.x``."
   ]
  },
  {
   "cell_type": "code",
   "execution_count": null,
   "metadata": {},
   "outputs": [],
   "source": [
    "%%bash\n",
    "mpirun -n 4 westpp.x -i westpp.in > westpp.out"
   ]
  },
  {
   "cell_type": "markdown",
   "metadata": {},
   "source": [
    "This computes the wavefunctions averaged over the z axis, and stores the results in several ``wfcKxxxxxxBxxxxxx.plavz`` files in ``nv_diamond.westpp.save``. Again, if the reader does not have the computational resource to run the calculation, the output files needed for the next step can be downloaded:"
   ]
  },
  {
   "cell_type": "code",
   "execution_count": null,
   "metadata": {},
   "outputs": [],
   "source": [
    "%%bash\n",
    "wget -N -q http://www.west-code.org/doc/training/nv_diamond/nv_diamond.westpp.save.tar.gz\n",
    "tar zxvf nv_diamond.westpp.save.tar.gz"
   ]
  },
  {
   "cell_type": "markdown",
   "metadata": {},
   "source": [
    "We create an ``ElectronicStructure`` object and register the energy levels and their associate wavefunction files. The energy levels are sorted into three categories, namely the bulk states, the spin up defect states, and the spin down defect states. States strongly localized around the nitrogen-vacancy center are considered to be the defect states. We call the ``plotLDOS`` method to plot the LDOS."
   ]
  },
  {
   "cell_type": "code",
   "execution_count": null,
   "metadata": {},
   "outputs": [],
   "source": [
    "es2 = ElectronicStructure()\n",
    "\n",
    "# defect states\n",
    "defects = [430,431,432]\n",
    "\n",
    "keys = ['bulk','up','down']\n",
    "for key in keys :\n",
    "    es2.addKey(key,key)\n",
    "\n",
    "# spin loop\n",
    "for s in [1,2] :\n",
    "    # band loop\n",
    "    for b in range(321,481) :\n",
    "        prefix = 'nv_diamond.westpp.save/'\n",
    "        fileName = f'{prefix}wfcK{s:06d}B{b:06d}.plavz'\n",
    "        es2.addDataPoint([1,s,b],'wfcFile',fileName)\n",
    "\n",
    "        if b in defects :\n",
    "            es2.addDataPoint([1,s,b],keys[s],y['gw'][s][b-321])\n",
    "        else :\n",
    "            es2.addDataPoint([1,s,b],keys[0],y['gw'][s][b-321])\n",
    "\n",
    "es2.plotLDOS(kk=[1],ss=[1,2],energyKeys=['bulk','up','down'],sigma=0.05,energyRange=[-1.,7.,0.01],fname='ldos_gw.jpg')"
   ]
  },
  {
   "cell_type": "markdown",
   "metadata": {},
   "source": [
    "We should get a plot like this:\n",
    "![Image of LDOS](http://greatfire.uchicago.edu/west-public/West/raw/master/Doc/images/ldos_gw.jpg)\n",
    "\n",
    "where the bulk states, the spin up defect states, and the spin down defect states are plotted in black, red, and blue, respectively. The reader is encouraged to adapt the script to plot the LDOS at the PBE level of theory, and compare it to tbe GW result."
   ]
  }
 ],
 "metadata": {
  "kernelspec": {
   "display_name": "Python 3 (ipykernel)",
   "language": "python",
   "name": "python3"
  },
  "language_info": {
   "codemirror_mode": {
    "name": "ipython",
    "version": 3
   },
   "file_extension": ".py",
   "mimetype": "text/x-python",
   "name": "python",
   "nbconvert_exporter": "python",
   "pygments_lexer": "ipython3",
   "version": "3.8.13"
  }
 },
 "nbformat": 4,
 "nbformat_minor": 4
}
