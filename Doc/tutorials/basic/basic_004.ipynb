{
 "cells": [
  {
   "cell_type": "markdown",
   "metadata": {},
   "source": [
    "This tutorial can be downloaded [link](http://greatfire.uchicago.edu/west-public/West/raw/master/Doc/tutorials/basic/basic_004.ipynb)."
   ]
  },
  {
   "cell_type": "markdown",
   "metadata": {},
   "source": [
    "# Intro tutorial 4: Plotting density of states and local density of states"
   ]
  },
  {
   "cell_type": "markdown",
   "metadata": {},
   "source": [
    "We show how to use the [WESTpy Python package](http://www.west-code.org/doc/westpy/latest/) to plot the density of states and local density of states from GW quasiparticle energy levels calculated using WEST."
   ]
  },
  {
   "cell_type": "markdown",
   "metadata": {},
   "source": [
    "## Running DFT and GW calculations"
   ]
  },
  {
   "cell_type": "markdown",
   "metadata": {},
   "source": [
    "We will use the negatively charged nitrogen-vacancy center in diamond as an example. Download the input and pseudopotential files to your current directory:"
   ]
  },
  {
   "cell_type": "code",
   "execution_count": null,
   "metadata": {},
   "outputs": [],
   "source": [
    "%%bash\n",
    "wget -N -q http://www.west-code.org/doc/training/nv_diamond/pw.in\n",
    "wget -N -q http://www.west-code.org/doc/training/nv_diamond/wstat.in\n",
    "wget -N -q http://www.west-code.org/doc/training/nv_diamond/wfreq.in\n",
    "wget -N -q http://www.quantum-simulation.org/potentials/sg15_oncv/upf/C_ONCV_PBE-1.2.upf\n",
    "wget -N -q http://www.quantum-simulation.org/potentials/sg15_oncv/upf/N_ONCV_PBE-1.2.upf"
   ]
  },
  {
   "cell_type": "markdown",
   "metadata": {},
   "source": [
    "Let's inspect the ``pw.in`` file."
   ]
  },
  {
   "cell_type": "code",
   "execution_count": null,
   "metadata": {},
   "outputs": [],
   "source": [
    "%%bash\n",
    "cat pw.in"
   ]
  },
  {
   "cell_type": "markdown",
   "metadata": {},
   "source": [
    "This is a relatively big system with 215 atoms and 862 valence electrons, and requires an explicit treatment of spin polarization. As detailed in [Yu et al., J. Chem. Theory Comput. 18, 4690-4707 (2022)](https://doi.org/10.1021/acs.jctc.2c00241), WEST can use GPU accelerators to carry out large-scale GW calculations. For instance, we can use four GPUs for the ground state DFT calculation, and 64 GPUs for the GW calculation."
   ]
  },
  {
   "cell_type": "code",
   "execution_count": null,
   "metadata": {},
   "outputs": [],
   "source": [
    "%%bash\n",
    "mpirun -n 4 pw.x -i pw.in > pw.out\n",
    "mpirun -n 64 wstat.x -nimage 16 -npool 2 -nbgrp 2 -i wstat.in > wstat.out\n",
    "mpirun -n 64 wfreq.x -nimage 8 -npool 2 -nbgrp 4 -i wfreq.in > wfreq.out"
   ]
  },
  {
   "cell_type": "markdown",
   "metadata": {},
   "source": [
    "Note that we have used the image, pool, and band group parallelization levels, as discussed in the [3.0 Tutorial](http://greatfire.uchicago.edu/west-public/West/raw/master/Doc/tutorials/basic_003.ipynb). By using all the parallelization levels, we avoid carrying out fast Fourier transforms (FFTs) on multiple GPUs, which is inefficient because of the all-to-all communication involved in parallel FFTs."
   ]
  },
  {
   "cell_type": "markdown",
   "metadata": {},
   "source": [
    "If the reader does not have the computational resource to run the calculation, the WEST output file needed for the next step can be directly downloaded:"
   ]
  },
  {
   "cell_type": "code",
   "execution_count": null,
   "metadata": {},
   "outputs": [],
   "source": [
    "%%bash\n",
    "mkdir nv_diamond.wfreq.save\n",
    "wget -N -q http://www.west-code.org/doc/training/nv_diamond/wfreq.json -O nv_diamond.wfreq.save/wfreq.json"
   ]
  },
  {
   "cell_type": "markdown",
   "metadata": {},
   "source": [
    "## Plotting density of states"
   ]
  },
  {
   "cell_type": "markdown",
   "metadata": {},
   "source": [
    "The density of states (DOS) is defined as follows:\n",
    "\\begin{equation}\n",
    "\\text{DOS}(E) = \\sum_{\\sigma=1}^{N_{\\text{spin}}} \\sum_{i=1}^{N_{\\text{band}}} \\delta (E-E_i^{\\sigma})\n",
    "\\end{equation}\n",
    "where $E_i^{\\sigma}$ is the energy of the $i$th wavefunction in the $\\sigma$ spin channel obtained at the PBE or GW level of theory, and $\\delta$ is the Dirac delta function. In practice, we model the delta function by a Gaussian function with a chosen width. Here we are going to use 0.1 eV."
   ]
  },
  {
   "cell_type": "markdown",
   "metadata": {},
   "source": [
    "To plot the DOS, we first collect the output of WEST into a `pandas` dataframe (see Tutorial 1)."
   ]
  },
  {
   "cell_type": "code",
   "execution_count": 1,
   "metadata": {},
   "outputs": [
    {
     "data": {
      "text/html": [
       "<div>\n",
       "<style scoped>\n",
       "    .dataframe tbody tr th:only-of-type {\n",
       "        vertical-align: middle;\n",
       "    }\n",
       "\n",
       "    .dataframe tbody tr th {\n",
       "        vertical-align: top;\n",
       "    }\n",
       "\n",
       "    .dataframe thead th {\n",
       "        text-align: right;\n",
       "    }\n",
       "</style>\n",
       "<table border=\"1\" class=\"dataframe\">\n",
       "  <thead>\n",
       "    <tr style=\"text-align: right;\">\n",
       "      <th></th>\n",
       "      <th>k</th>\n",
       "      <th>s</th>\n",
       "      <th>n</th>\n",
       "      <th>eks</th>\n",
       "      <th>eqpLin</th>\n",
       "      <th>eqpSec</th>\n",
       "      <th>sigmax</th>\n",
       "      <th>sigmac_eks</th>\n",
       "      <th>sigmac_eqpLin</th>\n",
       "      <th>sigmac_eqpSec</th>\n",
       "      <th>vxcl</th>\n",
       "      <th>vxcnl</th>\n",
       "      <th>hf</th>\n",
       "    </tr>\n",
       "  </thead>\n",
       "  <tbody>\n",
       "    <tr>\n",
       "      <th>0</th>\n",
       "      <td>1</td>\n",
       "      <td>1</td>\n",
       "      <td>321</td>\n",
       "      <td>8.367174</td>\n",
       "      <td>7.400018</td>\n",
       "      <td>7.433568</td>\n",
       "      <td>-20.102276</td>\n",
       "      <td>3.000145</td>\n",
       "      <td>3.222744</td>\n",
       "      <td>3.214358</td>\n",
       "      <td>-15.953647</td>\n",
       "      <td>0.0</td>\n",
       "      <td>-4.148628</td>\n",
       "    </tr>\n",
       "    <tr>\n",
       "      <th>1</th>\n",
       "      <td>1</td>\n",
       "      <td>1</td>\n",
       "      <td>322</td>\n",
       "      <td>8.367273</td>\n",
       "      <td>7.400794</td>\n",
       "      <td>7.433616</td>\n",
       "      <td>-20.101597</td>\n",
       "      <td>2.999942</td>\n",
       "      <td>3.222335</td>\n",
       "      <td>3.214098</td>\n",
       "      <td>-15.953158</td>\n",
       "      <td>0.0</td>\n",
       "      <td>-4.148439</td>\n",
       "    </tr>\n",
       "    <tr>\n",
       "      <th>2</th>\n",
       "      <td>1</td>\n",
       "      <td>1</td>\n",
       "      <td>323</td>\n",
       "      <td>8.376845</td>\n",
       "      <td>7.430813</td>\n",
       "      <td>7.438766</td>\n",
       "      <td>-20.127620</td>\n",
       "      <td>3.018200</td>\n",
       "      <td>3.234410</td>\n",
       "      <td>3.232714</td>\n",
       "      <td>-15.956949</td>\n",
       "      <td>0.0</td>\n",
       "      <td>-4.170671</td>\n",
       "    </tr>\n",
       "    <tr>\n",
       "      <th>3</th>\n",
       "      <td>1</td>\n",
       "      <td>1</td>\n",
       "      <td>324</td>\n",
       "      <td>8.377936</td>\n",
       "      <td>7.432131</td>\n",
       "      <td>7.442610</td>\n",
       "      <td>-20.138275</td>\n",
       "      <td>3.013117</td>\n",
       "      <td>3.232256</td>\n",
       "      <td>3.229776</td>\n",
       "      <td>-15.973121</td>\n",
       "      <td>0.0</td>\n",
       "      <td>-4.165155</td>\n",
       "    </tr>\n",
       "    <tr>\n",
       "      <th>4</th>\n",
       "      <td>1</td>\n",
       "      <td>1</td>\n",
       "      <td>325</td>\n",
       "      <td>8.381440</td>\n",
       "      <td>7.390587</td>\n",
       "      <td>7.456276</td>\n",
       "      <td>-20.008882</td>\n",
       "      <td>2.970645</td>\n",
       "      <td>3.196673</td>\n",
       "      <td>3.181567</td>\n",
       "      <td>-15.902148</td>\n",
       "      <td>0.0</td>\n",
       "      <td>-4.106734</td>\n",
       "    </tr>\n",
       "    <tr>\n",
       "      <th>...</th>\n",
       "      <td>...</td>\n",
       "      <td>...</td>\n",
       "      <td>...</td>\n",
       "      <td>...</td>\n",
       "      <td>...</td>\n",
       "      <td>...</td>\n",
       "      <td>...</td>\n",
       "      <td>...</td>\n",
       "      <td>...</td>\n",
       "      <td>...</td>\n",
       "      <td>...</td>\n",
       "      <td>...</td>\n",
       "      <td>...</td>\n",
       "    </tr>\n",
       "    <tr>\n",
       "      <th>395</th>\n",
       "      <td>1</td>\n",
       "      <td>2</td>\n",
       "      <td>516</td>\n",
       "      <td>20.940372</td>\n",
       "      <td>22.386984</td>\n",
       "      <td>23.649553</td>\n",
       "      <td>-8.283733</td>\n",
       "      <td>-4.933001</td>\n",
       "      <td>-3.719844</td>\n",
       "      <td>-3.964094</td>\n",
       "      <td>-14.956837</td>\n",
       "      <td>0.0</td>\n",
       "      <td>6.673104</td>\n",
       "    </tr>\n",
       "    <tr>\n",
       "      <th>396</th>\n",
       "      <td>1</td>\n",
       "      <td>2</td>\n",
       "      <td>517</td>\n",
       "      <td>20.950590</td>\n",
       "      <td>22.336122</td>\n",
       "      <td>23.597504</td>\n",
       "      <td>-8.047657</td>\n",
       "      <td>-4.891736</td>\n",
       "      <td>-3.703635</td>\n",
       "      <td>-3.921624</td>\n",
       "      <td>-14.616189</td>\n",
       "      <td>0.0</td>\n",
       "      <td>6.568532</td>\n",
       "    </tr>\n",
       "    <tr>\n",
       "      <th>397</th>\n",
       "      <td>1</td>\n",
       "      <td>2</td>\n",
       "      <td>518</td>\n",
       "      <td>20.950620</td>\n",
       "      <td>22.335941</td>\n",
       "      <td>23.597143</td>\n",
       "      <td>-8.047741</td>\n",
       "      <td>-4.891770</td>\n",
       "      <td>-3.703932</td>\n",
       "      <td>-3.922213</td>\n",
       "      <td>-14.616398</td>\n",
       "      <td>0.0</td>\n",
       "      <td>6.568656</td>\n",
       "    </tr>\n",
       "    <tr>\n",
       "      <th>398</th>\n",
       "      <td>1</td>\n",
       "      <td>2</td>\n",
       "      <td>519</td>\n",
       "      <td>20.964816</td>\n",
       "      <td>22.421303</td>\n",
       "      <td>23.723918</td>\n",
       "      <td>-8.304636</td>\n",
       "      <td>-4.927318</td>\n",
       "      <td>-3.661473</td>\n",
       "      <td>-3.916795</td>\n",
       "      <td>-14.987825</td>\n",
       "      <td>0.0</td>\n",
       "      <td>6.683188</td>\n",
       "    </tr>\n",
       "    <tr>\n",
       "      <th>399</th>\n",
       "      <td>1</td>\n",
       "      <td>2</td>\n",
       "      <td>520</td>\n",
       "      <td>20.964843</td>\n",
       "      <td>22.420867</td>\n",
       "      <td>23.729650</td>\n",
       "      <td>-8.303952</td>\n",
       "      <td>-4.927378</td>\n",
       "      <td>-3.661139</td>\n",
       "      <td>-3.925628</td>\n",
       "      <td>-14.986806</td>\n",
       "      <td>0.0</td>\n",
       "      <td>6.682855</td>\n",
       "    </tr>\n",
       "  </tbody>\n",
       "</table>\n",
       "<p>400 rows × 13 columns</p>\n",
       "</div>"
      ],
      "text/plain": [
       "     k  s    n        eks     eqpLin     eqpSec     sigmax  sigmac_eks  \\\n",
       "0    1  1  321   8.367174   7.400018   7.433568 -20.102276    3.000145   \n",
       "1    1  1  322   8.367273   7.400794   7.433616 -20.101597    2.999942   \n",
       "2    1  1  323   8.376845   7.430813   7.438766 -20.127620    3.018200   \n",
       "3    1  1  324   8.377936   7.432131   7.442610 -20.138275    3.013117   \n",
       "4    1  1  325   8.381440   7.390587   7.456276 -20.008882    2.970645   \n",
       "..  .. ..  ...        ...        ...        ...        ...         ...   \n",
       "395  1  2  516  20.940372  22.386984  23.649553  -8.283733   -4.933001   \n",
       "396  1  2  517  20.950590  22.336122  23.597504  -8.047657   -4.891736   \n",
       "397  1  2  518  20.950620  22.335941  23.597143  -8.047741   -4.891770   \n",
       "398  1  2  519  20.964816  22.421303  23.723918  -8.304636   -4.927318   \n",
       "399  1  2  520  20.964843  22.420867  23.729650  -8.303952   -4.927378   \n",
       "\n",
       "     sigmac_eqpLin  sigmac_eqpSec       vxcl  vxcnl        hf  \n",
       "0         3.222744       3.214358 -15.953647    0.0 -4.148628  \n",
       "1         3.222335       3.214098 -15.953158    0.0 -4.148439  \n",
       "2         3.234410       3.232714 -15.956949    0.0 -4.170671  \n",
       "3         3.232256       3.229776 -15.973121    0.0 -4.165155  \n",
       "4         3.196673       3.181567 -15.902148    0.0 -4.106734  \n",
       "..             ...            ...        ...    ...       ...  \n",
       "395      -3.719844      -3.964094 -14.956837    0.0  6.673104  \n",
       "396      -3.703635      -3.921624 -14.616189    0.0  6.568532  \n",
       "397      -3.703932      -3.922213 -14.616398    0.0  6.568656  \n",
       "398      -3.661473      -3.916795 -14.987825    0.0  6.683188  \n",
       "399      -3.661139      -3.925628 -14.986806    0.0  6.682855  \n",
       "\n",
       "[400 rows x 13 columns]"
      ]
     },
     "metadata": {},
     "output_type": "display_data"
    }
   ],
   "source": [
    "import json\n",
    "\n",
    "# read data from JSON file\n",
    "with open('nv_diamond.wfreq.save/wfreq.json') as file:\n",
    "    data = json.load(file)\n",
    "\n",
    "import numpy as np\n",
    "import pandas as pd\n",
    "\n",
    "# specify keys\n",
    "keys = ['eks', 'eqpLin', 'eqpSec', 'sigmax', 'sigmac_eks','sigmac_eqpLin','sigmac_eqpSec', 'vxcl', 'vxcnl', 'hf']\n",
    "\n",
    "# build the dataframe\n",
    "columns = ['k', 's', 'n'] + keys\n",
    "df = pd.DataFrame(columns=columns)\n",
    "\n",
    "# insert data into the dataframe\n",
    "for s in range(1,data[\"system\"][\"electron\"]['nspin']+1) :\n",
    "    for k in data[\"system\"][\"bzsamp\"]['k'] :\n",
    "        kindex = f\"K{k['id']+(s-1)*len(data['system']['bzsamp']['k']):06d}\"\n",
    "        for i, n in enumerate(data[\"output\"][\"Q\"][\"bandmap\"]) :\n",
    "            d = data[\"output\"][\"Q\"][kindex]\n",
    "            row = [k['id'], s, n]\n",
    "            for key in keys :\n",
    "                if 're' in d[key] :\n",
    "                    row.append(d[key]['re'][i])\n",
    "                else :\n",
    "                    row.append(d[key][i])\n",
    "            df.loc[i+(s-1)*len(data[\"output\"][\"Q\"][\"bandmap\"])] = row\n",
    "\n",
    "# cast the columns k, s, n to int\n",
    "df['k'] = df['k'].apply(np.int64)\n",
    "df['s'] = df['s'].apply(np.int64)\n",
    "df['n'] = df['n'].apply(np.int64)\n",
    "\n",
    "display(df)"
   ]
  },
  {
   "cell_type": "markdown",
   "metadata": {},
   "source": [
    "We create an `ElectronicStructure` object and attach to it the DFT and GW energy levels. "
   ]
  },
  {
   "cell_type": "code",
   "execution_count": 2,
   "metadata": {},
   "outputs": [
    {
     "name": "stdout",
     "output_type": "stream",
     "text": [
      " \n",
      " _    _ _____ _____ _____            \n",
      "| |  | |  ___/  ___|_   _|           \n",
      "| |  | | |__ \\ `--.  | |_ __  _   _  \n",
      "| |/\\| |  __| `--. \\ | | '_ \\| | | | \n",
      "\\  /\\  / |___/\\__/ / | | |_) | |_| | \n",
      " \\/  \\/\\____/\\____/  \\_/ .__/ \\__, | \n",
      "                       | |     __/ | \n",
      "                       |_|    |___/  \n",
      " \n",
      "WEST version     :  4.3.0\n",
      "Today            :  2022-08-17 15:39:52.801085\n"
     ]
    }
   ],
   "source": [
    "from westpy import *\n",
    "\n",
    "es = ElectronicStructure()\n",
    "\n",
    "dos_keys = ['eks','eqpSec']\n",
    "\n",
    "for key in dos_keys : \n",
    "    es.addKey(key,key)\n",
    "    for i, row in df.iterrows():\n",
    "        k, s, n = int(row['k']), int(row['s']), int(row['n'])\n",
    "        es.addDataPoint([k,s,n],key,row['eks'])"
   ]
  },
  {
   "cell_type": "markdown",
   "metadata": {},
   "source": [
    "We call the plotDOS method to plot the DOS."
   ]
  },
  {
   "cell_type": "code",
   "execution_count": 3,
   "metadata": {},
   "outputs": [
    {
     "name": "stdout",
     "output_type": "stream",
     "text": [
      "Requested (emin,emax) :  8 20\n",
      "Detected  (emin,emax) :  8.36717413576688 20.964843493350457\n",
      "output written in :  dos_dft.jpg\n",
      "waiting for user to close image preview...\n"
     ]
    },
    {
     "data": {
      "image/png": "[encoded data removed]",
      "text/plain": [
       "<Figure size 432x288 with 1 Axes>"
      ]
     },
     "metadata": {
      "needs_background": "light"
     },
     "output_type": "display_data"
    },
    {
     "name": "stdout",
     "output_type": "stream",
     "text": [
      "Requested (emin,emax) :  8 20\n",
      "Detected  (emin,emax) :  8.36717413576688 20.964843493350457\n",
      "output written in :  dos_gw.jpg\n",
      "waiting for user to close image preview...\n"
     ]
    },
    {
     "data": {
      "image/png": "[encoded data removed]",
      "text/plain": [
       "<Figure size 432x288 with 1 Axes>"
      ]
     },
     "metadata": {
      "needs_background": "light"
     },
     "output_type": "display_data"
    },
    {
     "name": "stdout",
     "output_type": "stream",
     "text": [
      "Requested (emin,emax) :  11 20\n",
      "Detected  (emin,emax) :  8.36717413576688 20.958059510745308\n",
      "output written in :  dos_gw2.jpg\n",
      "waiting for user to close image preview...\n"
     ]
    },
    {
     "data": {
      "image/png": "[encoded data removed]",
      "text/plain": [
       "<Figure size 432x288 with 1 Axes>"
      ]
     },
     "metadata": {
      "needs_background": "light"
     },
     "output_type": "display_data"
    },
    {
     "ename": "IndexError",
     "evalue": "index 1 is out of bounds for axis 0 with size 1",
     "output_type": "error",
     "traceback": [
      "\u001b[0;31m---------------------------------------------------------------------------\u001b[0m",
      "\u001b[0;31mIndexError\u001b[0m                                Traceback (most recent call last)",
      "\u001b[0;32m/var/folders/wq/mfv1z9mj7s5bjjr_pqj9hsj00000gn/T/ipykernel_95109/1899272128.py\u001b[0m in \u001b[0;36m<cell line: 4>\u001b[0;34m()\u001b[0m\n\u001b[1;32m      2\u001b[0m \u001b[0mes\u001b[0m\u001b[0;34m.\u001b[0m\u001b[0mplotDOS\u001b[0m\u001b[0;34m(\u001b[0m\u001b[0mkk\u001b[0m\u001b[0;34m=\u001b[0m\u001b[0;34m[\u001b[0m\u001b[0;36m1\u001b[0m\u001b[0;34m]\u001b[0m\u001b[0;34m,\u001b[0m\u001b[0mss\u001b[0m\u001b[0;34m=\u001b[0m\u001b[0;34m[\u001b[0m\u001b[0;36m1\u001b[0m\u001b[0;34m,\u001b[0m\u001b[0;36m2\u001b[0m\u001b[0;34m]\u001b[0m\u001b[0;34m,\u001b[0m\u001b[0menergyKeys\u001b[0m\u001b[0;34m=\u001b[0m\u001b[0;34m[\u001b[0m\u001b[0;34m'eqpSec'\u001b[0m\u001b[0;34m]\u001b[0m\u001b[0;34m,\u001b[0m\u001b[0menergyRange\u001b[0m\u001b[0;34m=\u001b[0m\u001b[0;34m[\u001b[0m\u001b[0;36m8\u001b[0m\u001b[0;34m,\u001b[0m\u001b[0;36m20\u001b[0m\u001b[0;34m,\u001b[0m\u001b[0;36m0.01\u001b[0m\u001b[0;34m]\u001b[0m\u001b[0;34m,\u001b[0m\u001b[0mfname\u001b[0m\u001b[0;34m=\u001b[0m\u001b[0;34m'dos_gw.jpg'\u001b[0m\u001b[0;34m)\u001b[0m\u001b[0;34m\u001b[0m\u001b[0;34m\u001b[0m\u001b[0m\n\u001b[1;32m      3\u001b[0m \u001b[0mes\u001b[0m\u001b[0;34m.\u001b[0m\u001b[0mplotDOS\u001b[0m\u001b[0;34m(\u001b[0m\u001b[0mkk\u001b[0m\u001b[0;34m=\u001b[0m\u001b[0;34m[\u001b[0m\u001b[0;36m1\u001b[0m\u001b[0;34m]\u001b[0m\u001b[0;34m,\u001b[0m\u001b[0mss\u001b[0m\u001b[0;34m=\u001b[0m\u001b[0;34m[\u001b[0m\u001b[0;36m1\u001b[0m\u001b[0;34m]\u001b[0m\u001b[0;34m,\u001b[0m\u001b[0menergyKeys\u001b[0m\u001b[0;34m=\u001b[0m\u001b[0;34m[\u001b[0m\u001b[0;34m'eks'\u001b[0m\u001b[0;34m,\u001b[0m\u001b[0;34m'eqpSec'\u001b[0m\u001b[0;34m]\u001b[0m\u001b[0;34m,\u001b[0m\u001b[0menergyRange\u001b[0m\u001b[0;34m=\u001b[0m\u001b[0;34m[\u001b[0m\u001b[0;36m11\u001b[0m\u001b[0;34m,\u001b[0m\u001b[0;36m20\u001b[0m\u001b[0;34m,\u001b[0m\u001b[0;36m0.01\u001b[0m\u001b[0;34m]\u001b[0m\u001b[0;34m,\u001b[0m\u001b[0mfname\u001b[0m\u001b[0;34m=\u001b[0m\u001b[0;34m'dos_gw2.jpg'\u001b[0m\u001b[0;34m)\u001b[0m\u001b[0;34m\u001b[0m\u001b[0;34m\u001b[0m\u001b[0m\n\u001b[0;32m----> 4\u001b[0;31m \u001b[0mes\u001b[0m\u001b[0;34m.\u001b[0m\u001b[0mplotDOS\u001b[0m\u001b[0;34m(\u001b[0m\u001b[0mkk\u001b[0m\u001b[0;34m=\u001b[0m\u001b[0;34m[\u001b[0m\u001b[0;36m1\u001b[0m\u001b[0;34m]\u001b[0m\u001b[0;34m,\u001b[0m\u001b[0mss\u001b[0m\u001b[0;34m=\u001b[0m\u001b[0;34m[\u001b[0m\u001b[0;36m2\u001b[0m\u001b[0;34m]\u001b[0m\u001b[0;34m,\u001b[0m\u001b[0menergyKeys\u001b[0m\u001b[0;34m=\u001b[0m\u001b[0;34m[\u001b[0m\u001b[0;34m'eks'\u001b[0m\u001b[0;34m,\u001b[0m\u001b[0;34m'eqpSec'\u001b[0m\u001b[0;34m]\u001b[0m\u001b[0;34m,\u001b[0m\u001b[0menergyRange\u001b[0m\u001b[0;34m=\u001b[0m\u001b[0;34m[\u001b[0m\u001b[0;36m11\u001b[0m\u001b[0;34m,\u001b[0m\u001b[0;36m20\u001b[0m\u001b[0;34m,\u001b[0m\u001b[0;36m0.01\u001b[0m\u001b[0;34m]\u001b[0m\u001b[0;34m,\u001b[0m\u001b[0mfname\u001b[0m\u001b[0;34m=\u001b[0m\u001b[0;34m'dos_gw3.jpg'\u001b[0m\u001b[0;34m)\u001b[0m\u001b[0;34m\u001b[0m\u001b[0;34m\u001b[0m\u001b[0m\n\u001b[0m",
      "\u001b[0;32m~/.local/lib/python3.8/site-packages/westpy-4.3.0-py3.8.egg/westpy/electronicStructure.py\u001b[0m in \u001b[0;36mplotDOS\u001b[0;34m(self, kk, ss, energyKeys, sigma, weight, energyRange, fname)\u001b[0m\n\u001b[1;32m    141\u001b[0m                         \u001b[0;31m#\u001b[0m\u001b[0;34m\u001b[0m\u001b[0;34m\u001b[0m\u001b[0;34m\u001b[0m\u001b[0m\n\u001b[1;32m    142\u001b[0m                         \u001b[0;32mfor\u001b[0m \u001b[0mix\u001b[0m \u001b[0;32min\u001b[0m \u001b[0mrange\u001b[0m\u001b[0;34m(\u001b[0m\u001b[0mnpte\u001b[0m\u001b[0;34m)\u001b[0m \u001b[0;34m:\u001b[0m\u001b[0;34m\u001b[0m\u001b[0;34m\u001b[0m\u001b[0m\n\u001b[0;32m--> 143\u001b[0;31m                            \u001b[0mdosAxis\u001b[0m\u001b[0;34m[\u001b[0m\u001b[0menergyKey\u001b[0m\u001b[0;34m]\u001b[0m\u001b[0;34m[\u001b[0m\u001b[0ms\u001b[0m\u001b[0;34m-\u001b[0m\u001b[0;36m1\u001b[0m\u001b[0;34m]\u001b[0m\u001b[0;34m[\u001b[0m\u001b[0mix\u001b[0m\u001b[0;34m]\u001b[0m \u001b[0;34m+=\u001b[0m \u001b[0mgaussian\u001b[0m\u001b[0;34m(\u001b[0m \u001b[0menergyAxis\u001b[0m\u001b[0;34m[\u001b[0m\u001b[0mix\u001b[0m\u001b[0;34m]\u001b[0m\u001b[0;34m,\u001b[0m \u001b[0mmu\u001b[0m\u001b[0;34m,\u001b[0m \u001b[0msi\u001b[0m \u001b[0;34m)\u001b[0m \u001b[0;34m*\u001b[0m \u001b[0mwe\u001b[0m\u001b[0;34m\u001b[0m\u001b[0;34m\u001b[0m\u001b[0m\n\u001b[0m\u001b[1;32m    144\u001b[0m             \u001b[0;31m#\u001b[0m\u001b[0;34m\u001b[0m\u001b[0;34m\u001b[0m\u001b[0;34m\u001b[0m\u001b[0m\n\u001b[1;32m    145\u001b[0m             \u001b[0mymax\u001b[0m\u001b[0;34m.\u001b[0m\u001b[0mappend\u001b[0m\u001b[0;34m(\u001b[0m \u001b[0mnp\u001b[0m\u001b[0;34m.\u001b[0m\u001b[0mmax\u001b[0m\u001b[0;34m(\u001b[0m\u001b[0mdosAxis\u001b[0m\u001b[0;34m[\u001b[0m\u001b[0menergyKey\u001b[0m\u001b[0;34m]\u001b[0m\u001b[0;34m[\u001b[0m\u001b[0;34m:\u001b[0m\u001b[0;34m]\u001b[0m\u001b[0;34m)\u001b[0m \u001b[0;34m)\u001b[0m\u001b[0;34m\u001b[0m\u001b[0;34m\u001b[0m\u001b[0m\n",
      "\u001b[0;31mIndexError\u001b[0m: index 1 is out of bounds for axis 0 with size 1"
     ]
    }
   ],
   "source": [
    "es.plotDOS(kk=[1],ss=[1,2],energyKeys=['eks'],energyRange=[8,20,0.01],fname='dos_dft.jpg')\n",
    "es.plotDOS(kk=[1],ss=[1,2],energyKeys=['eqpSec'],energyRange=[8,20,0.01],fname='dos_gw.jpg')\n",
    "es.plotDOS(kk=[1],ss=[1],energyKeys=['eks','eqpSec'],energyRange=[11,20,0.01],fname='dos_gw2.jpg')\n",
    "es.plotDOS(kk=[1],ss=[2],energyKeys=['eks','eqpSec'],energyRange=[11,20,0.01],fname='dos_gw3.jpg')"
   ]
  },
  {
   "cell_type": "markdown",
   "metadata": {},
   "source": [
    "## Plotting local density of states"
   ]
  },
  {
   "cell_type": "markdown",
   "metadata": {},
   "source": [
    "The local density of states (LDOS) is defined as follows:\n",
    "\\begin{equation}\n",
    "\\text{LDOS}(z,E) = \\sum_{\\sigma=1}^{N_{\\text{spin}}} \\sum_{i=1}^{N_{\\text{band}}} \\int \\frac{\\text{d}x}{L_x} \\int \\frac{\\text{d}y}{L_y} \\vert \\psi_i^{\\sigma} (x,y,z)\\vert ^2 \\delta(E-E_i^{\\sigma})\n",
    "\\end{equation}\n",
    "where $\\psi_i^{\\sigma}$ is the $i$-th wavefunction in the $\\sigma$ spin channel obtained at the PBE level of theory, with energy $E_i^{\\sigma}$ obtained at the PBE or GW level of theory. $L_x$ and $L_y$ are the lengths of the x and y axes of the simulation box, respectively, whereas $z$ corresponds to the z axis of the simulation box. $\\delta$ is the Dirac delta function, modeled by a Gaussian function with a width of 0.05 eV in our case."
   ]
  },
  {
   "cell_type": "markdown",
   "metadata": {},
   "source": [
    "To plot the LDOS along the z axis of the simulation box, in addition to the Kohn-Sham and quasiparticle energy levels, we need the wavefunctions averaged over z. Check out the ``westpp.x`` [input description](http://www.west-code.org/doc/West/latest/) and generate an input file for WEST called ``westpp.in``."
   ]
  },
  {
   "cell_type": "markdown",
   "metadata": {},
   "source": [
    "Download this file to your current working directory:"
   ]
  },
  {
   "cell_type": "code",
   "execution_count": null,
   "metadata": {},
   "outputs": [],
   "source": [
    "%%bash\n",
    "wget -N -q http://www.west-code.org/doc/training/nv_diamond/westpp.in"
   ]
  },
  {
   "cell_type": "markdown",
   "metadata": {},
   "source": [
    "Let's inspect the ``westpp.in`` file, input for ``westpp.x``."
   ]
  },
  {
   "cell_type": "code",
   "execution_count": null,
   "metadata": {},
   "outputs": [],
   "source": [
    "%%bash\n",
    "cat westpp.in"
   ]
  },
  {
   "cell_type": "markdown",
   "metadata": {},
   "source": [
    "Run ``westpp.x``."
   ]
  },
  {
   "cell_type": "code",
   "execution_count": null,
   "metadata": {},
   "outputs": [],
   "source": [
    "%%bash\n",
    "mpirun -n 4 westpp.x -i westpp.in > westpp.out"
   ]
  },
  {
   "cell_type": "markdown",
   "metadata": {},
   "source": [
    "This computes the wavefunctions averaged over the z axis, and stores the results in several ``wfcKxxxxxxBxxxxxx.plavz`` files in ``nv_diamond.westpp.save``. Again, if the reader does not have the computational resource to run the calculation, the output files needed for the next step can be downloaded:"
   ]
  },
  {
   "cell_type": "code",
   "execution_count": null,
   "metadata": {},
   "outputs": [],
   "source": [
    "%%bash\n",
    "wget -N -q http://www.west-code.org/doc/training/nv_diamond/nv_diamond.westpp.save.tar.gz\n",
    "tar zxf nv_diamond.westpp.save.tar.gz"
   ]
  },
  {
   "cell_type": "markdown",
   "metadata": {},
   "source": [
    "We create an ``ElectronicStructure`` object and register the energy levels and their associate wavefunction files. The energy levels are sorted into three categories, namely the bulk states, the spin up defect states, and the spin down defect states. States strongly localized around the nitrogen-vacancy center are considered to be the defect states. We call the ``plotLDOS`` method to plot the LDOS."
   ]
  },
  {
   "cell_type": "code",
   "execution_count": 4,
   "metadata": {},
   "outputs": [
    {
     "name": "stdout",
     "output_type": "stream",
     "text": [
      "Requested (emin,emax) :  11 20\n",
      "Detected  (emin,emax) :  7.433567942407069 22.976032527957337\n",
      "output written in :  ldos_gw.jpg\n",
      "waiting for user to close image preview...\n"
     ]
    },
    {
     "data": {
      "image/png": "[encoded data removed]",
      "text/plain": [
       "<Figure size 432x288 with 1 Axes>"
      ]
     },
     "metadata": {
      "needs_background": "light"
     },
     "output_type": "display_data"
    }
   ],
   "source": [
    "es2 = ElectronicStructure()\n",
    "\n",
    "# defect states\n",
    "defect_states = [430,431,432]\n",
    "\n",
    "dos_keys = ['bulk','up','down']\n",
    "for key in dos_keys :\n",
    "    es2.addKey(key,key)\n",
    "    \n",
    "for i, row in df.iterrows():\n",
    "    k, s, n = int(row['k']), int(row['s']), int(row['n'])\n",
    "    kindex = f\"K{k+(s-1)*len(data['system']['bzsamp']['k']):06d}\"\n",
    "    if n in defect_states : \n",
    "        if s == 1 : \n",
    "            es2.addDataPoint([k,s,n],\"up\",row['eqpSec'])\n",
    "            es2.addDataPoint([k,s,n],\"wfcFile\",f'nv_diamond.westpp.save/wfcK{s:06d}B{n:06d}.plavz')\n",
    "        else : \n",
    "            es2.addDataPoint([k,s,n],\"down\",row['eqpSec'])\n",
    "            es2.addDataPoint([k,s,n],\"wfcFile\",f'nv_diamond.westpp.save/wfcK{s:06d}B{n:06d}.plavz')\n",
    "    else :\n",
    "        if n in range(321,481) :\n",
    "            es2.addDataPoint([k,s,n],\"bulk\",row['eqpSec'])\n",
    "            es2.addDataPoint([k,s,n],\"wfcFile\",f'nv_diamond.westpp.save/wfcK{s:06d}B{n:06d}.plavz')\n",
    "\n",
    "es2.plotLDOS(kk=[1],ss=[1,2],energyKeys=['bulk','up','down'],sigma=0.05,energyRange=[11,20,0.01],fname='ldos_gw.jpg')"
   ]
  },
  {
   "cell_type": "markdown",
   "metadata": {},
   "source": [
    "Where the bulk states, the spin up defect states, and the spin down defect states are plotted in black, red, and blue, respectively. The reader is encouraged to adapt the script to plot the LDOS at the PBE level of theory, and compare it to the GW result. \n",
    "For more information un how LDOS is computed see: [Yu et al., J. Chem. Theory Comput. 18, 4690-4707 (2022)](https://doi.org/10.1021/acs.jctc.2c00241)."
   ]
  },
  {
   "cell_type": "code",
   "execution_count": null,
   "metadata": {},
   "outputs": [],
   "source": []
  }
 ],
 "metadata": {
  "kernelspec": {
   "display_name": "Python 3 (ipykernel)",
   "language": "python",
   "name": "python3"
  },
  "language_info": {
   "codemirror_mode": {
    "name": "ipython",
    "version": 3
   },
   "file_extension": ".py",
   "mimetype": "text/x-python",
   "name": "python",
   "nbconvert_exporter": "python",
   "pygments_lexer": "ipython3",
   "version": "3.8.8"
  }
 },
 "nbformat": 4,
 "nbformat_minor": 4
}
