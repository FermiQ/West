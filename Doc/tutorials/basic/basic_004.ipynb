{
 "cells": [
  {
   "cell_type": "markdown",
   "metadata": {},
   "source": [
    "This tutorial can be downloaded [link](http://greatfire.uchicago.edu/west-public/West/raw/master/Doc/tutorials/basic/basic_004.ipynb)."
   ]
  },
  {
   "cell_type": "markdown",
   "metadata": {},
   "source": [
    "# Intro tutorial 4: Plotting density of states and local density of states"
   ]
  },
  {
   "cell_type": "markdown",
   "metadata": {},
   "source": [
    "We show how to use the [WESTpy Python package](http://www.west-code.org/doc/westpy/latest/) to plot the density of states and local density of states from GW quasiparticle energy levels calculated using WEST."
   ]
  },
  {
   "cell_type": "markdown",
   "metadata": {},
   "source": [
    "## Running DFT and GW calculations"
   ]
  },
  {
   "cell_type": "markdown",
   "metadata": {},
   "source": [
    "We will use the negatively charged nitrogen-vacancy center in diamond as an example. Download the input and pseudopotential files to your current directory:"
   ]
  },
  {
   "cell_type": "code",
   "execution_count": 1,
   "metadata": {},
   "outputs": [],
   "source": [
    "%%bash\n",
    "wget -N -q http://www.west-code.org/doc/training/nv_diamond/pw.in\n",
    "wget -N -q http://www.west-code.org/doc/training/nv_diamond/wstat.in\n",
    "wget -N -q http://www.west-code.org/doc/training/nv_diamond/wfreq.in\n",
    "wget -N -q http://www.quantum-simulation.org/potentials/sg15_oncv/upf/C_ONCV_PBE-1.2.upf\n",
    "wget -N -q http://www.quantum-simulation.org/potentials/sg15_oncv/upf/N_ONCV_PBE-1.2.upf"
   ]
  },
  {
   "cell_type": "markdown",
   "metadata": {},
   "source": [
    "Let's inspect the ``pw.in`` file."
   ]
  },
  {
   "cell_type": "code",
   "execution_count": 2,
   "metadata": {},
   "outputs": [
    {
     "name": "stdout",
     "output_type": "stream",
     "text": [
      "&CONTROL\n",
      "  calculation = 'scf'\n",
      "  wf_collect = .true.\n",
      "  prefix = 'nv_diamond'\n",
      "  outdir = './'\n",
      "  pseudo_dir = './'\n",
      "/\n",
      "&SYSTEM\n",
      "  ibrav = 0\n",
      "  ecutwfc = 60\n",
      "  nspin = 2\n",
      "  tot_charge = -1\n",
      "  tot_magnetization = 2.0\n",
      "  nbnd = 532\n",
      "  nat = 215\n",
      "  ntyp = 2\n",
      "/\n",
      "&ELECTRONS\n",
      "  diago_full_acc = .true.\n",
      "/\n",
      "K_POINTS gamma\n",
      "CELL_PARAMETERS angstrom\n",
      "10.70400  0.000000  0.000000\n",
      "0.000000  10.70400  0.000000\n",
      "0.000000  0.000000  10.70400\n",
      "ATOMIC_SPECIES\n",
      "C  12.01099968  C_ONCV_PBE-1.2.upf\n",
      "N  14.00699997  N_ONCV_PBE-1.2.upf\n",
      "ATOMIC_POSITIONS crystal\n",
      "C        0.000019794   0.000070305   0.000070305\n",
      "C        0.083283093   0.083408574   0.083408574\n",
      "C       -0.000180249   0.166803354   0.166803354\n",
      "C        0.082881581   0.250195244   0.250195244\n",
      "C        0.166624862  -0.000041790   0.166735686\n",
      "C        0.249868283   0.083201633   0.250010134\n",
      "C        0.166624862   0.166735686  -0.000041790\n",
      "C        0.249868283   0.250010134   0.083201633\n",
      "C       -0.000091814   0.000127381   0.333479766\n",
      "C        0.083066258   0.083584948   0.416725766\n",
      "C       -0.000487477   0.167194483   0.500175895\n",
      "C        0.083392434   0.250002399   0.583473949\n",
      "C        0.166924803   0.000258154   0.500150151\n",
      "C        0.250013786   0.083347137   0.583306800\n",
      "C        0.166311809   0.166704028   0.333362376\n",
      "C        0.249570188   0.249881859   0.416552187\n",
      "C        0.000115132   0.000238438   0.666764846\n",
      "C        0.083394701   0.083489806   0.750066588\n",
      "C        0.000026260   0.166833904   0.833359608\n",
      "C        0.083323351   0.250184829   0.916656698\n",
      "C        0.166736956   0.000070304   0.833353141\n",
      "C        0.250075226   0.083408574   0.916616438\n",
      "C        0.166806534   0.166683497   0.666597859\n",
      "C        0.250134179   0.250159636   0.749908003\n",
      "C       -0.000091814   0.333479766   0.000127381\n",
      "C        0.083066258   0.416725766   0.083584948\n",
      "C       -0.000487477   0.500175895   0.167194483\n",
      "C        0.083392434   0.583473949   0.250002399\n",
      "C        0.166311809   0.333362376   0.166704028\n",
      "C        0.249570188   0.416552187   0.249881859\n",
      "C        0.166924803   0.500150151   0.000258154\n",
      "C        0.250013786   0.583306800   0.083347137\n",
      "C       -0.000658632   0.333776112   0.333776112\n",
      "C        0.082664024   0.417142882   0.417142882\n",
      "C       -0.000820418   0.500581677   0.500581677\n",
      "C        0.082964776   0.583567558   0.583567558\n",
      "C        0.166378380   0.333444811   0.500019126\n",
      "C        0.249908129   0.416758715   0.583268171\n",
      "C        0.166378380   0.500019126   0.333444811\n",
      "C        0.249908129   0.583268171   0.416758715\n",
      "C        0.000384359   0.333113519   0.666472256\n",
      "C        0.083422600   0.416888861   0.750099921\n",
      "C        0.001008133   0.500569049   0.834341482\n",
      "C        0.083928842   0.583364715   0.917262190\n",
      "C        0.166794030   0.333479766   0.833241534\n",
      "C        0.250251595   0.416725765   0.916399608\n",
      "C        0.166656573   0.500161197   0.666656696\n",
      "C        0.250240644   0.583409895   0.749872737\n",
      "C        0.000115132   0.666764846   0.000238438\n",
      "C        0.083394701   0.750066588   0.083489806\n",
      "C        0.000026260   0.833359608   0.166833904\n",
      "C        0.083323351   0.916656698   0.250184829\n",
      "C        0.166806534   0.666597859   0.166683497\n",
      "C        0.250134179   0.749908003   0.250159636\n",
      "C        0.166736956   0.833353141   0.000070304\n",
      "C        0.250075226   0.916616438   0.083408574\n",
      "C        0.000384359   0.666472256   0.333113519\n",
      "C        0.083422600   0.750099921   0.416888861\n",
      "C        0.001008133   0.834341482   0.500569049\n",
      "C        0.083928842   0.917262190   0.583364715\n",
      "C        0.166656573   0.666656696   0.500161197\n",
      "C        0.250240644   0.749872737   0.583409895\n",
      "C        0.166794030   0.833241534   0.333479766\n",
      "C        0.250251595   0.916399608   0.416725765\n",
      "C       -0.000213111   0.666782588   0.666782588\n",
      "C        0.083311937   0.749952076   0.749952076\n",
      "C        0.000052516   0.833385863   0.833385863\n",
      "C        0.083382825   0.916716171   0.916716171\n",
      "C        0.166905085   0.666764845   0.833448478\n",
      "C        0.250156456   0.750066587   0.916728048\n",
      "C        0.166905085   0.833448478   0.666764845\n",
      "C        0.250156456   0.916728048   0.750066587\n",
      "C        0.333402340  -0.000041790  -0.000041790\n",
      "C        0.416676784   0.083201633   0.083201633\n",
      "C        0.333159833   0.166493178   0.166493178\n",
      "C        0.416349440   0.249682793   0.249682793\n",
      "C        0.500029025  -0.000354839   0.166704028\n",
      "C        0.583218841   0.082903541   0.249881860\n",
      "C        0.500029025   0.166704028  -0.000354839\n",
      "C        0.583218841   0.249881860   0.082903541\n",
      "C        0.333370681  -0.000354839   0.333362375\n",
      "C        0.416548508   0.082903541   0.416552188\n",
      "C        0.332959588   0.166292937   0.499855389\n",
      "C        0.416063422   0.249396771   0.582921731\n",
      "C        0.500111458  -0.000288269   0.500019126\n",
      "C        0.583425371   0.083241482   0.583268171\n",
      "C        0.499651689   0.166054115   0.332985041\n",
      "C        0.582748739   0.249135425   0.416082085\n",
      "C        0.333350150   0.000139883   0.666597859\n",
      "C        0.416826287   0.083467528   0.749908001\n",
      "C        0.333470008   0.166803351   0.833153102\n",
      "C        0.416861892   0.250195244   0.916214932\n",
      "C        0.500146416   0.000127380   0.833241534\n",
      "C        0.583392421   0.083584946   0.916399607\n",
      "C        0.500065835   0.166814168   0.666338186\n",
      "C        0.583619715   0.251058000   0.748936005\n",
      "C        0.333370681   0.333362375  -0.000354839\n",
      "C        0.416548508   0.416552188   0.082903541\n",
      "C        0.332959588   0.499855389   0.166292937\n",
      "C        0.416063422   0.582921731   0.249396771\n",
      "C        0.499651689   0.332985041   0.166054115\n",
      "C        0.582748739   0.416082085   0.249135425\n",
      "C        0.500111458   0.500019126  -0.000288269\n",
      "C        0.583425371   0.583268171   0.083241482\n",
      "C        0.332720767   0.332985042   0.332985042\n",
      "C        0.415802073   0.416082083   0.416082083\n",
      "C        0.333250645   0.499852804   0.499852804\n",
      "C        0.417222928   0.583187872   0.583187872\n",
      "C        0.498591763   0.331925116   0.499441582\n",
      "C        0.583396493   0.416729832   0.579206565\n",
      "C        0.498591763   0.499441582   0.331925116\n",
      "C        0.583396493   0.579206565   0.416729832\n",
      "C        0.333480822   0.333399188   0.666338185\n",
      "C        0.417724652   0.416953059   0.748936006\n",
      "C        0.333861137   0.500175896   0.832845871\n",
      "C        0.416669048   0.583473950   0.916725784\n",
      "C        0.500442762   0.333776113   0.832674716\n",
      "C        0.583809537   0.417142883   0.915997374\n",
      "C        0.501709296   0.500779318   0.665000232\n",
      "C        0.585243702   0.584379787   0.748657890\n",
      "C        0.333350150   0.666597859   0.000139883\n",
      "C        0.416826287   0.749908001   0.083467528\n",
      "C        0.333470008   0.833153102   0.166803351\n",
      "C        0.416861892   0.916214932   0.250195244\n",
      "C        0.500065835   0.666338186   0.166814168\n",
      "C        0.583619715   0.748936005   0.251058000\n",
      "C        0.500146416   0.833241534   0.000127380\n",
      "C        0.583392421   0.916399607   0.083584946\n",
      "C        0.333480822   0.666338185   0.333399188\n",
      "C        0.417724652   0.748936006   0.416953059\n",
      "C        0.333861137   0.832845871   0.500175896\n",
      "C        0.416669048   0.916725784   0.583473950\n",
      "C        0.501709296   0.665000232   0.500779318\n",
      "C        0.585243702   0.748657890   0.584379787\n",
      "C        0.500442762   0.832674716   0.333776113\n",
      "C        0.583809537   0.915997374   0.417142883\n",
      "C        0.333666749   0.666621439   0.666621439\n",
      "C        0.416918318   0.750005875   0.750005875\n",
      "C        0.333500557   0.833359606   0.833359606\n",
      "C        0.416851480   0.916656697   0.916656697\n",
      "C        0.499780168   0.666472252   0.833717707\n",
      "C        0.583555519   0.750099920   0.916755948\n",
      "C        0.499780168   0.833717707   0.666472252\n",
      "C        0.583555519   0.916755948   0.750099920\n",
      "C        0.666816800   0.000258154   0.000258154\n",
      "C        0.749973452   0.083347138   0.083347138\n",
      "C        0.666522036   0.166292937   0.166292937\n",
      "C        0.749588381   0.249396774   0.249396774\n",
      "C        0.833264514   0.000139885   0.166683496\n",
      "C        0.916574652   0.083467530   0.250159637\n",
      "C        0.833264514   0.166683496   0.000139885\n",
      "C        0.916574652   0.250159637   0.083467530\n",
      "C        0.666685774  -0.000288268   0.333444809\n",
      "C        0.749934823   0.083241482   0.416758717\n",
      "C        0.666519454   0.166583992   0.499852804\n",
      "C        0.749854524   0.250556280   0.583187872\n",
      "C        0.833323351  -0.000010077   0.500161196\n",
      "C        0.916539384   0.083573998   0.583409896\n",
      "C        0.833004838   0.166814169   0.333399186\n",
      "C        0.915602654   0.251058001   0.416953059\n",
      "C        0.666827846  -0.000010077   0.666656695\n",
      "C        0.750076548   0.083573997   0.749872735\n",
      "C        0.666842545   0.167194483   0.832845873\n",
      "C        0.750140602   0.250002397   0.916725783\n",
      "C        0.833431502   0.000238437   0.833448480\n",
      "C        0.916733238   0.083489806   0.916728049\n",
      "C        0.833288094   0.167000099   0.666621440\n",
      "C        0.916672524   0.250251670   0.750005875\n",
      "C        0.666685774   0.333444809  -0.000288268\n",
      "C        0.749934823   0.416758717   0.083241482\n",
      "C        0.666519454   0.499852804   0.166583992\n",
      "C        0.749854524   0.583187872   0.250556280\n",
      "C        0.833004838   0.333399186   0.166814169\n",
      "C        0.915602654   0.416953059   0.251058001\n",
      "C        0.833323351   0.500161196  -0.000010077\n",
      "C        0.916539384   0.583409896   0.083573998\n",
      "C        0.666108231   0.331925113   0.331925113\n",
      "C        0.745873217   0.416729834   0.416729834\n",
      "C        0.831666888   0.335042646   0.500779317\n",
      "C        0.915324539   0.418577041   0.584379782\n",
      "C        0.831666888   0.500779317   0.335042646\n",
      "C        0.915324539   0.584379782   0.418577041\n",
      "C        0.667445965   0.335042648   0.665000235\n",
      "C        0.751046436   0.418577041   0.748657890\n",
      "C        0.667248326   0.500581676   0.832512930\n",
      "C        0.750234210   0.583567558   0.916298128\n",
      "C        0.833138909   0.333113518   0.833717710\n",
      "C        0.916766570   0.416888861   0.916755950\n",
      "C        0.839493491   0.496368856   0.672826841\n",
      "C        0.916577565   0.582927166   0.749910917\n",
      "C        0.666827846   0.666656695  -0.000010077\n",
      "C        0.750076548   0.749872735   0.083573997\n",
      "C        0.666842545   0.832845873   0.167194483\n",
      "C        0.750140602   0.916725783   0.250002397\n",
      "C        0.833288094   0.666621440   0.167000099\n",
      "C        0.916672524   0.750005875   0.250251670\n",
      "C        0.833431502   0.833448480   0.000238437\n",
      "C        0.916733238   0.916728049   0.083489806\n",
      "C        0.667445965   0.665000235   0.335042648\n",
      "C        0.751046436   0.748657890   0.418577041\n",
      "C        0.667248326   0.832512930   0.500581676\n",
      "C        0.750234210   0.916298128   0.583567558\n",
      "C        0.839493491   0.672826841   0.496368856\n",
      "C        0.916577565   0.749910917   0.582927166\n",
      "C        0.833138909   0.833717710   0.333113518\n",
      "C        0.916766570   0.916755950   0.416888861\n",
      "C        0.663035502   0.672826834   0.672826834\n",
      "C        0.749593820   0.749910920   0.749910920\n",
      "C        0.667235700   0.834341481   0.834341481\n",
      "C        0.750031368   0.917262190   0.917262190\n",
      "C        0.833449242   0.666782586   0.833120239\n",
      "C        0.916618725   0.749952077   0.916645283\n",
      "C        0.833449242   0.833120239   0.666782586\n",
      "C        0.916618725   0.916645283   0.749952077\n",
      "N        0.658425487   0.491758845   0.491758845\n"
     ]
    }
   ],
   "source": [
    "%%bash\n",
    "cat pw.in"
   ]
  },
  {
   "cell_type": "markdown",
   "metadata": {},
   "source": [
    "This is a relatively big system with 215 atoms and 862 valence electrons, and requires an explicit treatment of spin polarization. As detailed in [Yu et al., J. Chem. Theory Comput. 18, 4690-4707 (2022)](https://doi.org/10.1021/acs.jctc.2c00241), WEST can use GPU accelerators to carry out large-scale GW calculations. For instance, we can use four GPUs for the ground state DFT calculation, and 64 GPUs for the GW calculation."
   ]
  },
  {
   "cell_type": "code",
   "execution_count": null,
   "metadata": {},
   "outputs": [],
   "source": [
    "%%bash\n",
    "mpirun -n 4 pw.x -i pw.in > pw.out\n",
    "mpirun -n 64 wstat.x -nimage 16 -npool 2 -nbgrp 2 -i wstat.in > wstat.out\n",
    "mpirun -n 64 wfreq.x -nimage 8 -npool 2 -nbgrp 4 -i wfreq.in > wfreq.out"
   ]
  },
  {
   "cell_type": "markdown",
   "metadata": {},
   "source": [
    "Note that we have used the image, pool, and band group parallelization levels, as discussed in [Tutorial 3](http://greatfire.uchicago.edu/west-public/West/raw/master/Doc/tutorials/basic_003.ipynb). By using all the parallelization levels, we avoid carrying out fast Fourier transforms (FFTs) on multiple GPUs, which is inefficient because of the all-to-all communication involved in parallel FFTs."
   ]
  },
  {
   "cell_type": "markdown",
   "metadata": {},
   "source": [
    "If the reader does NOT have the computational resources to run the calculation, the WEST output file needed for the next step can be directly downloaded as:"
   ]
  },
  {
   "cell_type": "code",
   "execution_count": 3,
   "metadata": {},
   "outputs": [],
   "source": [
    "%%bash\n",
    "mkdir -p nv_diamond.wfreq.save\n",
    "wget -N -q http://www.west-code.org/doc/training/nv_diamond/wfreq.json -O nv_diamond.wfreq.save/wfreq.json"
   ]
  },
  {
   "cell_type": "markdown",
   "metadata": {},
   "source": [
    "## Plotting density of states"
   ]
  },
  {
   "cell_type": "markdown",
   "metadata": {},
   "source": [
    "The density of states (DOS) is defined as follows:\n",
    "\\begin{equation}\n",
    "\\text{DOS}(E) = \\sum_{\\sigma=1}^{N_{\\text{spin}}} \\sum_{i=1}^{N_{\\text{band}}} \\delta (E-E_i^{\\sigma})\n",
    "\\end{equation}\n",
    "where $E_i^{\\sigma}$ is the energy of the $i$th wavefunction in the $\\sigma$ spin channel obtained at the PBE or GW level of theory, and $\\delta$ is the Dirac delta function. In practice, we model the delta function by a Gaussian function with a chosen width. Here we are going to use 0.1 eV."
   ]
  },
  {
   "cell_type": "markdown",
   "metadata": {},
   "source": [
    "To plot the DOS, we first collect the output of WEST into a `pandas` dataframe (see [Tutorial 1](http://greatfire.uchicago.edu/west-public/West/raw/master/Doc/tutorials/basic_001.ipynb))."
   ]
  },
  {
   "cell_type": "code",
   "execution_count": 4,
   "metadata": {},
   "outputs": [
    {
     "data": {
      "text/html": [
       "<div>\n",
       "<style scoped>\n",
       "    .dataframe tbody tr th:only-of-type {\n",
       "        vertical-align: middle;\n",
       "    }\n",
       "\n",
       "    .dataframe tbody tr th {\n",
       "        vertical-align: top;\n",
       "    }\n",
       "\n",
       "    .dataframe thead th {\n",
       "        text-align: right;\n",
       "    }\n",
       "</style>\n",
       "<table border=\"1\" class=\"dataframe\">\n",
       "  <thead>\n",
       "    <tr style=\"text-align: right;\">\n",
       "      <th></th>\n",
       "      <th>k</th>\n",
       "      <th>s</th>\n",
       "      <th>n</th>\n",
       "      <th>eks</th>\n",
       "      <th>eqpLin</th>\n",
       "      <th>eqpSec</th>\n",
       "      <th>sigmax</th>\n",
       "      <th>sigmac_eks</th>\n",
       "      <th>sigmac_eqpLin</th>\n",
       "      <th>sigmac_eqpSec</th>\n",
       "      <th>vxcl</th>\n",
       "      <th>vxcnl</th>\n",
       "      <th>hf</th>\n",
       "    </tr>\n",
       "  </thead>\n",
       "  <tbody>\n",
       "    <tr>\n",
       "      <th>0</th>\n",
       "      <td>1</td>\n",
       "      <td>1</td>\n",
       "      <td>321</td>\n",
       "      <td>8.367174</td>\n",
       "      <td>7.400018</td>\n",
       "      <td>7.433568</td>\n",
       "      <td>-20.102276</td>\n",
       "      <td>3.000145</td>\n",
       "      <td>3.222744</td>\n",
       "      <td>3.214358</td>\n",
       "      <td>-15.953647</td>\n",
       "      <td>0.0</td>\n",
       "      <td>-4.148628</td>\n",
       "    </tr>\n",
       "    <tr>\n",
       "      <th>1</th>\n",
       "      <td>1</td>\n",
       "      <td>1</td>\n",
       "      <td>322</td>\n",
       "      <td>8.367273</td>\n",
       "      <td>7.400794</td>\n",
       "      <td>7.433616</td>\n",
       "      <td>-20.101597</td>\n",
       "      <td>2.999942</td>\n",
       "      <td>3.222335</td>\n",
       "      <td>3.214098</td>\n",
       "      <td>-15.953158</td>\n",
       "      <td>0.0</td>\n",
       "      <td>-4.148439</td>\n",
       "    </tr>\n",
       "    <tr>\n",
       "      <th>2</th>\n",
       "      <td>1</td>\n",
       "      <td>1</td>\n",
       "      <td>323</td>\n",
       "      <td>8.376845</td>\n",
       "      <td>7.430813</td>\n",
       "      <td>7.438766</td>\n",
       "      <td>-20.127620</td>\n",
       "      <td>3.018200</td>\n",
       "      <td>3.234410</td>\n",
       "      <td>3.232714</td>\n",
       "      <td>-15.956949</td>\n",
       "      <td>0.0</td>\n",
       "      <td>-4.170671</td>\n",
       "    </tr>\n",
       "    <tr>\n",
       "      <th>3</th>\n",
       "      <td>1</td>\n",
       "      <td>1</td>\n",
       "      <td>324</td>\n",
       "      <td>8.377936</td>\n",
       "      <td>7.432131</td>\n",
       "      <td>7.442610</td>\n",
       "      <td>-20.138275</td>\n",
       "      <td>3.013117</td>\n",
       "      <td>3.232256</td>\n",
       "      <td>3.229776</td>\n",
       "      <td>-15.973121</td>\n",
       "      <td>0.0</td>\n",
       "      <td>-4.165155</td>\n",
       "    </tr>\n",
       "    <tr>\n",
       "      <th>4</th>\n",
       "      <td>1</td>\n",
       "      <td>1</td>\n",
       "      <td>325</td>\n",
       "      <td>8.381440</td>\n",
       "      <td>7.390587</td>\n",
       "      <td>7.456276</td>\n",
       "      <td>-20.008882</td>\n",
       "      <td>2.970645</td>\n",
       "      <td>3.196673</td>\n",
       "      <td>3.181567</td>\n",
       "      <td>-15.902148</td>\n",
       "      <td>0.0</td>\n",
       "      <td>-4.106734</td>\n",
       "    </tr>\n",
       "    <tr>\n",
       "      <th>...</th>\n",
       "      <td>...</td>\n",
       "      <td>...</td>\n",
       "      <td>...</td>\n",
       "      <td>...</td>\n",
       "      <td>...</td>\n",
       "      <td>...</td>\n",
       "      <td>...</td>\n",
       "      <td>...</td>\n",
       "      <td>...</td>\n",
       "      <td>...</td>\n",
       "      <td>...</td>\n",
       "      <td>...</td>\n",
       "      <td>...</td>\n",
       "    </tr>\n",
       "    <tr>\n",
       "      <th>395</th>\n",
       "      <td>1</td>\n",
       "      <td>2</td>\n",
       "      <td>516</td>\n",
       "      <td>20.940372</td>\n",
       "      <td>22.386984</td>\n",
       "      <td>23.649553</td>\n",
       "      <td>-8.283733</td>\n",
       "      <td>-4.933001</td>\n",
       "      <td>-3.719844</td>\n",
       "      <td>-3.964094</td>\n",
       "      <td>-14.956837</td>\n",
       "      <td>0.0</td>\n",
       "      <td>6.673104</td>\n",
       "    </tr>\n",
       "    <tr>\n",
       "      <th>396</th>\n",
       "      <td>1</td>\n",
       "      <td>2</td>\n",
       "      <td>517</td>\n",
       "      <td>20.950590</td>\n",
       "      <td>22.336122</td>\n",
       "      <td>23.597504</td>\n",
       "      <td>-8.047657</td>\n",
       "      <td>-4.891736</td>\n",
       "      <td>-3.703635</td>\n",
       "      <td>-3.921624</td>\n",
       "      <td>-14.616189</td>\n",
       "      <td>0.0</td>\n",
       "      <td>6.568532</td>\n",
       "    </tr>\n",
       "    <tr>\n",
       "      <th>397</th>\n",
       "      <td>1</td>\n",
       "      <td>2</td>\n",
       "      <td>518</td>\n",
       "      <td>20.950620</td>\n",
       "      <td>22.335941</td>\n",
       "      <td>23.597143</td>\n",
       "      <td>-8.047741</td>\n",
       "      <td>-4.891770</td>\n",
       "      <td>-3.703932</td>\n",
       "      <td>-3.922213</td>\n",
       "      <td>-14.616398</td>\n",
       "      <td>0.0</td>\n",
       "      <td>6.568656</td>\n",
       "    </tr>\n",
       "    <tr>\n",
       "      <th>398</th>\n",
       "      <td>1</td>\n",
       "      <td>2</td>\n",
       "      <td>519</td>\n",
       "      <td>20.964816</td>\n",
       "      <td>22.421303</td>\n",
       "      <td>23.723918</td>\n",
       "      <td>-8.304636</td>\n",
       "      <td>-4.927318</td>\n",
       "      <td>-3.661473</td>\n",
       "      <td>-3.916795</td>\n",
       "      <td>-14.987825</td>\n",
       "      <td>0.0</td>\n",
       "      <td>6.683188</td>\n",
       "    </tr>\n",
       "    <tr>\n",
       "      <th>399</th>\n",
       "      <td>1</td>\n",
       "      <td>2</td>\n",
       "      <td>520</td>\n",
       "      <td>20.964843</td>\n",
       "      <td>22.420867</td>\n",
       "      <td>23.729650</td>\n",
       "      <td>-8.303952</td>\n",
       "      <td>-4.927378</td>\n",
       "      <td>-3.661139</td>\n",
       "      <td>-3.925628</td>\n",
       "      <td>-14.986806</td>\n",
       "      <td>0.0</td>\n",
       "      <td>6.682855</td>\n",
       "    </tr>\n",
       "  </tbody>\n",
       "</table>\n",
       "<p>400 rows × 13 columns</p>\n",
       "</div>"
      ],
      "text/plain": [
       "     k  s    n        eks     eqpLin     eqpSec     sigmax  sigmac_eks  \\\n",
       "0    1  1  321   8.367174   7.400018   7.433568 -20.102276    3.000145   \n",
       "1    1  1  322   8.367273   7.400794   7.433616 -20.101597    2.999942   \n",
       "2    1  1  323   8.376845   7.430813   7.438766 -20.127620    3.018200   \n",
       "3    1  1  324   8.377936   7.432131   7.442610 -20.138275    3.013117   \n",
       "4    1  1  325   8.381440   7.390587   7.456276 -20.008882    2.970645   \n",
       "..  .. ..  ...        ...        ...        ...        ...         ...   \n",
       "395  1  2  516  20.940372  22.386984  23.649553  -8.283733   -4.933001   \n",
       "396  1  2  517  20.950590  22.336122  23.597504  -8.047657   -4.891736   \n",
       "397  1  2  518  20.950620  22.335941  23.597143  -8.047741   -4.891770   \n",
       "398  1  2  519  20.964816  22.421303  23.723918  -8.304636   -4.927318   \n",
       "399  1  2  520  20.964843  22.420867  23.729650  -8.303952   -4.927378   \n",
       "\n",
       "     sigmac_eqpLin  sigmac_eqpSec       vxcl  vxcnl        hf  \n",
       "0         3.222744       3.214358 -15.953647    0.0 -4.148628  \n",
       "1         3.222335       3.214098 -15.953158    0.0 -4.148439  \n",
       "2         3.234410       3.232714 -15.956949    0.0 -4.170671  \n",
       "3         3.232256       3.229776 -15.973121    0.0 -4.165155  \n",
       "4         3.196673       3.181567 -15.902148    0.0 -4.106734  \n",
       "..             ...            ...        ...    ...       ...  \n",
       "395      -3.719844      -3.964094 -14.956837    0.0  6.673104  \n",
       "396      -3.703635      -3.921624 -14.616189    0.0  6.568532  \n",
       "397      -3.703932      -3.922213 -14.616398    0.0  6.568656  \n",
       "398      -3.661473      -3.916795 -14.987825    0.0  6.683188  \n",
       "399      -3.661139      -3.925628 -14.986806    0.0  6.682855  \n",
       "\n",
       "[400 rows x 13 columns]"
      ]
     },
     "metadata": {},
     "output_type": "display_data"
    }
   ],
   "source": [
    "# read the output of Wfreq: wfreq.json\n",
    "\n",
    "def wfreq2df(filename='wfreq.json',dfKeys=['eks', 'eqpLin', 'eqpSec', 'sigmax', 'sigmac_eks','sigmac_eqpLin','sigmac_eqpSec', 'vxcl', 'vxcnl', 'hf']) : \n",
    "\n",
    "    # read data from JSON file\n",
    "\n",
    "    import json \n",
    "    with open(filename) as file :\n",
    "        data = json.load(file)\n",
    "    \n",
    "    import numpy as np\n",
    "    import pandas as pd\n",
    "\n",
    "    # build the dataframe\n",
    "    columns = ['k', 's', 'n'] + dfKeys\n",
    "    df = pd.DataFrame(columns=columns)\n",
    "\n",
    "    # insert data into the dataframe\n",
    "    j=0\n",
    "    for s in range(1,data['system']['electron']['nspin']+1) :\n",
    "        for k in data['system']['bzsamp']['k'] :\n",
    "            kindex = f\"K{k['id']+(s-1)*len(data['system']['bzsamp']['k']):06d}\"\n",
    "            for i, n in enumerate(data[\"output\"][\"Q\"][\"bandmap\"]) :\n",
    "                d = data['output']['Q'][kindex]\n",
    "                row = [k['id'], s, n]\n",
    "                for key in dfKeys :\n",
    "                    if 're' in d[key] :\n",
    "                        row.append(d[key]['re'][i])\n",
    "                    else :\n",
    "                        row.append(d[key][i])\n",
    "                df.loc[j] = row\n",
    "                j+=1\n",
    "\n",
    "    # cast the columns k, s, n to int\n",
    "    df['k'] = df['k'].apply(np.int64)\n",
    "    df['s'] = df['s'].apply(np.int64)\n",
    "    df['n'] = df['n'].apply(np.int64)\n",
    "    \n",
    "    return df, data\n",
    "\n",
    "df, data = wfreq2df(\"nv_diamond.wfreq.save/wfreq.json\")\n",
    "display(df)"
   ]
  },
  {
   "cell_type": "markdown",
   "metadata": {},
   "source": [
    "We create an `ElectronicStructure` object and attach to it the DFT and GW energy levels."
   ]
  },
  {
   "cell_type": "code",
   "execution_count": 5,
   "metadata": {},
   "outputs": [
    {
     "name": "stdout",
     "output_type": "stream",
     "text": [
      " \n",
      " _    _ _____ _____ _____            \n",
      "| |  | |  ___/  ___|_   _|           \n",
      "| |  | | |__ \\ `--.  | |_ __  _   _  \n",
      "| |/\\| |  __| `--. \\ | | '_ \\| | | | \n",
      "\\  /\\  / |___/\\__/ / | | |_) | |_| | \n",
      " \\/  \\/\\____/\\____/  \\_/ .__/ \\__, | \n",
      "                       | |     __/ | \n",
      "                       |_|    |___/  \n",
      " \n",
      "WEST version     :  5.1.0\n",
      "Today            :  2022-08-22 14:26:05.991251\n"
     ]
    }
   ],
   "source": [
    "from westpy import *\n",
    "\n",
    "es = ElectronicStructure()\n",
    "\n",
    "dos_keys = ['eks','eqpSec']\n",
    "\n",
    "for key in dos_keys :\n",
    "    es.addKey(key,key)\n",
    "    for i, row in df.iterrows() :\n",
    "        k, s, n = int(row['k']), int(row['s']), int(row['n'])\n",
    "        es.addDataPoint([k,s,n],key,row[key])"
   ]
  },
  {
   "cell_type": "markdown",
   "metadata": {},
   "source": [
    "We call the `plotDOS` method to plot the DOS."
   ]
  },
  {
   "cell_type": "code",
   "execution_count": 6,
   "metadata": {},
   "outputs": [
    {
     "name": "stdout",
     "output_type": "stream",
     "text": [
      "Requested (emin,emax) :  8 20\n",
      "Detected  (emin,emax) :  8.36717413576688 20.964843493350457\n",
      "output written in :  dos_dft.jpg\n",
      "waiting for user to close image preview...\n"
     ]
    },
    {
     "data": {
      "image/png": "[encoded data removed]",
      "text/plain": [
       "<Figure size 432x288 with 1 Axes>"
      ]
     },
     "metadata": {
      "needs_background": "light"
     },
     "output_type": "display_data"
    },
    {
     "name": "stdout",
     "output_type": "stream",
     "text": [
      "Requested (emin,emax) :  8 20\n",
      "Detected  (emin,emax) :  7.433567942407069 23.951547524074822\n",
      "output written in :  dos_gw.jpg\n",
      "waiting for user to close image preview...\n"
     ]
    },
    {
     "data": {
      "image/png": "[encoded data removed]",
      "text/plain": [
       "<Figure size 432x288 with 1 Axes>"
      ]
     },
     "metadata": {
      "needs_background": "light"
     },
     "output_type": "display_data"
    },
    {
     "name": "stdout",
     "output_type": "stream",
     "text": [
      "Requested (emin,emax) :  11 20\n",
      "Detected  (emin,emax) :  7.433567942407069 23.951547524074822\n",
      "output written in :  dos_gw2.jpg\n",
      "waiting for user to close image preview...\n"
     ]
    },
    {
     "data": {
      "image/png": "[encoded data removed]",
      "text/plain": [
       "<Figure size 432x288 with 1 Axes>"
      ]
     },
     "metadata": {
      "needs_background": "light"
     },
     "output_type": "display_data"
    },
    {
     "name": "stdout",
     "output_type": "stream",
     "text": [
      "Requested (emin,emax) :  11 20\n",
      "Detected  (emin,emax) :  7.437083758901655 23.93715508366057\n",
      "output written in :  dos_gw3.jpg\n",
      "waiting for user to close image preview...\n"
     ]
    },
    {
     "data": {
      "image/png": "[encoded data removed]",
      "text/plain": [
       "<Figure size 432x288 with 1 Axes>"
      ]
     },
     "metadata": {
      "needs_background": "light"
     },
     "output_type": "display_data"
    }
   ],
   "source": [
    "es.plotDOS(kk=[1],ss=[1,2],energyKeys=['eks'],energyRange=[8,20,0.01],fname='dos_dft.jpg')\n",
    "es.plotDOS(kk=[1],ss=[1,2],energyKeys=['eqpSec'],energyRange=[8,20,0.01],fname='dos_gw.jpg')\n",
    "es.plotDOS(kk=[1],ss=[1],energyKeys=['eks','eqpSec'],energyRange=[11,20,0.01],fname='dos_gw2.jpg')\n",
    "es.plotDOS(kk=[1],ss=[2],energyKeys=['eks','eqpSec'],energyRange=[11,20,0.01],fname='dos_gw3.jpg')"
   ]
  },
  {
   "cell_type": "markdown",
   "metadata": {},
   "source": [
    "## Plotting local density of states"
   ]
  },
  {
   "cell_type": "markdown",
   "metadata": {},
   "source": [
    "The local density of states (LDOS) is defined as follows:\n",
    "\\begin{equation}\n",
    "\\text{LDOS}(z,E) = \\sum_{\\sigma=1}^{N_{\\text{spin}}} \\sum_{i=1}^{N_{\\text{band}}} \\int \\frac{\\text{d}x}{L_x} \\int \\frac{\\text{d}y}{L_y} \\vert \\psi_i^{\\sigma} (x,y,z)\\vert ^2 \\delta(E-E_i^{\\sigma})\n",
    "\\end{equation}\n",
    "where $\\psi_i^{\\sigma}$ is the $i$-th wavefunction in the $\\sigma$ spin channel obtained at the PBE level of theory, with energy $E_i^{\\sigma}$ obtained at the PBE or GW level of theory. $L_x$ and $L_y$ are the lengths of the x and y axes of the simulation box, respectively, whereas $z$ corresponds to the z axis of the simulation box. $\\delta$ is the Dirac delta function, modeled by a Gaussian function with a width of 0.05 eV in our case."
   ]
  },
  {
   "cell_type": "markdown",
   "metadata": {},
   "source": [
    "To plot the LDOS along the z axis of the simulation box, in addition to the Kohn-Sham and quasiparticle energy levels, we need the wavefunctions averaged over z. Check out the ``westpp.x`` [input description](http://www.west-code.org/doc/West/latest/) and generate an input file for WEST called ``westpp.in``."
   ]
  },
  {
   "cell_type": "markdown",
   "metadata": {},
   "source": [
    "Download this file to your current working directory:"
   ]
  },
  {
   "cell_type": "code",
   "execution_count": 7,
   "metadata": {},
   "outputs": [],
   "source": [
    "%%bash\n",
    "wget -N -q http://www.west-code.org/doc/training/nv_diamond/westpp.in"
   ]
  },
  {
   "cell_type": "markdown",
   "metadata": {},
   "source": [
    "Let's inspect the ``westpp.in`` file, input for ``westpp.x``."
   ]
  },
  {
   "cell_type": "code",
   "execution_count": 8,
   "metadata": {},
   "outputs": [
    {
     "name": "stdout",
     "output_type": "stream",
     "text": [
      "input_west:\n",
      "    qe_prefix: nv_diamond\n",
      "    west_prefix: nv_diamond\n",
      "    outdir: ./\n",
      "\n",
      "wstat_control:\n",
      "    wstat_calculation: S\n",
      "    n_pdep_eigen: 862\n",
      "    tr2_dfpt: 0.00000001\n",
      "    n_steps_write_restart: 0\n",
      "\n",
      "wfreq_control:\n",
      "    wfreq_calculation: XWGQ\n",
      "    n_pdep_eigen_to_use: 862\n",
      "    macropol_calculation: C\n",
      "    o_restart_time: -1.0\n",
      "    qp_bandrange: [321,480]\n",
      "\n",
      "westpp_control:\n",
      "    westpp_calculation: W\n",
      "    westpp_range: [321,480]\n",
      "    westpp_format: z\n",
      "    westpp_sign: False\n"
     ]
    }
   ],
   "source": [
    "%%bash\n",
    "cat westpp.in"
   ]
  },
  {
   "cell_type": "markdown",
   "metadata": {},
   "source": [
    "Run ``westpp.x``."
   ]
  },
  {
   "cell_type": "code",
   "execution_count": null,
   "metadata": {},
   "outputs": [],
   "source": [
    "%%bash\n",
    "mpirun -n 4 westpp.x -i westpp.in > westpp.out"
   ]
  },
  {
   "cell_type": "markdown",
   "metadata": {},
   "source": [
    "This computes the wavefunctions averaged over the z axis, and stores the results in several ``wfcKxxxxxxBxxxxxx.plavz`` files in ``nv_diamond.westpp.save``. Again, if the reader does NOT have the computational resources to run the calculation, the output files needed for the next step can be downloaded as:"
   ]
  },
  {
   "cell_type": "code",
   "execution_count": 9,
   "metadata": {},
   "outputs": [],
   "source": [
    "%%bash\n",
    "wget -N -q http://www.west-code.org/doc/training/nv_diamond/nv_diamond.westpp.save.tar.gz\n",
    "tar zxf nv_diamond.westpp.save.tar.gz"
   ]
  },
  {
   "cell_type": "markdown",
   "metadata": {},
   "source": [
    "We create an ``ElectronicStructure`` object and register the energy levels and their associate wavefunction files. The energy levels are sorted into three categories, namely the bulk states, the spin up defect states, and the spin down defect states. States strongly localized around the nitrogen-vacancy center are considered to be the defect states. We call the ``plotLDOS`` method to plot the LDOS."
   ]
  },
  {
   "cell_type": "code",
   "execution_count": 10,
   "metadata": {},
   "outputs": [
    {
     "name": "stdout",
     "output_type": "stream",
     "text": [
      "Requested (emin,emax) :  11 20\n",
      "Detected  (emin,emax) :  7.433567942407069 22.976032527957337\n",
      "output written in :  ldos_gw.jpg\n",
      "waiting for user to close image preview...\n"
     ]
    },
    {
     "data": {
      "image/png": "[encoded data removed]",
      "text/plain": [
       "<Figure size 432x288 with 1 Axes>"
      ]
     },
     "metadata": {
      "needs_background": "light"
     },
     "output_type": "display_data"
    }
   ],
   "source": [
    "es2 = ElectronicStructure()\n",
    "\n",
    "# defect states\n",
    "defect_states = [430,431,432]\n",
    "\n",
    "dos_keys = ['bulk','up','down']\n",
    "for key in dos_keys :\n",
    "    es2.addKey(key,key)\n",
    "\n",
    "for i, row in df.iterrows() :\n",
    "    k, s, n = int(row['k']), int(row['s']), int(row['n'])\n",
    "    kindex = f\"K{k+(s-1)*len(data['system']['bzsamp']['k']):06d}\"\n",
    "    if n in defect_states :\n",
    "        if s == 1 :\n",
    "            es2.addDataPoint([k,s,n],'up',row['eqpSec'])\n",
    "            es2.addDataPoint([k,s,n],'wfcFile',f'nv_diamond.westpp.save/wfcK{s:06d}B{n:06d}.plavz')\n",
    "        else :\n",
    "            es2.addDataPoint([k,s,n],'down',row['eqpSec'])\n",
    "            es2.addDataPoint([k,s,n],'wfcFile',f'nv_diamond.westpp.save/wfcK{s:06d}B{n:06d}.plavz')\n",
    "    else :\n",
    "        if n in range(321,481) :\n",
    "            es2.addDataPoint([k,s,n],'bulk',row['eqpSec'])\n",
    "            es2.addDataPoint([k,s,n],'wfcFile',f'nv_diamond.westpp.save/wfcK{s:06d}B{n:06d}.plavz')\n",
    "\n",
    "es2.plotLDOS(kk=[1],ss=[1,2],energyKeys=['bulk','up','down'],sigma=0.05,energyRange=[11,20,0.01],fname='ldos_gw.jpg')"
   ]
  },
  {
   "cell_type": "markdown",
   "metadata": {},
   "source": [
    "Where the bulk states, the spin up defect states, and the spin down defect states are plotted in black, red, and blue, respectively. The reader is encouraged to adapt the script to plot the LDOS at the PBE level of theory, and compare it to the GW result. For more information on how LDOS is computed see: [Yu et al., J. Chem. Theory Comput. 18, 4690-4707 (2022)](https://doi.org/10.1021/acs.jctc.2c00241)."
   ]
  }
 ],
 "metadata": {
  "kernelspec": {
   "display_name": "Python 3 (ipykernel)",
   "language": "python",
   "name": "python3"
  },
  "language_info": {
   "codemirror_mode": {
    "name": "ipython",
    "version": 3
   },
   "file_extension": ".py",
   "mimetype": "text/x-python",
   "name": "python",
   "nbconvert_exporter": "python",
   "pygments_lexer": "ipython3",
   "version": "3.8.8"
  }
 },
 "nbformat": 4,
 "nbformat_minor": 4
}
