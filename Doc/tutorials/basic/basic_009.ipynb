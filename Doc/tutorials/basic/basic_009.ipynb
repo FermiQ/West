{
 "cells": [
  {
   "cell_type": "markdown",
   "metadata": {},
   "source": [
    "This tutorial can be downloaded [link](https://github.com/west-code-development/West/raw/master/Doc/tutorials/basic/basic_009.ipynb)."
   ]
  },
  {
   "cell_type": "markdown",
   "metadata": {},
   "source": [
    "# Intro Tutorial 9: GW Calculations with Hybrid Functionals"
   ]
  },
  {
   "cell_type": "markdown",
   "metadata": {},
   "source": [
    "This tutorial describes how to carry out $G_0W_0$ calculations with hybrid exchange-correlation functionals. The general steps are the same as those needed for $G_0W_0$ calculations with semi-local functionals, introduced in [Tutorial 1](https://github.com/west-code-development/West/raw/master/Doc/tutorials/basic/basic_001.ipynb)."
   ]
  },
  {
   "cell_type": "markdown",
   "metadata": {},
   "source": [
    "## Exact exchange operator without approximation"
   ]
  },
  {
   "cell_type": "markdown",
   "metadata": {},
   "source": [
    "We first perform the mean-field electronic structure calculation within DFT using the [Quantum ESPRESSO](https://www.quantum-espresso.org/) code. Download the following files to your working directory:"
   ]
  },
  {
   "cell_type": "code",
   "execution_count": null,
   "metadata": {},
   "outputs": [],
   "source": [
    "%%bash\n",
    "wget -N -q https://west-code.org/doc/training/exx/pw.in\n",
    "wget -N -q http://www.quantum-simulation.org/potentials/sg15_oncv/upf/H_ONCV_PBE-1.2.upf\n",
    "wget -N -q http://www.quantum-simulation.org/potentials/sg15_oncv/upf/Si_ONCV_PBE-1.2.upf"
   ]
  },
  {
   "cell_type": "markdown",
   "metadata": {},
   "source": [
    "Let's inspect the `pw.in` file, input for `pw.x`."
   ]
  },
  {
   "cell_type": "code",
   "execution_count": 1,
   "metadata": {},
   "outputs": [
    {
     "name": "stdout",
     "output_type": "stream",
     "text": [
      "&control\n",
      "calculation  = 'scf'\n",
      "restart_mode = 'from_scratch'\n",
      "pseudo_dir   = './'\n",
      "outdir       = './'\n",
      "prefix       = 'silane'\n",
      "wf_collect   = .TRUE.\n",
      "/\n",
      "&system\n",
      "ibrav           = 1\n",
      "celldm(1)       = 20\n",
      "nat             = 5\n",
      "ntyp            = 2\n",
      "ecutwfc         = 25.0\n",
      "nbnd            = 10\n",
      "assume_isolated = 'mp'\n",
      "input_dft       = 'pbe0'\n",
      "/\n",
      "&electrons\n",
      "diago_full_acc = .TRUE.\n",
      "/\n",
      "ATOMIC_SPECIES\n",
      "Si 28.0855  Si_ONCV_PBE-1.2.upf\n",
      "H  1.00794   H_ONCV_PBE-1.2.upf\n",
      "ATOMIC_POSITIONS bohr\n",
      "Si      10.000000   10.000000  10.000000\n",
      "H       11.614581   11.614581  11.614581\n",
      "H        8.385418    8.385418  11.614581\n",
      "H        8.385418   11.614581   8.385418\n",
      "H       11.614581    8.385418   8.385418\n",
      "K_POINTS {gamma}\n"
     ]
    }
   ],
   "source": [
    "%%bash\n",
    "cat pw.in"
   ]
  },
  {
   "cell_type": "markdown",
   "metadata": {},
   "source": [
    "Compared to the `pw.in` file used in [Tutorial 1](https://github.com/west-code-development/West/raw/master/Doc/tutorials/basic/basic_001.ipynb), here we only have one additonal keyword, `input_dft = 'pbe0'`, which instructs the code to use the PBE0 hybrid functional.\n",
    "\n",
    "We run `pw.x` on 2 cores."
   ]
  },
  {
   "cell_type": "code",
   "execution_count": null,
   "metadata": {},
   "outputs": [],
   "source": [
    "%%bash\n",
    "mpirun -n 2 pw.x -i pw.in > pw.out"
   ]
  },
  {
   "cell_type": "markdown",
   "metadata": {},
   "source": [
    "The static dielectric screening is computed using the projective dielectric eigendecomposition (PDEP) technique. Download the following file to your working directory:"
   ]
  },
  {
   "cell_type": "code",
   "execution_count": null,
   "metadata": {},
   "outputs": [],
   "source": [
    "%%bash\n",
    "wget -N -q https://west-code.org/doc/training/exx/wstat.in"
   ]
  },
  {
   "cell_type": "markdown",
   "metadata": {},
   "source": [
    "Let's inspect the `wstat.in` file."
   ]
  },
  {
   "cell_type": "code",
   "execution_count": 2,
   "metadata": {},
   "outputs": [
    {
     "name": "stdout",
     "output_type": "stream",
     "text": [
      "input_west:\n",
      "    qe_prefix: silane\n",
      "    west_prefix: silane\n",
      "    outdir: ./\n",
      "\n",
      "wstat_control:\n",
      "    wstat_calculation: S\n",
      "    n_pdep_eigen: 50\n"
     ]
    }
   ],
   "source": [
    "%%bash\n",
    "cat wstat.in"
   ]
  },
  {
   "cell_type": "markdown",
   "metadata": {},
   "source": [
    "It's identical to the `wstat.in` file used in [Tutorial 1](https://github.com/west-code-development/West/raw/master/Doc/tutorials/basic/basic_001.ipynb).\n",
    "\n",
    "We run `wstat.x` on 2 cores."
   ]
  },
  {
   "cell_type": "code",
   "execution_count": null,
   "metadata": {},
   "outputs": [],
   "source": [
    "%%bash\n",
    "mpirun -n 2 wstat.x -i wstat.in > wstat.out"
   ]
  },
  {
   "cell_type": "markdown",
   "metadata": {},
   "source": [
    "The GW electronic structure is computed treating the frequency integration of the correlation part of the self energy with the contour deformation techinique and by computing the dielectric screening at multipole frequencies with Lanczos iterations. Download the following file to your working directory:"
   ]
  },
  {
   "cell_type": "code",
   "execution_count": null,
   "metadata": {},
   "outputs": [],
   "source": [
    "%%bash\n",
    "wget -N -q https://west-code.org/doc/training/exx/wfreq.in"
   ]
  },
  {
   "cell_type": "markdown",
   "metadata": {},
   "source": [
    "Let's inspect the `wfreq.in` file."
   ]
  },
  {
   "cell_type": "code",
   "execution_count": 3,
   "metadata": {},
   "outputs": [
    {
     "name": "stdout",
     "output_type": "stream",
     "text": [
      "input_west:\n",
      "    qe_prefix: silane\n",
      "    west_prefix: silane\n",
      "    outdir: ./\n",
      "\n",
      "wstat_control:\n",
      "    wstat_calculation: S\n",
      "    n_pdep_eigen: 50\n",
      "\n",
      "wfreq_control:\n",
      "    wfreq_calculation: XWGQ\n",
      "    n_pdep_eigen_to_use: 50\n",
      "    qp_bandrange: [1,5]\n",
      "    n_refreq: 300\n",
      "    ecut_refreq: 2.0\n"
     ]
    }
   ],
   "source": [
    "%%bash\n",
    "cat wfreq.in"
   ]
  },
  {
   "cell_type": "markdown",
   "metadata": {},
   "source": [
    "It's identical to the `wfreq.in` file used in [Tutorial 1](https://github.com/west-code-development/West/raw/master/Doc/tutorials/basic/basic_001.ipynb).\n",
    "\n",
    "We run `wfreq.x` on 2 cores."
   ]
  },
  {
   "cell_type": "code",
   "execution_count": null,
   "metadata": {},
   "outputs": [],
   "source": [
    "%%bash\n",
    "mpirun -n 2 wfreq.x -i wfreq.in > wfreq.out"
   ]
  },
  {
   "cell_type": "markdown",
   "metadata": {},
   "source": [
    "We save the output file `silane.wfreq.save/wfreq.json`."
   ]
  },
  {
   "cell_type": "code",
   "execution_count": null,
   "metadata": {},
   "outputs": [],
   "source": [
    "%%bash\n",
    "mv silane.wfreq.save/wfreq.json wfreq_exx.json"
   ]
  },
  {
   "cell_type": "markdown",
   "metadata": {},
   "source": [
    "If the reader does NOT have the computational resources to run the calculations, the output file can be directly downloaded as:"
   ]
  },
  {
   "cell_type": "code",
   "execution_count": null,
   "metadata": {},
   "outputs": [],
   "source": [
    "%%bash\n",
    "wget -N -q https://west-code.org/doc/training/exx/wfreq_exx.json"
   ]
  },
  {
   "cell_type": "markdown",
   "metadata": {},
   "source": [
    "## Adaptively compressed exchange (ACE) operator"
   ]
  },
  {
   "cell_type": "markdown",
   "metadata": {},
   "source": [
    "Now let's use the adaptively compressed exchange (ACE) operator to speed up the calculations. Download the following files to your working directory:"
   ]
  },
  {
   "cell_type": "code",
   "execution_count": null,
   "metadata": {},
   "outputs": [],
   "source": [
    "%%bash\n",
    "wget -N -q https://west-code.org/doc/training/exx/pw.in\n",
    "wget -N -q https://west-code.org/doc/training/exx/nscf.in\n",
    "wget -N -q http://www.quantum-simulation.org/potentials/sg15_oncv/upf/H_ONCV_PBE-1.2.upf\n",
    "wget -N -q http://www.quantum-simulation.org/potentials/sg15_oncv/upf/Si_ONCV_PBE-1.2.upf"
   ]
  },
  {
   "cell_type": "markdown",
   "metadata": {},
   "source": [
    "We run `pw.x` on 2 cores, and make a copy of the save directory generated by `pw.x`."
   ]
  },
  {
   "cell_type": "code",
   "execution_count": null,
   "metadata": {},
   "outputs": [],
   "source": [
    "%%bash\n",
    "mpirun -n 2 pw.x -i pw.in > pw.out\n",
    "cp -r silane.save silane_copy.save"
   ]
  },
  {
   "cell_type": "markdown",
   "metadata": {},
   "source": [
    "We run a non-self-consistent calculation to constuct the ACE operator with a bit more empty bands. The content of `nscf.in` is almost identical to that of `pw.in`, except that in `nscf.in` we request a non-self-consistent calculation with a larger value of `nbnd`.\n",
    "\n",
    "We run `pw.x` again on 2 cores, and copy the file that stores the ACE operator to the directory saved in the previous self-consistent `pw.x` run."
   ]
  },
  {
   "cell_type": "code",
   "execution_count": null,
   "metadata": {},
   "outputs": [],
   "source": [
    "%%bash\n",
    "mpirun -n 2 pw.x -i nscf.in > nscf.out\n",
    "cp silane.save/ace* silane_copy.save\n",
    "rm -rf silane.save\n",
    "mv silane_copy.save silane.save"
   ]
  },
  {
   "cell_type": "markdown",
   "metadata": {},
   "source": [
    "By doing this, in the `silane.save` directory, we have the wavefunctions generated in the first, self-consistent `pw.x` run and the ACE operator generated in the second, non-self-consistent `pw.x` run. Now we do the GW calculation. Download the following file to your working directory:"
   ]
  },
  {
   "cell_type": "code",
   "execution_count": null,
   "metadata": {},
   "outputs": [],
   "source": [
    "%%bash\n",
    "wget -N -q https://west-code.org/doc/training/exx/wstat_ace.in\n",
    "wget -N -q https://west-code.org/doc/training/exx/wfreq_ace.in"
   ]
  },
  {
   "cell_type": "markdown",
   "metadata": {},
   "source": [
    "Let's inspect the `wstat_ace.in` and `wfreq_ace.in` files."
   ]
  },
  {
   "cell_type": "code",
   "execution_count": 4,
   "metadata": {},
   "outputs": [
    {
     "name": "stdout",
     "output_type": "stream",
     "text": [
      "input_west:\n",
      "    qe_prefix: silane\n",
      "    west_prefix: silane\n",
      "    outdir: ./\n",
      "\n",
      "wstat_control:\n",
      "    wstat_calculation: S\n",
      "    n_pdep_eigen: 50\n",
      "    n_exx_lowrank: 30\n",
      "input_west:\n",
      "    qe_prefix: silane\n",
      "    west_prefix: silane\n",
      "    outdir: ./\n",
      "\n",
      "wstat_control:\n",
      "    wstat_calculation: S\n",
      "    n_pdep_eigen: 50\n",
      "    n_exx_lowrank: 30\n",
      "\n",
      "wfreq_control:\n",
      "    wfreq_calculation: XWGQ\n",
      "    n_pdep_eigen_to_use: 50\n",
      "    qp_bandrange: [1,5]\n",
      "    n_refreq: 300\n",
      "    ecut_refreq: 2.0\n"
     ]
    }
   ],
   "source": [
    "%%bash\n",
    "cat wstat_ace.in\n",
    "cat wfreq_ace.in"
   ]
  },
  {
   "cell_type": "markdown",
   "metadata": {},
   "source": [
    "The new keyword, `n_exx_lowrank: 30`, activates the use of the ACE operator constructed from 30 KS wavefunctions. In production runs, `n_exx_lowrank` and therefore `nbnd` used on the non-self-consistent `pw.x` run should be converged.\n",
    "\n",
    "We run `wstat.x` and `wfreq.x` on 2 cores."
   ]
  },
  {
   "cell_type": "code",
   "execution_count": null,
   "metadata": {},
   "outputs": [],
   "source": [
    "%%bash\n",
    "mpirun -n 2 wstat.x -i wstat_ace.in > wstat_ace.out\n",
    "mpirun -n 2 wfreq.x -i wfreq_ace.in > wfreq_ace.out"
   ]
  },
  {
   "cell_type": "markdown",
   "metadata": {},
   "source": [
    "We save the output file `silane.wfreq.save/wfreq.json`."
   ]
  },
  {
   "cell_type": "code",
   "execution_count": null,
   "metadata": {},
   "outputs": [],
   "source": [
    "%%bash\n",
    "mv silane.wfreq.save/wfreq.json wfreq_ace.json"
   ]
  },
  {
   "cell_type": "markdown",
   "metadata": {},
   "source": [
    "If the reader does NOT have the computational resources to run the calculations, the output file can be directly downloaded as:"
   ]
  },
  {
   "cell_type": "code",
   "execution_count": null,
   "metadata": {},
   "outputs": [],
   "source": [
    "%%bash\n",
    "wget -N -q https://west-code.org/doc/training/ace/wfreq_ace.json"
   ]
  },
  {
   "cell_type": "markdown",
   "metadata": {},
   "source": [
    "We compare the quasiparticle corrections obtained with and without using the ACE operator."
   ]
  },
  {
   "cell_type": "code",
   "execution_count": 5,
   "metadata": {},
   "outputs": [
    {
     "name": "stdout",
     "output_type": "stream",
     "text": [
      "QP energy [eV]\n",
      "State      EXX      ACE     Diff\n",
      "    1  -17.363  -17.366   -0.003\n",
      "    2  -12.365  -12.359    0.006\n",
      "    3  -12.365  -12.359    0.006\n",
      "    4  -12.367  -12.362    0.005\n",
      "    5    0.383    0.380   -0.003\n"
     ]
    }
   ],
   "source": [
    "import json\n",
    "import numpy as np\n",
    "\n",
    "def read_qp(filename):\n",
    "    with open(filename) as file :\n",
    "        data = json.load(file)\n",
    "\n",
    "    return np.array(data['output']['Q']['K000001']['eqpSec'],dtype='f8')\n",
    "\n",
    "qp_exx = read_qp('wfreq_exx.json')\n",
    "qp_ace = read_qp('wfreq_ace.json')\n",
    "\n",
    "print('QP energy [eV]')\n",
    "print('State      EXX      ACE     Diff')\n",
    "for i in range(5):\n",
    "    print(f'    {i+1}  {qp_exx[i]:7.3f}  {qp_ace[i]:7.3f}  {qp_ace[i]-qp_exx[i]:7.3f}')"
   ]
  },
  {
   "cell_type": "markdown",
   "metadata": {},
   "source": [
    "In this case, the difference between the EXX and ACE results is at most 6 meV.\n",
    "\n",
    "In addition to $G_0W_0$ calculations, the ACE operator can also be used in Bethe-Salpeter equation (BSE), quantum defect embedding theory (QDET), and time-dependent density functional theory (TDDFT) calculations with hybrid functionals."
   ]
  }
 ],
 "metadata": {
  "kernelspec": {
   "display_name": "Python 3 (ipykernel)",
   "language": "python",
   "name": "python3"
  },
  "language_info": {
   "codemirror_mode": {
    "name": "ipython",
    "version": 3
   },
   "file_extension": ".py",
   "mimetype": "text/x-python",
   "name": "python",
   "nbconvert_exporter": "python",
   "pygments_lexer": "ipython3",
   "version": "3.11.5"
  }
 },
 "nbformat": 4,
 "nbformat_minor": 4
}
