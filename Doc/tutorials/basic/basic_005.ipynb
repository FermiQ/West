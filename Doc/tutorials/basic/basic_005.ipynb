{
 "cells": [
  {
   "cell_type": "markdown",
   "id": "b41565b9",
   "metadata": {},
   "source": [
    "# Tutorial: Quantum Embedding Theory (QDET) Calculations with WEST"
   ]
  },
  {
   "cell_type": "markdown",
   "id": "5b15d4b3",
   "metadata": {},
   "source": [
    "This tutorial shows how to compute correlated excitations of the $\\mathrm{NV^-}$ defect in Diamond using the Quantum Defect Embedding Theory (QDET). In QDET, a set of selected KS orbitals forms the active space. The effective Hamiltonian that describes excitations within the active space is formulated as:\n",
    "$$\n",
    "\\mathrm{H}^{eff} = \\sum_{ij}^A t^{eff}_{ij}\\hat{a}_i^\\dagger \\hat{a}_j + \\frac{1}{2} \\sum_{ijkl}^A v^{eff}_{ijkl} \\hat{a}_i^\\dagger \\hat{a}_j^\\dagger \\hat{a}_l \\hat{a}_k,\n",
    "$$\n",
    "where $t^{eff}$ and $v^{eff}$ are the effective one- and two-body terms, respectively. Exact diagonalization of the effective Hamiltonian yields the excitations of the spin defect. More details about the method, and definitions for $t^{eff}$ and $v^{eff}$ can be found in <a href=\"https://doi.org/10.1021/acs.jctc.2c00240\">N. Sheng, C. Vorwerk, M. Govoni, and G. Galli, J. Chem. Theory Comput. 18, 6, 3512 (2022)</a>.\n",
    "\n",
    "QDET calculations are performed in two separate steps:\n",
    "1. The parameters $t^{eff}$ and $v^{eff}$ are calculated from first principles and written to file.\n",
    "2. The effective Hamiltonian is constructed from the parameters read from file. Exact diagonalization is used to find the lowest eigenvalues and eigenvectors of the effective Hamiltonian."
   ]
  },
  {
   "cell_type": "markdown",
   "id": "bd4e59db",
   "metadata": {},
   "source": [
    "## Step 1: Parameters of the Effective Hamiltonian"
   ]
  },
  {
   "cell_type": "markdown",
   "id": "69981b7e",
   "metadata": {},
   "source": [
    "The parameters of the effective Hamiltonian $\\mathrm{H}^{eff}$ are calculated from first principles by:\n",
    "- 1.1 Carrying out a mean-field starting point calculation using DFT\n",
    "- 1.2 Computing the projective dielectric eigendcomposition (PDEP)\n",
    "- 1.3 Computing $t^{eff}$ and $v^{eff}$ for a chosen active space, and saving it them to file"
   ]
  },
  {
   "cell_type": "markdown",
   "id": "75927bb4",
   "metadata": {},
   "source": [
    "### Step 1.1:  Mean-field Starting Point"
   ]
  },
  {
   "cell_type": "markdown",
   "id": "c2ed71cf",
   "metadata": {},
   "source": [
    "As a first step, we have to perform the mean-field electronic structure calculations within density-functional theory (DFT) using the <a href='https://www.quantum-espresso.org/'>Quantum ESPRESSO</a> code."
   ]
  },
  {
   "cell_type": "markdown",
   "id": "6db50d6d",
   "metadata": {},
   "source": [
    "Download the following files in your working directory:"
   ]
  },
  {
   "cell_type": "code",
   "execution_count": 1,
   "id": "2e0d3149",
   "metadata": {},
   "outputs": [],
   "source": [
    "%%bash\n",
    "wget -N -q http://www.west-code.org/doc/training/nv_diamond_63/pw.in\n",
    "wget -N -q http://www.quantum-simulation.org/potentials/sg15_oncv/upf/C_ONCV_PBE-1.0.upf\n",
    "wget -N -q http://www.quantum-simulation.org/potentials/sg15_oncv/upf/N_ONCV_PBE-1.0.upf"
   ]
  },
  {
   "cell_type": "markdown",
   "id": "c8d53dbb",
   "metadata": {},
   "source": [
    "We can now inspect the `pw.in` file, the input for the `pw.x` code:"
   ]
  },
  {
   "cell_type": "code",
   "execution_count": 2,
   "id": "75de84e9",
   "metadata": {
    "scrolled": false
   },
   "outputs": [
    {
     "name": "stdout",
     "output_type": "stream",
     "text": [
      "&CONTROL\n",
      "calculation = 'scf'\n",
      "wf_collect = .true.\n",
      "pseudo_dir = './'\n",
      "/\n",
      "&SYSTEM\n",
      "input_dft = 'PBE'\n",
      "ibrav = 0\n",
      "ecutwfc = 50\n",
      "nosym = .true.\n",
      "tot_charge = -1\n",
      "nspin = 1\n",
      "nbnd = 176\n",
      "occupations = 'from_input'\n",
      "nat = 63\n",
      "ntyp = 2\n",
      "/\n",
      "&ELECTRONS\n",
      "conv_thr = 1D-08\n",
      "/\n",
      "K_POINTS gamma\n",
      "CELL_PARAMETERS angstrom\n",
      "7.136012  0.000000  0.000000\n",
      "0.000000  7.136012  0.000000\n",
      "0.000000  0.000000  7.136012\n",
      "ATOMIC_SPECIES\n",
      "C  12.01099968  C_ONCV_PBE-1.0.upf\n",
      "N  14.00699997  N_ONCV_PBE-1.0.upf\n",
      "ATOMIC_POSITIONS crystal\n",
      "C    0.99996000  0.99996000  0.99996000\n",
      "C    0.12495000  0.12495000  0.12495000\n",
      "C    0.99905000  0.25039000  0.25039000\n",
      "C    0.12350000  0.37499000  0.37499000\n",
      "C    0.25039000  0.99905000  0.25039000\n",
      "C    0.37499000  0.12350000  0.37499000\n",
      "C    0.25039000  0.25039000  0.99905000\n",
      "C    0.37499000  0.37499000  0.12350000\n",
      "C    0.00146000  0.00146000  0.50100000\n",
      "C    0.12510000  0.12510000  0.62503000\n",
      "C    0.00102000  0.24944000  0.74960000\n",
      "C    0.12614000  0.37542000  0.87402000\n",
      "C    0.24944000  0.00102000  0.74960000\n",
      "C    0.37542000  0.12614000  0.87402000\n",
      "C    0.24839000  0.24839000  0.49966000\n",
      "C    0.37509000  0.37509000  0.61906000\n",
      "C    0.00146000  0.50100000  0.00146000\n",
      "C    0.12510000  0.62503000  0.12510000\n",
      "C    0.00102000  0.74960000  0.24944000\n",
      "C    0.12614000  0.87402000  0.37542000\n",
      "C    0.24839000  0.49966000  0.24839000\n",
      "C    0.37509000  0.61906000  0.37509000\n",
      "C    0.24944000  0.74960000  0.00102000\n",
      "C    0.37542000  0.87402000  0.12614000\n",
      "C    0.99883000  0.50076000  0.50076000\n",
      "C    0.12502000  0.62512000  0.62512000\n",
      "C    0.99961000  0.74983000  0.74983000\n",
      "C    0.12491000  0.87493000  0.87493000\n",
      "C    0.25216000  0.50142000  0.74767000\n",
      "C    0.37740000  0.62659000  0.87314000\n",
      "C    0.25216000  0.74767000  0.50142000\n",
      "C    0.37740000  0.87314000  0.62659000\n",
      "C    0.50100000  0.00146000  0.00146000\n",
      "C    0.62503000  0.12510000  0.12510000\n",
      "C    0.49966000  0.24839000  0.24839000\n",
      "C    0.61906000  0.37509000  0.37509000\n",
      "C    0.74960000  0.00102000  0.24944000\n",
      "C    0.87402000  0.12614000  0.37542000\n",
      "C    0.74960000  0.24944000  0.00102000\n",
      "C    0.87402000  0.37542000  0.12614000\n",
      "C    0.50076000  0.99883000  0.50076000\n",
      "C    0.62512000  0.12502000  0.62512000\n",
      "C    0.50142000  0.25216000  0.74767000\n",
      "C    0.62659000  0.37740000  0.87314000\n",
      "C    0.74983000  0.99961000  0.74983000\n",
      "C    0.87493000  0.12491000  0.87493000\n",
      "C    0.74767000  0.25216000  0.50142000\n",
      "C    0.87314000  0.37740000  0.62659000\n",
      "C    0.50076000  0.50076000  0.99883000\n",
      "C    0.62512000  0.62512000  0.12502000\n",
      "C    0.50142000  0.74767000  0.25216000\n",
      "C    0.62659000  0.87314000  0.37740000\n",
      "C    0.74767000  0.50142000  0.25216000\n",
      "C    0.87314000  0.62659000  0.37740000\n",
      "C    0.74983000  0.74983000  0.99961000\n",
      "C    0.87493000  0.87493000  0.12491000\n",
      "N    0.48731000  0.48731000  0.48731000\n",
      "C    0.49191000  0.76093000  0.76093000\n",
      "C    0.62368000  0.87476000  0.87476000\n",
      "C    0.76093000  0.49191000  0.76093000\n",
      "C    0.87476000  0.62368000  0.87476000\n",
      "C    0.76093000  0.76093000  0.49191000\n",
      "C    0.87476000  0.87476000  0.62368000\n",
      "OCCUPATIONS\n",
      "2.00  2.00  2.00  2.00  2.00  2.00  2.00  2.00  2.00  2.00  \n",
      "2.00  2.00  2.00  2.00  2.00  2.00  2.00  2.00  2.00  2.00  \n",
      "2.00  2.00  2.00  2.00  2.00  2.00  2.00  2.00  2.00  2.00  \n",
      "2.00  2.00  2.00  2.00  2.00  2.00  2.00  2.00  2.00  2.00  \n",
      "2.00  2.00  2.00  2.00  2.00  2.00  2.00  2.00  2.00  2.00  \n",
      "2.00  2.00  2.00  2.00  2.00  2.00  2.00  2.00  2.00  2.00  \n",
      "2.00  2.00  2.00  2.00  2.00  2.00  2.00  2.00  2.00  2.00  \n",
      "2.00  2.00  2.00  2.00  2.00  2.00  2.00  2.00  2.00  2.00  \n",
      "2.00  2.00  2.00  2.00  2.00  2.00  2.00  2.00  2.00  2.00  \n",
      "2.00  2.00  2.00  2.00  2.00  2.00  2.00  2.00  2.00  2.00  \n",
      "2.00  2.00  2.00  2.00  2.00  2.00  2.00  2.00  2.00  2.00  \n",
      "2.00  2.00  2.00  2.00  2.00  2.00  2.00  2.00  2.00  2.00  \n",
      "2.00  2.00  2.00  2.00  2.00  2.00  1.00  1.00  0.00  0.00  \n",
      "0.00  0.00  0.00  0.00  0.00  0.00  0.00  0.00  0.00  0.00  \n",
      "0.00  0.00  0.00  0.00  0.00  0.00  0.00  0.00  0.00  0.00  \n",
      "0.00  0.00  0.00  0.00  0.00  0.00  0.00  0.00  0.00  0.00  \n",
      "0.00  0.00  0.00  0.00  0.00  0.00  0.00  0.00  0.00  0.00  \n",
      "0.00  0.00  0.00  0.00  0.00  0.00  \n"
     ]
    }
   ],
   "source": [
    "%%bash\n",
    "cat pw.in"
   ]
  },
  {
   "cell_type": "markdown",
   "id": "dc078d90",
   "metadata": {},
   "source": [
    "We can now run `pw.x` on 2 cores."
   ]
  },
  {
   "cell_type": "code",
   "execution_count": null,
   "id": "7d4568b1",
   "metadata": {},
   "outputs": [],
   "source": [
    "%%bash\n",
    "mpirun -n 2 pw.x -i pw.in > pw.out"
   ]
  },
  {
   "cell_type": "markdown",
   "id": "ac262b75",
   "metadata": {},
   "source": [
    "We note that the calculation is spin unpolarized (i.e., `nspin=1`) in order to reduce spin contamination. The parameters `ecutwfc` and the size of the supercell may be increased to converge the results."
   ]
  },
  {
   "cell_type": "markdown",
   "id": "e05a174c",
   "metadata": {},
   "source": [
    "### Step 1.2: Calculation of Dielectric Screening"
   ]
  },
  {
   "cell_type": "markdown",
   "id": "a69f38ed",
   "metadata": {},
   "source": [
    "As for GW calculations with WEST, we first have to determine the dielectric screening before we can proceed to calculate the excitations of the spin defect. In WEST, the dielectric screening is obtained from the projective dielectric eigendecomposition (PDEP). The calculation with `wstat.x` requires an input file `wstat.in`."
   ]
  },
  {
   "cell_type": "markdown",
   "id": "2600dd69",
   "metadata": {},
   "source": [
    "You can download the input file with the following command:"
   ]
  },
  {
   "cell_type": "code",
   "execution_count": 4,
   "id": "99830b3d",
   "metadata": {},
   "outputs": [],
   "source": [
    "%%bash \n",
    "wget -N -q http://www.west-code.org/doc/training/nv_diamond_63/wstat.in"
   ]
  },
  {
   "cell_type": "markdown",
   "id": "20253ec0",
   "metadata": {},
   "source": [
    "Once again, we can have a look at the input file:"
   ]
  },
  {
   "cell_type": "code",
   "execution_count": 5,
   "id": "13134f6c",
   "metadata": {},
   "outputs": [
    {
     "name": "stdout",
     "output_type": "stream",
     "text": [
      "wstat_control:\n",
      "  wstat_calculation: S\n",
      "  n_pdep_eigen: 512\n",
      "  trev_pdep: 0.00001\n"
     ]
    }
   ],
   "source": [
    "%%bash\n",
    "cat wstat.in"
   ]
  },
  {
   "cell_type": "markdown",
   "id": "6bb76bf7",
   "metadata": {},
   "source": [
    "As we can see, there are no input parameters in `wstat.in` specific to QDET. We can now execute `wstat.x` with the following command."
   ]
  },
  {
   "cell_type": "code",
   "execution_count": null,
   "id": "de05aee6",
   "metadata": {},
   "outputs": [],
   "source": [
    "%%bash\n",
    "mpirun -n 2 wstat.x -i wstat.in > wstat.out"
   ]
  },
  {
   "cell_type": "markdown",
   "id": "259b22be",
   "metadata": {},
   "source": [
    "The number of PDEPs, i.e, `n_pdep_eigen`, may be increased to converge the results."
   ]
  },
  {
   "cell_type": "markdown",
   "id": "5426489b",
   "metadata": {},
   "source": [
    "### Step 1.3: QDET Calculation"
   ]
  },
  {
   "cell_type": "markdown",
   "id": "06a7dd86",
   "metadata": {},
   "source": [
    "The calculation of the paramters for the effective Hamiltonian is carried out by using the `wfreq.x` program. The program will: (i) compute the $\\mathrm{G_0W_0}$ quasiparticle energies, (ii) compute the partially screened Coulomb potential, and (iii) finally compute the parameters of the effective Hamiltonian."
   ]
  },
  {
   "cell_type": "markdown",
   "id": "1ad90c53",
   "metadata": {},
   "source": [
    "You can download the input file with the following command:"
   ]
  },
  {
   "cell_type": "code",
   "execution_count": 6,
   "id": "9f96991d",
   "metadata": {},
   "outputs": [],
   "source": [
    "%%bash\n",
    "wget -N -q http://www.west-code.org/doc/training/nv_diamond_63/wfreq.in"
   ]
  },
  {
   "cell_type": "markdown",
   "id": "b42906ec",
   "metadata": {},
   "source": [
    "Let us again inspect the file `wfreq.in`:"
   ]
  },
  {
   "cell_type": "code",
   "execution_count": 7,
   "id": "37c7d958",
   "metadata": {},
   "outputs": [
    {
     "name": "stdout",
     "output_type": "stream",
     "text": [
      "wstat_control:\n",
      "  wstat_calculation: S\n",
      "  n_pdep_eigen: 512\n",
      "  trev_pdep: 0.00001\n",
      "\n",
      "wfreq_control:\n",
      "  wfreq_calculation: XWGQH\n",
      "  macropol_calculation: C\n",
      "  l_enable_off_diagonal: true\n",
      "  n_pdep_eigen_to_use: 512\n",
      "  qp_bands: [87, 122, 123, 126, 127, 128]\n",
      "  n_refreq: 300\n",
      "  ecut_refreq: 2.0\n"
     ]
    }
   ],
   "source": [
    "%%bash\n",
    "cat wfreq.in"
   ]
  },
  {
   "cell_type": "markdown",
   "id": "d0ca16a0",
   "metadata": {},
   "source": [
    "The QDET calculation is triggered by the keyword `H` (for effective Hamiltonian) in the variable `wfreq_calculation`. The KS states that define the active space are selected with the variable `qp_bands` (in our case states 87, 122, 123, 126, 127, and 128). The active space may be chosen to be a set of localized defect orbitals in the supercell. For the $\\mathrm{NV}^-$ center in the 63-atom supercell, we have chosen the orbitals with the largest localization factor. See the tutorial on the calculation of the localization factor <a href=\"http://greatfire.uchicago.edu/west-public/West/raw/master/Doc/tutorials/basic_006.ipynb\">here</a>. \n",
    "\n",
    "For QDET, it is mandatory to set the flag `l_enable_off_diagonal : true` which allows for the calculation of off-diagonal entries of the GW self-energy matrix."
   ]
  },
  {
   "cell_type": "markdown",
   "id": "e5c13ce0",
   "metadata": {},
   "source": [
    "The `wfreq.x` calculation can be performed as"
   ]
  },
  {
   "cell_type": "code",
   "execution_count": null,
   "id": "67c599f5",
   "metadata": {},
   "outputs": [],
   "source": [
    "%%bash\n",
    "mpirun -n 2 wfreq.x -i wfreq.in > wfreq.out"
   ]
  },
  {
   "cell_type": "markdown",
   "id": "8d66bb91",
   "metadata": {},
   "source": [
    "If the reader does not have the computational ressource to run the calculation, the WEST JSON file can be downloaded as"
   ]
  },
  {
   "cell_type": "code",
   "execution_count": 8,
   "id": "d5b12885",
   "metadata": {},
   "outputs": [],
   "source": [
    "%%bash\n",
    "mkdir west.wfreq.save\n",
    "wget -N -q http://www.west-code.org/doc/training/nv_diamond_63/wfreq.json -O west.wfreq.save/wfreq.json"
   ]
  },
  {
   "cell_type": "markdown",
   "id": "72ffaba7",
   "metadata": {},
   "source": [
    "## Step 2: Exact Diagonalization of the Effective Hamiltonian"
   ]
  },
  {
   "cell_type": "markdown",
   "id": "ec29719e",
   "metadata": {},
   "source": [
    "The effective Hamiltonian is constructed and diagonalized using the WESTpy code."
   ]
  },
  {
   "cell_type": "code",
   "execution_count": 9,
   "id": "92808de0",
   "metadata": {},
   "outputs": [
    {
     "name": "stdout",
     "output_type": "stream",
     "text": [
      " \n",
      " _    _ _____ _____ _____            \n",
      "| |  | |  ___/  ___|_   _|           \n",
      "| |  | | |__ \\ `--.  | |_ __  _   _  \n",
      "| |/\\| |  __| `--. \\ | | '_ \\| | | | \n",
      "\\  /\\  / |___/\\__/ / | | |_) | |_| | \n",
      " \\/  \\/\\____/\\____/  \\_/ .__/ \\__, | \n",
      "                       | |     __/ | \n",
      "                       |_|    |___/  \n",
      " \n",
      "WEST version     :  4.3.0\n",
      "Today            :  2022-08-30 17:54:48.543733\n",
      "-----------------------------------------------------\n",
      "===============================================================\n",
      "Building effective Hamiltonian...\n",
      "nspin: 1\n",
      "occupations: [[2. 2. 2. 2. 1. 1.]]\n",
      "===============================================================\n"
     ]
    },
    {
     "data": {
      "text/html": [
       "<div>\n",
       "<style scoped>\n",
       "    .dataframe tbody tr th:only-of-type {\n",
       "        vertical-align: middle;\n",
       "    }\n",
       "\n",
       "    .dataframe tbody tr th {\n",
       "        vertical-align: top;\n",
       "    }\n",
       "\n",
       "    .dataframe thead tr th {\n",
       "        text-align: left;\n",
       "    }\n",
       "</style>\n",
       "<table border=\"1\" class=\"dataframe\">\n",
       "  <thead>\n",
       "    <tr>\n",
       "      <th></th>\n",
       "      <th colspan=\"2\" halign=\"left\"></th>\n",
       "      <th colspan=\"6\" halign=\"left\">diag[1RDM - 1RDM(GS)]</th>\n",
       "    </tr>\n",
       "    <tr>\n",
       "      <th></th>\n",
       "      <th>E [eV]</th>\n",
       "      <th>char</th>\n",
       "      <th>87</th>\n",
       "      <th>122</th>\n",
       "      <th>123</th>\n",
       "      <th>126</th>\n",
       "      <th>127</th>\n",
       "      <th>128</th>\n",
       "    </tr>\n",
       "  </thead>\n",
       "  <tbody>\n",
       "    <tr>\n",
       "      <th>0</th>\n",
       "      <td>0.000</td>\n",
       "      <td>3-</td>\n",
       "      <td>0.000</td>\n",
       "      <td>0.000</td>\n",
       "      <td>0.000</td>\n",
       "      <td>0.000</td>\n",
       "      <td>0.000</td>\n",
       "      <td>0.000</td>\n",
       "    </tr>\n",
       "    <tr>\n",
       "      <th>1</th>\n",
       "      <td>0.436</td>\n",
       "      <td>1-</td>\n",
       "      <td>-0.001</td>\n",
       "      <td>-0.009</td>\n",
       "      <td>-0.018</td>\n",
       "      <td>-0.067</td>\n",
       "      <td>0.037</td>\n",
       "      <td>0.058</td>\n",
       "    </tr>\n",
       "    <tr>\n",
       "      <th>2</th>\n",
       "      <td>0.436</td>\n",
       "      <td>1-</td>\n",
       "      <td>-0.001</td>\n",
       "      <td>-0.009</td>\n",
       "      <td>-0.018</td>\n",
       "      <td>-0.067</td>\n",
       "      <td>0.058</td>\n",
       "      <td>0.037</td>\n",
       "    </tr>\n",
       "    <tr>\n",
       "      <th>3</th>\n",
       "      <td>1.250</td>\n",
       "      <td>1-</td>\n",
       "      <td>-0.002</td>\n",
       "      <td>-0.019</td>\n",
       "      <td>-0.023</td>\n",
       "      <td>-0.067</td>\n",
       "      <td>0.056</td>\n",
       "      <td>0.055</td>\n",
       "    </tr>\n",
       "    <tr>\n",
       "      <th>4</th>\n",
       "      <td>1.941</td>\n",
       "      <td>3-</td>\n",
       "      <td>-0.003</td>\n",
       "      <td>-0.010</td>\n",
       "      <td>-0.127</td>\n",
       "      <td>-0.860</td>\n",
       "      <td>0.000</td>\n",
       "      <td>1.000</td>\n",
       "    </tr>\n",
       "    <tr>\n",
       "      <th>5</th>\n",
       "      <td>1.941</td>\n",
       "      <td>3-</td>\n",
       "      <td>-0.003</td>\n",
       "      <td>-0.010</td>\n",
       "      <td>-0.127</td>\n",
       "      <td>-0.860</td>\n",
       "      <td>1.000</td>\n",
       "      <td>0.000</td>\n",
       "    </tr>\n",
       "    <tr>\n",
       "      <th>6</th>\n",
       "      <td>2.937</td>\n",
       "      <td>1-</td>\n",
       "      <td>-0.000</td>\n",
       "      <td>-0.032</td>\n",
       "      <td>-0.043</td>\n",
       "      <td>-0.855</td>\n",
       "      <td>0.110</td>\n",
       "      <td>0.821</td>\n",
       "    </tr>\n",
       "    <tr>\n",
       "      <th>7</th>\n",
       "      <td>2.937</td>\n",
       "      <td>1-</td>\n",
       "      <td>-0.000</td>\n",
       "      <td>-0.033</td>\n",
       "      <td>-0.043</td>\n",
       "      <td>-0.855</td>\n",
       "      <td>0.821</td>\n",
       "      <td>0.110</td>\n",
       "    </tr>\n",
       "    <tr>\n",
       "      <th>8</th>\n",
       "      <td>4.662</td>\n",
       "      <td>1-</td>\n",
       "      <td>-0.005</td>\n",
       "      <td>-0.055</td>\n",
       "      <td>-0.188</td>\n",
       "      <td>-1.672</td>\n",
       "      <td>0.960</td>\n",
       "      <td>0.960</td>\n",
       "    </tr>\n",
       "    <tr>\n",
       "      <th>9</th>\n",
       "      <td>5.073</td>\n",
       "      <td>3-</td>\n",
       "      <td>-0.014</td>\n",
       "      <td>-0.702</td>\n",
       "      <td>-0.209</td>\n",
       "      <td>-0.075</td>\n",
       "      <td>0.000</td>\n",
       "      <td>1.000</td>\n",
       "    </tr>\n",
       "  </tbody>\n",
       "</table>\n",
       "</div>"
      ],
      "text/plain": [
       "              diag[1RDM - 1RDM(GS)]                                      \n",
       "  E [eV] char                    87     122     123     126    127    128\n",
       "0  0.000   3-                 0.000   0.000   0.000   0.000  0.000  0.000\n",
       "1  0.436   1-                -0.001  -0.009  -0.018  -0.067  0.037  0.058\n",
       "2  0.436   1-                -0.001  -0.009  -0.018  -0.067  0.058  0.037\n",
       "3  1.250   1-                -0.002  -0.019  -0.023  -0.067  0.056  0.055\n",
       "4  1.941   3-                -0.003  -0.010  -0.127  -0.860  0.000  1.000\n",
       "5  1.941   3-                -0.003  -0.010  -0.127  -0.860  1.000  0.000\n",
       "6  2.937   1-                -0.000  -0.032  -0.043  -0.855  0.110  0.821\n",
       "7  2.937   1-                -0.000  -0.033  -0.043  -0.855  0.821  0.110\n",
       "8  4.662   1-                -0.005  -0.055  -0.188  -1.672  0.960  0.960\n",
       "9  5.073   3-                -0.014  -0.702  -0.209  -0.075  0.000  1.000"
      ]
     },
     "metadata": {},
     "output_type": "display_data"
    },
    {
     "name": "stdout",
     "output_type": "stream",
     "text": [
      "-----------------------------------------------------\n"
     ]
    }
   ],
   "source": [
    "import json\n",
    "import numpy as np\n",
    "\n",
    "from westpy.qdet import QDETResult\n",
    "\n",
    "# construct object for effective Hamiltonian\n",
    "effective_hamiltonian = QDETResult(filename='west.wfreq.save/wfreq.json')\n",
    "\n",
    "# diagonalize Hamiltonian\n",
    "solution = effective_hamiltonian.solve()"
   ]
  },
  {
   "cell_type": "markdown",
   "id": "e00f8424",
   "metadata": {},
   "source": [
    "Calling the function `solve()` of the object `QDETResult` writes the excitation energies (in eV) to screen, spin multiplicity and relative occupation (compared to the occupation of the groundstate) to screen.\n",
    "\n",
    "Let us consider the first excited state (`# 1`) as an example: It has an energy of `0.436 eV` above the groundstate, has spin multiplicity `1` (i.e., it is a singlet), and is two-fold degenerate because the state `# 2` has the same energy. It has nearly the same occupation as the groundstate, only the occupation in band 126 is reduced by 0.1, while that of 128 is increased by 0.1. Since the state has nearly the same occupation as the groundstate, it is a *multiplet* excitation."
   ]
  },
  {
   "cell_type": "markdown",
   "id": "e36a34a4",
   "metadata": {},
   "source": [
    "A more detailed information about the excitations is stored in the dictionary `solution`:"
   ]
  },
  {
   "cell_type": "code",
   "execution_count": 11,
   "id": "16f3be73",
   "metadata": {},
   "outputs": [
    {
     "name": "stdout",
     "output_type": "stream",
     "text": [
      "dict_keys(['nstates', 'evs_au', 'evs', 'evcs', 'mults', 'rdm1s'])\n"
     ]
    }
   ],
   "source": [
    "print(solution.keys())"
   ]
  },
  {
   "cell_type": "markdown",
   "id": "3a91e9ea",
   "metadata": {},
   "source": [
    "Explanation of the keys:\n",
    "- `nstates` : the number of excitations that have been calculated.\n",
    "- `evs` : excitation energies relative to the groundstate (in eV).\n",
    "- `evs_au`: absolute energies of the many-body states (in Hartree).\n",
    "- `mults`: spin multiplicity of each state.\n",
    "- `rdm1s`: spin-summed reduced 1-body density matrix for each many-body state.\n",
    "- `evcs`: many-body state in 2nd quantization (eigenvector of the effective Hamiltonian)."
   ]
  },
  {
   "cell_type": "code",
   "execution_count": null,
   "id": "585643fe",
   "metadata": {},
   "outputs": [],
   "source": []
  }
 ],
 "metadata": {
  "kernelspec": {
   "display_name": "Python [conda env:westpy-refactor]",
   "language": "python",
   "name": "conda-env-westpy-refactor-py"
  },
  "language_info": {
   "codemirror_mode": {
    "name": "ipython",
    "version": 3
   },
   "file_extension": ".py",
   "mimetype": "text/x-python",
   "name": "python",
   "nbconvert_exporter": "python",
   "pygments_lexer": "ipython3",
   "version": "3.9.12"
  }
 },
 "nbformat": 4,
 "nbformat_minor": 5
}
