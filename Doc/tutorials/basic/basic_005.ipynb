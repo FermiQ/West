{
 "cells": [
  {
   "cell_type": "markdown",
   "id": "b2551216",
   "metadata": {},
   "source": [
    "This tutorial can be downloaded [link](https://github.com/west-code-development/West/raw/master/Doc/tutorials/basic/basic_005.ipynb)."
   ]
  },
  {
   "cell_type": "markdown",
   "id": "b41565b9",
   "metadata": {},
   "source": [
    "# Intro Tutorial 5: Quantum Defect Embedding Theory (QDET) Calculations"
   ]
  },
  {
   "cell_type": "markdown",
   "id": "5b15d4b3",
   "metadata": {},
   "source": [
    "This tutorial shows how to compute excitation energies of the negatively charged nitrogen-vacancy defect (NV$^-$) in diamond using the Quantum Defect Embedding Theory (QDET). In QDET, a set of selected Kohn-Sham (KS) orbitals forms the active space. The effective Hamiltonian that describes excitations within the active space is formulated as:\n",
    "\n",
    "$$\n",
    "H^{\\text{eff}} = \\sum_{ij}^A t^{\\text{eff}}_{ij}\\hat{a}_i^\\dagger \\hat{a}_j + \\frac{1}{2} \\sum_{ijkl}^A v^{\\text{eff}}_{ijkl} \\hat{a}_i^\\dagger \\hat{a}_j^\\dagger \\hat{a}_l \\hat{a}_k,\n",
    "$$\n",
    "\n",
    "where $t^{\\text{eff}}$ and $v^{\\text{eff}}$ are the effective one- and two-body terms, respectively. Exact diagonalization of the effective Hamiltonian yields the excitations of the spin defect. More details about the method, and definitions for $t^{\\text{eff}}$ and $v^{\\text{eff}}$ can be found in [N. Sheng, C. Vorwerk, M. Govoni, and G. Galli, J. Chem. Theory Comput. 18, 3512 (2022)](https://doi.org/10.1021/acs.jctc.2c00240).\n",
    "\n",
    "QDET calculations are performed in two separate steps:\n",
    "1. The parameters $t^{\\text{eff}}$ and $v^{\\text{eff}}$ are calculated from first principles and written to file.\n",
    "2. The effective Hamiltonian is constructed from the parameters read from file. Exact diagonalization is used to find the lowest eigenvalues and eigenvectors of the effective Hamiltonian."
   ]
  },
  {
   "cell_type": "markdown",
   "id": "bd4e59db",
   "metadata": {},
   "source": [
    "## Step 1: Parameters of the effective Hamiltonian"
   ]
  },
  {
   "cell_type": "markdown",
   "id": "69981b7e",
   "metadata": {},
   "source": [
    "The parameters of the effective Hamiltonian $H^{\\text{eff}}$ are calculated from first principles by:\n",
    "- 1.1 Carrying out a mean-field starting point calculation using density-functional theory (DFT)\n",
    "- 1.2 Computing the projective dielectric eigendcomposition (PDEP)\n",
    "- 1.3 Computing $t^{\\text{eff}}$ and $v^{\\text{eff}}$ for a chosen active space, and saving them to file"
   ]
  },
  {
   "cell_type": "markdown",
   "id": "75927bb4",
   "metadata": {},
   "source": [
    "### Step 1.1:  Mean-field starting point"
   ]
  },
  {
   "cell_type": "markdown",
   "id": "c2ed71cf",
   "metadata": {},
   "source": [
    "As a first step, we perform the mean-field electronic structure calculation within DFT using the [Quantum ESPRESSO](https://www.quantum-espresso.org/) code."
   ]
  },
  {
   "cell_type": "markdown",
   "id": "6db50d6d",
   "metadata": {},
   "source": [
    "Download the following files in your working directory:"
   ]
  },
  {
   "cell_type": "code",
   "execution_count": 1,
   "id": "2e0d3149",
   "metadata": {},
   "outputs": [],
   "source": [
    "%%bash\n",
    "wget -N -q https://west-code.org/doc/training/nv_diamond_63/pw.in\n",
    "wget -N -q http://www.quantum-simulation.org/potentials/sg15_oncv/upf/C_ONCV_PBE-1.2.upf\n",
    "wget -N -q http://www.quantum-simulation.org/potentials/sg15_oncv/upf/N_ONCV_PBE-1.2.upf"
   ]
  },
  {
   "cell_type": "markdown",
   "id": "c8d53dbb",
   "metadata": {},
   "source": [
    "We inspect the `pw.in` file, the input for the `pw.x` code:"
   ]
  },
  {
   "cell_type": "code",
   "execution_count": 2,
   "id": "75de84e9",
   "metadata": {},
   "outputs": [
    {
     "name": "stdout",
     "output_type": "stream",
     "text": [
      "&CONTROL\n",
      "calculation = 'scf'\n",
      "pseudo_dir = './'\n",
      "/\n",
      "&SYSTEM\n",
      "input_dft = 'PBE'\n",
      "ibrav = 0\n",
      "ecutwfc = 50\n",
      "tot_charge = -1\n",
      "nspin = 1\n",
      "nbnd = 176\n",
      "occupations = 'from_input'\n",
      "nat = 63\n",
      "ntyp = 2\n",
      "/\n",
      "&ELECTRONS\n",
      "diago_full_acc = .true.\n",
      "/\n",
      "K_POINTS gamma\n",
      "CELL_PARAMETERS angstrom\n",
      "7.136012  0.000000  0.000000\n",
      "0.000000  7.136012  0.000000\n",
      "0.000000  0.000000  7.136012\n",
      "ATOMIC_SPECIES\n",
      "C  12.01099968  C_ONCV_PBE-1.2.upf\n",
      "N  14.00699997  N_ONCV_PBE-1.2.upf\n",
      "ATOMIC_POSITIONS crystal\n",
      "C    0.99996000  0.99996000  0.99996000\n",
      "C    0.12495000  0.12495000  0.12495000\n",
      "C    0.99905000  0.25039000  0.25039000\n",
      "C    0.12350000  0.37499000  0.37499000\n",
      "C    0.25039000  0.99905000  0.25039000\n",
      "C    0.37499000  0.12350000  0.37499000\n",
      "C    0.25039000  0.25039000  0.99905000\n",
      "C    0.37499000  0.37499000  0.12350000\n",
      "C    0.00146000  0.00146000  0.50100000\n",
      "C    0.12510000  0.12510000  0.62503000\n",
      "C    0.00102000  0.24944000  0.74960000\n",
      "C    0.12614000  0.37542000  0.87402000\n",
      "C    0.24944000  0.00102000  0.74960000\n",
      "C    0.37542000  0.12614000  0.87402000\n",
      "C    0.24839000  0.24839000  0.49966000\n",
      "C    0.37509000  0.37509000  0.61906000\n",
      "C    0.00146000  0.50100000  0.00146000\n",
      "C    0.12510000  0.62503000  0.12510000\n",
      "C    0.00102000  0.74960000  0.24944000\n",
      "C    0.12614000  0.87402000  0.37542000\n",
      "C    0.24839000  0.49966000  0.24839000\n",
      "C    0.37509000  0.61906000  0.37509000\n",
      "C    0.24944000  0.74960000  0.00102000\n",
      "C    0.37542000  0.87402000  0.12614000\n",
      "C    0.99883000  0.50076000  0.50076000\n",
      "C    0.12502000  0.62512000  0.62512000\n",
      "C    0.99961000  0.74983000  0.74983000\n",
      "C    0.12491000  0.87493000  0.87493000\n",
      "C    0.25216000  0.50142000  0.74767000\n",
      "C    0.37740000  0.62659000  0.87314000\n",
      "C    0.25216000  0.74767000  0.50142000\n",
      "C    0.37740000  0.87314000  0.62659000\n",
      "C    0.50100000  0.00146000  0.00146000\n",
      "C    0.62503000  0.12510000  0.12510000\n",
      "C    0.49966000  0.24839000  0.24839000\n",
      "C    0.61906000  0.37509000  0.37509000\n",
      "C    0.74960000  0.00102000  0.24944000\n",
      "C    0.87402000  0.12614000  0.37542000\n",
      "C    0.74960000  0.24944000  0.00102000\n",
      "C    0.87402000  0.37542000  0.12614000\n",
      "C    0.50076000  0.99883000  0.50076000\n",
      "C    0.62512000  0.12502000  0.62512000\n",
      "C    0.50142000  0.25216000  0.74767000\n",
      "C    0.62659000  0.37740000  0.87314000\n",
      "C    0.74983000  0.99961000  0.74983000\n",
      "C    0.87493000  0.12491000  0.87493000\n",
      "C    0.74767000  0.25216000  0.50142000\n",
      "C    0.87314000  0.37740000  0.62659000\n",
      "C    0.50076000  0.50076000  0.99883000\n",
      "C    0.62512000  0.62512000  0.12502000\n",
      "C    0.50142000  0.74767000  0.25216000\n",
      "C    0.62659000  0.87314000  0.37740000\n",
      "C    0.74767000  0.50142000  0.25216000\n",
      "C    0.87314000  0.62659000  0.37740000\n",
      "C    0.74983000  0.74983000  0.99961000\n",
      "C    0.87493000  0.87493000  0.12491000\n",
      "N    0.48731000  0.48731000  0.48731000\n",
      "C    0.49191000  0.76093000  0.76093000\n",
      "C    0.62368000  0.87476000  0.87476000\n",
      "C    0.76093000  0.49191000  0.76093000\n",
      "C    0.87476000  0.62368000  0.87476000\n",
      "C    0.76093000  0.76093000  0.49191000\n",
      "C    0.87476000  0.87476000  0.62368000\n",
      "OCCUPATIONS\n",
      "2 2 2 2 2 2 2 2 2 2\n",
      "2 2 2 2 2 2 2 2 2 2\n",
      "2 2 2 2 2 2 2 2 2 2\n",
      "2 2 2 2 2 2 2 2 2 2\n",
      "2 2 2 2 2 2 2 2 2 2\n",
      "2 2 2 2 2 2 2 2 2 2\n",
      "2 2 2 2 2 2 2 2 2 2\n",
      "2 2 2 2 2 2 2 2 2 2\n",
      "2 2 2 2 2 2 2 2 2 2\n",
      "2 2 2 2 2 2 2 2 2 2\n",
      "2 2 2 2 2 2 2 2 2 2\n",
      "2 2 2 2 2 2 2 2 2 2\n",
      "2 2 2 2 2 2 1 1 0 0\n",
      "0 0 0 0 0 0 0 0 0 0\n",
      "0 0 0 0 0 0 0 0 0 0\n",
      "0 0 0 0 0 0 0 0 0 0\n",
      "0 0 0 0 0 0 0 0 0 0\n",
      "0 0 0 0 0 0\n"
     ]
    }
   ],
   "source": [
    "%%bash\n",
    "cat pw.in"
   ]
  },
  {
   "cell_type": "markdown",
   "id": "dc078d90",
   "metadata": {},
   "source": [
    "We run `pw.x` on 2 cores."
   ]
  },
  {
   "cell_type": "code",
   "execution_count": null,
   "id": "7d4568b1",
   "metadata": {},
   "outputs": [],
   "source": [
    "%%bash\n",
    "mpirun -n 2 pw.x -i pw.in > pw.out"
   ]
  },
  {
   "cell_type": "markdown",
   "id": "ac262b75",
   "metadata": {},
   "source": [
    "We note that the calculation is spin unpolarized (i.e., `nspin=1`) in order to reduce spin contamination. The parameter `ecutwfc` and the size of the supercell may be increased to converge the results."
   ]
  },
  {
   "cell_type": "markdown",
   "id": "e05a174c",
   "metadata": {},
   "source": [
    "### Step 1.2: Calculation of dielectric screening"
   ]
  },
  {
   "cell_type": "markdown",
   "id": "a69f38ed",
   "metadata": {},
   "source": [
    "As for GW calculations with WEST, we first determine the dielectric screening before we can proceed to calculate the excitations of the spin defect. In WEST, the dielectric screening is obtained from the projective dielectric eigendecomposition (PDEP). The calculation with `wstat.x` requires an input file `wstat.in`.\n",
    "\n",
    "Download the following file in your working directory:"
   ]
  },
  {
   "cell_type": "code",
   "execution_count": 3,
   "id": "99830b3d",
   "metadata": {},
   "outputs": [],
   "source": [
    "%%bash\n",
    "wget -N -q https://west-code.org/doc/training/nv_diamond_63/wstat.in"
   ]
  },
  {
   "cell_type": "markdown",
   "id": "20253ec0",
   "metadata": {},
   "source": [
    "Once again, we can have a look at the input file:"
   ]
  },
  {
   "cell_type": "code",
   "execution_count": 4,
   "id": "13134f6c",
   "metadata": {},
   "outputs": [
    {
     "name": "stdout",
     "output_type": "stream",
     "text": [
      "wstat_control:\n",
      "  wstat_calculation: S\n",
      "  n_pdep_eigen: 512\n",
      "  trev_pdep: 0.00001\n"
     ]
    }
   ],
   "source": [
    "%%bash\n",
    "cat wstat.in"
   ]
  },
  {
   "cell_type": "markdown",
   "id": "6bb76bf7",
   "metadata": {},
   "source": [
    "As we can see, there are no input parameters in `wstat.in` specific to QDET. The number of PDEPs, `n_pdep_eigen`, may be increased to converge the results.\n",
    "\n",
    "We run `wstat.x` on 2 cores."
   ]
  },
  {
   "cell_type": "code",
   "execution_count": null,
   "id": "de05aee6",
   "metadata": {},
   "outputs": [],
   "source": [
    "%%bash\n",
    "mpirun -n 2 wstat.x -i wstat.in > wstat.out"
   ]
  },
  {
   "cell_type": "markdown",
   "id": "5426489b",
   "metadata": {},
   "source": [
    "### Step 1.3: QDET calculation"
   ]
  },
  {
   "cell_type": "markdown",
   "id": "06a7dd86",
   "metadata": {},
   "source": [
    "The calculation of the paramters for the effective Hamiltonian is carried out by using the `wfreq.x` program. The program will: (i) compute the $G_0W_0$ quasiparticle energies, (ii) compute the partially screened Coulomb potential, and (iii) finally compute the parameters of the effective Hamiltonian.\n",
    "\n",
    "Download the following file in your working directory:"
   ]
  },
  {
   "cell_type": "code",
   "execution_count": 5,
   "id": "9f96991d",
   "metadata": {},
   "outputs": [],
   "source": [
    "%%bash\n",
    "wget -N -q https://west-code.org/doc/training/nv_diamond_63/wfreq.in"
   ]
  },
  {
   "cell_type": "markdown",
   "id": "b42906ec",
   "metadata": {},
   "source": [
    "Let us again inspect the file `wfreq.in`:"
   ]
  },
  {
   "cell_type": "code",
   "execution_count": 6,
   "id": "37c7d958",
   "metadata": {},
   "outputs": [
    {
     "name": "stdout",
     "output_type": "stream",
     "text": [
      "wstat_control:\n",
      "  wstat_calculation: S\n",
      "  n_pdep_eigen: 512\n",
      "  trev_pdep: 0.00001\n",
      "\n",
      "wfreq_control:\n",
      "  wfreq_calculation: XWGQH\n",
      "  macropol_calculation: C\n",
      "  l_enable_off_diagonal: true\n",
      "  n_pdep_eigen_to_use: 512\n",
      "  qp_bands: [87, 122, 123, 126, 127, 128]\n",
      "  n_refreq: 300\n",
      "  ecut_refreq: 2.0\n"
     ]
    }
   ],
   "source": [
    "%%bash\n",
    "cat wfreq.in"
   ]
  },
  {
   "cell_type": "markdown",
   "id": "d0ca16a0",
   "metadata": {},
   "source": [
    "The QDET calculation is triggered by the keyword `H` (for effective Hamiltonian) in the variable `wfreq_calculation`. The KS states that define the active space are selected with the variable `qp_bands` (in our case states 87, 122, 123, 126, 127, and 128). The active space may be chosen to be a set of localized defect orbitals in the supercell. See [Tutorial 6](https://github.com/west-code-development/West/raw/master/Doc/tutorials/basic/basic_006.ipynb) for the identification of the localized orbitals.\n",
    "\n",
    "For QDET, it is mandatory to set the flag `l_enable_off_diagonal : true` which activates the calculation of off-diagonal entries of the GW self-energy matrix.\n",
    "\n",
    "We run `wfreq.x` on 2 cores."
   ]
  },
  {
   "cell_type": "code",
   "execution_count": null,
   "id": "67c599f5",
   "metadata": {},
   "outputs": [],
   "source": [
    "%%bash\n",
    "mpirun -n 2 wfreq.x -i wfreq.in > wfreq.out"
   ]
  },
  {
   "cell_type": "markdown",
   "id": "8d66bb91",
   "metadata": {},
   "source": [
    "If the reader does NOT have the computational resources to run the calculation, the WEST output file needed for the next step can be directly downloaded as:"
   ]
  },
  {
   "cell_type": "code",
   "execution_count": 7,
   "id": "d5b12885",
   "metadata": {},
   "outputs": [],
   "source": [
    "%%bash\n",
    "mkdir -p west.wfreq.save\n",
    "wget -N -q https://west-code.org/doc/training/nv_diamond_63/wfreq.json -O west.wfreq.save/wfreq.json"
   ]
  },
  {
   "cell_type": "markdown",
   "id": "72ffaba7",
   "metadata": {},
   "source": [
    "## Step 2: Exact diagonalization of the effective Hamiltonian"
   ]
  },
  {
   "cell_type": "markdown",
   "id": "ec29719e",
   "metadata": {},
   "source": [
    "The effective Hamiltonian is constructed and diagonalized using the [WESTpy Python package](https://west-code.org/doc/westpy/latest/)."
   ]
  },
  {
   "cell_type": "code",
   "execution_count": 8,
   "id": "92808de0",
   "metadata": {},
   "outputs": [
    {
     "name": "stdout",
     "output_type": "stream",
     "text": [
      " \n",
      " _    _ _____ _____ _____            \n",
      "| |  | |  ___/  ___|_   _|           \n",
      "| |  | | |__ \\ `--.  | |_ __  _   _  \n",
      "| |/\\| |  __| `--. \\ | | '_ \\| | | | \n",
      "\\  /\\  / |___/\\__/ / | | |_) | |_| | \n",
      " \\/  \\/\\____/\\____/  \\_/ .__/ \\__, | \n",
      "                       | |     __/ | \n",
      "                       |_|    |___/  \n",
      " \n",
      "WEST version     :  5.5.0\n",
      "Today            :  2024-02-02 13:54:03.951228\n",
      "-----------------------------------------------------\n",
      "===============================================================\n",
      "Building effective Hamiltonian...\n",
      "nspin: 1\n",
      "occupations: [[2. 2. 2. 2. 1. 1.]]\n",
      "===============================================================\n"
     ]
    },
    {
     "data": {
      "text/html": [
       "<div>\n",
       "<style scoped>\n",
       "    .dataframe tbody tr th:only-of-type {\n",
       "        vertical-align: middle;\n",
       "    }\n",
       "\n",
       "    .dataframe tbody tr th {\n",
       "        vertical-align: top;\n",
       "    }\n",
       "\n",
       "    .dataframe thead tr th {\n",
       "        text-align: left;\n",
       "    }\n",
       "</style>\n",
       "<table border=\"1\" class=\"dataframe\">\n",
       "  <thead>\n",
       "    <tr>\n",
       "      <th></th>\n",
       "      <th colspan=\"2\" halign=\"left\"></th>\n",
       "      <th colspan=\"6\" halign=\"left\">diag[1RDM - 1RDM(GS)]</th>\n",
       "    </tr>\n",
       "    <tr>\n",
       "      <th></th>\n",
       "      <th>E [eV]</th>\n",
       "      <th>char</th>\n",
       "      <th>87</th>\n",
       "      <th>122</th>\n",
       "      <th>123</th>\n",
       "      <th>126</th>\n",
       "      <th>127</th>\n",
       "      <th>128</th>\n",
       "    </tr>\n",
       "  </thead>\n",
       "  <tbody>\n",
       "    <tr>\n",
       "      <th>0</th>\n",
       "      <td>0.000</td>\n",
       "      <td>3-</td>\n",
       "      <td>0.000</td>\n",
       "      <td>0.000</td>\n",
       "      <td>0.000</td>\n",
       "      <td>0.000</td>\n",
       "      <td>0.000</td>\n",
       "      <td>0.000</td>\n",
       "    </tr>\n",
       "    <tr>\n",
       "      <th>1</th>\n",
       "      <td>0.436</td>\n",
       "      <td>1-</td>\n",
       "      <td>-0.001</td>\n",
       "      <td>-0.009</td>\n",
       "      <td>-0.018</td>\n",
       "      <td>-0.067</td>\n",
       "      <td>0.004</td>\n",
       "      <td>0.091</td>\n",
       "    </tr>\n",
       "    <tr>\n",
       "      <th>2</th>\n",
       "      <td>0.436</td>\n",
       "      <td>1-</td>\n",
       "      <td>-0.001</td>\n",
       "      <td>-0.009</td>\n",
       "      <td>-0.018</td>\n",
       "      <td>-0.067</td>\n",
       "      <td>0.092</td>\n",
       "      <td>0.002</td>\n",
       "    </tr>\n",
       "    <tr>\n",
       "      <th>3</th>\n",
       "      <td>1.251</td>\n",
       "      <td>1-</td>\n",
       "      <td>-0.002</td>\n",
       "      <td>-0.019</td>\n",
       "      <td>-0.023</td>\n",
       "      <td>-0.067</td>\n",
       "      <td>0.054</td>\n",
       "      <td>0.057</td>\n",
       "    </tr>\n",
       "    <tr>\n",
       "      <th>4</th>\n",
       "      <td>1.939</td>\n",
       "      <td>3-</td>\n",
       "      <td>-0.003</td>\n",
       "      <td>-0.010</td>\n",
       "      <td>-0.127</td>\n",
       "      <td>-0.860</td>\n",
       "      <td>1.000</td>\n",
       "      <td>0.000</td>\n",
       "    </tr>\n",
       "    <tr>\n",
       "      <th>5</th>\n",
       "      <td>1.940</td>\n",
       "      <td>3-</td>\n",
       "      <td>-0.003</td>\n",
       "      <td>-0.010</td>\n",
       "      <td>-0.127</td>\n",
       "      <td>-0.860</td>\n",
       "      <td>0.000</td>\n",
       "      <td>1.000</td>\n",
       "    </tr>\n",
       "    <tr>\n",
       "      <th>6</th>\n",
       "      <td>2.935</td>\n",
       "      <td>1-</td>\n",
       "      <td>-0.000</td>\n",
       "      <td>-0.032</td>\n",
       "      <td>-0.043</td>\n",
       "      <td>-0.855</td>\n",
       "      <td>0.929</td>\n",
       "      <td>0.002</td>\n",
       "    </tr>\n",
       "    <tr>\n",
       "      <th>7</th>\n",
       "      <td>2.936</td>\n",
       "      <td>1-</td>\n",
       "      <td>-0.000</td>\n",
       "      <td>-0.032</td>\n",
       "      <td>-0.043</td>\n",
       "      <td>-0.855</td>\n",
       "      <td>0.002</td>\n",
       "      <td>0.929</td>\n",
       "    </tr>\n",
       "    <tr>\n",
       "      <th>8</th>\n",
       "      <td>4.661</td>\n",
       "      <td>1-</td>\n",
       "      <td>-0.006</td>\n",
       "      <td>-0.054</td>\n",
       "      <td>-0.188</td>\n",
       "      <td>-1.672</td>\n",
       "      <td>0.960</td>\n",
       "      <td>0.960</td>\n",
       "    </tr>\n",
       "    <tr>\n",
       "      <th>9</th>\n",
       "      <td>5.080</td>\n",
       "      <td>3-</td>\n",
       "      <td>-0.014</td>\n",
       "      <td>-0.698</td>\n",
       "      <td>-0.213</td>\n",
       "      <td>-0.075</td>\n",
       "      <td>1.000</td>\n",
       "      <td>0.000</td>\n",
       "    </tr>\n",
       "  </tbody>\n",
       "</table>\n",
       "</div>"
      ],
      "text/plain": [
       "              diag[1RDM - 1RDM(GS)]                                 \n",
       "  E [eV] char                    87    122    123    126   127   128\n",
       "0  0.000   3-                 0.000  0.000  0.000  0.000 0.000 0.000\n",
       "1  0.436   1-                -0.001 -0.009 -0.018 -0.067 0.004 0.091\n",
       "2  0.436   1-                -0.001 -0.009 -0.018 -0.067 0.092 0.002\n",
       "3  1.251   1-                -0.002 -0.019 -0.023 -0.067 0.054 0.057\n",
       "4  1.939   3-                -0.003 -0.010 -0.127 -0.860 1.000 0.000\n",
       "5  1.940   3-                -0.003 -0.010 -0.127 -0.860 0.000 1.000\n",
       "6  2.935   1-                -0.000 -0.032 -0.043 -0.855 0.929 0.002\n",
       "7  2.936   1-                -0.000 -0.032 -0.043 -0.855 0.002 0.929\n",
       "8  4.661   1-                -0.006 -0.054 -0.188 -1.672 0.960 0.960\n",
       "9  5.080   3-                -0.014 -0.698 -0.213 -0.075 1.000 0.000"
      ]
     },
     "metadata": {},
     "output_type": "display_data"
    },
    {
     "name": "stdout",
     "output_type": "stream",
     "text": [
      "-----------------------------------------------------\n"
     ]
    }
   ],
   "source": [
    "from westpy.qdet import QDETResult\n",
    "\n",
    "# construct object for effective Hamiltonian\n",
    "effective_hamiltonian = QDETResult(filename='west.wfreq.save/wfreq.json')\n",
    "\n",
    "# diagonalize Hamiltonian\n",
    "solution = effective_hamiltonian.solve()"
   ]
  },
  {
   "cell_type": "markdown",
   "id": "e00f8424",
   "metadata": {},
   "source": [
    "Calling the function `solve()` of the object `QDETResult` writes the excitation energies (in eV), spin multiplicity and relative occupation (compared to the occupation of the ground state) to screen.\n",
    "\n",
    "Let us consider the first excited state (`# 1`) as an example: It has an energy of `0.436 eV` above the ground state, has spin multiplicity `1` (i.e., it is a singlet), and is two-fold degenerate because state `# 2` has the same energy. From the one-body reduced density matrix (1RDM) analysis we see that 1 electron has been subtracted majorily from state 126 and it has been promoted to state 127 and state 128.\n",
    "\n",
    "More detailed information about the excitations is stored in the dictionary `solution`:"
   ]
  },
  {
   "cell_type": "code",
   "execution_count": 9,
   "id": "16f3be73",
   "metadata": {},
   "outputs": [
    {
     "name": "stdout",
     "output_type": "stream",
     "text": [
      "nstates:10\n",
      "nelec:(5, 5)\n",
      "norb:6\n",
      "evs_au:[4.18773738 4.20375853 4.20377099 4.23369325 4.25900775 4.25903557\n",
      " 4.29560564 4.29564459 4.35901051 4.37440862]\n",
      "evs:[0.         0.43595765 0.4362967  1.25052286 1.93936548 1.94012256\n",
      " 2.93524492 2.93630467 4.66057925 5.07958334]\n",
      "evcs:[FCIvector([[-3.29674537e-15, -7.07106780e-01,  2.04533335e-05,\n",
      "             1.18588538e-06, -3.83162589e-06, -3.47414437e-06],\n",
      "           [ 7.07106780e-01, -9.51376896e-15, -1.74794368e-05,\n",
      "            -1.22602660e-05,  3.91099022e-06, -9.13376476e-06],\n",
      "           [-2.04533335e-05,  1.74794368e-05,  2.67694696e-15,\n",
      "            -4.58827377e-08, -4.86043103e-09,  2.27797193e-09],\n",
      "           [-1.18588539e-06,  1.22602660e-05,  4.58827411e-08,\n",
      "             2.25803817e-15, -1.73431686e-09, -1.34489761e-08],\n",
      "           [ 3.83162590e-06, -3.91099022e-06,  4.86042931e-09,\n",
      "             1.73431285e-09,  5.13921145e-16,  1.02893774e-08],\n",
      "           [ 3.47414437e-06,  9.13376476e-06, -2.27797523e-09,\n",
      "             1.34489754e-08, -1.02893782e-08,  3.16781695e-17]]), FCIvector([[ 3.12538484e-01,  5.95944230e-01, -3.50911256e-02,\n",
      "            -1.80562783e-02,  1.24965791e-02,  4.17552810e-03],\n",
      "           [ 5.95944230e-01, -3.12051223e-01,  1.80071420e-01,\n",
      "             9.26888408e-02, -6.41405464e-02, -2.14563627e-02],\n",
      "           [-3.50911256e-02,  1.80071420e-01, -3.18738147e-05,\n",
      "            -1.64265509e-05,  1.88637333e-05,  6.60824213e-06],\n",
      "           [-1.80562783e-02,  9.26888408e-02, -1.64265509e-05,\n",
      "            -1.01314167e-05,  1.10404861e-05,  4.01739279e-06],\n",
      "           [ 1.24965791e-02, -6.41405464e-02,  1.88637333e-05,\n",
      "             1.10404861e-05, -1.10257167e-05, -3.69456119e-06],\n",
      "           [ 4.17552810e-03, -2.14563627e-02,  6.60824213e-06,\n",
      "             4.01739279e-06, -3.69456119e-06, -2.41157183e-06]]), FCIvector([[ 5.96312335e-01, -3.12295243e-01, -1.80213182e-01,\n",
      "            -9.27642035e-02,  6.41747202e-02,  2.14494938e-02],\n",
      "           [-3.12295243e-01, -5.95466371e-01, -3.50438017e-02,\n",
      "            -1.80446336e-02,  1.24816933e-02,  4.17671058e-03],\n",
      "           [-1.80213182e-01, -3.50438017e-02, -4.31209544e-05,\n",
      "            -2.59415504e-05,  3.12045640e-05,  1.16687310e-05],\n",
      "           [-9.27642035e-02, -1.80446336e-02, -2.59415504e-05,\n",
      "            -1.80889552e-05,  1.95961605e-05,  7.50295285e-06],\n",
      "           [ 6.41747202e-02,  1.24816933e-02,  3.12045640e-05,\n",
      "             1.95961605e-05, -1.98729076e-05, -6.95051242e-06],\n",
      "           [ 2.14494938e-02,  4.17671058e-03,  1.16687310e-05,\n",
      "             7.50295285e-06, -6.95051242e-06, -4.50673561e-06]]), FCIvector([[ 6.86741800e-01, -1.41266545e-05,  1.35628756e-04,\n",
      "             5.52970947e-05, -1.30059023e-05, -1.72537982e-05],\n",
      "           [-1.41266545e-05,  6.87671011e-01, -6.23592599e-05,\n",
      "            -2.01322310e-05,  1.50195573e-05,  7.05911217e-06],\n",
      "           [ 1.35628756e-04, -6.23592599e-05, -1.44812866e-01,\n",
      "            -8.22770266e-02,  7.38131648e-02,  2.20258254e-02],\n",
      "           [ 5.52970947e-05, -2.01322310e-05, -8.22770266e-02,\n",
      "            -5.11274414e-02,  4.55713555e-02,  1.42122368e-02],\n",
      "           [-1.30059023e-05,  1.50195573e-05,  7.38131648e-02,\n",
      "             4.55713555e-02, -4.01199698e-02, -1.20256214e-02],\n",
      "           [-1.72537982e-05,  7.05911217e-06,  2.20258254e-02,\n",
      "             1.42122368e-02, -1.20256214e-02, -6.86090150e-03]]), FCIvector([[-5.01382722e-16,  1.95514214e-05,  6.55633140e-01,\n",
      "             2.52222178e-01, -7.03398038e-02, -3.72904280e-02],\n",
      "           [-1.95514214e-05,  4.03020591e-15,  1.28136959e-02,\n",
      "             4.92844122e-03, -1.37219183e-03, -7.28247445e-04],\n",
      "           [-6.55633140e-01, -1.28136959e-02,  2.92953165e-15,\n",
      "             4.30231384e-06, -1.23232093e-06,  9.28125066e-06],\n",
      "           [-2.52222178e-01, -4.92844122e-03, -4.30231383e-06,\n",
      "             4.06475618e-15,  7.58788857e-08,  3.62186192e-06],\n",
      "           [ 7.03398038e-02,  1.37219183e-03,  1.23232093e-06,\n",
      "            -7.58788900e-08, -4.49688379e-15, -9.33925325e-07],\n",
      "           [ 3.72904280e-02,  7.28247445e-04, -9.28125066e-06,\n",
      "            -3.62186192e-06,  9.33925324e-07,  2.66801619e-17]]), FCIvector([[ 2.32180023e-15,  2.08775137e-05,  1.28124691e-02,\n",
      "             4.93008096e-03, -1.37718473e-03, -7.29294080e-04],\n",
      "           [-2.08775137e-05,  1.04372976e-15, -6.55632257e-01,\n",
      "            -2.52223545e-01,  7.03430061e-02,  3.72906660e-02],\n",
      "           [-1.28124691e-02,  6.55632257e-01, -3.09829936e-15,\n",
      "             4.94194485e-06,  5.46939059e-06,  3.12375521e-06],\n",
      "           [-4.93008096e-03,  2.52223545e-01, -4.94194485e-06,\n",
      "             1.55030249e-15,  2.61939724e-06,  1.43147749e-06],\n",
      "           [ 1.37718473e-03, -7.03430061e-02, -5.46939059e-06,\n",
      "            -2.61939723e-06,  2.17362586e-16, -3.12871899e-08],\n",
      "           [ 7.29294080e-04, -3.72906660e-02, -3.12375521e-06,\n",
      "            -1.43147749e-06,  3.12871900e-08,  6.30543608e-17]]), FCIvector([[ 1.76361569e-01, -6.07620501e-02,  6.53362483e-01,\n",
      "             1.46162693e-01,  1.27080925e-01,  3.51822166e-03],\n",
      "           [-6.07620501e-02, -1.76351709e-01,  2.70898668e-02,\n",
      "             6.05966331e-03,  5.26225182e-03,  1.45118338e-04],\n",
      "           [ 6.53362483e-01,  2.70898668e-02,  7.67336941e-05,\n",
      "             4.40799779e-05, -5.23443317e-05, -2.24353377e-05],\n",
      "           [ 1.46162693e-01,  6.05966331e-03,  4.40799779e-05,\n",
      "             2.71314791e-05, -2.68176962e-05, -8.97300344e-06],\n",
      "           [ 1.27080925e-01,  5.26225182e-03, -5.23443317e-05,\n",
      "            -2.68176962e-05, -1.24684819e-06,  2.23669815e-07],\n",
      "           [ 3.51822166e-03,  1.45118338e-04, -2.24353377e-05,\n",
      "            -8.97300344e-06,  2.23669816e-07,  2.72461981e-07]]), FCIvector([[-6.07310836e-02, -1.76193075e-01, -2.70816012e-02,\n",
      "            -6.05765544e-03, -5.27567482e-03, -1.47043831e-04],\n",
      "           [-1.76193075e-01,  6.07397706e-02,  6.53405469e-01,\n",
      "             1.46139732e-01,  1.27126908e-01,  3.52997448e-03],\n",
      "           [-2.70816012e-02,  6.53405469e-01, -8.38933178e-05,\n",
      "            -3.09495384e-05,  3.04755776e-05,  1.10834999e-05],\n",
      "           [-6.05765544e-03,  1.46139732e-01, -3.09495384e-05,\n",
      "            -1.34823021e-05,  1.29206721e-05,  3.92993231e-06],\n",
      "           [-5.27567482e-03,  1.27126908e-01,  3.04755776e-05,\n",
      "             1.29206721e-05,  5.11994265e-06,  1.98582206e-07],\n",
      "           [-1.47043831e-04,  3.52997448e-03,  1.10834999e-05,\n",
      "             3.92993231e-06,  1.98582207e-07,  2.09134696e-08]]), FCIvector([[-1.41369620e-01,  5.59970529e-06,  6.45096169e-05,\n",
      "            -7.33430944e-05,  1.50837972e-04,  2.37874655e-05],\n",
      "           [ 5.59970529e-06, -1.41453036e-01, -5.77018558e-05,\n",
      "             1.69718025e-05, -7.03177632e-05, -9.33677847e-06],\n",
      "           [ 6.45096169e-05, -5.77018558e-05, -8.55594971e-01,\n",
      "            -2.93717974e-01,  1.24509538e-01,  4.89959042e-02],\n",
      "           [-7.33430945e-05,  1.69718024e-05, -2.93717974e-01,\n",
      "            -8.44015042e-02,  1.81574489e-02,  9.27883703e-03],\n",
      "           [ 1.50837972e-04, -7.03177632e-05,  1.24509538e-01,\n",
      "             1.81574489e-02,  1.05539065e-01,  1.56811185e-02],\n",
      "           [ 2.37874656e-05, -9.33677847e-06,  4.89959042e-02,\n",
      "             9.27883703e-03,  1.56811185e-02,  5.51415477e-03]]), FCIvector([[-8.75257668e-16,  1.49645584e-06,  1.93565918e-01,\n",
      "            -3.25971355e-01,  5.90778822e-01,  8.40901628e-02],\n",
      "           [-1.49645585e-06, -6.66523964e-15,  3.71302714e-03,\n",
      "            -6.25834823e-03,  1.13393545e-02,  1.61378556e-03],\n",
      "           [-1.93565918e-01, -3.71302714e-03, -2.20386955e-14,\n",
      "             1.11502076e-05, -1.06972316e-05,  1.85428401e-06],\n",
      "           [ 3.25971355e-01,  6.25834823e-03, -1.11502076e-05,\n",
      "             1.76511926e-16, -4.90892504e-06, -4.86268311e-06],\n",
      "           [-5.90778822e-01, -1.13393545e-02,  1.06972316e-05,\n",
      "             4.90892505e-06, -1.38350974e-15,  7.81021895e-06],\n",
      "           [-8.40901628e-02, -1.61378556e-03, -1.85428401e-06,\n",
      "             4.86268311e-06, -7.81021895e-06,  5.87047197e-17]])]\n",
      "mults:[3. 1. 1. 1. 3. 3. 1. 1. 1. 3.]\n",
      "rdm1s:[[[ 2.00000000e+00 -4.48208617e-11 -2.15724724e-10  1.77189327e-10\n",
      "   -4.91318175e-06 -1.29170940e-05]\n",
      "  [-4.48208617e-11  2.00000000e+00 -1.04987130e-10  2.93462970e-10\n",
      "    5.41873690e-06 -5.53097554e-06]\n",
      "  [-2.15724724e-10 -1.04987130e-10  2.00000000e+00  4.77115666e-10\n",
      "    1.67709657e-06 -1.73386325e-05]\n",
      "  [ 1.77189327e-10  2.93462970e-10  4.77115666e-10  2.00000000e+00\n",
      "   -2.89253806e-05  2.47196567e-05]\n",
      "  [-4.91318175e-06  5.41873690e-06  1.67709657e-06 -2.89253806e-05\n",
      "    1.00000000e+00 -7.10610911e-10]\n",
      "  [-1.29170940e-05 -5.53097554e-06 -1.73386325e-05  2.47196567e-05\n",
      "   -7.10610911e-10  1.00000000e+00]]\n",
      "\n",
      " [[ 1.99904438e+00  2.85680573e-03  4.12832016e-03 -8.02040409e-03\n",
      "   -1.83714343e-02 -2.29642860e-02]\n",
      "  [ 2.85680573e-03  1.99145965e+00 -1.23415103e-02  2.39767987e-02\n",
      "    5.49352135e-02  6.86390823e-02]\n",
      "  [ 4.12832016e-03 -1.23415103e-02  1.98216550e+00  3.46484545e-02\n",
      "    7.93777847e-02  9.91900241e-02]\n",
      "  [-8.02040409e-03  2.39767987e-02  3.46484545e-02  1.93268579e+00\n",
      "   -1.54224949e-01 -1.92693750e-01]\n",
      "  [-1.83714343e-02  5.49352135e-02  7.93777847e-02 -1.54224949e-01\n",
      "    1.00376637e+00 -1.71865459e-02]\n",
      "  [-2.29642860e-02  6.86390823e-02  9.91900241e-02 -1.92693750e-01\n",
      "   -1.71865459e-02  1.09087831e+00]]\n",
      "\n",
      " [[ 1.99904495e+00  2.85729672e-03  4.13022605e-03 -8.02370062e-03\n",
      "    1.83726309e-02  2.29657786e-02]\n",
      "  [ 2.85729672e-03  1.99145162e+00 -1.23566920e-02  2.40050781e-02\n",
      "   -5.49512252e-02 -6.87226761e-02]\n",
      "  [ 4.13022605e-03 -1.23566920e-02  1.98213838e+00  3.46993743e-02\n",
      "   -7.94326067e-02 -9.93468280e-02]\n",
      "  [-8.02370062e-03  2.40050781e-02  3.46993743e-02  1.93259027e+00\n",
      "    1.54299085e-01  1.93013801e-01]\n",
      "  [ 1.83726309e-02 -5.49512252e-02 -7.94326067e-02  1.54299085e-01\n",
      "    1.09232914e+00  1.72313163e-02]\n",
      "  [ 2.29657786e-02 -6.87226761e-02 -9.93468280e-02  1.93013801e-01\n",
      "    1.72313163e-02  1.00244563e+00]]\n",
      "\n",
      " [[ 1.99824237e+00  5.67688255e-03  6.36877689e-03 -1.07954649e-02\n",
      "   -5.93180190e-06 -1.56019856e-05]\n",
      "  [ 5.67688255e-03  1.98144128e+00 -2.08046159e-02  3.53296609e-02\n",
      "    8.24167225e-06 -8.65705272e-06]\n",
      "  [ 6.36877689e-03 -2.08046159e-02  1.97667547e+00  3.95963937e-02\n",
      "    1.38006030e-05  4.63017387e-05]\n",
      "  [-1.07954649e-02  3.53296609e-02  3.95963937e-02  1.93265236e+00\n",
      "   -6.18672083e-05 -1.35224623e-04]\n",
      "  [-5.93180190e-06  8.24167225e-06  1.38006030e-05 -6.18672083e-05\n",
      "    1.05421715e+00 -3.88514861e-05]\n",
      "  [-1.56019856e-05 -8.65705272e-06  4.63017387e-05 -1.35224623e-04\n",
      "   -3.88514861e-05  1.05677136e+00]]\n",
      "\n",
      " [[ 1.99721779e+00  5.24800134e-03  1.88181241e-02 -4.89163439e-02\n",
      "    1.73427930e-06 -1.41001265e-05]\n",
      "  [ 5.24800134e-03  1.99010086e+00 -3.54960426e-02  9.22693786e-02\n",
      "   -2.71829279e-06 -1.70093376e-06]\n",
      "  [ 1.88181241e-02 -3.54960426e-02  1.87271937e+00  3.30856740e-01\n",
      "   -9.74686361e-06 -6.11499130e-06]\n",
      "  [-4.89163439e-02  9.22693786e-02  3.30856740e-01  1.13996199e+00\n",
      "    2.56693909e-05 -1.15038481e-06]\n",
      "  [ 1.73427930e-06 -2.71829279e-06 -9.74686361e-06  2.56693909e-05\n",
      "    1.99961821e+00  1.95356444e-02]\n",
      "  [-1.41001265e-05 -1.70093376e-06 -6.11499130e-06 -1.15038481e-06\n",
      "    1.95356444e-02  1.00038179e+00]]\n",
      "\n",
      " [[ 1.99721775e+00  5.24828388e-03  1.88183589e-02 -4.89166152e-02\n",
      "   -4.79212398e-06 -1.65131959e-06]\n",
      "  [ 5.24828388e-03  1.99009993e+00 -3.54979040e-02  9.22735781e-02\n",
      "    8.43332729e-06  3.10310899e-06]\n",
      "  [ 1.88183589e-02 -3.54979040e-02  1.87271796e+00  3.30858118e-01\n",
      "   -7.16132663e-06  1.03956613e-05]\n",
      "  [-4.89166152e-02  9.22735781e-02  3.30858118e-01  1.13996437e+00\n",
      "   -9.55524124e-07 -2.74050503e-05]\n",
      "  [-4.79212398e-06  8.43332729e-06 -7.16132663e-06 -9.55524124e-07\n",
      "    1.00038179e+00 -1.95356435e-02]\n",
      "  [-1.65131959e-06  3.10310899e-06  1.03956613e-05 -2.74050503e-05\n",
      "   -1.95356435e-02  1.99961821e+00]]\n",
      "\n",
      " [[ 1.99997520e+00  8.95727855e-04 -1.03022176e-03  4.60520628e-03\n",
      "    4.80054309e-04  1.19144172e-03]\n",
      "  [ 8.95727855e-04  1.96764549e+00  3.72127495e-02 -1.66344915e-01\n",
      "   -1.73025834e-02 -4.41083380e-02]\n",
      "  [-1.03022176e-03  3.72127495e-02  1.95719949e+00  1.91322764e-01\n",
      "    1.98971215e-02  5.08772213e-02]\n",
      "  [ 4.60520628e-03 -1.66344915e-01  1.91322764e-01  1.14476719e+00\n",
      "   -8.89498423e-02 -2.27263688e-01]\n",
      "  [ 4.80054309e-04 -1.73025834e-02  1.98971215e-02 -8.89498423e-02\n",
      "    1.92881951e+00  3.85076852e-02]\n",
      "  [ 1.19144172e-03 -4.41083380e-02  5.08772213e-02 -2.27263688e-01\n",
      "    3.85076852e-02  1.00159313e+00]]\n",
      "\n",
      " [[ 1.99997504e+00  8.99061768e-04 -1.03351975e-03  4.62097153e-03\n",
      "   -4.96319205e-04 -1.22670389e-03]\n",
      "  [ 8.99061768e-04  1.96762183e+00  3.72204989e-02 -1.66416575e-01\n",
      "    1.73472986e-02  4.41588280e-02]\n",
      "  [-1.03351975e-03  3.72204989e-02  1.95721296e+00  1.91305110e-01\n",
      "   -1.98465486e-02 -5.07601397e-02]\n",
      "  [ 4.62097153e-03 -1.66416575e-01  1.91305110e-01  1.14465574e+00\n",
      "    8.88077260e-02  2.26957054e-01]\n",
      "  [-4.96319205e-04  1.73472986e-02 -1.98465486e-02  8.88077260e-02\n",
      "    1.00159488e+00 -3.85065207e-02]\n",
      "  [-1.22670389e-03  4.41588280e-02 -5.07601397e-02  2.26957054e-01\n",
      "   -3.85065207e-02  1.92893955e+00]]\n",
      "\n",
      " [[ 1.99447400e+00  1.60207607e-02  2.96764667e-02 -8.48467771e-02\n",
      "    5.00594552e-06  3.22753402e-06]\n",
      "  [ 1.60207607e-02  1.94556653e+00 -7.20827896e-02  1.95907918e-01\n",
      "   -8.99288621e-06 -3.33670225e-06]\n",
      "  [ 2.96764667e-02 -7.20827896e-02  1.81238069e+00  5.57618509e-01\n",
      "   -2.35021544e-05  1.14153352e-06]\n",
      "  [-8.48467771e-02  1.95907918e-01  5.57618509e-01  3.27567534e-01\n",
      "    8.66685241e-05  4.56513745e-05]\n",
      "  [ 5.00594552e-06 -8.99288621e-06 -2.35021544e-05  8.66685241e-05\n",
      "    1.95998206e+00 -3.19903860e-06]\n",
      "  [ 3.22753402e-06 -3.33670225e-06  1.14153352e-06  4.56513745e-05\n",
      "   -3.19903860e-06  1.96002920e+00]]\n",
      "\n",
      " [[ 1.98585248e+00  9.93939733e-02  5.48421677e-02  3.25659635e-02\n",
      "    8.59947526e-11 -1.31210970e-05]\n",
      "  [ 9.93939733e-02  1.30170360e+00 -3.85295878e-01 -2.28793497e-01\n",
      "    1.81135158e-06 -2.22048852e-06]\n",
      "  [ 5.48421677e-02 -3.85295878e-01  1.78740702e+00 -1.26240364e-01\n",
      "    1.18542826e-06 -1.09158552e-05]\n",
      "  [ 3.25659635e-02 -2.28793497e-01 -1.26240364e-01  1.92503690e+00\n",
      "    2.03147364e-07  1.96079511e-05]\n",
      "  [ 8.59947526e-11  1.81135158e-06  1.18542826e-06  2.03147364e-07\n",
      "    1.99963172e+00  1.91870235e-02]\n",
      "  [-1.31210970e-05 -2.22048852e-06 -1.09158552e-05  1.96079511e-05\n",
      "    1.91870235e-02  1.00036828e+00]]]\n"
     ]
    }
   ],
   "source": [
    "for key in solution.keys() : \n",
    "    print(f'{key}:{solution[key]}')"
   ]
  },
  {
   "cell_type": "markdown",
   "id": "3a91e9ea",
   "metadata": {},
   "source": [
    "Explanation of the keys:\n",
    "\n",
    "- `nstates` : the number of excitations that have been calculated.\n",
    "- `evs` : excitation energies relative to the ground state (in eV).\n",
    "- `evs_au`: absolute energies of the many-body states (in Hartree).\n",
    "- `mults`: spin multiplicity of each state.\n",
    "- `rdm1s`: spin-summed reduced 1-body density matrix for each many-body state.\n",
    "- `evcs`: many-body state in 2nd quantization (eigenvector of the effective Hamiltonian)."
   ]
  }
 ],
 "metadata": {
  "kernelspec": {
   "display_name": "Python 3 (ipykernel)",
   "language": "python",
   "name": "python3"
  },
  "language_info": {
   "codemirror_mode": {
    "name": "ipython",
    "version": 3
   },
   "file_extension": ".py",
   "mimetype": "text/x-python",
   "name": "python",
   "nbconvert_exporter": "python",
   "pygments_lexer": "ipython3",
   "version": "3.11.5"
  }
 },
 "nbformat": 4,
 "nbformat_minor": 5
}
