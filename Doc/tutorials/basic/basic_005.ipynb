{
 "cells": [
  {
   "cell_type": "markdown",
   "id": "b2551216",
   "metadata": {},
   "source": [
    "This tutorial can be downloaded [link](https://github.com/west-code-development/West/raw/master/Doc/tutorials/basic/basic_005.ipynb)."
   ]
  },
  {
   "cell_type": "markdown",
   "id": "b41565b9",
   "metadata": {},
   "source": [
    "# Intro tutorial 5: Quantum Defect Embedding Theory (QDET) calculations"
   ]
  },
  {
   "cell_type": "markdown",
   "id": "5b15d4b3",
   "metadata": {},
   "source": [
    "This tutorial shows how to compute correlated excitations of the negatively charged nitrogen-vacancy defect ($\\mathrm{NV^-}$) in diamond using the Quantum Defect Embedding Theory (QDET). In QDET, a set of selected KS orbitals forms the active space. The effective Hamiltonian that describes excitations within the active space is formulated as:\n",
    "\n",
    "$$\n",
    "\\mathrm{H}^{\\text{eff}} = \\sum_{ij}^A t^{\\text{eff}}_{ij}\\hat{a}_i^\\dagger \\hat{a}_j + \\frac{1}{2} \\sum_{ijkl}^A v^{\\text{eff}}_{ijkl} \\hat{a}_i^\\dagger \\hat{a}_j^\\dagger \\hat{a}_l \\hat{a}_k,\n",
    "$$\n",
    "\n",
    "where $t^{\\text{eff}}$ and $v^{\\text{eff}}$ are the effective one- and two-body terms, respectively. Exact diagonalization of the effective Hamiltonian yields the excitations of the spin defect. More details about the method, and definitions for $t^{\\text{eff}}$ and $v^{\\text{eff}}$ can be found in [N. Sheng, C. Vorwerk, M. Govoni, and G. Galli, J. Chem. Theory Comput. 18, 6, 3512 (2022)](https://doi.org/10.1021/acs.jctc.2c00240).\n",
    "\n",
    "QDET calculations are performed in two separate steps:\n",
    "1. The parameters $t^{\\text{eff}}$ and $v^{\\text{eff}}$ are calculated from first principles and written to file.\n",
    "2. The effective Hamiltonian is constructed from the parameters read from file. Exact diagonalization is used to find the lowest eigenvalues and eigenvectors of the effective Hamiltonian."
   ]
  },
  {
   "cell_type": "markdown",
   "id": "bd4e59db",
   "metadata": {},
   "source": [
    "## Step 1: Parameters of the effective Hamiltonian"
   ]
  },
  {
   "cell_type": "markdown",
   "id": "69981b7e",
   "metadata": {},
   "source": [
    "The parameters of the effective Hamiltonian $\\mathrm{H}^{\\text{eff}}$ are calculated from first principles by:\n",
    "- 1.1 Carrying out a mean-field starting point calculation using density-functional theory (DFT)\n",
    "- 1.2 Computing the projective dielectric eigendcomposition (PDEP)\n",
    "- 1.3 Computing $t^{\\text{eff}}$ and $v^{\\text{eff}}$ for a chosen active space, and saving them to file"
   ]
  },
  {
   "cell_type": "markdown",
   "id": "75927bb4",
   "metadata": {},
   "source": [
    "### Step 1.1:  Mean-field starting point"
   ]
  },
  {
   "cell_type": "markdown",
   "id": "c2ed71cf",
   "metadata": {},
   "source": [
    "As a first step, we perform the mean-field electronic structure calculation within DFT using the [Quantum ESPRESSO](https://www.quantum-espresso.org/) code."
   ]
  },
  {
   "cell_type": "markdown",
   "id": "6db50d6d",
   "metadata": {},
   "source": [
    "Download the following files in your working directory:"
   ]
  },
  {
   "cell_type": "code",
   "execution_count": 1,
   "id": "2e0d3149",
   "metadata": {},
   "outputs": [],
   "source": [
    "%%bash\n",
    "wget -N -q https://west-code.org/doc/training/nv_diamond_63/pw.in\n",
    "wget -N -q http://www.quantum-simulation.org/potentials/sg15_oncv/upf/C_ONCV_PBE-1.0.upf\n",
    "wget -N -q http://www.quantum-simulation.org/potentials/sg15_oncv/upf/N_ONCV_PBE-1.0.upf"
   ]
  },
  {
   "cell_type": "markdown",
   "id": "c8d53dbb",
   "metadata": {},
   "source": [
    "We can now inspect the `pw.in` file, the input for the `pw.x` code:"
   ]
  },
  {
   "cell_type": "code",
   "execution_count": 2,
   "id": "75de84e9",
   "metadata": {
    "scrolled": false
   },
   "outputs": [
    {
     "name": "stdout",
     "output_type": "stream",
     "text": [
      "&CONTROL\n",
      "calculation = 'scf'\n",
      "wf_collect = .true.\n",
      "pseudo_dir = './'\n",
      "/\n",
      "&SYSTEM\n",
      "input_dft = 'PBE'\n",
      "ibrav = 0\n",
      "ecutwfc = 50\n",
      "nosym = .true.\n",
      "tot_charge = -1\n",
      "nspin = 1\n",
      "nbnd = 176\n",
      "occupations = 'from_input'\n",
      "nat = 63\n",
      "ntyp = 2\n",
      "/\n",
      "&ELECTRONS\n",
      "conv_thr = 1D-08\n",
      "/\n",
      "K_POINTS gamma\n",
      "CELL_PARAMETERS angstrom\n",
      "7.136012  0.000000  0.000000\n",
      "0.000000  7.136012  0.000000\n",
      "0.000000  0.000000  7.136012\n",
      "ATOMIC_SPECIES\n",
      "C  12.01099968  C_ONCV_PBE-1.0.upf\n",
      "N  14.00699997  N_ONCV_PBE-1.0.upf\n",
      "ATOMIC_POSITIONS crystal\n",
      "C    0.99996000  0.99996000  0.99996000\n",
      "C    0.12495000  0.12495000  0.12495000\n",
      "C    0.99905000  0.25039000  0.25039000\n",
      "C    0.12350000  0.37499000  0.37499000\n",
      "C    0.25039000  0.99905000  0.25039000\n",
      "C    0.37499000  0.12350000  0.37499000\n",
      "C    0.25039000  0.25039000  0.99905000\n",
      "C    0.37499000  0.37499000  0.12350000\n",
      "C    0.00146000  0.00146000  0.50100000\n",
      "C    0.12510000  0.12510000  0.62503000\n",
      "C    0.00102000  0.24944000  0.74960000\n",
      "C    0.12614000  0.37542000  0.87402000\n",
      "C    0.24944000  0.00102000  0.74960000\n",
      "C    0.37542000  0.12614000  0.87402000\n",
      "C    0.24839000  0.24839000  0.49966000\n",
      "C    0.37509000  0.37509000  0.61906000\n",
      "C    0.00146000  0.50100000  0.00146000\n",
      "C    0.12510000  0.62503000  0.12510000\n",
      "C    0.00102000  0.74960000  0.24944000\n",
      "C    0.12614000  0.87402000  0.37542000\n",
      "C    0.24839000  0.49966000  0.24839000\n",
      "C    0.37509000  0.61906000  0.37509000\n",
      "C    0.24944000  0.74960000  0.00102000\n",
      "C    0.37542000  0.87402000  0.12614000\n",
      "C    0.99883000  0.50076000  0.50076000\n",
      "C    0.12502000  0.62512000  0.62512000\n",
      "C    0.99961000  0.74983000  0.74983000\n",
      "C    0.12491000  0.87493000  0.87493000\n",
      "C    0.25216000  0.50142000  0.74767000\n",
      "C    0.37740000  0.62659000  0.87314000\n",
      "C    0.25216000  0.74767000  0.50142000\n",
      "C    0.37740000  0.87314000  0.62659000\n",
      "C    0.50100000  0.00146000  0.00146000\n",
      "C    0.62503000  0.12510000  0.12510000\n",
      "C    0.49966000  0.24839000  0.24839000\n",
      "C    0.61906000  0.37509000  0.37509000\n",
      "C    0.74960000  0.00102000  0.24944000\n",
      "C    0.87402000  0.12614000  0.37542000\n",
      "C    0.74960000  0.24944000  0.00102000\n",
      "C    0.87402000  0.37542000  0.12614000\n",
      "C    0.50076000  0.99883000  0.50076000\n",
      "C    0.62512000  0.12502000  0.62512000\n",
      "C    0.50142000  0.25216000  0.74767000\n",
      "C    0.62659000  0.37740000  0.87314000\n",
      "C    0.74983000  0.99961000  0.74983000\n",
      "C    0.87493000  0.12491000  0.87493000\n",
      "C    0.74767000  0.25216000  0.50142000\n",
      "C    0.87314000  0.37740000  0.62659000\n",
      "C    0.50076000  0.50076000  0.99883000\n",
      "C    0.62512000  0.62512000  0.12502000\n",
      "C    0.50142000  0.74767000  0.25216000\n",
      "C    0.62659000  0.87314000  0.37740000\n",
      "C    0.74767000  0.50142000  0.25216000\n",
      "C    0.87314000  0.62659000  0.37740000\n",
      "C    0.74983000  0.74983000  0.99961000\n",
      "C    0.87493000  0.87493000  0.12491000\n",
      "N    0.48731000  0.48731000  0.48731000\n",
      "C    0.49191000  0.76093000  0.76093000\n",
      "C    0.62368000  0.87476000  0.87476000\n",
      "C    0.76093000  0.49191000  0.76093000\n",
      "C    0.87476000  0.62368000  0.87476000\n",
      "C    0.76093000  0.76093000  0.49191000\n",
      "C    0.87476000  0.87476000  0.62368000\n",
      "OCCUPATIONS\n",
      "2.00  2.00  2.00  2.00  2.00  2.00  2.00  2.00  2.00  2.00  \n",
      "2.00  2.00  2.00  2.00  2.00  2.00  2.00  2.00  2.00  2.00  \n",
      "2.00  2.00  2.00  2.00  2.00  2.00  2.00  2.00  2.00  2.00  \n",
      "2.00  2.00  2.00  2.00  2.00  2.00  2.00  2.00  2.00  2.00  \n",
      "2.00  2.00  2.00  2.00  2.00  2.00  2.00  2.00  2.00  2.00  \n",
      "2.00  2.00  2.00  2.00  2.00  2.00  2.00  2.00  2.00  2.00  \n",
      "2.00  2.00  2.00  2.00  2.00  2.00  2.00  2.00  2.00  2.00  \n",
      "2.00  2.00  2.00  2.00  2.00  2.00  2.00  2.00  2.00  2.00  \n",
      "2.00  2.00  2.00  2.00  2.00  2.00  2.00  2.00  2.00  2.00  \n",
      "2.00  2.00  2.00  2.00  2.00  2.00  2.00  2.00  2.00  2.00  \n",
      "2.00  2.00  2.00  2.00  2.00  2.00  2.00  2.00  2.00  2.00  \n",
      "2.00  2.00  2.00  2.00  2.00  2.00  2.00  2.00  2.00  2.00  \n",
      "2.00  2.00  2.00  2.00  2.00  2.00  1.00  1.00  0.00  0.00  \n",
      "0.00  0.00  0.00  0.00  0.00  0.00  0.00  0.00  0.00  0.00  \n",
      "0.00  0.00  0.00  0.00  0.00  0.00  0.00  0.00  0.00  0.00  \n",
      "0.00  0.00  0.00  0.00  0.00  0.00  0.00  0.00  0.00  0.00  \n",
      "0.00  0.00  0.00  0.00  0.00  0.00  0.00  0.00  0.00  0.00  \n",
      "0.00  0.00  0.00  0.00  0.00  0.00  \n"
     ]
    }
   ],
   "source": [
    "%%bash\n",
    "cat pw.in"
   ]
  },
  {
   "cell_type": "markdown",
   "id": "dc078d90",
   "metadata": {},
   "source": [
    "We can now run `pw.x` on 2 cores."
   ]
  },
  {
   "cell_type": "code",
   "execution_count": null,
   "id": "7d4568b1",
   "metadata": {},
   "outputs": [],
   "source": [
    "%%bash\n",
    "mpirun -n 2 pw.x -i pw.in > pw.out"
   ]
  },
  {
   "cell_type": "markdown",
   "id": "ac262b75",
   "metadata": {},
   "source": [
    "We note that the calculation is spin unpolarized (i.e., `nspin=1`) in order to reduce spin contamination. The parameter `ecutwfc` and the size of the supercell may be increased to converge the results."
   ]
  },
  {
   "cell_type": "markdown",
   "id": "e05a174c",
   "metadata": {},
   "source": [
    "### Step 1.2: Calculation of dielectric screening"
   ]
  },
  {
   "cell_type": "markdown",
   "id": "a69f38ed",
   "metadata": {},
   "source": [
    "As for GW calculations with WEST, we first determine the dielectric screening before we can proceed to calculate the excitations of the spin defect. In WEST, the dielectric screening is obtained from the projective dielectric eigendecomposition (PDEP). The calculation with `wstat.x` requires an input file `wstat.in`."
   ]
  },
  {
   "cell_type": "markdown",
   "id": "2600dd69",
   "metadata": {},
   "source": [
    "You can download the input file with the following command:"
   ]
  },
  {
   "cell_type": "code",
   "execution_count": 3,
   "id": "99830b3d",
   "metadata": {},
   "outputs": [],
   "source": [
    "%%bash\n",
    "wget -N -q https://west-code.org/doc/training/nv_diamond_63/wstat.in"
   ]
  },
  {
   "cell_type": "markdown",
   "id": "20253ec0",
   "metadata": {},
   "source": [
    "Once again, we can have a look at the input file:"
   ]
  },
  {
   "cell_type": "code",
   "execution_count": 4,
   "id": "13134f6c",
   "metadata": {},
   "outputs": [
    {
     "name": "stdout",
     "output_type": "stream",
     "text": [
      "wstat_control:\n",
      "  wstat_calculation: S\n",
      "  n_pdep_eigen: 512\n",
      "  trev_pdep: 0.00001\n"
     ]
    }
   ],
   "source": [
    "%%bash\n",
    "cat wstat.in"
   ]
  },
  {
   "cell_type": "markdown",
   "id": "6bb76bf7",
   "metadata": {},
   "source": [
    "As we can see, there are no input parameters in `wstat.in` specific to QDET. We can now execute `wstat.x` with the following command."
   ]
  },
  {
   "cell_type": "code",
   "execution_count": null,
   "id": "de05aee6",
   "metadata": {},
   "outputs": [],
   "source": [
    "%%bash\n",
    "mpirun -n 2 wstat.x -i wstat.in > wstat.out"
   ]
  },
  {
   "cell_type": "markdown",
   "id": "259b22be",
   "metadata": {},
   "source": [
    "The number of PDEPs, i.e, `n_pdep_eigen`, may be increased to converge the results."
   ]
  },
  {
   "cell_type": "markdown",
   "id": "5426489b",
   "metadata": {},
   "source": [
    "### Step 1.3: QDET calculation"
   ]
  },
  {
   "cell_type": "markdown",
   "id": "06a7dd86",
   "metadata": {},
   "source": [
    "The calculation of the paramters for the effective Hamiltonian is carried out by using the `wfreq.x` program. The program will: (i) compute the $\\mathrm{G_0W_0}$ quasiparticle energies, (ii) compute the partially screened Coulomb potential, and (iii) finally compute the parameters of the effective Hamiltonian."
   ]
  },
  {
   "cell_type": "markdown",
   "id": "1ad90c53",
   "metadata": {},
   "source": [
    "You can download the input file with the following command:"
   ]
  },
  {
   "cell_type": "code",
   "execution_count": 5,
   "id": "9f96991d",
   "metadata": {},
   "outputs": [],
   "source": [
    "%%bash\n",
    "wget -N -q https://west-code.org/doc/training/nv_diamond_63/wfreq.in"
   ]
  },
  {
   "cell_type": "markdown",
   "id": "b42906ec",
   "metadata": {},
   "source": [
    "Let us again inspect the file `wfreq.in`:"
   ]
  },
  {
   "cell_type": "code",
   "execution_count": 6,
   "id": "37c7d958",
   "metadata": {},
   "outputs": [
    {
     "name": "stdout",
     "output_type": "stream",
     "text": [
      "wstat_control:\n",
      "  wstat_calculation: S\n",
      "  n_pdep_eigen: 512\n",
      "  trev_pdep: 0.00001\n",
      "\n",
      "wfreq_control:\n",
      "  wfreq_calculation: XWGQH\n",
      "  macropol_calculation: C\n",
      "  l_enable_off_diagonal: true\n",
      "  n_pdep_eigen_to_use: 512\n",
      "  qp_bands: [87, 122, 123, 126, 127, 128]\n",
      "  n_refreq: 300\n",
      "  ecut_refreq: 2.0\n"
     ]
    }
   ],
   "source": [
    "%%bash\n",
    "cat wfreq.in"
   ]
  },
  {
   "cell_type": "markdown",
   "id": "d0ca16a0",
   "metadata": {},
   "source": [
    "The QDET calculation is triggered by the keyword `H` (for effective Hamiltonian) in the variable `wfreq_calculation`. The KS states that define the active space are selected with the variable `qp_bands` (in our case states 87, 122, 123, 126, 127, and 128). The active space may be chosen to be a set of localized defect orbitals in the supercell. See [Tutorial 6](https://github.com/west-code-development/West/raw/master/Doc/tutorials/basic/basic_006.ipynb) for the identification of the localized orbitals.\n",
    "\n",
    "For QDET, it is mandatory to set the flag `l_enable_off_diagonal : true` which activates the calculation of off-diagonal entries of the GW self-energy matrix."
   ]
  },
  {
   "cell_type": "markdown",
   "id": "e5c13ce0",
   "metadata": {},
   "source": [
    "The `wfreq.x` calculation can be performed as"
   ]
  },
  {
   "cell_type": "code",
   "execution_count": null,
   "id": "67c599f5",
   "metadata": {},
   "outputs": [],
   "source": [
    "%%bash\n",
    "mpirun -n 2 wfreq.x -i wfreq.in > wfreq.out"
   ]
  },
  {
   "cell_type": "markdown",
   "id": "8d66bb91",
   "metadata": {},
   "source": [
    "If the reader does NOT have the computational resources to run the calculation, the WEST output file needed for the next step can be directly downloaded as:"
   ]
  },
  {
   "cell_type": "code",
   "execution_count": 7,
   "id": "d5b12885",
   "metadata": {},
   "outputs": [],
   "source": [
    "%%bash\n",
    "mkdir -p west.wfreq.save\n",
    "wget -N -q https://west-code.org/doc/training/nv_diamond_63/wfreq.json -O west.wfreq.save/wfreq.json"
   ]
  },
  {
   "cell_type": "markdown",
   "id": "72ffaba7",
   "metadata": {},
   "source": [
    "## Step 2: Exact diagonalization of the effective Hamiltonian"
   ]
  },
  {
   "cell_type": "markdown",
   "id": "ec29719e",
   "metadata": {},
   "source": [
    "The effective Hamiltonian is constructed and diagonalized using the [WESTpy Python package](https://west-code.org/doc/westpy/latest/)."
   ]
  },
  {
   "cell_type": "code",
   "execution_count": 8,
   "id": "92808de0",
   "metadata": {},
   "outputs": [
    {
     "name": "stdout",
     "output_type": "stream",
     "text": [
      " \n",
      " _    _ _____ _____ _____            \n",
      "| |  | |  ___/  ___|_   _|           \n",
      "| |  | | |__ \\ `--.  | |_ __  _   _  \n",
      "| |/\\| |  __| `--. \\ | | '_ \\| | | | \n",
      "\\  /\\  / |___/\\__/ / | | |_) | |_| | \n",
      " \\/  \\/\\____/\\____/  \\_/ .__/ \\__, | \n",
      "                       | |     __/ | \n",
      "                       |_|    |___/  \n",
      " \n",
      "WEST version     :  5.2.0\n",
      "Today            :  2022-09-02 12:57:56.552695\n",
      "-----------------------------------------------------\n",
      "===============================================================\n",
      "Building effective Hamiltonian...\n",
      "nspin: 1\n",
      "occupations: [[2. 2. 2. 2. 1. 1.]]\n",
      "===============================================================\n"
     ]
    },
    {
     "data": {
      "text/html": [
       "<div>\n",
       "<style scoped>\n",
       "    .dataframe tbody tr th:only-of-type {\n",
       "        vertical-align: middle;\n",
       "    }\n",
       "\n",
       "    .dataframe tbody tr th {\n",
       "        vertical-align: top;\n",
       "    }\n",
       "\n",
       "    .dataframe thead tr th {\n",
       "        text-align: left;\n",
       "    }\n",
       "</style>\n",
       "<table border=\"1\" class=\"dataframe\">\n",
       "  <thead>\n",
       "    <tr>\n",
       "      <th></th>\n",
       "      <th colspan=\"2\" halign=\"left\"></th>\n",
       "      <th colspan=\"6\" halign=\"left\">diag[1RDM - 1RDM(GS)]</th>\n",
       "    </tr>\n",
       "    <tr>\n",
       "      <th></th>\n",
       "      <th>E [eV]</th>\n",
       "      <th>char</th>\n",
       "      <th>87</th>\n",
       "      <th>122</th>\n",
       "      <th>123</th>\n",
       "      <th>126</th>\n",
       "      <th>127</th>\n",
       "      <th>128</th>\n",
       "    </tr>\n",
       "  </thead>\n",
       "  <tbody>\n",
       "    <tr>\n",
       "      <th>0</th>\n",
       "      <td>0.000</td>\n",
       "      <td>3-</td>\n",
       "      <td>0.000</td>\n",
       "      <td>0.000</td>\n",
       "      <td>0.000</td>\n",
       "      <td>0.000</td>\n",
       "      <td>0.000</td>\n",
       "      <td>0.000</td>\n",
       "    </tr>\n",
       "    <tr>\n",
       "      <th>1</th>\n",
       "      <td>0.436</td>\n",
       "      <td>1-</td>\n",
       "      <td>-0.001</td>\n",
       "      <td>-0.009</td>\n",
       "      <td>-0.018</td>\n",
       "      <td>-0.067</td>\n",
       "      <td>0.037</td>\n",
       "      <td>0.058</td>\n",
       "    </tr>\n",
       "    <tr>\n",
       "      <th>2</th>\n",
       "      <td>0.436</td>\n",
       "      <td>1-</td>\n",
       "      <td>-0.001</td>\n",
       "      <td>-0.009</td>\n",
       "      <td>-0.018</td>\n",
       "      <td>-0.067</td>\n",
       "      <td>0.058</td>\n",
       "      <td>0.037</td>\n",
       "    </tr>\n",
       "    <tr>\n",
       "      <th>3</th>\n",
       "      <td>1.250</td>\n",
       "      <td>1-</td>\n",
       "      <td>-0.002</td>\n",
       "      <td>-0.019</td>\n",
       "      <td>-0.023</td>\n",
       "      <td>-0.067</td>\n",
       "      <td>0.056</td>\n",
       "      <td>0.055</td>\n",
       "    </tr>\n",
       "    <tr>\n",
       "      <th>4</th>\n",
       "      <td>1.941</td>\n",
       "      <td>3-</td>\n",
       "      <td>-0.003</td>\n",
       "      <td>-0.010</td>\n",
       "      <td>-0.127</td>\n",
       "      <td>-0.860</td>\n",
       "      <td>0.000</td>\n",
       "      <td>1.000</td>\n",
       "    </tr>\n",
       "    <tr>\n",
       "      <th>5</th>\n",
       "      <td>1.941</td>\n",
       "      <td>3-</td>\n",
       "      <td>-0.003</td>\n",
       "      <td>-0.010</td>\n",
       "      <td>-0.127</td>\n",
       "      <td>-0.860</td>\n",
       "      <td>1.000</td>\n",
       "      <td>0.000</td>\n",
       "    </tr>\n",
       "    <tr>\n",
       "      <th>6</th>\n",
       "      <td>2.937</td>\n",
       "      <td>1-</td>\n",
       "      <td>-0.000</td>\n",
       "      <td>-0.032</td>\n",
       "      <td>-0.043</td>\n",
       "      <td>-0.855</td>\n",
       "      <td>0.110</td>\n",
       "      <td>0.821</td>\n",
       "    </tr>\n",
       "    <tr>\n",
       "      <th>7</th>\n",
       "      <td>2.937</td>\n",
       "      <td>1-</td>\n",
       "      <td>-0.000</td>\n",
       "      <td>-0.033</td>\n",
       "      <td>-0.043</td>\n",
       "      <td>-0.855</td>\n",
       "      <td>0.821</td>\n",
       "      <td>0.109</td>\n",
       "    </tr>\n",
       "    <tr>\n",
       "      <th>8</th>\n",
       "      <td>4.662</td>\n",
       "      <td>1-</td>\n",
       "      <td>-0.005</td>\n",
       "      <td>-0.055</td>\n",
       "      <td>-0.188</td>\n",
       "      <td>-1.672</td>\n",
       "      <td>0.960</td>\n",
       "      <td>0.960</td>\n",
       "    </tr>\n",
       "    <tr>\n",
       "      <th>9</th>\n",
       "      <td>5.073</td>\n",
       "      <td>3-</td>\n",
       "      <td>-0.014</td>\n",
       "      <td>-0.702</td>\n",
       "      <td>-0.209</td>\n",
       "      <td>-0.075</td>\n",
       "      <td>0.000</td>\n",
       "      <td>1.000</td>\n",
       "    </tr>\n",
       "  </tbody>\n",
       "</table>\n",
       "</div>"
      ],
      "text/plain": [
       "              diag[1RDM - 1RDM(GS)]                                 \n",
       "  E [eV] char                    87    122    123    126   127   128\n",
       "0  0.000   3-                 0.000  0.000  0.000  0.000 0.000 0.000\n",
       "1  0.436   1-                -0.001 -0.009 -0.018 -0.067 0.037 0.058\n",
       "2  0.436   1-                -0.001 -0.009 -0.018 -0.067 0.058 0.037\n",
       "3  1.250   1-                -0.002 -0.019 -0.023 -0.067 0.056 0.055\n",
       "4  1.941   3-                -0.003 -0.010 -0.127 -0.860 0.000 1.000\n",
       "5  1.941   3-                -0.003 -0.010 -0.127 -0.860 1.000 0.000\n",
       "6  2.937   1-                -0.000 -0.032 -0.043 -0.855 0.110 0.821\n",
       "7  2.937   1-                -0.000 -0.033 -0.043 -0.855 0.821 0.109\n",
       "8  4.662   1-                -0.005 -0.055 -0.188 -1.672 0.960 0.960\n",
       "9  5.073   3-                -0.014 -0.702 -0.209 -0.075 0.000 1.000"
      ]
     },
     "metadata": {},
     "output_type": "display_data"
    },
    {
     "name": "stdout",
     "output_type": "stream",
     "text": [
      "-----------------------------------------------------\n"
     ]
    }
   ],
   "source": [
    "from westpy.qdet import QDETResult\n",
    "\n",
    "# construct object for effective Hamiltonian\n",
    "effective_hamiltonian = QDETResult(filename='west.wfreq.save/wfreq.json')\n",
    "\n",
    "# diagonalize Hamiltonian\n",
    "solution = effective_hamiltonian.solve()"
   ]
  },
  {
   "cell_type": "markdown",
   "id": "e00f8424",
   "metadata": {},
   "source": [
    "Calling the function `solve()` of the object `QDETResult` writes the excitation energies (in eV), spin multiplicity and relative occupation (compared to the occupation of the ground state) to screen.\n",
    "\n",
    "Let us consider the first excited state (`# 1`) as an example: It has an energy of `0.436 eV` above the ground state, has spin multiplicity `1` (i.e., it is a singlet), and is two-fold degenerate because state `# 2` has the same energy. From the one-body reduced density matrix (1RDM) analysis we see that 1 electron has been subtracted majorily from state 126 and it has been promoted to state 127 and state 128."
   ]
  },
  {
   "cell_type": "markdown",
   "id": "e36a34a4",
   "metadata": {},
   "source": [
    "More detailed information about the excitations is stored in the dictionary `solution`:"
   ]
  },
  {
   "cell_type": "code",
   "execution_count": 9,
   "id": "16f3be73",
   "metadata": {},
   "outputs": [
    {
     "name": "stdout",
     "output_type": "stream",
     "text": [
      "nstates:10\n",
      "evs_au:[2273145.00910188 2273145.02512618 2273145.02512955 2273145.05505135\n",
      " 2273145.08041893 2273145.08042132 2273145.11702799 2273145.11703029\n",
      " 2273145.18042531 2273145.19552278]\n",
      "evs:[0.         0.4360435  0.43613512 1.25034895 1.94063594 1.94070088\n",
      " 2.93681906 2.93688176 4.66194801 5.07277111]\n",
      "evcs:[array([[ 7.73007108e-09, -7.07106827e-01, -1.64527753e-05,\n",
      "         9.34618676e-06, -6.89608064e-06,  2.31939972e-06],\n",
      "       [ 7.07106735e-01, -1.15254803e-08, -7.00817123e-06,\n",
      "        -3.64154316e-06,  2.36781755e-06, -7.72771029e-07],\n",
      "       [ 1.64413710e-05,  7.02365680e-06, -1.13557158e-09,\n",
      "        -5.27809807e-08,  1.75745764e-08, -1.05715525e-08],\n",
      "       [-9.33519187e-06,  3.62640227e-06,  5.44024249e-08,\n",
      "         1.00655141e-09, -7.66146496e-09, -6.51091105e-09],\n",
      "       [ 6.88976822e-06, -2.35880285e-06, -1.81125098e-08,\n",
      "         7.53619833e-09, -2.94023722e-10,  5.57191129e-09],\n",
      "       [-2.32003469e-06,  7.70576861e-07,  1.03687250e-08,\n",
      "         6.48446494e-09, -4.94186286e-09, -7.71834888e-11]]), array([[ 1.29070974e-01, -6.60305216e-01, -1.13898237e-01,\n",
      "         5.86562033e-02, -4.06902130e-02,  1.35490651e-02],\n",
      "       [-6.60305313e-01, -1.29090534e-01,  1.43773509e-01,\n",
      "        -7.40356510e-02,  5.13606522e-02, -1.71017860e-02],\n",
      "       [-1.13898237e-01,  1.43773508e-01,  5.47075997e-06,\n",
      "        -2.08701699e-06,  1.57022798e-06, -4.46351244e-07],\n",
      "       [ 5.86562040e-02, -7.40356506e-02, -2.08378990e-06,\n",
      "         7.76142388e-07, -6.03104044e-07,  1.63920769e-07],\n",
      "       [-4.06902156e-02,  5.13606547e-02,  1.56953035e-06,\n",
      "        -6.02793296e-07,  3.79718760e-07, -8.47297359e-08],\n",
      "       [ 1.35490659e-02, -1.71017855e-02, -4.46121582e-07,\n",
      "         1.63934686e-07, -8.52042738e-08,  4.48157992e-08]]), array([[ 6.60261280e-01,  1.29074728e-01,  1.43774228e-01,\n",
      "        -7.40482214e-02,  5.13631860e-02, -1.71034323e-02],\n",
      "       [ 1.29074727e-01, -6.60356376e-01,  1.13881219e-01,\n",
      "        -5.86481093e-02,  4.06823424e-02, -1.35464626e-02],\n",
      "       [ 1.43774227e-01,  1.13881218e-01,  1.15769516e-05,\n",
      "        -8.14778764e-06,  7.09396273e-06, -2.16502261e-06],\n",
      "       [-7.40482235e-02, -5.86481086e-02, -8.14825134e-06,\n",
      "         5.51674438e-06, -4.67407203e-06,  1.47481868e-06],\n",
      "       [ 5.13631868e-02,  4.06823414e-02,  7.09421115e-06,\n",
      "        -4.67397038e-06,  4.03388588e-06, -1.23413687e-06],\n",
      "       [-1.71034317e-02, -1.35464626e-02, -2.16512200e-06,\n",
      "         1.47472330e-06, -1.23401820e-06,  5.87742479e-07]]), array([[ 6.87239872e-01,  1.98469041e-06,  1.10329515e-05,\n",
      "        -1.08481007e-05, -7.99376096e-07, -8.65461291e-07],\n",
      "       [ 1.98795876e-06,  6.87153256e-01,  2.56287393e-05,\n",
      "        -1.26064478e-05,  7.73165122e-06, -2.95734252e-06],\n",
      "       [ 1.10279863e-05,  2.56269525e-05, -1.44744774e-01,\n",
      "         8.22640248e-02, -7.39245056e-02,  2.19874583e-02],\n",
      "       [-1.08429649e-05, -1.26058799e-05,  8.22640246e-02,\n",
      "        -5.11317236e-02,  4.56419106e-02, -1.41929510e-02],\n",
      "       [-8.00485698e-07,  7.73163065e-06, -7.39245058e-02,\n",
      "         4.56419105e-02, -4.02420149e-02,  1.20283466e-02],\n",
      "       [-8.66273084e-07, -2.95726478e-06,  2.19874584e-02,\n",
      "        -1.41929509e-02,  1.20283466e-02, -6.85012579e-03]]), array([[-3.36257642e-09, -5.25692911e-06,  1.10841344e-02,\n",
      "        -4.26606854e-03,  1.19485567e-03, -6.28496666e-04],\n",
      "       [ 5.26020171e-06,  2.64114984e-09,  6.55580307e-01,\n",
      "        -2.52350627e-01,  7.07631382e-02, -3.71931777e-02],\n",
      "       [-1.10841343e-02, -6.55580293e-01,  5.71289076e-09,\n",
      "         2.63276688e-06, -4.15056195e-06,  1.14835756e-06],\n",
      "       [ 4.26605883e-03,  2.52350616e-01, -2.63270633e-06,\n",
      "        -1.41075198e-10,  1.32603643e-06, -2.91942909e-07],\n",
      "       [-1.19485826e-03, -7.07631429e-02,  4.15140428e-06,\n",
      "        -1.32692447e-06,  2.48524622e-10, -1.19104537e-07],\n",
      "       [ 6.28497786e-04,  3.71931758e-02, -1.14727538e-06,\n",
      "         2.91761178e-07,  1.19048426e-07, -6.13493937e-11]]), array([[-4.25246142e-09, -1.93114249e-05,  6.55581378e-01,\n",
      "        -2.52349120e-01,  7.07590063e-02, -3.71923474e-02],\n",
      "       [ 1.93095704e-05, -1.64179717e-09, -1.10834425e-02,\n",
      "         4.26691743e-03, -1.19788094e-03,  6.29138652e-04],\n",
      "       [-6.55581366e-01,  1.10834407e-02,  1.09372818e-09,\n",
      "         4.73831087e-06,  7.62663290e-07,  3.12466570e-07],\n",
      "       [ 2.52349111e-01, -4.26692332e-03, -4.74115585e-06,\n",
      "         3.71273098e-09, -7.60506375e-07,  1.55667147e-07],\n",
      "       [-7.07590154e-02,  1.19788601e-03, -7.64389941e-07,\n",
      "         7.57572734e-07, -2.95534526e-09,  3.96268098e-08],\n",
      "       [ 3.71923513e-02, -6.29142860e-04, -3.13791354e-07,\n",
      "        -1.53483551e-07, -3.92508904e-08,  2.55443836e-10]]), array([[ 1.74499053e-01, -6.52159062e-02, -2.24310823e-01,\n",
      "         5.02023052e-02,  4.37214061e-02, -1.24493512e-03],\n",
      "       [-6.52159085e-02, -1.74473753e-01, -6.14250513e-01,\n",
      "         1.37474575e-01,  1.19741607e-01, -3.41128665e-03],\n",
      "       [-2.24310827e-01, -6.14250528e-01, -2.68187985e-05,\n",
      "         1.30085224e-05, -4.40781938e-06,  2.32828167e-06],\n",
      "       [ 5.02023083e-02,  1.37474583e-01,  1.30080282e-05,\n",
      "        -4.77493406e-06,  1.05022507e-07, -6.00990627e-07],\n",
      "       [ 4.37214052e-02,  1.19741604e-01, -4.40714739e-06,\n",
      "         1.05048593e-07,  2.36940022e-06, -3.40098501e-07],\n",
      "       [-1.24493378e-03, -3.41128541e-03,  2.32686823e-06,\n",
      "        -6.00859921e-07, -3.40276487e-07, -2.95389967e-08]]), array([[ 6.52258803e-02,  1.74501485e-01, -6.14246624e-01,\n",
      "         1.37470584e-01,  1.19742773e-01, -3.41217998e-03],\n",
      "       [ 1.74501490e-01, -6.52198346e-02,  2.24307583e-01,\n",
      "        -5.02012576e-02, -4.37325626e-02,  1.24683778e-03],\n",
      "       [-6.14246637e-01,  2.24307585e-01,  2.64882697e-05,\n",
      "        -5.28776559e-06,  6.15797068e-06, -1.73473908e-06],\n",
      "       [ 1.37470590e-01, -5.02012626e-02, -5.28667276e-06,\n",
      "         8.36967445e-07, -2.14706644e-06,  3.94905488e-07],\n",
      "       [ 1.19742768e-01, -4.37325609e-02,  6.15792119e-06,\n",
      "        -2.14812153e-06, -1.99486390e-06,  8.62339297e-08],\n",
      "       [-3.41217781e-03,  1.24683692e-03, -1.73177598e-06,\n",
      "         3.95076374e-07,  8.64355278e-08, -6.50137550e-08]]), array([[-1.41407053e-01,  2.99699168e-06, -9.52556163e-06,\n",
      "         5.24066083e-07,  1.50190047e-05, -1.64001185e-06],\n",
      "       [ 2.99428590e-06, -1.41404596e-01,  2.51272377e-05,\n",
      "        -3.77163514e-06, -8.07373395e-06,  6.62080447e-07],\n",
      "       [-9.52672604e-06,  2.51207988e-05, -8.55400224e-01,\n",
      "         2.93816844e-01, -1.24901181e-01,  4.88123931e-02],\n",
      "       [ 5.27103381e-07, -3.76912115e-06,  2.93816844e-01,\n",
      "        -8.44914035e-02,  1.82540779e-02, -9.22173480e-03],\n",
      "       [ 1.50176256e-05, -8.07255676e-06, -1.24901180e-01,\n",
      "         1.82540781e-02,  1.05730480e-01, -1.56826442e-02],\n",
      "       [-1.64149262e-06,  6.61970563e-07,  4.88123926e-02,\n",
      "        -9.22173451e-03, -1.56826443e-02,  5.52527933e-03]]), array([[-1.59967559e-09,  5.70757393e-06,  1.86015930e-03,\n",
      "         3.11077793e-03, -5.70007558e-03,  8.07090206e-04],\n",
      "       [-5.70564866e-06,  1.63146772e-09, -1.93194689e-01,\n",
      "        -3.23403212e-01,  5.92457008e-01, -8.38725431e-02],\n",
      "       [-1.86015971e-03,  1.93194695e-01, -2.16043091e-09,\n",
      "        -9.72877036e-06,  1.46284396e-05, -2.39685119e-06],\n",
      "       [-3.11076765e-03,  3.23403206e-01,  9.72697484e-06,\n",
      "         3.55108332e-10, -4.32094674e-06, -3.69775843e-08],\n",
      "       [ 5.70007557e-03, -5.92456984e-01, -1.46276403e-05,\n",
      "         4.32215478e-06, -1.34618838e-10,  1.06611776e-06],\n",
      "       [-8.07089588e-04,  8.38725406e-02,  2.39618407e-06,\n",
      "         3.73475247e-08, -1.06569366e-06,  3.52336517e-11]])]\n",
      "mults:[3. 1. 1. 1. 3. 3. 1. 1. 1. 3.]\n",
      "rdm1s:[[[ 2.00000000e+00 -3.56269636e-11 -4.89452146e-11 -6.54780185e-11\n",
      "    3.28057575e-06 -1.09131191e-06]\n",
      "  [-3.56269636e-11  2.00000000e+00 -1.45947825e-10 -1.93574484e-10\n",
      "    9.74806740e-06 -3.34222609e-06]\n",
      "  [-4.89452146e-11 -1.45947825e-10  2.00000000e+00 -2.56263036e-10\n",
      "    1.32097303e-05 -5.13921518e-06]\n",
      "  [-6.54780185e-11 -1.93574484e-10 -2.56263036e-10  2.00000000e+00\n",
      "    2.32596744e-05  9.92200205e-06]\n",
      "  [ 3.28057575e-06  9.74806740e-06  1.32097303e-05  2.32596744e-05\n",
      "    1.00000000e+00  1.26734662e-10]\n",
      "  [-1.09131191e-06 -3.34222609e-06 -5.13921518e-06  9.92200205e-06\n",
      "    1.26734662e-10  1.00000000e+00]]\n",
      "\n",
      " [[ 1.99904790e+00 -2.85934655e-03 -4.12175717e-03 -8.00399684e-03\n",
      "    1.34778442e-02  2.60825095e-02]\n",
      "  [-2.85934655e-03  1.99141278e+00 -1.23785058e-02 -2.40376901e-02\n",
      "    4.04761598e-02  7.83317325e-02]\n",
      "  [-4.12175717e-03 -1.23785058e-02  1.98215634e+00 -3.46504070e-02\n",
      "    5.83481790e-02  1.12914506e-01]\n",
      "  [-8.00399684e-03 -2.40376901e-02 -3.46504070e-02  1.93271274e+00\n",
      "    1.13297672e-01  2.19272353e-01]\n",
      "  [ 1.34778442e-02  4.04761598e-02  5.83481790e-02  1.13297672e-01\n",
      "    1.03650021e+00 -4.60537463e-02]\n",
      "  [ 2.60825095e-02  7.83317325e-02  1.12914506e-01  2.19272353e-01\n",
      "   -4.60537463e-02  1.05817002e+00]]\n",
      "\n",
      " [[ 1.99904793e+00 -2.85917723e-03 -4.12190637e-03 -8.00344087e-03\n",
      "   -1.34749618e-02 -2.60834676e-02]\n",
      "  [-2.85917723e-03  1.99141354e+00 -1.23785904e-02 -2.40353145e-02\n",
      "   -4.04677834e-02 -7.83315594e-02]\n",
      "  [-4.12190637e-03 -1.23785904e-02  1.98215452e+00 -3.46502886e-02\n",
      "   -5.83388739e-02 -1.12926016e-01]\n",
      "  [-8.00344087e-03 -2.40353145e-02 -3.46502886e-02  1.93272008e+00\n",
      "   -1.13284910e-01 -2.19260824e-01]\n",
      "  [-1.34749618e-02 -4.04677834e-02 -5.83388739e-02 -1.13284910e-01\n",
      "    1.05804416e+00  4.60499274e-02]\n",
      "  [-2.60834676e-02 -7.83315594e-02 -1.12926016e-01 -2.19260824e-01\n",
      "    4.60499274e-02  1.03661977e+00]]\n",
      "\n",
      " [[ 1.99824701e+00 -5.67929201e-03 -6.36141427e-03 -1.07798910e-02\n",
      "    2.35291187e-06 -4.04585572e-07]\n",
      "  [-5.67929201e-03  1.98137577e+00 -2.08450344e-02 -3.53884343e-02\n",
      "    4.99243426e-06  3.67677193e-06]\n",
      "  [-6.36141427e-03 -2.08450344e-02  1.97666711e+00 -3.95994242e-02\n",
      "    1.10294074e-05 -1.20315345e-05]\n",
      "  [-1.07798910e-02 -3.53884343e-02 -3.95994242e-02  1.93266660e+00\n",
      "    2.44543356e-05 -1.02638506e-05]\n",
      "  [ 2.35291187e-06  4.99243426e-06  1.10294074e-05  2.44543356e-05\n",
      "    1.05564080e+00  5.46081329e-06]\n",
      "  [-4.04585572e-07  3.67677193e-06 -1.20315345e-05 -1.02638506e-05\n",
      "    5.46081329e-06  1.05540272e+00]]\n",
      "\n",
      " [[ 1.99723255e+00 -5.26531393e-03 -1.87768049e-02 -4.87801606e-02\n",
      "    1.62880738e-06 -4.18816170e-07]\n",
      "  [-5.26531393e-03  1.98998230e+00 -3.57244397e-02 -9.28083297e-02\n",
      "    6.10837304e-06 -8.47712695e-07]\n",
      "  [-1.87768049e-02 -3.57244397e-02  1.87260193e+00 -3.30966763e-01\n",
      "    3.19763210e-06 -2.70883095e-06]\n",
      "  [-4.87801606e-02 -9.28083297e-02 -3.30966763e-01  1.14018323e+00\n",
      "   -2.11817381e-06 -6.86099847e-06]\n",
      "  [ 1.62880738e-06  6.10837304e-06  3.19763210e-06 -2.11817381e-06\n",
      "    1.00028576e+00  1.69020232e-02]\n",
      "  [-4.18816170e-07 -8.47712695e-07 -2.70883095e-06 -6.86099847e-06\n",
      "    1.69020232e-02  1.99971424e+00]]\n",
      "\n",
      " [[ 1.99723267e+00 -5.26489497e-03 -1.87762819e-02 -4.87791689e-02\n",
      "   -1.44212201e-06 -3.13832390e-07]\n",
      "  [-5.26489497e-03  1.98998345e+00 -3.57221701e-02 -9.28031322e-02\n",
      "   -2.70933127e-06  1.43339067e-06]\n",
      "  [-1.87762819e-02 -3.57221701e-02  1.87260343e+00 -3.30965342e-01\n",
      "   -9.85305208e-06 -6.16868491e-06]\n",
      "  [-4.87791689e-02 -9.28031322e-02 -3.30965342e-01  1.14018044e+00\n",
      "   -2.52801922e-05  2.73542781e-06]\n",
      "  [-1.44212201e-06 -2.70933127e-06 -9.85305208e-06 -2.52801922e-05\n",
      "    1.99971424e+00 -1.69020234e-02]\n",
      "  [-3.13832390e-07  1.43339067e-06 -6.16868491e-06  2.73542781e-06\n",
      "   -1.69020234e-02  1.00028576e+00]]\n",
      "\n",
      " [[ 1.99997363e+00 -9.25806322e-04  1.06292732e-03  4.74927285e-03\n",
      "   -1.34963289e-03  9.32625502e-06]\n",
      "  [-9.25806322e-04  1.96750077e+00  3.73126843e-02  1.66717056e-01\n",
      "   -4.74801837e-02  3.57231288e-04]\n",
      "  [ 1.06292732e-03  3.73126843e-02  1.95716094e+00 -1.91409506e-01\n",
      "    5.45366538e-02 -4.16853407e-04]\n",
      "  [ 4.74927285e-03  1.66717056e-01 -1.91409506e-01  1.14476190e+00\n",
      "    2.43633908e-01 -1.84670360e-03]\n",
      "  [-1.34963289e-03 -4.74801837e-02  5.45366538e-02  2.43633908e-01\n",
      "    1.10950629e+00  2.99844900e-01]\n",
      "  [ 9.32625502e-06  3.57231288e-04 -4.16853407e-04 -1.84670360e-03\n",
      "    2.99844900e-01  1.82109647e+00]]\n",
      "\n",
      " [[ 1.99997360e+00 -9.26222315e-04  1.06333407e-03  4.75118883e-03\n",
      "    1.35432258e-03 -7.71578502e-06]\n",
      "  [-9.26222315e-04  1.96749826e+00  3.73130773e-02  1.66722277e-01\n",
      "    4.74981969e-02 -3.49227275e-04]\n",
      "  [ 1.06333407e-03  3.73130773e-02  1.95716334e+00 -1.91402737e-01\n",
      "   -5.45236126e-02  4.19099424e-04]\n",
      "  [ 4.75118883e-03  1.66722277e-01 -1.91402737e-01  1.14477437e+00\n",
      "   -2.43620638e-01  1.87804803e-03]\n",
      "  [ 1.35432258e-03  4.74981969e-02 -5.45236126e-02 -2.43620638e-01\n",
      "    1.82109491e+00 -2.99842463e-01]\n",
      "  [-7.71578502e-06 -3.49227275e-04  4.19099424e-04  1.87804803e-03\n",
      "   -2.99842463e-01  1.10949551e+00]]\n",
      "\n",
      " [[ 1.99451167e+00 -1.60196885e-02 -2.95676713e-02 -8.44702997e-02\n",
      "   -2.59556131e-06 -9.64834531e-07]\n",
      "  [-1.60196885e-02  1.94528321e+00 -7.23314993e-02 -1.96464967e-01\n",
      "   -5.85835861e-06 -1.37865163e-06]\n",
      "  [-2.95676713e-02 -7.23314993e-02  1.81222923e+00 -5.57772166e-01\n",
      "   -1.61602036e-05 -5.25681103e-06]\n",
      "  [-8.44702997e-02 -1.96464967e-01 -5.57772166e-01  3.27958326e-01\n",
      "   -5.02218224e-05 -1.53886722e-05]\n",
      "  [-2.59556131e-06 -5.85835861e-06 -1.61602036e-05 -5.02218224e-05\n",
      "    1.96000948e+00 -1.69513039e-06]\n",
      "  [-9.64834531e-07 -1.37865163e-06 -5.25681103e-06 -1.53886722e-05\n",
      "   -1.69513039e-06  1.96000809e+00]]\n",
      "\n",
      " [[ 1.98592949e+00 -9.93909494e-02 -5.42543198e-02  3.24104624e-02\n",
      "    2.20382104e-06  9.78554494e-07]\n",
      "  [-9.93909494e-02  1.29792443e+00 -3.83240451e-01  2.28940300e-01\n",
      "    2.61305590e-06  6.78765726e-06]\n",
      "  [-5.42543198e-02 -3.83240451e-01  1.79080137e+00  1.24971140e-01\n",
      "    8.83767489e-06  3.77646995e-06]\n",
      "  [ 3.24104624e-02  2.28940300e-01  1.24971140e-01  1.92534470e+00\n",
      "    2.40482541e-05 -1.97382134e-06]\n",
      "  [ 2.20382104e-06  2.61305590e-06  8.83767489e-06  2.40482541e-05\n",
      "    1.00009256e+00 -9.62029836e-03]\n",
      "  [ 9.78554494e-07  6.78765726e-06  3.77646995e-06 -1.97382134e-06\n",
      "   -9.62029836e-03  1.99990744e+00]]]\n"
     ]
    }
   ],
   "source": [
    "for key in solution.keys() : \n",
    "    print(f'{key}:{solution[key]}')"
   ]
  },
  {
   "cell_type": "markdown",
   "id": "3a91e9ea",
   "metadata": {},
   "source": [
    "Explanation of the keys:\n",
    "\n",
    "- `nstates` : the number of excitations that have been calculated.\n",
    "- `evs` : excitation energies relative to the ground state (in eV).\n",
    "- `evs_au`: absolute energies of the many-body states (in Hartree).\n",
    "- `mults`: spin multiplicity of each state.\n",
    "- `rdm1s`: spin-summed reduced 1-body density matrix for each many-body state.\n",
    "- `evcs`: many-body state in 2nd quantization (eigenvector of the effective Hamiltonian)."
   ]
  }
 ],
 "metadata": {
  "kernelspec": {
   "display_name": "Python 3 (ipykernel)",
   "language": "python",
   "name": "python3"
  },
  "language_info": {
   "codemirror_mode": {
    "name": "ipython",
    "version": 3
   },
   "file_extension": ".py",
   "mimetype": "text/x-python",
   "name": "python",
   "nbconvert_exporter": "python",
   "pygments_lexer": "ipython3",
   "version": "3.8.13"
  }
 },
 "nbformat": 4,
 "nbformat_minor": 5
}
