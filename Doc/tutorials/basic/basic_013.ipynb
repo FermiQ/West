{
 "cells": [
  {
   "cell_type": "markdown",
   "metadata": {},
   "source": [
    "This tutorial can be downloaded [link](https://github.com/west-code-development/West/raw/master/Doc/tutorials/basic/basic_013.ipynb)."
   ]
  },
  {
   "cell_type": "markdown",
   "metadata": {},
   "source": [
    "# Intro Tutorial 13: Computing Excitation Energies by Solving the Bethe-Salpeter Equation (BSE) Using Density Matrix Perturbation Theory (DMPT)"
   ]
  },
  {
   "cell_type": "markdown",
   "metadata": {},
   "source": [
    "This tutorial shows how to compute neutral excitation energies of the negatively charged nitrogen-vacancy defect (NV$^-$) in diamond by solving the Bethe-Salpeter Equation (BSE) using the density matrix perturbation theory (DMPT). In BSE, the excitation energies are computed as the eigenvalues of the Liouville superoperator, with the corresponding eigenvectors representing the transition density.\n",
    "\n",
    "WEST implements two distinct methods to compute the dielectric screening for the BSE solver:\n",
    "\n",
    "- the projective dielectric eigenpotentials (PDEP) technique, which builds a low rank representation of the static dielectric matrix that enters the screened Coulomb interaction, the random phase approximation (RPA) is used;\n",
    "- the finite field (FF) method, which allows for efficient calculations within and beyond the RPA.\n",
    "\n",
    "Both methods circumvent the explicit computation of empty electronic states and the storage and inversion of large matrices. In addition, the computational cost can be reduced by using a localized representation of the ground state Kohn-Sham wavefunctions.\n",
    "\n",
    "This tutorial focuses on the PDEP-based method as described in [Rocca et al., J. Chem. Phys. 133, 164109 (2010)](https://doi.org/10.1063/1.3494540) and [Rocca et al., Phys. Rev. B 85, 045116 (2012)](https://doi.org/10.1103/PhysRevB.85.045116). The FF-based method is covered in [Tutorial 8](https://github.com/west-code-development/West/raw/master/Doc/tutorials/basic/basic_008.ipynb). [Tutorial 7](https://github.com/west-code-development/West/raw/master/Doc/tutorials/basic/basic_007.ipynb) shows how to compute absorption spectra by solving the BSE."
   ]
  },
  {
   "cell_type": "markdown",
   "metadata": {},
   "source": [
    "## Step 1: Mean-field starting point"
   ]
  },
  {
   "cell_type": "markdown",
   "metadata": {},
   "source": [
    "We first perform the mean-field electronic structure calculation within DFT using the [Quantum ESPRESSO](https://www.quantum-espresso.org/) code.\n",
    "\n",
    "Download the following files to your working directory:"
   ]
  },
  {
   "cell_type": "code",
   "execution_count": 1,
   "metadata": {},
   "outputs": [],
   "source": [
    "%%bash\n",
    "wget -N -q https://west-code.org/doc/training/nv_bse/pw.in\n",
    "wget -N -q http://www.quantum-simulation.org/potentials/sg15_oncv/upf/C_ONCV_PBE-1.2.upf\n",
    "wget -N -q http://www.quantum-simulation.org/potentials/sg15_oncv/upf/N_ONCV_PBE-1.2.upf"
   ]
  },
  {
   "cell_type": "markdown",
   "metadata": {},
   "source": [
    "We can now inspect the `pw.in` file, the input for the `pw.x` code:"
   ]
  },
  {
   "cell_type": "code",
   "execution_count": 3,
   "metadata": {},
   "outputs": [
    {
     "name": "stdout",
     "output_type": "stream",
     "text": [
      "&CONTROL\n",
      "calculation = 'scf'\n",
      "pseudo_dir = './'\n",
      "/\n",
      "&SYSTEM\n",
      "ibrav = 0\n",
      "ecutwfc = 50\n",
      "tot_charge = -1.0\n",
      "nspin = 2\n",
      "tot_magnetization = 2.0\n",
      "nbnd = 150\n",
      "nat = 63\n",
      "ntyp = 2\n",
      "/\n",
      "&ELECTRONS\n",
      "diago_full_acc = .true.\n",
      "/\n",
      "K_POINTS gamma\n",
      "CELL_PARAMETERS angstrom\n",
      "7.136000  0.000000  0.000000\n",
      "0.000000  7.136000  0.000000\n",
      "0.000000  0.000000  7.136000\n",
      "ATOMIC_SPECIES\n",
      "C  12.01099968  C_ONCV_PBE-1.2.upf\n",
      "N  14.00699997  N_ONCV_PBE-1.2.upf\n",
      "ATOMIC_POSITIONS crystal\n",
      "C    0.1269815510  0.3733371195  0.3775718026\n",
      "C    0.1253081282  0.3763002936  0.8746894487\n",
      "C    0.1260060117  0.8738380396  0.3754459361\n",
      "C    0.1250639790  0.8750661683  0.8749376784\n",
      "C    0.6248201544  0.3811585813  0.3751813598\n",
      "C    0.6224309085  0.3733360188  0.8730196975\n",
      "C    0.6250110086  0.8765296624  0.3749876809\n",
      "C    0.6245505450  0.8738390861  0.8739957865\n",
      "C    0.0000259749  0.0000259633 -0.0000256868\n",
      "C    0.0014358428 -0.0014358100  0.5010495568\n",
      "C    0.0014328181  0.4989469740  0.0014351388\n",
      "C    0.0012018772  0.4992148548  0.5007857943\n",
      "C    0.4989470397 -0.0014328307  0.0014351823\n",
      "C    0.4992149137  0.0012018289  0.5007857375\n",
      "C    0.4992116247  0.4992116312 -0.0012034708\n",
      "C    0.1250667730  0.1250667914  0.1249294365\n",
      "C    0.1253032977  0.1253032524  0.6237019642\n",
      "C    0.1260062437  0.6245495725  0.1261632799\n",
      "C    0.1269771899  0.6224340478  0.6266613449\n",
      "C    0.6245496185  0.1260062840  0.1261633007\n",
      "C    0.6224340177  0.1269771772  0.6266613352\n",
      "C    0.6250092594  0.6250092159  0.1234699036\n",
      "C    0.6248234427  0.6248234639  0.6188442442\n",
      "C    0.0009910041  0.2504149699  0.2494871226\n",
      "C    0.0003716741  0.2501475881  0.7498513998\n",
      "C    0.0009645933  0.7495989686  0.2503986681\n",
      "C    0.0009941125  0.7505129665  0.7495871392\n",
      "C    0.4985394814  0.2524198182  0.2522377911\n",
      "C    0.5078677486  0.2391591291  0.7608354182\n",
      "C    0.5003280630  0.7516382226  0.2483618688\n",
      "C    0.4985401685  0.7477659930  0.7475823593\n",
      "C    0.3748654285  0.3748654245  0.1250552701\n",
      "C    0.3749783337  0.8749127142  0.1250879590\n",
      "C    0.3748650726  0.8749450711  0.6251340225\n",
      "C    0.8749127198  0.3749782927  0.1250879634\n",
      "C    0.8749450684  0.3748650501  0.6251340257\n",
      "C    0.8750493463  0.8750493517  0.1249501816\n",
      "C    0.8749120516  0.8749120381  0.6250201881\n",
      "C    0.2504149894 -0.0009909944  0.2494870713\n",
      "C    0.2501475446  0.0003715462  0.7498514576\n",
      "C    0.2524198093  0.4985394738  0.2522377661\n",
      "C    0.2391592245  0.5078678650  0.7608354474\n",
      "C    0.7495989932  0.0009646155  0.2503986775\n",
      "C    0.7505130382 -0.0009940706  0.7495871127\n",
      "C    0.7516382084  0.5003280124  0.2483619045\n",
      "C    0.7477659502  0.4985401253  0.7475823293\n",
      "C    0.3733371729  0.1269814887  0.3775717513\n",
      "C    0.3763002438  0.1253079989  0.8746895222\n",
      "C    0.3811585422  0.6248202431  0.3751812920\n",
      "C    0.3733360636  0.6224310126  0.8730197732\n",
      "C    0.8738379990  0.1260060464  0.3754459661\n",
      "C    0.8750662653  0.1250640377  0.8749376416\n",
      "C    0.8765296848  0.6250109436  0.3749877093\n",
      "C    0.8738390803  0.6245504485  0.8739957771\n",
      "C    0.2501515174  0.2501515049 -0.0003784384\n",
      "C    0.2391603565  0.2391602431  0.4921393755\n",
      "C    0.2504126363  0.7505106105  0.0009953037\n",
      "C    0.2524180055  0.7477644305  0.5014586422\n",
      "C    0.7505106094  0.2504126558  0.0009952558\n",
      "C    0.7477643646  0.2524180264  0.5014586712\n",
      "C    0.7495988945  0.7495988379 -0.0009639807\n",
      "C    0.7516394023  0.7516393858  0.4996700487\n",
      "N    0.5130505433  0.5130506248  0.4869539927\n"
     ]
    }
   ],
   "source": [
    "%%bash\n",
    "cat pw.in"
   ]
  },
  {
   "cell_type": "markdown",
   "metadata": {},
   "source": [
    "The calculation is spin polarized (i.e., `nspin = 2` and `tot_magnetization = 2.0`), representing the $m_S = +1$ sublevel of the $^3A_2$ many-body state of NV$^-$ in diamond.\n",
    "\n",
    "We run `pw.x` on 32 cores."
   ]
  },
  {
   "cell_type": "code",
   "execution_count": null,
   "metadata": {},
   "outputs": [],
   "source": [
    "%%bash\n",
    "mpirun -n 32 pw.x -nk 2 -i pw.in > pw.out"
   ]
  },
  {
   "cell_type": "markdown",
   "metadata": {},
   "source": [
    "## Step 2: Calculation of dielectric screening"
   ]
  },
  {
   "cell_type": "markdown",
   "metadata": {},
   "source": [
    "As detailed in [Tutorial 1](https://github.com/west-code-development/West/raw/master/Doc/tutorials/basic/basic_001.ipynb), the static dielectric screening is computed using the projective dielectric eigendecomposition (PDEP) technique.\n",
    "\n",
    "Download the following file to your working directory:"
   ]
  },
  {
   "cell_type": "code",
   "execution_count": 5,
   "metadata": {},
   "outputs": [],
   "source": [
    "%%bash\n",
    "wget -N -q https://west-code.org/doc/training/nv_bse/wstat.in"
   ]
  },
  {
   "cell_type": "markdown",
   "metadata": {},
   "source": [
    "Let us inspect the `wstat.in` file:"
   ]
  },
  {
   "cell_type": "code",
   "execution_count": 8,
   "metadata": {},
   "outputs": [
    {
     "name": "stdout",
     "output_type": "stream",
     "text": [
      "wstat_control:\n",
      "  wstat_calculation: S\n",
      "  n_pdep_eigen: 512\n",
      "  trev_pdep: 0.00001\n"
     ]
    }
   ],
   "source": [
    "%%bash\n",
    "cat wstat.in"
   ]
  },
  {
   "cell_type": "markdown",
   "metadata": {},
   "source": [
    "We run `wstat.x` on 512 cores:"
   ]
  },
  {
   "cell_type": "code",
   "execution_count": null,
   "metadata": {},
   "outputs": [],
   "source": [
    "%%bash\n",
    "mpirun -n 512 wstat.x -ni 16 -nk 2 -i wstat.in > wstat.out"
   ]
  },
  {
   "cell_type": "markdown",
   "metadata": {},
   "source": [
    "## Step 3: Calculation of quasiparticle corrections"
   ]
  },
  {
   "cell_type": "markdown",
   "metadata": {},
   "source": [
    "The GW electronic structure is computed treating the frequency integration of the correlation part of the self energy with the contour deformation technique and by computing the dielectric screening at multipole frequencies with Lanczos iterations.\n",
    "\n",
    "Download the following file to your working directory:"
   ]
  },
  {
   "cell_type": "code",
   "execution_count": 10,
   "metadata": {},
   "outputs": [],
   "source": [
    "%%bash\n",
    "wget -N -q https://west-code.org/doc/training/nv_bse/wfreq.in"
   ]
  },
  {
   "cell_type": "markdown",
   "metadata": {},
   "source": [
    "Let us inspect the `wfreq.in` file:"
   ]
  },
  {
   "cell_type": "code",
   "execution_count": 13,
   "metadata": {},
   "outputs": [
    {
     "name": "stdout",
     "output_type": "stream",
     "text": [
      "wstat_control:\n",
      "  wstat_calculation: S\n",
      "  n_pdep_eigen: 512\n",
      "  trev_pdep: 0.00001\n",
      "\n",
      "wfreq_control:\n",
      "  wfreq_calculation: XWGQO\n",
      "  macropol_calculation: C\n",
      "  n_pdep_eigen_to_use: 512\n",
      "  qp_bandrange: [121, 140]\n"
     ]
    }
   ],
   "source": [
    "%%bash\n",
    "cat wfreq.in"
   ]
  },
  {
   "cell_type": "markdown",
   "metadata": {},
   "source": [
    "The `wfreq_calculation: XWGQO` keyword instructs the code to compute quasiparticle corrections (`XWGQ`) for bands specified in the `qp_bandrange: [121, 140]` keyword, and to compute optical properties (`XWO`) including the dielectric function."
   ]
  },
  {
   "cell_type": "markdown",
   "metadata": {},
   "source": [
    "We run `wfreq.x` on 512 cores:"
   ]
  },
  {
   "cell_type": "code",
   "execution_count": null,
   "metadata": {},
   "outputs": [],
   "source": [
    "%%bash\n",
    "mpirun -n 512 wfreq.x -ni 4 -nk 2 -nb 4 -i wfreq.in > wfreq.out"
   ]
  },
  {
   "cell_type": "markdown",
   "metadata": {},
   "source": [
    "If the reader does NOT have the computational resources to run the calculation, the WEST output file needed for the next step can be directly downloaded as:"
   ]
  },
  {
   "cell_type": "code",
   "execution_count": 15,
   "metadata": {},
   "outputs": [],
   "source": [
    "%%bash\n",
    "mkdir -p west.wfreq.save\n",
    "wget -N -q https://west-code.org/doc/training/nv_bse/optics.json -O west.wfreq.save/optics.json"
   ]
  },
  {
   "cell_type": "markdown",
   "metadata": {},
   "source": [
    "The quasiparticle corrections and optical properties are stored in the files `west.wfreq.save/wfreq.json` and `west.wfreq.save/optics.json`, respectively. From the latter, we can extract the macroscopic dielectric constant."
   ]
  },
  {
   "cell_type": "code",
   "execution_count": 17,
   "metadata": {},
   "outputs": [
    {
     "name": "stdout",
     "output_type": "stream",
     "text": [
      "7.750227417643485\n"
     ]
    }
   ],
   "source": [
    "import json\n",
    "\n",
    "with open('west.wfreq.save/optics.json') as json_file :\n",
    "    data = json.load(json_file)\n",
    "\n",
    "eps_infty = data['eps1'][0]\n",
    "\n",
    "print(eps_infty)"
   ]
  },
  {
   "cell_type": "markdown",
   "metadata": {},
   "source": [
    "## Step 4: BSE calculation"
   ]
  },
  {
   "cell_type": "markdown",
   "metadata": {},
   "source": [
    "### Step 4.1: BSE initialization"
   ]
  },
  {
   "cell_type": "markdown",
   "metadata": {},
   "source": [
    "We perform an initialization step to compute the screened exchange integrals using the `wbse_init.x` executable.\n",
    "\n",
    "Download the following file to your working directory:"
   ]
  },
  {
   "cell_type": "code",
   "execution_count": 19,
   "metadata": {},
   "outputs": [],
   "source": [
    "%%bash\n",
    "wget -N -q https://west-code.org/doc/training/nv_bse/wbse_init.in"
   ]
  },
  {
   "cell_type": "markdown",
   "metadata": {},
   "source": [
    "Let us inspect the `wbse_init.in` file:"
   ]
  },
  {
   "cell_type": "code",
   "execution_count": 22,
   "metadata": {},
   "outputs": [
    {
     "name": "stdout",
     "output_type": "stream",
     "text": [
      "input_west:\n",
      "  outdir: ./\n",
      "\n",
      "wbse_init_control:\n",
      "  wbse_init_calculation: S\n",
      "  bse_method: PDEP\n",
      "  n_pdep_eigen_to_use: 512\n",
      "  localization: W\n",
      "  overlap_thr: 0.001\n"
     ]
    }
   ],
   "source": [
    "%%bash\n",
    "cat wbse_init.in"
   ]
  },
  {
   "cell_type": "markdown",
   "metadata": {},
   "source": [
    "The `bse_method: PDEP` keyword selects the PDEP method. A total number of `n_pdep_eigen_to_use: 512` PDEPs is used to represent the static dielectric matrix. The `localization: W` keyword instructs the code to use Wannier functions, which are a localized representation of the Kohn-Sham wavefunctions. If the overlap between two Wannier functions is below `overlap_thr: 0.001`, the evaluation of the corresponding screened exchange integral is skipped, thus reducing the computational cost.\n",
    "\n",
    "We run `wbse_init.x` on 512 cores:"
   ]
  },
  {
   "cell_type": "code",
   "execution_count": null,
   "metadata": {},
   "outputs": [],
   "source": [
    "%%bash\n",
    "mpirun -n 512 wbse_init.x -ni 16 -nk 2 -i wbse_init.in > wbse_init.out"
   ]
  },
  {
   "cell_type": "markdown",
   "metadata": {},
   "source": [
    "### Step 4.2: BSE excitation energies"
   ]
  },
  {
   "cell_type": "markdown",
   "metadata": {},
   "source": [
    "Now we run the `wbse.x` executable to compute the lowest excitation energies of NV$^-$.\n",
    "\n",
    "Download the following file to your working directory:"
   ]
  },
  {
   "cell_type": "code",
   "execution_count": 24,
   "metadata": {},
   "outputs": [],
   "source": [
    "%%bash\n",
    "wget -N -q https://west-code.org/doc/training/nv_bse/wbse.in"
   ]
  },
  {
   "cell_type": "markdown",
   "metadata": {},
   "source": [
    "Let us inspect the `wbse.in` file:"
   ]
  },
  {
   "cell_type": "code",
   "execution_count": 27,
   "metadata": {},
   "outputs": [
    {
     "name": "stdout",
     "output_type": "stream",
     "text": [
      "input_west:\n",
      "  outdir: ./\n",
      "\n",
      "wbse_init_control:\n",
      "  wbse_init_calculation: S\n",
      "  bse_method: PDEP\n",
      "  n_pdep_eigen_to_use: 512\n",
      "  localization: W\n",
      "  overlap_thr: 0.001\n",
      "\n",
      "wbse_control:\n",
      "  wbse_calculation: D\n",
      "  qp_correction: west.wfreq.save/wfreq.json\n",
      "  wbse_epsinfty: 7.75\n",
      "  n_liouville_eigen: 2\n"
     ]
    }
   ],
   "source": [
    "%%bash\n",
    "cat wbse.in"
   ]
  },
  {
   "cell_type": "markdown",
   "metadata": {},
   "source": [
    "The `wbse_calculation: D` keyword instructs the code to compute the neutral excitation energies using the Davidson algorithm. The `n_liouville_eigen: 2` keyword specifies that two lowest excitation energies are computed. The `qp_correction` keyword indicates the name of the JSON file that contains the quasiparticle correction computed by `wfreq.x`. The `wbse_epsinfty` keyword specifies the macroscopic relative dielectric constant of the material. It can be the experimental value if known, or in this case, we use the value computed by `wfreq.x`."
   ]
  },
  {
   "cell_type": "markdown",
   "metadata": {},
   "source": [
    "We run `wbse.x` on 512 cores:"
   ]
  },
  {
   "cell_type": "code",
   "execution_count": null,
   "metadata": {},
   "outputs": [],
   "source": [
    "%%bash\n",
    "mpirun -n 512 wbse.x -nk 2 -nb 16 -i wbse.in > wbse.out"
   ]
  },
  {
   "cell_type": "markdown",
   "metadata": {},
   "source": [
    "If the reader does NOT have the computational resources to run the calculation, the WEST output file needed for the next step can be directly downloaded as:"
   ]
  },
  {
   "cell_type": "code",
   "execution_count": 29,
   "metadata": {},
   "outputs": [],
   "source": [
    "%%bash\n",
    "mkdir -p west.wbse.save\n",
    "wget -N -q https://west-code.org/doc/training/nv_bse/summary.json -O west.wbse.save/summary.json"
   ]
  },
  {
   "cell_type": "markdown",
   "metadata": {},
   "source": [
    "The calculated excitation energys (in Rydberg) can be found in the file `west.wbse.save/summary.json`."
   ]
  },
  {
   "cell_type": "code",
   "execution_count": 32,
   "metadata": {},
   "outputs": [
    {
     "name": "stdout",
     "output_type": "stream",
     "text": [
      "{\n",
      "  \"plep\": {\n",
      "    \"n_plep_eigen\": 2,\n",
      "    \"eigenval\": [\n",
      "      0.16843124342116073,\n",
      "      0.1685732039135792\n",
      "    ]\n",
      "  }\n",
      "}\n"
     ]
    }
   ],
   "source": [
    "%%bash\n",
    "cat west.wbse.save/summary.json"
   ]
  },
  {
   "cell_type": "markdown",
   "metadata": {},
   "source": [
    "## Step 5: Analysis of excited states"
   ]
  },
  {
   "cell_type": "markdown",
   "metadata": {},
   "source": [
    "Finally, we run the `westpp.x` executable to analyze the composition of the excited states.\n",
    "\n",
    "Download the following file to your working directory:"
   ]
  },
  {
   "cell_type": "code",
   "execution_count": 34,
   "metadata": {},
   "outputs": [],
   "source": [
    "%%bash\n",
    "wget -N -q https://west-code.org/doc/training/nv_bse/westpp.in"
   ]
  },
  {
   "cell_type": "markdown",
   "metadata": {},
   "source": [
    "Let us inspect the `westpp.in` file:"
   ]
  },
  {
   "cell_type": "code",
   "execution_count": 37,
   "metadata": {},
   "outputs": [
    {
     "name": "stdout",
     "output_type": "stream",
     "text": [
      "input_west:\n",
      "  outdir: ./\n",
      "\n",
      "westpp_control:\n",
      "  westpp_calculation: C\n",
      "  westpp_n_liouville_to_use: 2\n",
      "  westpp_range: [1, 2]\n"
     ]
    }
   ],
   "source": [
    "%%bash\n",
    "cat westpp.in"
   ]
  },
  {
   "cell_type": "markdown",
   "metadata": {},
   "source": [
    "We run `westpp.x` on 32 cores:"
   ]
  },
  {
   "cell_type": "code",
   "execution_count": null,
   "metadata": {},
   "outputs": [],
   "source": [
    "%%bash\n",
    "mpirun -n 32 westpp.x -i westpp.in > westpp.out"
   ]
  },
  {
   "cell_type": "markdown",
   "metadata": {},
   "source": [
    "The `westpp_calculation: C` keyword instructs the code to perform a decomposition of the excited states into transitions from occupied to empty Kohn-Sham wavefunctions. Here we consider two excited states as specified by the `westpp_range: [1, 2]` keyword.\n",
    "\n",
    "The output file `westpp.out` would include the following:\n",
    "\n",
    "```\n",
    "*-------------* THE PRINCIPLE PROJECTED COMPONENTS *-------------*\n",
    "\n",
    "#     Exciton :          1 |   Excitation energy :      0.168431\n",
    "#     Transition_from      |   Transition_to       |    Coeffcient\n",
    "      2         126        |   2         127       |    0.905626\n",
    "      2         126        |   2         128       |    0.406721\n",
    "\n",
    "#     Exciton :          2 |   Excitation energy :      0.168573\n",
    "#     Transition_from      |   Transition_to       |    Coeffcient\n",
    "      2         126        |   2         127       |    0.406721\n",
    "      2         126        |   2         128       |   -0.905573\n",
    "```\n",
    "\n",
    "The first excited state has an excitation energy of 0.168431 Ry. This excitation has a major contribution by a transition from the 126th band (a$_1$ defect orbital) in the second spin channel to the 127th band (one of two degenerate e defect orbitals) in the same spin channel, and a minor contribution by a transition from the 126th band (a$_1$ defect orbital) in the second spin channel to the 128th band (the other e defect orbital) in the same spin channel. The second excited state has an excitation energy of 0.168573 Ry. These two excited states are the $m_S = +1$ sublevel of the $^3E$ excited states of NV$^-$ in diamond. By using `westpp.x` and `westpp_calculation: X`, we can generate cube files of the excited states, which can then be visualized with any software capable of plotting cube files.\n",
    "\n",
    "We computed spin-conserving excitations in this tutorial. We can compute and analyze spin-flip excitations following the same steps. An example is given in [Tutorial 10](https://github.com/west-code-development/West/raw/master/Doc/tutorials/basic/basic_010.ipynb) for time-dependent density functional theory (TDDFT), which can be adapted to BSE."
   ]
  }
 ],
 "metadata": {
  "kernelspec": {
   "display_name": "Python 3 (ipykernel)",
   "language": "python",
   "name": "python3"
  },
  "language_info": {
   "codemirror_mode": {
    "name": "ipython",
    "version": 3
   },
   "file_extension": ".py",
   "mimetype": "text/x-python",
   "name": "python",
   "nbconvert_exporter": "python",
   "pygments_lexer": "ipython3",
   "version": "3.9.18"
  }
 },
 "nbformat": 4,
 "nbformat_minor": 4
}
