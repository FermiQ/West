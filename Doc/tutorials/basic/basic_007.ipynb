{
 "cells": [
  {
   "cell_type": "markdown",
   "id": "61ce0c0c",
   "metadata": {},
   "source": [
    "This tutorial can be downloaded [link](https://github.com/west-code-development/West/raw/master/Doc/tutorials/basic/basic_007.ipynb)."
   ]
  },
  {
   "cell_type": "markdown",
   "id": "b41565b9",
   "metadata": {},
   "source": [
    "# Intro tutorial 7: Computing absorption spectra by solving the Bethe-Salpeter Equation (BSE) using density matrix perturbation theory (DMPT)"
   ]
  },
  {
   "cell_type": "markdown",
   "id": "dbdf63ae",
   "metadata": {},
   "source": [
    "This tutorial shows how to compute the absorption spectrum of the $C_{60}$ molecule by solving the Bethe-Salpeter Equation (BSE) using the density matrix perturbation theory (DMPT).\n",
    "\n",
    "WEST implements two distinct methods to compute the dielectric screening for the BSE solver:\n",
    "\n",
    "- the projective dielectric eigenpotentials (PDEP) technique, which builds a low rank representation of the static dielectric matrix that enters the screened Coulomb interaction, the random phase approximation (RPA) is used;\n",
    "- the finite field (FF) method, which allows for efficient calculations within and beyond the RPA.\n",
    "\n",
    "Both methods circumvent the explicit computation of empty electronic states and the storage and inversion of large matrices.\n",
    "\n",
    "In addition, the computational cost can be reduced by using a localized representation of the ground state Kohn-Sham wavefunctions.\n",
    "\n",
    "This tutorial focuses on the PDEP-based method as described in [Rocca et al., J. Chem. Phys. 133, 164109 (2010)](https://doi.org/10.1063/1.3494540) and [Rocca et al., Phys. Rev. B 85, 045116 (2012)](https://doi.org/10.1103/PhysRevB.85.045116).\n",
    "\n",
    "The FF-based method is covered in [Tutorial 8](https://github.com/west-code-development/West/raw/master/Doc/tutorials/basic/basic_008.ipynb)."
   ]
  },
  {
   "cell_type": "markdown",
   "id": "2e6de74b",
   "metadata": {},
   "source": [
    "## Step 1:  Mean-field starting point"
   ]
  },
  {
   "cell_type": "markdown",
   "id": "26931828",
   "metadata": {},
   "source": [
    "We first perform the mean-field electronic structure calculation within DFT using the [Quantum ESPRESSO](https://www.quantum-espresso.org/) code.\n",
    "\n",
    "Download the following files to your working directory:"
   ]
  },
  {
   "cell_type": "code",
   "execution_count": 1,
   "id": "96c74914",
   "metadata": {},
   "outputs": [],
   "source": [
    "%%bash\n",
    "wget -N -q http://www.quantum-simulation.org/potentials/sg15_oncv/upf/C_ONCV_PBE-1.2.upf\n",
    "wget -N -q https://west-code.org/doc/training/C60_pdep/pw.in\n",
    "wget -N -q https://west-code.org/doc/training/C60_pdep/nscf.in"
   ]
  },
  {
   "cell_type": "markdown",
   "id": "75927bb4",
   "metadata": {},
   "source": [
    "We can inspect the `pw.in` file, the input for the `pw.x` code:"
   ]
  },
  {
   "cell_type": "code",
   "execution_count": 2,
   "id": "f1e09cc6",
   "metadata": {},
   "outputs": [
    {
     "name": "stdout",
     "output_type": "stream",
     "text": [
      "&control\n",
      "pseudo_dir = './'\n",
      "calculation = 'scf'\n",
      "wf_collect = .TRUE.\n",
      "/\n",
      "&system\n",
      "ibrav = 0\n",
      "ntyp = 1\n",
      "nat = 60\n",
      "ecutwfc = 20\n",
      "/\n",
      "&electrons\n",
      "diago_full_acc = .TRUE.\n",
      "/\n",
      "ATOMIC_SPECIES\n",
      "C 14 C_ONCV_PBE-1.2.upf\n",
      "ATOMIC_POSITIONS bohr\n",
      "C  6.560216999227  1.317708999068  0.000000000000\n",
      "C  5.716322000011  2.686502999941 -2.213027000418\n",
      "C  6.560216999227 -1.317708999068  0.000000000000\n",
      "C  4.900061000384  1.363055000501 -4.347289999376\n",
      "C  2.686503999607  2.213028000083 -5.716321000346\n",
      "C  4.347291000932  4.900060000718 -1.363055000501\n",
      "C  2.213028000083  5.716322000011 -2.686502000276\n",
      "C  1.363056000166  4.347291000932 -4.900058999163\n",
      "C  4.900058999163 -1.363055000501  4.347289999376\n",
      "C  4.900058999163  1.363055000501  4.347289999376\n",
      "C  5.716321000346 -2.686502999941  2.213027000418\n",
      "C  5.716321000346  2.686502999941  2.213027000418\n",
      "C  4.347291000932  4.900060000718  1.363055000501\n",
      "C  2.686501000610  2.213028000083  5.716321000346\n",
      "C  1.363054000835  4.347291000932  4.900058999163\n",
      "C  2.213027000418  5.716322000011  2.686502000276\n",
      "C  2.213027000418 -5.716322000011  2.686502000276\n",
      "C  1.363054000835 -4.347291000932  4.900058999163\n",
      "C  4.347291000932 -4.900060000718  1.363055000501\n",
      "C  2.686501000610 -2.213028000083  5.716321000346\n",
      "C  1.317706999737  0.000000000000  6.560215999562\n",
      "C -1.363056000166 -4.347291000932  4.900058999163\n",
      "C -2.686503999607 -2.213028000083  5.716321000346\n",
      "C -1.317711000289  0.000000000000  6.560215999562\n",
      "C  2.213028000083 -5.716322000011 -2.686502000276\n",
      "C  0.000000000000 -6.560218000782 -1.317708999068\n",
      "C  4.347291000932 -4.900060000718 -1.363055000501\n",
      "C  0.000000000000 -6.560218000782  1.317708999068\n",
      "C -2.213028000083 -5.716322000011  2.686502000276\n",
      "C -2.213027000418 -5.716322000011 -2.686502000276\n",
      "C -4.347291000932 -4.900060000718 -1.363055000501\n",
      "C -4.347291000932 -4.900060000718  1.363055000501\n",
      "C  4.900061000384 -1.363055000501 -4.347289999376\n",
      "C  2.686503999607 -2.213028000083 -5.716321000346\n",
      "C  5.716322000011 -2.686502999941 -2.213027000418\n",
      "C  1.363056000166 -4.347291000932 -4.900058999163\n",
      "C -1.363054000835 -4.347291000932 -4.900058999163\n",
      "C  1.317711000289  0.000000000000 -6.560215999562\n",
      "C -1.317706999737  0.000000000000 -6.560215999562\n",
      "C -2.686501000610 -2.213028000083 -5.716321000346\n",
      "C -6.560216999227 -1.317708999068  0.000000000000\n",
      "C -5.716321000346 -2.686502999941 -2.213027000418\n",
      "C -4.900058999163 -1.363055000501 -4.347289999376\n",
      "C -6.560216999227  1.317708999068  0.000000000000\n",
      "C -4.900061000384  1.363055000501  4.347289999376\n",
      "C -4.900061000384 -1.363055000501  4.347289999376\n",
      "C -5.716322000011 -2.686502999941  2.213027000418\n",
      "C -5.716322000011  2.686502999941  2.213027000418\n",
      "C -2.213028000083  5.716322000011  2.686502000276\n",
      "C -1.363056000166  4.347291000932  4.900058999163\n",
      "C -2.686503999607  2.213028000083  5.716321000346\n",
      "C -4.347291000932  4.900060000718  1.363055000501\n",
      "C -2.213027000418  5.716322000011 -2.686502000276\n",
      "C  0.000000000000  6.560218000782 -1.317708999068\n",
      "C  0.000000000000  6.560218000782  1.317708999068\n",
      "C -4.347291000932  4.900060000718 -1.363055000501\n",
      "C -4.900058999163  1.363055000501 -4.347289999376\n",
      "C -2.686501000610  2.213028000083 -5.716321000346\n",
      "C -1.363054000835  4.347291000932 -4.900058999163\n",
      "C -5.716321000346  2.686502999941 -2.213027000418\n",
      "K_POINTS gamma\n",
      "CELL_PARAMETERS bohr\n",
      "30.0 0.0 0.0\n",
      "0.0 30.0 0.0\n",
      "0.0 0.0 30.0\n"
     ]
    }
   ],
   "source": [
    "%%bash\n",
    "cat pw.in"
   ]
  },
  {
   "cell_type": "markdown",
   "id": "b3942b2c",
   "metadata": {},
   "source": [
    "We run `pw.x` on 32 cores."
   ]
  },
  {
   "cell_type": "code",
   "execution_count": null,
   "id": "a30c74d4",
   "metadata": {},
   "outputs": [],
   "source": [
    "%%bash\n",
    "mpirun -n 32 pw.x -i pw.in > pw.out"
   ]
  },
  {
   "cell_type": "markdown",
   "id": "cb378d42",
   "metadata": {},
   "source": [
    "To include a few unoccupied bands (in this case 800 bands in total) we run a non-self-consistent calculation. The content of `nscf.in` is almost identical to that of `pw.in`, except that in `nscf.in` we request a non-self-consistent calculation with empty bands.\n",
    "\n",
    "We run `pw.x` again on 32 cores."
   ]
  },
  {
   "cell_type": "code",
   "execution_count": null,
   "id": "a7a011e4",
   "metadata": {},
   "outputs": [],
   "source": [
    "%%bash\n",
    "mpirun -n 32 pw.x -i nscf.in > nscf.out"
   ]
  },
  {
   "cell_type": "markdown",
   "id": "2d4d8550",
   "metadata": {},
   "source": [
    "## Step 2: Calculation of dielectric screening"
   ]
  },
  {
   "cell_type": "markdown",
   "id": "54837cf4",
   "metadata": {},
   "source": [
    "As detailed in [Tutorial 1](https://github.com/west-code-development/West/raw/master/Doc/tutorials/basic/basic_001.ipynb), the static dielectric screening is computed using the projective dielectric eigendecomposition (PDEP) technique. Download the following file to your working directory:"
   ]
  },
  {
   "cell_type": "code",
   "execution_count": 3,
   "id": "a1616751",
   "metadata": {},
   "outputs": [],
   "source": [
    "%%bash\n",
    "wget -N -q https://west-code.org/doc/training/C60_pdep/wstat.in"
   ]
  },
  {
   "cell_type": "markdown",
   "id": "4aad3a3e",
   "metadata": {},
   "source": [
    "Let us inspect the `wstat.in` file:"
   ]
  },
  {
   "cell_type": "code",
   "execution_count": 4,
   "id": "7263c999",
   "metadata": {},
   "outputs": [
    {
     "name": "stdout",
     "output_type": "stream",
     "text": [
      "input_west:\n",
      "  outdir: ./\n",
      "\n",
      "wstat_control:\n",
      "  wstat_calculation: S\n",
      "  n_pdep_eigen: 720\n"
     ]
    }
   ],
   "source": [
    "%%bash\n",
    "cat wstat.in"
   ]
  },
  {
   "cell_type": "markdown",
   "id": "7281e7db",
   "metadata": {},
   "source": [
    "We run `wstat.x` on 512 cores:"
   ]
  },
  {
   "cell_type": "code",
   "execution_count": null,
   "id": "63487dfa",
   "metadata": {},
   "outputs": [],
   "source": [
    "%%bash\n",
    "mpirun -n 512 ./wstat.x -ni 16 -i wstat.in > wstat.out"
   ]
  },
  {
   "cell_type": "markdown",
   "id": "0bb5bbc2",
   "metadata": {},
   "source": [
    "## Step 3: BSE calculation"
   ]
  },
  {
   "cell_type": "markdown",
   "id": "e05a174c",
   "metadata": {},
   "source": [
    "### Step 3.1: BSE initialization"
   ]
  },
  {
   "cell_type": "markdown",
   "id": "4e9830ce",
   "metadata": {},
   "source": [
    "We perform a initialization step to compute the screened exchange integrals using the `wbse_init.x` executable. Download the following file to your working directory:"
   ]
  },
  {
   "cell_type": "code",
   "execution_count": 5,
   "id": "78aee4ef",
   "metadata": {},
   "outputs": [],
   "source": [
    "%%bash\n",
    "wget -N -q https://west-code.org/doc/training/C60_pdep/wbse_init.in"
   ]
  },
  {
   "cell_type": "markdown",
   "id": "924adf12",
   "metadata": {},
   "source": [
    "Let us inspect the `wbse_init.in` file:"
   ]
  },
  {
   "cell_type": "code",
   "execution_count": 6,
   "id": "1d1cbe6b",
   "metadata": {},
   "outputs": [
    {
     "name": "stdout",
     "output_type": "stream",
     "text": [
      "input_west:\n",
      "  outdir: ./\n",
      "\n",
      "wbse_init_control:\n",
      "  wbse_init_calculation: S\n",
      "  bse_method: PDEP\n",
      "  n_pdep_eigen_to_use: 720\n",
      "  localization: W\n",
      "  overlap_thr: 0.001\n"
     ]
    }
   ],
   "source": [
    "%%bash\n",
    "cat wbse_init.in"
   ]
  },
  {
   "cell_type": "markdown",
   "id": "a69f38ed",
   "metadata": {},
   "source": [
    "The `bse_method: PDEP` keyword selects the PDEP method. A total number of `n_pdep_eigen_to_use: 720` PDEPs is used to represent the static dielectric matrix. The `localization: W` keyword instructs the code to use Wannier functions, which are a localized representation of the Kohn-Sham wavefunctions. If the overlap between two Wannier functions is below `overlap_thr: 0.001`, the evaluation of the corresponding screened exchange integral is skipped, thus reducing the computational cost.\n",
    "\n",
    "We run `wbse_init.x` on 512 cores:"
   ]
  },
  {
   "cell_type": "code",
   "execution_count": null,
   "id": "4f125e38",
   "metadata": {},
   "outputs": [],
   "source": [
    "%%bash\n",
    "mpirun -n 512 ./wbse_init.x -ni 16 -i wbse_init.in > wbse_init.out"
   ]
  },
  {
   "cell_type": "markdown",
   "id": "6ec1d298",
   "metadata": {},
   "source": [
    "### Step 3.2: BSE absorption spectrum"
   ]
  },
  {
   "cell_type": "markdown",
   "id": "79770ccc",
   "metadata": {},
   "source": [
    "Now we run the `wbse.x` executable to compute the absorption spectrum of $C_{60}$. Download the following file to your working directory:"
   ]
  },
  {
   "cell_type": "code",
   "execution_count": 7,
   "id": "af6d4814",
   "metadata": {},
   "outputs": [],
   "source": [
    "%%bash\n",
    "wget -N -q https://west-code.org/doc/training/C60_pdep/wbse.in"
   ]
  },
  {
   "cell_type": "markdown",
   "id": "2beadc85",
   "metadata": {},
   "source": [
    "Let us inspect the `wbse.in` file:"
   ]
  },
  {
   "cell_type": "code",
   "execution_count": 8,
   "id": "4bb676dd",
   "metadata": {},
   "outputs": [
    {
     "name": "stdout",
     "output_type": "stream",
     "text": [
      "input_west:\n",
      "  outdir: ./\n",
      "\n",
      "wbse_init_control:\n",
      "  wbse_init_calculation: S\n",
      "  bse_method: PDEP\n",
      "  n_pdep_eigen_to_use: 720\n",
      "  localization: W\n",
      "  overlap_thr: 0.001\n",
      "\n",
      "wbse_control:\n",
      "  wbse_calculation: L\n",
      "  qp_correction: west.wfreq.save/wfreq.json\n",
      "  wbse_ipol: XYZ\n",
      "  n_lanczos: 1300\n"
     ]
    }
   ],
   "source": [
    "%%bash\n",
    "cat wbse.in"
   ]
  },
  {
   "cell_type": "markdown",
   "id": "20253ec0",
   "metadata": {},
   "source": [
    "The `wbse_calculation: L` keyword instructs the code to compute the absorption spectrum using the Lanczos algorithm. The `wbse_ipol: XYZ` keyword specifies which components of the polarizability tensor are computed, where `XYZ` means that three Lanczos chains are sequentially performed to compute the full polarizability tensor.\n",
    "\n",
    "The `qp_correction` keyword indicates the name of the JSON file that contains the quasiparticle correction. This file is obtained from a GW calculation following the steps in [Tutorial 1](https://github.com/west-code-development/West/raw/master/Doc/tutorials/basic/basic_001.ipynb). An example `wfreq.json` file can be downloaded as:"
   ]
  },
  {
   "cell_type": "code",
   "execution_count": 9,
   "id": "5a9b7a9f",
   "metadata": {},
   "outputs": [],
   "source": [
    "%%bash\n",
    "mkdir -p west.wfreq.save\n",
    "wget -N -q https://west-code.org/doc/training/C60_pdep/wfreq.json -O west.wfreq.save/wfreq.json"
   ]
  },
  {
   "cell_type": "markdown",
   "id": "188c098a",
   "metadata": {},
   "source": [
    "Alternatively, a scissors operator may be applied to model the quasiparticle correction, by simply replacing the `qp_correction` keyword with the `scissor_ope` keyword.\n",
    "\n",
    "We now run `wbse.x` on 512 cores:"
   ]
  },
  {
   "cell_type": "code",
   "execution_count": null,
   "id": "79945a56",
   "metadata": {},
   "outputs": [],
   "source": [
    "%%bash\n",
    "mpirun -n 512 ./wbse.x -ni 16 -i wbse.in > wbse.out"
   ]
  },
  {
   "cell_type": "markdown",
   "id": "c22c3788",
   "metadata": {},
   "source": [
    "The output can be found in the file `west.wbse.save/wbse.json`. If the reader does NOT have the computational resources to run the calculations, the output file can be directly downloaded as:"
   ]
  },
  {
   "cell_type": "code",
   "execution_count": 10,
   "id": "c21c2be5",
   "metadata": {},
   "outputs": [],
   "source": [
    "%%bash\n",
    "mkdir -p west.wbse.save\n",
    "wget -N -q https://west-code.org/doc/training/C60_pdep/wbse.json -O west.wbse.save/wbse.json"
   ]
  },
  {
   "cell_type": "markdown",
   "id": "45917525",
   "metadata": {},
   "source": [
    "We use WESTpy to parse this file and plot the absorption coefficient as a function of the photon frequency."
   ]
  },
  {
   "cell_type": "code",
   "execution_count": 11,
   "id": "b31933b5",
   "metadata": {},
   "outputs": [
    {
     "name": "stdout",
     "output_type": "stream",
     "text": [
      " \n",
      " _    _ _____ _____ _____            \n",
      "| |  | |  ___/  ___|_   _|           \n",
      "| |  | | |__ \\ `--.  | |_ __  _   _  \n",
      "| |/\\| |  __| `--. \\ | | '_ \\| | | | \n",
      "\\  /\\  / |___/\\__/ / | | |_) | |_| | \n",
      " \\/  \\/\\____/\\____/  \\_/ .__/ \\__, | \n",
      "                       | |     __/ | \n",
      "                       |_|    |___/  \n",
      " \n",
      "WEST version     :  5.2.0\n",
      "Today            :  2023-02-23 14:48:23.237369\n",
      "output written in :  chi_XYZ.png\n",
      "waiting for user to close image preview...\n"
     ]
    },
    {
     "data": {
      "image/png": "[encoded data removed]",
      "text/plain": [
       "<Figure size 640x480 with 1 Axes>"
      ]
     },
     "metadata": {},
     "output_type": "display_data"
    }
   ],
   "source": [
    "from westpy.bse import *\n",
    "\n",
    "wbse = BSEResult(\"west.wbse.save/wbse.json\")\n",
    "wbse.plotSpectrum(ipol=\"XYZ\",energyRange=[0.0,10.0,0.01],sigma=0.1,n_extra=98700)"
   ]
  }
 ],
 "metadata": {
  "kernelspec": {
   "display_name": "Python 3 (ipykernel)",
   "language": "python",
   "name": "python3"
  },
  "language_info": {
   "codemirror_mode": {
    "name": "ipython",
    "version": 3
   },
   "file_extension": ".py",
   "mimetype": "text/x-python",
   "name": "python",
   "nbconvert_exporter": "python",
   "pygments_lexer": "ipython3",
   "version": "3.9.15"
  }
 },
 "nbformat": 4,
 "nbformat_minor": 5
}
