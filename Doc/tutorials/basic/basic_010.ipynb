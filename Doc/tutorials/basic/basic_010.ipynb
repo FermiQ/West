{
 "cells": [
  {
   "cell_type": "markdown",
   "metadata": {},
   "source": [
    "This tutorial can be downloaded [link](https://github.com/west-code-development/West/raw/master/Doc/tutorials/basic/basic_010.ipynb)."
   ]
  },
  {
   "cell_type": "markdown",
   "metadata": {},
   "source": [
    "# Intro Tutorial 10: Computing Excitation Energies Using Time-Dependent Density Functional Theory (TDDFT)"
   ]
  },
  {
   "cell_type": "markdown",
   "metadata": {},
   "source": [
    "This tutorial shows how to compute neutral excitation energies of the negatively charged nitrogen-vacancy defect (NV$^-$) in diamond using linear-response time-dependent density functional theory (TDDFT) within the Tamm-Dancoff approximation. In TDDFT, the excitation energies are computed as the eigenvalues of the Liouville superoperator, with the corresponding eigenvectors representing the transition density. [Tutorial 11](https://github.com/west-code-development/West/raw/master/Doc/tutorials/basic/basic_011.ipynb) shows how to compute absorption spectra using TDDFT. [Tutorial 12](https://github.com/west-code-development/West/raw/master/Doc/tutorials/basic/basic_012.ipynb) shows how to compute analytical nuclear forces and perform excited state geometry optimization using TDDFT. More details about the TDDFT implementation in WEST can be found in [Y. Jin, V. Yu, M. Govoni, A. Xu, and G. Galli, J. Chem. Theory Comput. 19, 8689–8705 (2023)](https://doi.org/10.1021/acs.jctc.3c00986).\n",
    "\n",
    "In this tutorial, the TDDFT calculations are conducted using both the semi-local PBE functional and the dielectric-dependent hybrid (DDH) functional."
   ]
  },
  {
   "cell_type": "markdown",
   "metadata": {},
   "source": [
    "## Step 1: TDDFT calculation with the PBE functional\n",
    "\n",
    "A TDDFT calculation with a local or semi-local functional contains three steps:\n",
    "\n",
    "* 1.1 Performing a mean-field calculation, using density functional theory (DFT), as the starting point of TDDFT\n",
    "* 1.2 Computing the neutral excitation energies of triplet excited states using spin-conserving TDDFT\n",
    "* 1.3 Computing the neutral excitation energies of singlet excited states using spin-flip TDDFT"
   ]
  },
  {
   "cell_type": "markdown",
   "metadata": {},
   "source": [
    "### Step 1.1: Mean-field starting point"
   ]
  },
  {
   "cell_type": "markdown",
   "metadata": {},
   "source": [
    "We first perform the DFT calculation using the [Quantum ESPRESSO](https://www.quantum-espresso.org/) code.\n",
    "\n",
    "Download the following files to your working directory:"
   ]
  },
  {
   "cell_type": "code",
   "execution_count": null,
   "metadata": {},
   "outputs": [],
   "source": [
    "%%bash\n",
    "wget -N -q https://west-code.org/doc/training/nv_tddft/pbe_pw.in\n",
    "wget -N -q http://www.quantum-simulation.org/potentials/sg15_oncv/upf/C_ONCV_PBE-1.2.upf\n",
    "wget -N -q http://www.quantum-simulation.org/potentials/sg15_oncv/upf/N_ONCV_PBE-1.2.upf"
   ]
  },
  {
   "cell_type": "markdown",
   "metadata": {},
   "source": [
    "We can now inspect the `pbe_pw.in` file, the input for the `pw.x` code:"
   ]
  },
  {
   "cell_type": "code",
   "execution_count": 1,
   "metadata": {},
   "outputs": [
    {
     "name": "stdout",
     "output_type": "stream",
     "text": [
      "&CONTROL\n",
      "calculation = 'scf'\n",
      "prefix = 'pbe'\n",
      "pseudo_dir = './'\n",
      "/\n",
      "&SYSTEM\n",
      "ibrav = 0\n",
      "ecutwfc = 50\n",
      "tot_charge = -1.0\n",
      "nspin = 2\n",
      "tot_magnetization = 2.0\n",
      "nbnd = 150\n",
      "nat = 63\n",
      "ntyp = 2\n",
      "/\n",
      "&ELECTRONS\n",
      "diago_full_acc = .true.\n",
      "/\n",
      "K_POINTS gamma\n",
      "CELL_PARAMETERS angstrom\n",
      "7.136000  0.000000  0.000000\n",
      "0.000000  7.136000  0.000000\n",
      "0.000000  0.000000  7.136000\n",
      "ATOMIC_SPECIES\n",
      "C  12.01099968  C_ONCV_PBE-1.2.upf\n",
      "N  14.00699997  N_ONCV_PBE-1.2.upf\n",
      "ATOMIC_POSITIONS crystal\n",
      "C    0.1269815510  0.3733371195  0.3775718026\n",
      "C    0.1253081282  0.3763002936  0.8746894487\n",
      "C    0.1260060117  0.8738380396  0.3754459361\n",
      "C    0.1250639790  0.8750661683  0.8749376784\n",
      "C    0.6248201544  0.3811585813  0.3751813598\n",
      "C    0.6224309085  0.3733360188  0.8730196975\n",
      "C    0.6250110086  0.8765296624  0.3749876809\n",
      "C    0.6245505450  0.8738390861  0.8739957865\n",
      "C    0.0000259749  0.0000259633 -0.0000256868\n",
      "C    0.0014358428 -0.0014358100  0.5010495568\n",
      "C    0.0014328181  0.4989469740  0.0014351388\n",
      "C    0.0012018772  0.4992148548  0.5007857943\n",
      "C    0.4989470397 -0.0014328307  0.0014351823\n",
      "C    0.4992149137  0.0012018289  0.5007857375\n",
      "C    0.4992116247  0.4992116312 -0.0012034708\n",
      "C    0.1250667730  0.1250667914  0.1249294365\n",
      "C    0.1253032977  0.1253032524  0.6237019642\n",
      "C    0.1260062437  0.6245495725  0.1261632799\n",
      "C    0.1269771899  0.6224340478  0.6266613449\n",
      "C    0.6245496185  0.1260062840  0.1261633007\n",
      "C    0.6224340177  0.1269771772  0.6266613352\n",
      "C    0.6250092594  0.6250092159  0.1234699036\n",
      "C    0.6248234427  0.6248234639  0.6188442442\n",
      "C    0.0009910041  0.2504149699  0.2494871226\n",
      "C    0.0003716741  0.2501475881  0.7498513998\n",
      "C    0.0009645933  0.7495989686  0.2503986681\n",
      "C    0.0009941125  0.7505129665  0.7495871392\n",
      "C    0.4985394814  0.2524198182  0.2522377911\n",
      "C    0.5078677486  0.2391591291  0.7608354182\n",
      "C    0.5003280630  0.7516382226  0.2483618688\n",
      "C    0.4985401685  0.7477659930  0.7475823593\n",
      "C    0.3748654285  0.3748654245  0.1250552701\n",
      "C    0.3749783337  0.8749127142  0.1250879590\n",
      "C    0.3748650726  0.8749450711  0.6251340225\n",
      "C    0.8749127198  0.3749782927  0.1250879634\n",
      "C    0.8749450684  0.3748650501  0.6251340257\n",
      "C    0.8750493463  0.8750493517  0.1249501816\n",
      "C    0.8749120516  0.8749120381  0.6250201881\n",
      "C    0.2504149894 -0.0009909944  0.2494870713\n",
      "C    0.2501475446  0.0003715462  0.7498514576\n",
      "C    0.2524198093  0.4985394738  0.2522377661\n",
      "C    0.2391592245  0.5078678650  0.7608354474\n",
      "C    0.7495989932  0.0009646155  0.2503986775\n",
      "C    0.7505130382 -0.0009940706  0.7495871127\n",
      "C    0.7516382084  0.5003280124  0.2483619045\n",
      "C    0.7477659502  0.4985401253  0.7475823293\n",
      "C    0.3733371729  0.1269814887  0.3775717513\n",
      "C    0.3763002438  0.1253079989  0.8746895222\n",
      "C    0.3811585422  0.6248202431  0.3751812920\n",
      "C    0.3733360636  0.6224310126  0.8730197732\n",
      "C    0.8738379990  0.1260060464  0.3754459661\n",
      "C    0.8750662653  0.1250640377  0.8749376416\n",
      "C    0.8765296848  0.6250109436  0.3749877093\n",
      "C    0.8738390803  0.6245504485  0.8739957771\n",
      "C    0.2501515174  0.2501515049 -0.0003784384\n",
      "C    0.2391603565  0.2391602431  0.4921393755\n",
      "C    0.2504126363  0.7505106105  0.0009953037\n",
      "C    0.2524180055  0.7477644305  0.5014586422\n",
      "C    0.7505106094  0.2504126558  0.0009952558\n",
      "C    0.7477643646  0.2524180264  0.5014586712\n",
      "C    0.7495988945  0.7495988379 -0.0009639807\n",
      "C    0.7516394023  0.7516393858  0.4996700487\n",
      "N    0.5130505433  0.5130506248  0.4869539927\n"
     ]
    }
   ],
   "source": [
    "%%bash\n",
    "cat pbe_pw.in"
   ]
  },
  {
   "cell_type": "markdown",
   "metadata": {},
   "source": [
    "The calculation is spin polarized (i.e., `nspin = 2` and `tot_magnetization = 2.0`), representing the $m_S = +1$ sublevel of the $^3A_2$ many-body state of NV$^-$ in diamond.\n",
    "\n",
    "We run `pw.x` on 2 cores."
   ]
  },
  {
   "cell_type": "code",
   "execution_count": null,
   "metadata": {},
   "outputs": [],
   "source": [
    "%%bash\n",
    "mpirun -n 2 pw.x -i pbe_pw.in > pbe_pw.out"
   ]
  },
  {
   "cell_type": "markdown",
   "metadata": {},
   "source": [
    "### Step 1.2: Spin-conserving TDDFT calculation"
   ]
  },
  {
   "cell_type": "markdown",
   "metadata": {},
   "source": [
    "Now we run the `wbse.x` executable to compute the excitation energies of triplet states of NV$^-$ in diamond using spin-conserving TDDFT.\n",
    "\n",
    "Download the following file to your working directory:"
   ]
  },
  {
   "cell_type": "code",
   "execution_count": null,
   "metadata": {},
   "outputs": [],
   "source": [
    "%%bash\n",
    "wget -N -q https://west-code.org/doc/training/nv_tddft/pbe_sc_wbse.in"
   ]
  },
  {
   "cell_type": "markdown",
   "metadata": {},
   "source": [
    "Let us inspect the `pbe_sc_wbse.in` file:"
   ]
  },
  {
   "cell_type": "code",
   "execution_count": 2,
   "metadata": {},
   "outputs": [
    {
     "name": "stdout",
     "output_type": "stream",
     "text": [
      "input_west:\n",
      "  qe_prefix: pbe\n",
      "  west_prefix: pbe_sc\n",
      "  outdir: ./\n",
      "\n",
      "wbse_init_control:\n",
      "  wbse_init_calculation: S\n",
      "  solver: TDDFT\n",
      "\n",
      "wbse_control:\n",
      "  wbse_calculation: D\n",
      "  n_liouville_eigen: 2\n",
      "  trev_liouville: 0.00000001\n",
      "  trev_liouville_rel: 0.000001\n",
      "  l_preconditioning: True\n"
     ]
    }
   ],
   "source": [
    "%%bash\n",
    "cat pbe_sc_wbse.in"
   ]
  },
  {
   "cell_type": "markdown",
   "metadata": {},
   "source": [
    "The `solver: TDDFT` keyword instructs the code to perform a TDDFT calculation. The `wbse_calculation: D` keyword instructs the code to compute the neutral excitation energies using the Davidson algorithm. The `n_liouville_eigen: 2` keyword specifies that two lowest excitation energies are computed."
   ]
  },
  {
   "cell_type": "markdown",
   "metadata": {},
   "source": [
    "We run `wbse.x` on 2 cores:"
   ]
  },
  {
   "cell_type": "code",
   "execution_count": null,
   "metadata": {},
   "outputs": [],
   "source": [
    "%%bash\n",
    "mpirun -n 2 wbse.x -i pbe_sc_wbse.in > pbe_sc_wbse.out"
   ]
  },
  {
   "cell_type": "markdown",
   "metadata": {},
   "source": [
    "If the reader does NOT have the computational resources to run the calculation, the WEST output file needed for the next step can be directly downloaded as:"
   ]
  },
  {
   "cell_type": "code",
   "execution_count": null,
   "metadata": {},
   "outputs": [],
   "source": [
    "%%bash\n",
    "mkdir -p pbe_sc.wbse.save\n",
    "wget -N -q https://west-code.org/doc/training/nv_tddft/pbe_sc_summary.json -O pbe_sc.wbse.save/summary.json"
   ]
  },
  {
   "cell_type": "markdown",
   "metadata": {},
   "source": [
    "The calculated excitation energys (in Rydberg) can be found in the file `pbe_sc.wbse.save/summary.json`."
   ]
  },
  {
   "cell_type": "code",
   "execution_count": 3,
   "metadata": {},
   "outputs": [
    {
     "name": "stdout",
     "output_type": "stream",
     "text": [
      "{\n",
      "  \"plep\": {\n",
      "    \"n_plep_eigen\": 2,\n",
      "    \"eigenval\": [\n",
      "      0.14406126316112416,\n",
      "      0.1441942044061179\n",
      "    ]\n",
      "  }\n",
      "}\n"
     ]
    }
   ],
   "source": [
    "%%bash\n",
    "cat pbe_sc.wbse.save/summary.json"
   ]
  },
  {
   "cell_type": "markdown",
   "metadata": {},
   "source": [
    "These two states are the $m_S = +1$ sublevels of the $^3E$ excited states of NV$^-$ in diamond."
   ]
  },
  {
   "cell_type": "markdown",
   "metadata": {},
   "source": [
    "### Step 1.3: Spin-flip TDDFT calculation"
   ]
  },
  {
   "cell_type": "markdown",
   "metadata": {},
   "source": [
    "Now we run the `wbse.x` executable to compute the excitation energies of the singlet states of NV$^-$ in diamond using spin-flip TDDFT.\n",
    "\n",
    "Download the following file to your working directory:"
   ]
  },
  {
   "cell_type": "code",
   "execution_count": null,
   "metadata": {},
   "outputs": [],
   "source": [
    "%%bash\n",
    "wget -N -q https://west-code.org/doc/training/nv_tddft/pbe_sf_wbse.in"
   ]
  },
  {
   "cell_type": "markdown",
   "metadata": {},
   "source": [
    "Let us inspect the `pbe_sf_wbse.in` file:"
   ]
  },
  {
   "cell_type": "code",
   "execution_count": 4,
   "metadata": {},
   "outputs": [
    {
     "name": "stdout",
     "output_type": "stream",
     "text": [
      "input_west:\n",
      "  qe_prefix: pbe\n",
      "  west_prefix: pbe_sf\n",
      "  outdir: ./\n",
      "\n",
      "wbse_init_control:\n",
      "  wbse_init_calculation: S\n",
      "  solver: TDDFT\n",
      "\n",
      "wbse_control:\n",
      "  wbse_calculation: D\n",
      "  n_liouville_eigen: 4\n",
      "  trev_liouville: 0.00000001\n",
      "  trev_liouville_rel: 0.000001\n",
      "  l_preconditioning: True\n",
      "  l_spin_flip: True\n",
      "  l_spin_flip_kernel: True\n",
      "  l_spin_flip_alda0: False\n"
     ]
    }
   ],
   "source": [
    "%%bash\n",
    "cat pbe_sf_wbse.in"
   ]
  },
  {
   "cell_type": "markdown",
   "metadata": {},
   "source": [
    "The `l_spin_flip: True` and `l_spin_flip_kernel: True` keywords instruct the code to perform a spin-flip TDDFT calculation with the spin-flip kernel."
   ]
  },
  {
   "cell_type": "markdown",
   "metadata": {},
   "source": [
    "We run `wbse.x` on 2 cores:"
   ]
  },
  {
   "cell_type": "code",
   "execution_count": null,
   "metadata": {},
   "outputs": [],
   "source": [
    "%%bash\n",
    "mpirun -n 2 wbse.x -i pbe_sf_wbse.in > pbe_sf_wbse.out"
   ]
  },
  {
   "cell_type": "markdown",
   "metadata": {},
   "source": [
    "If the reader does NOT have the computational resources to run the calculation, the WEST output file needed for the next step can be directly downloaded as:"
   ]
  },
  {
   "cell_type": "code",
   "execution_count": null,
   "metadata": {},
   "outputs": [],
   "source": [
    "%%bash\n",
    "mkdir -p pbe_sf.wbse.save\n",
    "wget -N -q https://west-code.org/doc/training/nv_tddft/pbe_sf_summary.json -O pbe_sf.wbse.save/summary.json"
   ]
  },
  {
   "cell_type": "markdown",
   "metadata": {},
   "source": [
    "The calculated excitation energys (in Rydberg) can be found in the file `pbe_sf.wbse.save/summary.json`."
   ]
  },
  {
   "cell_type": "code",
   "execution_count": 5,
   "metadata": {},
   "outputs": [
    {
     "name": "stdout",
     "output_type": "stream",
     "text": [
      "{\n",
      "  \"plep\": {\n",
      "    \"n_plep_eigen\": 4,\n",
      "    \"eigenval\": [\n",
      "      0.006752572854356471,\n",
      "      0.043495765189432344,\n",
      "      0.043678785251997566,\n",
      "      0.10011245174283542\n",
      "    ]\n",
      "  }\n",
      "}\n"
     ]
    }
   ],
   "source": [
    "%%bash\n",
    "cat pbe_sf.wbse.save/summary.json"
   ]
  },
  {
   "cell_type": "markdown",
   "metadata": {},
   "source": [
    "The four states are the $m_S = 0$ sublevel of the $^3A_2$ state, the doubly degenerate $^1E$ states, and the $^1A_1$ state of NV$^-$ in diamond."
   ]
  },
  {
   "cell_type": "markdown",
   "metadata": {},
   "source": [
    "## Step 2: TDDFT calculation with the DDH functional\n",
    "\n",
    "A TDDFT calculation with a hybrid functional contains five steps:\n",
    "\n",
    "* 2.1 Performing a self-consistent DFT calculation as the starting point of TDDFT\n",
    "* 2.2 Performing a non-self-consistent DFT including more empty bands to construct the adaptively compressed exchange (ACE) operator, a low-rank approximation to the exact exchange operator\n",
    "* 2.3 Computing the Coulomb integrals for pairs of occupied Kohn-Sham orbitals\n",
    "* 2.4 Computing the neutral excitation energies of triplet excited states using spin-conserving TDDFT\n",
    "* 2.5 Computing the neutral excitation energies of singlet excited states using spin-flip TDDFT"
   ]
  },
  {
   "cell_type": "markdown",
   "metadata": {},
   "source": [
    "### Step 2.1: Mean-field starting point"
   ]
  },
  {
   "cell_type": "markdown",
   "metadata": {},
   "source": [
    "We first perform the DFT calculation using the Quantum ESPRESSO code.\n",
    "\n",
    "Download the following file to your working directory:"
   ]
  },
  {
   "cell_type": "code",
   "execution_count": null,
   "metadata": {},
   "outputs": [],
   "source": [
    "%%bash\n",
    "wget -N -q https://west-code.org/doc/training/nv_tddft/ddh_pw.in"
   ]
  },
  {
   "cell_type": "markdown",
   "metadata": {},
   "source": [
    "We can now inspect the `ddh_pw.in` file, the input for the `pw.x` code:"
   ]
  },
  {
   "cell_type": "code",
   "execution_count": 6,
   "metadata": {},
   "outputs": [
    {
     "name": "stdout",
     "output_type": "stream",
     "text": [
      "&CONTROL\n",
      "calculation = 'scf'\n",
      "prefix = 'ddh'\n",
      "pseudo_dir = './'\n",
      "/\n",
      "&SYSTEM\n",
      "ibrav = 0\n",
      "ecutwfc = 50\n",
      "tot_charge = -1.0\n",
      "nspin = 2\n",
      "tot_magnetization = 2.0\n",
      "nbnd = 150\n",
      "nat = 63\n",
      "ntyp = 2\n",
      "input_dft = 'pbe0'\n",
      "ecutfock = 100.0\n",
      "exx_fraction = 0.18\n",
      "/\n",
      "&ELECTRONS\n",
      "diago_full_acc = .true.\n",
      "/\n",
      "K_POINTS gamma\n",
      "CELL_PARAMETERS angstrom\n",
      "7.136000  0.000000  0.000000\n",
      "0.000000  7.136000  0.000000\n",
      "0.000000  0.000000  7.136000\n",
      "ATOMIC_SPECIES\n",
      "C  12.01099968  C_ONCV_PBE-1.2.upf\n",
      "N  14.00699997  N_ONCV_PBE-1.2.upf\n",
      "ATOMIC_POSITIONS crystal\n",
      "C    0.1269815510  0.3733371195  0.3775718026\n",
      "C    0.1253081282  0.3763002936  0.8746894487\n",
      "C    0.1260060117  0.8738380396  0.3754459361\n",
      "C    0.1250639790  0.8750661683  0.8749376784\n",
      "C    0.6248201544  0.3811585813  0.3751813598\n",
      "C    0.6224309085  0.3733360188  0.8730196975\n",
      "C    0.6250110086  0.8765296624  0.3749876809\n",
      "C    0.6245505450  0.8738390861  0.8739957865\n",
      "C    0.0000259749  0.0000259633 -0.0000256868\n",
      "C    0.0014358428 -0.0014358100  0.5010495568\n",
      "C    0.0014328181  0.4989469740  0.0014351388\n",
      "C    0.0012018772  0.4992148548  0.5007857943\n",
      "C    0.4989470397 -0.0014328307  0.0014351823\n",
      "C    0.4992149137  0.0012018289  0.5007857375\n",
      "C    0.4992116247  0.4992116312 -0.0012034708\n",
      "C    0.1250667730  0.1250667914  0.1249294365\n",
      "C    0.1253032977  0.1253032524  0.6237019642\n",
      "C    0.1260062437  0.6245495725  0.1261632799\n",
      "C    0.1269771899  0.6224340478  0.6266613449\n",
      "C    0.6245496185  0.1260062840  0.1261633007\n",
      "C    0.6224340177  0.1269771772  0.6266613352\n",
      "C    0.6250092594  0.6250092159  0.1234699036\n",
      "C    0.6248234427  0.6248234639  0.6188442442\n",
      "C    0.0009910041  0.2504149699  0.2494871226\n",
      "C    0.0003716741  0.2501475881  0.7498513998\n",
      "C    0.0009645933  0.7495989686  0.2503986681\n",
      "C    0.0009941125  0.7505129665  0.7495871392\n",
      "C    0.4985394814  0.2524198182  0.2522377911\n",
      "C    0.5078677486  0.2391591291  0.7608354182\n",
      "C    0.5003280630  0.7516382226  0.2483618688\n",
      "C    0.4985401685  0.7477659930  0.7475823593\n",
      "C    0.3748654285  0.3748654245  0.1250552701\n",
      "C    0.3749783337  0.8749127142  0.1250879590\n",
      "C    0.3748650726  0.8749450711  0.6251340225\n",
      "C    0.8749127198  0.3749782927  0.1250879634\n",
      "C    0.8749450684  0.3748650501  0.6251340257\n",
      "C    0.8750493463  0.8750493517  0.1249501816\n",
      "C    0.8749120516  0.8749120381  0.6250201881\n",
      "C    0.2504149894 -0.0009909944  0.2494870713\n",
      "C    0.2501475446  0.0003715462  0.7498514576\n",
      "C    0.2524198093  0.4985394738  0.2522377661\n",
      "C    0.2391592245  0.5078678650  0.7608354474\n",
      "C    0.7495989932  0.0009646155  0.2503986775\n",
      "C    0.7505130382 -0.0009940706  0.7495871127\n",
      "C    0.7516382084  0.5003280124  0.2483619045\n",
      "C    0.7477659502  0.4985401253  0.7475823293\n",
      "C    0.3733371729  0.1269814887  0.3775717513\n",
      "C    0.3763002438  0.1253079989  0.8746895222\n",
      "C    0.3811585422  0.6248202431  0.3751812920\n",
      "C    0.3733360636  0.6224310126  0.8730197732\n",
      "C    0.8738379990  0.1260060464  0.3754459661\n",
      "C    0.8750662653  0.1250640377  0.8749376416\n",
      "C    0.8765296848  0.6250109436  0.3749877093\n",
      "C    0.8738390803  0.6245504485  0.8739957771\n",
      "C    0.2501515174  0.2501515049 -0.0003784384\n",
      "C    0.2391603565  0.2391602431  0.4921393755\n",
      "C    0.2504126363  0.7505106105  0.0009953037\n",
      "C    0.2524180055  0.7477644305  0.5014586422\n",
      "C    0.7505106094  0.2504126558  0.0009952558\n",
      "C    0.7477643646  0.2524180264  0.5014586712\n",
      "C    0.7495988945  0.7495988379 -0.0009639807\n",
      "C    0.7516394023  0.7516393858  0.4996700487\n",
      "N    0.5130505433  0.5130506248  0.4869539927\n"
     ]
    }
   ],
   "source": [
    "%%bash\n",
    "cat ddh_pw.in"
   ]
  },
  {
   "cell_type": "markdown",
   "metadata": {},
   "source": [
    "Compared to the file `pbe_pw.in`, the additional keywords `input_dft = 'pbe0'` and `exx_fraction = 0.18` instruct the DFT calculation to use the PBE0 functional, incorporating an exact exchange fraction of 0.18. This approach is termed the dielectric-dependent hybrid (DDH) functional, as the fraction is derived from the inverse of the macroscopic dielectric constant of diamond.\n",
    "\n",
    "We run `pw.x` on 2 cores, and make a copy of the save directory generated by `pw.x`."
   ]
  },
  {
   "cell_type": "code",
   "execution_count": null,
   "metadata": {},
   "outputs": [],
   "source": [
    "%%bash\n",
    "mpirun -n 2 pw.x -i ddh_pw.in > ddh_pw.out\n",
    "cp -r ddh.save ddh_copy.save"
   ]
  },
  {
   "cell_type": "markdown",
   "metadata": {},
   "source": [
    "### Step 2.2: Non-self-consistent-field calculation for the ACE operator"
   ]
  },
  {
   "cell_type": "markdown",
   "metadata": {},
   "source": [
    "We perform the non-self-consistent-field (nscf) calculation for the ACE operator that is used in the TDDFT calculation in the case of hybrid functionals.\n",
    "\n",
    "Download the following file to your working directory:"
   ]
  },
  {
   "cell_type": "code",
   "execution_count": null,
   "metadata": {},
   "outputs": [],
   "source": [
    "%%bash\n",
    "wget -N -q https://west-code.org/doc/training/nv_tddft/ddh_nscf.in"
   ]
  },
  {
   "cell_type": "markdown",
   "metadata": {},
   "source": [
    "We can now inspect the `ddh_nscf.in` file:"
   ]
  },
  {
   "cell_type": "code",
   "execution_count": 7,
   "metadata": {},
   "outputs": [
    {
     "name": "stdout",
     "output_type": "stream",
     "text": [
      "&CONTROL\n",
      "calculation = 'nscf'\n",
      "prefix = 'ddh'\n",
      "pseudo_dir = './'\n",
      "/\n",
      "&SYSTEM\n",
      "ibrav = 0\n",
      "ecutwfc = 50\n",
      "tot_charge = -1.0\n",
      "nspin = 2\n",
      "tot_magnetization = 2.0\n",
      "nbnd = 512\n",
      "nat = 63\n",
      "ntyp = 2\n",
      "input_dft = 'pbe0'\n",
      "ecutfock = 100.0\n",
      "exx_fraction = 0.18\n",
      "/\n",
      "&ELECTRONS\n",
      "diago_full_acc = .true.\n",
      "/\n",
      "K_POINTS gamma\n",
      "CELL_PARAMETERS angstrom\n",
      "7.136000  0.000000  0.000000\n",
      "0.000000  7.136000  0.000000\n",
      "0.000000  0.000000  7.136000\n",
      "ATOMIC_SPECIES\n",
      "C  12.01099968  C_ONCV_PBE-1.2.upf\n",
      "N  14.00699997  N_ONCV_PBE-1.2.upf\n",
      "ATOMIC_POSITIONS crystal\n",
      "C    0.1269815510  0.3733371195  0.3775718026\n",
      "C    0.1253081282  0.3763002936  0.8746894487\n",
      "C    0.1260060117  0.8738380396  0.3754459361\n",
      "C    0.1250639790  0.8750661683  0.8749376784\n",
      "C    0.6248201544  0.3811585813  0.3751813598\n",
      "C    0.6224309085  0.3733360188  0.8730196975\n",
      "C    0.6250110086  0.8765296624  0.3749876809\n",
      "C    0.6245505450  0.8738390861  0.8739957865\n",
      "C    0.0000259749  0.0000259633 -0.0000256868\n",
      "C    0.0014358428 -0.0014358100  0.5010495568\n",
      "C    0.0014328181  0.4989469740  0.0014351388\n",
      "C    0.0012018772  0.4992148548  0.5007857943\n",
      "C    0.4989470397 -0.0014328307  0.0014351823\n",
      "C    0.4992149137  0.0012018289  0.5007857375\n",
      "C    0.4992116247  0.4992116312 -0.0012034708\n",
      "C    0.1250667730  0.1250667914  0.1249294365\n",
      "C    0.1253032977  0.1253032524  0.6237019642\n",
      "C    0.1260062437  0.6245495725  0.1261632799\n",
      "C    0.1269771899  0.6224340478  0.6266613449\n",
      "C    0.6245496185  0.1260062840  0.1261633007\n",
      "C    0.6224340177  0.1269771772  0.6266613352\n",
      "C    0.6250092594  0.6250092159  0.1234699036\n",
      "C    0.6248234427  0.6248234639  0.6188442442\n",
      "C    0.0009910041  0.2504149699  0.2494871226\n",
      "C    0.0003716741  0.2501475881  0.7498513998\n",
      "C    0.0009645933  0.7495989686  0.2503986681\n",
      "C    0.0009941125  0.7505129665  0.7495871392\n",
      "C    0.4985394814  0.2524198182  0.2522377911\n",
      "C    0.5078677486  0.2391591291  0.7608354182\n",
      "C    0.5003280630  0.7516382226  0.2483618688\n",
      "C    0.4985401685  0.7477659930  0.7475823593\n",
      "C    0.3748654285  0.3748654245  0.1250552701\n",
      "C    0.3749783337  0.8749127142  0.1250879590\n",
      "C    0.3748650726  0.8749450711  0.6251340225\n",
      "C    0.8749127198  0.3749782927  0.1250879634\n",
      "C    0.8749450684  0.3748650501  0.6251340257\n",
      "C    0.8750493463  0.8750493517  0.1249501816\n",
      "C    0.8749120516  0.8749120381  0.6250201881\n",
      "C    0.2504149894 -0.0009909944  0.2494870713\n",
      "C    0.2501475446  0.0003715462  0.7498514576\n",
      "C    0.2524198093  0.4985394738  0.2522377661\n",
      "C    0.2391592245  0.5078678650  0.7608354474\n",
      "C    0.7495989932  0.0009646155  0.2503986775\n",
      "C    0.7505130382 -0.0009940706  0.7495871127\n",
      "C    0.7516382084  0.5003280124  0.2483619045\n",
      "C    0.7477659502  0.4985401253  0.7475823293\n",
      "C    0.3733371729  0.1269814887  0.3775717513\n",
      "C    0.3763002438  0.1253079989  0.8746895222\n",
      "C    0.3811585422  0.6248202431  0.3751812920\n",
      "C    0.3733360636  0.6224310126  0.8730197732\n",
      "C    0.8738379990  0.1260060464  0.3754459661\n",
      "C    0.8750662653  0.1250640377  0.8749376416\n",
      "C    0.8765296848  0.6250109436  0.3749877093\n",
      "C    0.8738390803  0.6245504485  0.8739957771\n",
      "C    0.2501515174  0.2501515049 -0.0003784384\n",
      "C    0.2391603565  0.2391602431  0.4921393755\n",
      "C    0.2504126363  0.7505106105  0.0009953037\n",
      "C    0.2524180055  0.7477644305  0.5014586422\n",
      "C    0.7505106094  0.2504126558  0.0009952558\n",
      "C    0.7477643646  0.2524180264  0.5014586712\n",
      "C    0.7495988945  0.7495988379 -0.0009639807\n",
      "C    0.7516394023  0.7516393858  0.4996700487\n",
      "N    0.5130505433  0.5130506248  0.4869539927\n"
     ]
    }
   ],
   "source": [
    "%%bash\n",
    "cat ddh_nscf.in"
   ]
  },
  {
   "cell_type": "markdown",
   "metadata": {},
   "source": [
    "The content of `ddh_nscf.in` is almost identical to that of `ddh_pw.in`, except that in `ddh_nscf.in` we request a non-self-consistent-field (nscf) calculation with a larger value of `nbnd = 512`, which is the number of Kohn-Sham orbitals used to construct the ACE operator.\n",
    "\n",
    "The calculation is spin polarized (i.e., `nspin = 2` and `tot_magnetization = 2.0`), representing the $m_S = +1$ sublevel of the $^3A_2$ many-body state of NV$^-$ in diamond.\n",
    "\n",
    "We run `pw.x` again on 2 cores, and copy the file that stores the ACE operator to the directory saved in the previous self-consistent run."
   ]
  },
  {
   "cell_type": "code",
   "execution_count": null,
   "metadata": {},
   "outputs": [],
   "source": [
    "%%bash\n",
    "mpirun -n 2 pw.x -i ddh_nscf.in > ddh_nscf.out\n",
    "cp ddh.save/ace* ddh_copy.save/\n",
    "rm -rf ddh.save ddh.wfc*\n",
    "mv ddh_copy.save ddh.save"
   ]
  },
  {
   "cell_type": "markdown",
   "metadata": {},
   "source": [
    "### Step 2.3: Coulomb integrals"
   ]
  },
  {
   "cell_type": "markdown",
   "metadata": {},
   "source": [
    "We compute the Coulomb integrals for pairs of occupied Kohn-Sham orbitals using the `wbse_init.x` executable.\n",
    "\n",
    "Download the following file to your working directory:"
   ]
  },
  {
   "cell_type": "code",
   "execution_count": null,
   "metadata": {},
   "outputs": [],
   "source": [
    "%%bash\n",
    "wget -N -q https://west-code.org/doc/training/nv_tddft/ddh_wbse_init.in"
   ]
  },
  {
   "cell_type": "markdown",
   "metadata": {},
   "source": [
    "Let us inspect the `ddh_wbse_init.in` file:"
   ]
  },
  {
   "cell_type": "code",
   "execution_count": 8,
   "metadata": {},
   "outputs": [
    {
     "name": "stdout",
     "output_type": "stream",
     "text": [
      "input_west:\n",
      "  qe_prefix: ddh\n",
      "  west_prefix: ddh_west\n",
      "  outdir: ./\n",
      "\n",
      "wbse_init_control:\n",
      "  wbse_init_calculation: S\n",
      "  solver: TDDFT\n",
      "  localization: W\n",
      "  overlap_thr: 0.001\n"
     ]
    }
   ],
   "source": [
    "%%bash\n",
    "cat ddh_wbse_init.in"
   ]
  },
  {
   "cell_type": "markdown",
   "metadata": {},
   "source": [
    "The `localization: W` keyword instructs the code to use Wannier functions, which are a localized representation of the Kohn-Sham orbitals. If the overlap between two Wannier functions is below `overlap_thr: 0.001`, the evaluation of the corresponding Coulomb integral is skipped, thus reducing the computational cost.\n",
    "\n",
    "We run `wbse_init.x` on 2 cores:"
   ]
  },
  {
   "cell_type": "code",
   "execution_count": null,
   "metadata": {},
   "outputs": [],
   "source": [
    "%%bash\n",
    "mpirun -n 2 wbse_init.x -i ddh_wbse_init.in > ddh_wbse_init.out"
   ]
  },
  {
   "cell_type": "markdown",
   "metadata": {},
   "source": [
    "### Step 2.4: Spin-conserving TDDFT calculation"
   ]
  },
  {
   "cell_type": "markdown",
   "metadata": {},
   "source": [
    "Now we run the `wbse.x` executable to compute the excitation energies of triplet states of NV$^-$ in diamond using spin-conserving TDDFT.\n",
    "\n",
    "Download the following file to your working directory:"
   ]
  },
  {
   "cell_type": "code",
   "execution_count": null,
   "metadata": {},
   "outputs": [],
   "source": [
    "%%bash\n",
    "wget -N -q https://west-code.org/doc/training/nv_tddft/ddh_sc_wbse.in"
   ]
  },
  {
   "cell_type": "markdown",
   "metadata": {},
   "source": [
    "Let us inspect the `ddh_sc_wbse.in` file:"
   ]
  },
  {
   "cell_type": "code",
   "execution_count": 9,
   "metadata": {},
   "outputs": [
    {
     "name": "stdout",
     "output_type": "stream",
     "text": [
      "input_west:\n",
      "  qe_prefix: ddh\n",
      "  west_prefix: ddh_sc\n",
      "  outdir: ./\n",
      "\n",
      "wbse_init_control:\n",
      "  wbse_init_calculation: S\n",
      "  solver: TDDFT\n",
      "  localization: W\n",
      "  overlap_thr: 0.001\n",
      "\n",
      "wbse_control:\n",
      "  wbse_calculation: D\n",
      "  n_liouville_eigen: 2\n",
      "  trev_liouville: 0.00000001\n",
      "  trev_liouville_rel: 0.000001\n",
      "  l_preconditioning: True\n",
      "  n_exx_lowrank: 512\n"
     ]
    }
   ],
   "source": [
    "%%bash\n",
    "cat ddh_sc_wbse.in"
   ]
  },
  {
   "cell_type": "markdown",
   "metadata": {},
   "source": [
    "The `n_exx_lowrank: 512` keyword means that the ACE operator is constructed with 512 Kohn-Sham orbitals.\n",
    "\n",
    "We run `wbse.x` on 2 cores:"
   ]
  },
  {
   "cell_type": "code",
   "execution_count": null,
   "metadata": {},
   "outputs": [],
   "source": [
    "%%bash\n",
    "ln -s ddh_west.wbse_init.save ddh_sc.wbse_init.save\n",
    "mpirun -n 2 wbse.x -i ddh_sc_wbse.in > ddh_sc_wbse.out"
   ]
  },
  {
   "cell_type": "markdown",
   "metadata": {},
   "source": [
    "If the reader does NOT have the computational resources to run the calculation, the WEST output file needed for the next step can be directly downloaded as:"
   ]
  },
  {
   "cell_type": "code",
   "execution_count": null,
   "metadata": {},
   "outputs": [],
   "source": [
    "%%bash\n",
    "mkdir -p ddh_sc.wbse.save\n",
    "wget -N -q https://west-code.org/doc/training/nv_tddft/ddh_sc_summary.json -O ddh_sc.wbse.save/summary.json"
   ]
  },
  {
   "cell_type": "markdown",
   "metadata": {},
   "source": [
    "The calculated excitation energys (in Rydberg) can be found in the file `ddh_sc.wbse.save/summary.json`."
   ]
  },
  {
   "cell_type": "code",
   "execution_count": 10,
   "metadata": {},
   "outputs": [
    {
     "name": "stdout",
     "output_type": "stream",
     "text": [
      "{\n",
      "  \"plep\": {\n",
      "    \"n_plep_eigen\": 2,\n",
      "    \"eigenval\": [\n",
      "      0.16518277920006938,\n",
      "      0.16529209364139377\n",
      "    ]\n",
      "  }\n",
      "}\n"
     ]
    }
   ],
   "source": [
    "%%bash\n",
    "cat ddh_sc.wbse.save/summary.json"
   ]
  },
  {
   "cell_type": "markdown",
   "metadata": {},
   "source": [
    "These two states are the $m_S = +1$ sublevel of the $^3E$ excited states of NV$^-$ in diamond."
   ]
  },
  {
   "cell_type": "markdown",
   "metadata": {},
   "source": [
    "### Step 2.5: Spin-flip TDDFT calculation"
   ]
  },
  {
   "cell_type": "markdown",
   "metadata": {},
   "source": [
    "Now we run the `wbse.x` executable to compute the excitation energies of singlet states of NV$^-$ in diamond using spin-flip TDDFT.\n",
    "\n",
    "Download the following file to your working directory:"
   ]
  },
  {
   "cell_type": "code",
   "execution_count": null,
   "metadata": {},
   "outputs": [],
   "source": [
    "%%bash\n",
    "wget -N -q https://west-code.org/doc/training/nv_tddft/ddh_sf_wbse.in"
   ]
  },
  {
   "cell_type": "markdown",
   "metadata": {},
   "source": [
    "Let us inspect the `ddh_sf_wbse.in` file:"
   ]
  },
  {
   "cell_type": "code",
   "execution_count": 11,
   "metadata": {},
   "outputs": [
    {
     "name": "stdout",
     "output_type": "stream",
     "text": [
      "input_west:\n",
      "  qe_prefix: ddh\n",
      "  west_prefix: ddh_sf\n",
      "  outdir: ./\n",
      "\n",
      "wbse_init_control:\n",
      "  wbse_init_calculation: S\n",
      "  solver: TDDFT\n",
      "  localization: W\n",
      "  overlap_thr: 0.001\n",
      "\n",
      "wbse_control:\n",
      "  wbse_calculation: D\n",
      "  n_liouville_eigen: 4\n",
      "  trev_liouville: 0.00000001\n",
      "  trev_liouville_rel: 0.000001\n",
      "  l_preconditioning: True\n",
      "  l_spin_flip: True\n",
      "  l_spin_flip_kernel: True\n",
      "  l_spin_flip_alda0: False\n",
      "  n_exx_lowrank: 512\n"
     ]
    }
   ],
   "source": [
    "%%bash\n",
    "cat ddh_sf_wbse.in"
   ]
  },
  {
   "cell_type": "markdown",
   "metadata": {},
   "source": [
    "We run `wbse.x` on 2 cores:"
   ]
  },
  {
   "cell_type": "code",
   "execution_count": null,
   "metadata": {},
   "outputs": [],
   "source": [
    "%%bash\n",
    "ln -s ddh_west.wbse_init.save ddh_sf.wbse_init.save\n",
    "mpirun -n 2 wbse.x -i ddh_sf_wbse.in > ddh_sf_wbse.out"
   ]
  },
  {
   "cell_type": "markdown",
   "metadata": {},
   "source": [
    "If the reader does NOT have the computational resources to run the calculation, the WEST output file needed for the next step can be directly downloaded as:"
   ]
  },
  {
   "cell_type": "code",
   "execution_count": null,
   "metadata": {},
   "outputs": [],
   "source": [
    "%%bash\n",
    "mkdir -p ddh_sf.wbse.save\n",
    "wget -N -q https://west-code.org/doc/training/nv_tddft/ddh_sf_summary.json -O ddh_sf.wbse.save/summary.json"
   ]
  },
  {
   "cell_type": "markdown",
   "metadata": {},
   "source": [
    "The calculated excitation energys (in Rydberg) can be found in the file `ddh_sf.wbse.save/summary.json`."
   ]
  },
  {
   "cell_type": "code",
   "execution_count": 12,
   "metadata": {},
   "outputs": [
    {
     "name": "stdout",
     "output_type": "stream",
     "text": [
      "{\n",
      "  \"plep\": {\n",
      "    \"n_plep_eigen\": 4,\n",
      "    \"eigenval\": [\n",
      "      0.010238564822618666,\n",
      "      0.05862318898692176,\n",
      "      0.058865528147033344,\n",
      "      0.1472998272595149\n",
      "    ]\n",
      "  }\n",
      "}\n"
     ]
    }
   ],
   "source": [
    "%%bash\n",
    "cat ddh_sf.wbse.save/summary.json"
   ]
  },
  {
   "cell_type": "markdown",
   "metadata": {},
   "source": [
    "The four states are the $m_S = 0$ sublevel of the $^3A_2$ state, the doubly degenerate $^1E$ states, and the $^1A_1$ state of NV$^-$ in diamond."
   ]
  },
  {
   "cell_type": "markdown",
   "metadata": {},
   "source": [
    "## Step 3: Summary of results"
   ]
  },
  {
   "cell_type": "markdown",
   "metadata": {},
   "source": [
    "We extract the excitation energies from the JSON files."
   ]
  },
  {
   "cell_type": "code",
   "execution_count": 13,
   "metadata": {},
   "outputs": [],
   "source": [
    "import json\n",
    "import numpy as np\n",
    "\n",
    "ry2ev = 13.605662285137\n",
    "\n",
    "with open(\"pbe_sc.wbse.save/summary.json\", \"r\") as f:\n",
    "    data = json.load(f)\n",
    "    pbe_sc_vee = np.array(data[\"plep\"][\"eigenval\"])\n",
    "    pbe_sc_vee *= ry2ev\n",
    "\n",
    "with open(\"pbe_sf.wbse.save/summary.json\", \"r\") as f:\n",
    "    data = json.load(f)\n",
    "    pbe_sf_vee = np.array(data[\"plep\"][\"eigenval\"])\n",
    "    pbe_sf_vee -= pbe_sf_vee[0]\n",
    "    pbe_sf_vee *= ry2ev\n",
    "\n",
    "with open(\"ddh_sc.wbse.save/summary.json\", \"r\") as f:\n",
    "    data = json.load(f)\n",
    "    ddh_sc_vee = np.array(data[\"plep\"][\"eigenval\"])\n",
    "    ddh_sc_vee *= ry2ev\n",
    "\n",
    "with open(\"ddh_sf.wbse.save/summary.json\", \"r\") as f:\n",
    "    data = json.load(f)\n",
    "    ddh_sf_vee = np.array(data[\"plep\"][\"eigenval\"])\n",
    "    ddh_sf_vee -= ddh_sf_vee[0]\n",
    "    ddh_sf_vee *= ry2ev"
   ]
  },
  {
   "cell_type": "markdown",
   "metadata": {},
   "source": [
    "Now we compare the computed excitation energies with the experimental zero-phonon line (ZPL):"
   ]
  },
  {
   "cell_type": "code",
   "execution_count": 14,
   "metadata": {},
   "outputs": [
    {
     "data": {
      "text/html": [
       "<div>\n",
       "<style scoped>\n",
       "    .dataframe tbody tr th:only-of-type {\n",
       "        vertical-align: middle;\n",
       "    }\n",
       "\n",
       "    .dataframe tbody tr th {\n",
       "        vertical-align: top;\n",
       "    }\n",
       "\n",
       "    .dataframe thead th {\n",
       "        text-align: right;\n",
       "    }\n",
       "</style>\n",
       "<table border=\"1\" class=\"dataframe\">\n",
       "  <thead>\n",
       "    <tr style=\"text-align: right;\">\n",
       "      <th></th>\n",
       "      <th>State</th>\n",
       "      <th>TDDFT@PBE (eV)</th>\n",
       "      <th>TDDFT@DDH (eV)</th>\n",
       "      <th>Expt. ZPL (eV)</th>\n",
       "    </tr>\n",
       "  </thead>\n",
       "  <tbody>\n",
       "    <tr>\n",
       "      <th>0</th>\n",
       "      <td>$^3A_2$</td>\n",
       "      <td>0.000</td>\n",
       "      <td>0.000</td>\n",
       "      <td>0.000</td>\n",
       "    </tr>\n",
       "    <tr>\n",
       "      <th>1</th>\n",
       "      <td>$^1E$</td>\n",
       "      <td>0.500</td>\n",
       "      <td>0.658</td>\n",
       "      <td>0.34 - 0.43</td>\n",
       "    </tr>\n",
       "    <tr>\n",
       "      <th>2</th>\n",
       "      <td>$^1A_1$</td>\n",
       "      <td>1.270</td>\n",
       "      <td>1.865</td>\n",
       "      <td>1.51 - 1.60</td>\n",
       "    </tr>\n",
       "    <tr>\n",
       "      <th>3</th>\n",
       "      <td>$^3E$</td>\n",
       "      <td>1.960</td>\n",
       "      <td>2.247</td>\n",
       "      <td>1.945</td>\n",
       "    </tr>\n",
       "  </tbody>\n",
       "</table>\n",
       "</div>"
      ],
      "text/plain": [
       "     State  TDDFT@PBE (eV)  TDDFT@DDH (eV) Expt. ZPL (eV)\n",
       "0  $^3A_2$           0.000           0.000          0.000\n",
       "1    $^1E$           0.500           0.658    0.34 - 0.43\n",
       "2  $^1A_1$           1.270           1.865    1.51 - 1.60\n",
       "3    $^3E$           1.960           2.247          1.945"
      ]
     },
     "execution_count": 14,
     "metadata": {},
     "output_type": "execute_result"
    }
   ],
   "source": [
    "import pandas as pd\n",
    "\n",
    "data = {\n",
    "    \"State\": [\"$^3A_2$\", \"$^1E$\", \"$^1A_1$\", \"$^3E$\"],\n",
    "    \"TDDFT@PBE (eV)\": [0.0, pbe_sf_vee[1], pbe_sf_vee[3], pbe_sc_vee[0]],\n",
    "    \"TDDFT@DDH (eV)\": [0.0, ddh_sf_vee[1], ddh_sf_vee[3], ddh_sc_vee[0]],\n",
    "    \"Expt. ZPL (eV)\": [0.0, \"0.34 - 0.43\", \"1.51 - 1.60\", 1.945]\n",
    "}\n",
    "\n",
    "df = pd.DataFrame(data)\n",
    "pd.options.display.float_format = \"{:.3f}\".format\n",
    "df"
   ]
  },
  {
   "cell_type": "markdown",
   "metadata": {},
   "source": [
    "The TDDFT@DDH calculations employed two numerical approximations:\n",
    "\n",
    "* the ACE approximation to the exact exchange operator;\n",
    "* the nearsightedness principle to restrict the Coulomb integrals to overlapping Wannier functions.\n",
    "\n",
    "These approximations introduce minimal errors in the calculated excitation energies, as demonstrated below."
   ]
  },
  {
   "cell_type": "code",
   "execution_count": 16,
   "metadata": {},
   "outputs": [
    {
     "data": {
      "text/html": [
       "<div>\n",
       "<style scoped>\n",
       "    .dataframe tbody tr th:only-of-type {\n",
       "        vertical-align: middle;\n",
       "    }\n",
       "\n",
       "    .dataframe tbody tr th {\n",
       "        vertical-align: top;\n",
       "    }\n",
       "\n",
       "    .dataframe thead th {\n",
       "        text-align: right;\n",
       "    }\n",
       "</style>\n",
       "<table border=\"1\" class=\"dataframe\">\n",
       "  <thead>\n",
       "    <tr style=\"text-align: right;\">\n",
       "      <th></th>\n",
       "      <th>State</th>\n",
       "      <th>TDDFT@DDH, w/ approximations (eV)</th>\n",
       "      <th>TDDFT@DDH, w/o approximations (eV)</th>\n",
       "    </tr>\n",
       "  </thead>\n",
       "  <tbody>\n",
       "    <tr>\n",
       "      <th>0</th>\n",
       "      <td>$^3A_2$</td>\n",
       "      <td>0.000</td>\n",
       "      <td>0.000</td>\n",
       "    </tr>\n",
       "    <tr>\n",
       "      <th>1</th>\n",
       "      <td>$^1E$</td>\n",
       "      <td>0.658</td>\n",
       "      <td>0.659</td>\n",
       "    </tr>\n",
       "    <tr>\n",
       "      <th>2</th>\n",
       "      <td>$^1A_1$</td>\n",
       "      <td>1.865</td>\n",
       "      <td>1.866</td>\n",
       "    </tr>\n",
       "    <tr>\n",
       "      <th>3</th>\n",
       "      <td>$^3E$</td>\n",
       "      <td>2.247</td>\n",
       "      <td>2.250</td>\n",
       "    </tr>\n",
       "  </tbody>\n",
       "</table>\n",
       "</div>"
      ],
      "text/plain": [
       "     State  TDDFT@DDH, w/ approximations (eV)  \\\n",
       "0  $^3A_2$                              0.000   \n",
       "1    $^1E$                              0.658   \n",
       "2  $^1A_1$                              1.865   \n",
       "3    $^3E$                              2.247   \n",
       "\n",
       "   TDDFT@DDH, w/o approximations (eV)  \n",
       "0                               0.000  \n",
       "1                               0.659  \n",
       "2                               1.866  \n",
       "3                               2.250  "
      ]
     },
     "execution_count": 16,
     "metadata": {},
     "output_type": "execute_result"
    }
   ],
   "source": [
    "data = {\n",
    "    \"State\": [\"$^3A_2$\", \"$^1E$\", \"$^1A_1$\", \"$^3E$\"],\n",
    "    \"TDDFT@DDH, w/ approximations (eV)\": [0.0, ddh_sf_vee[1], ddh_sf_vee[3], ddh_sc_vee[0]],\n",
    "    \"TDDFT@DDH, w/o approximations (eV)\": [0.0, 0.659, 1.866, 2.250],\n",
    "}\n",
    "\n",
    "df = pd.DataFrame(data)\n",
    "pd.options.display.float_format = \"{:.3f}\".format\n",
    "df"
   ]
  }
 ],
 "metadata": {
  "kernelspec": {
   "display_name": "Python 3 (ipykernel)",
   "language": "python",
   "name": "python3"
  },
  "language_info": {
   "codemirror_mode": {
    "name": "ipython",
    "version": 3
   },
   "file_extension": ".py",
   "mimetype": "text/x-python",
   "name": "python",
   "nbconvert_exporter": "python",
   "pygments_lexer": "ipython3",
   "version": "3.9.18"
  }
 },
 "nbformat": 4,
 "nbformat_minor": 4
}
