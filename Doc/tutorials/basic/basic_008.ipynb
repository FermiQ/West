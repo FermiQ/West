{
 "cells": [
  {
   "cell_type": "markdown",
   "id": "61ce0c0c",
   "metadata": {},
   "source": [
    "This tutorial can be downloaded [link](http://greatfire.uchicago.edu/west-public/West/raw/master/Doc/tutorials/basic/basic_008.ipynb)."
   ]
  },
  {
   "cell_type": "markdown",
   "id": "b41565b9",
   "metadata": {},
   "source": [
    "# Intro tutorial 8: Computing absorption spectra by solving the Bethe-Salpeter Equation (BSE)"
   ]
  },
  {
   "cell_type": "markdown",
   "id": "dbdf63ae",
   "metadata": {},
   "source": [
    "This tutorial shows how to compute the absorption spectrum of the C60 molecule by solving the Bethe-Salpeter Equation (BSE). WEST adopts a finite field formalism to solve the BSE. The screened Coulomb interaction is directly evaluated in finite field, thus eliminating the need to compute dielectric matrices altogether. In addition, the computational cost can be reduced by using a localized representation of the ground state Kohn-Sham wavefunctions. For more information about the method, the reader is referred to [Nguyen et al., Phys. Rev. Lett. 122, 237402 (2019)](https://doi.org/10.1103/PhysRevLett.122.237402)."
   ]
  },
  {
   "cell_type": "markdown",
   "id": "2e6de74b",
   "metadata": {},
   "source": [
    "## Step 1:  Mean-field starting point"
   ]
  },
  {
   "cell_type": "markdown",
   "id": "99da9485",
   "metadata": {},
   "source": [
    "### Step 1.1: Mean-field calculation with Quantum ESPRESSO"
   ]
  },
  {
   "cell_type": "markdown",
   "id": "26931828",
   "metadata": {},
   "source": [
    "We first perform the mean-field electronic structure calculation within DFT using the [Quantum ESPRESSO](https://www.quantum-espresso.org/) code.\n",
    "\n",
    "Download the following files to your working directory:"
   ]
  },
  {
   "cell_type": "code",
   "execution_count": null,
   "id": "96c74914",
   "metadata": {},
   "outputs": [],
   "source": [
    "%%bash\n",
    "wget -N -q http://www.west-code.org/doc/training/c60/pw.in\n",
    "wget -N -q http://www.quantum-simulation.org/potentials/sg15_oncv/upf/C_ONCV_PBE-1.2.upf"
   ]
  },
  {
   "cell_type": "markdown",
   "id": "75927bb4",
   "metadata": {},
   "source": [
    "We can inspect the `pw.in` file, the input for the `pw.x` code:"
   ]
  },
  {
   "cell_type": "code",
   "execution_count": 1,
   "id": "f1e09cc6",
   "metadata": {},
   "outputs": [
    {
     "name": "stdout",
     "output_type": "stream",
     "text": [
      "&control\n",
      "pseudo_dir = './'\n",
      "calculation = 'scf'\n",
      "wf_collect = .TRUE.\n",
      "/\n",
      "&system\n",
      "ibrav = 0\n",
      "ntyp = 1\n",
      "nat = 60\n",
      "ecutwfc = 20\n",
      "/\n",
      "&electrons\n",
      "diago_full_acc = .TRUE.\n",
      "/\n",
      "ATOMIC_SPECIES\n",
      "C 14 C_ONCV_PBE-1.2.upf\n",
      "ATOMIC_POSITIONS bohr\n",
      "C  6.560216999227  1.317708999068  0.000000000000\n",
      "C  5.716322000011  2.686502999941 -2.213027000418\n",
      "C  6.560216999227 -1.317708999068  0.000000000000\n",
      "C  4.900061000384  1.363055000501 -4.347289999376\n",
      "C  2.686503999607  2.213028000083 -5.716321000346\n",
      "C  4.347291000932  4.900060000718 -1.363055000501\n",
      "C  2.213028000083  5.716322000011 -2.686502000276\n",
      "C  1.363056000166  4.347291000932 -4.900058999163\n",
      "C  4.900058999163 -1.363055000501  4.347289999376\n",
      "C  4.900058999163  1.363055000501  4.347289999376\n",
      "C  5.716321000346 -2.686502999941  2.213027000418\n",
      "C  5.716321000346  2.686502999941  2.213027000418\n",
      "C  4.347291000932  4.900060000718  1.363055000501\n",
      "C  2.686501000610  2.213028000083  5.716321000346\n",
      "C  1.363054000835  4.347291000932  4.900058999163\n",
      "C  2.213027000418  5.716322000011  2.686502000276\n",
      "C  2.213027000418 -5.716322000011  2.686502000276\n",
      "C  1.363054000835 -4.347291000932  4.900058999163\n",
      "C  4.347291000932 -4.900060000718  1.363055000501\n",
      "C  2.686501000610 -2.213028000083  5.716321000346\n",
      "C  1.317706999737  0.000000000000  6.560215999562\n",
      "C -1.363056000166 -4.347291000932  4.900058999163\n",
      "C -2.686503999607 -2.213028000083  5.716321000346\n",
      "C -1.317711000289  0.000000000000  6.560215999562\n",
      "C  2.213028000083 -5.716322000011 -2.686502000276\n",
      "C  0.000000000000 -6.560218000782 -1.317708999068\n",
      "C  4.347291000932 -4.900060000718 -1.363055000501\n",
      "C  0.000000000000 -6.560218000782  1.317708999068\n",
      "C -2.213028000083 -5.716322000011  2.686502000276\n",
      "C -2.213027000418 -5.716322000011 -2.686502000276\n",
      "C -4.347291000932 -4.900060000718 -1.363055000501\n",
      "C -4.347291000932 -4.900060000718  1.363055000501\n",
      "C  4.900061000384 -1.363055000501 -4.347289999376\n",
      "C  2.686503999607 -2.213028000083 -5.716321000346\n",
      "C  5.716322000011 -2.686502999941 -2.213027000418\n",
      "C  1.363056000166 -4.347291000932 -4.900058999163\n",
      "C -1.363054000835 -4.347291000932 -4.900058999163\n",
      "C  1.317711000289  0.000000000000 -6.560215999562\n",
      "C -1.317706999737  0.000000000000 -6.560215999562\n",
      "C -2.686501000610 -2.213028000083 -5.716321000346\n",
      "C -6.560216999227 -1.317708999068  0.000000000000\n",
      "C -5.716321000346 -2.686502999941 -2.213027000418\n",
      "C -4.900058999163 -1.363055000501 -4.347289999376\n",
      "C -6.560216999227  1.317708999068  0.000000000000\n",
      "C -4.900061000384  1.363055000501  4.347289999376\n",
      "C -4.900061000384 -1.363055000501  4.347289999376\n",
      "C -5.716322000011 -2.686502999941  2.213027000418\n",
      "C -5.716322000011  2.686502999941  2.213027000418\n",
      "C -2.213028000083  5.716322000011  2.686502000276\n",
      "C -1.363056000166  4.347291000932  4.900058999163\n",
      "C -2.686503999607  2.213028000083  5.716321000346\n",
      "C -4.347291000932  4.900060000718  1.363055000501\n",
      "C -2.213027000418  5.716322000011 -2.686502000276\n",
      "C  0.000000000000  6.560218000782 -1.317708999068\n",
      "C  0.000000000000  6.560218000782  1.317708999068\n",
      "C -4.347291000932  4.900060000718 -1.363055000501\n",
      "C -4.900058999163  1.363055000501 -4.347289999376\n",
      "C -2.686501000610  2.213028000083 -5.716321000346\n",
      "C -1.363054000835  4.347291000932 -4.900058999163\n",
      "C -5.716321000346  2.686502999941 -2.213027000418\n",
      "K_POINTS gamma\n",
      "CELL_PARAMETERS bohr\n",
      "30.0 0.0 0.0\n",
      "0.0 30.0 0.0\n",
      "0.0 0.0 30.0\n"
     ]
    }
   ],
   "source": [
    "%%bash\n",
    "cat pw.in"
   ]
  },
  {
   "cell_type": "markdown",
   "id": "b3942b2c",
   "metadata": {},
   "source": [
    "We run `pw.x` on 32 cores."
   ]
  },
  {
   "cell_type": "code",
   "execution_count": null,
   "id": "a30c74d4",
   "metadata": {},
   "outputs": [],
   "source": [
    "%%bash\n",
    "mpirun -n 32 pw.x -i pw.in > pw.out"
   ]
  },
  {
   "cell_type": "markdown",
   "id": "e7054f9d",
   "metadata": {},
   "source": [
    "We need to include several unoccupied bands (in this case 800 bands in total) by running a non-self-consistent calculation. Download the input file to your working directory:"
   ]
  },
  {
   "cell_type": "code",
   "execution_count": null,
   "id": "4dd34764",
   "metadata": {},
   "outputs": [],
   "source": [
    "%%bash\n",
    "wget -N -q http://www.west-code.org/doc/training/c60/nscf.in"
   ]
  },
  {
   "cell_type": "markdown",
   "id": "a7d8f94d",
   "metadata": {},
   "source": [
    "The content of `nscf.in` is almost identical to that of `pw.in`, except that in `nscf.in` we request a non-self-consistent calculation with empty bands."
   ]
  },
  {
   "cell_type": "code",
   "execution_count": 2,
   "id": "589198a6",
   "metadata": {},
   "outputs": [
    {
     "name": "stdout",
     "output_type": "stream",
     "text": [
      "&control\n",
      "pseudo_dir = './'\n",
      "calculation = 'nscf'\n",
      "wf_collect = .TRUE.\n",
      "/\n",
      "&system\n",
      "ibrav = 0\n",
      "ntyp = 1\n",
      "nat = 60\n",
      "ecutwfc = 20\n",
      "nbnd = 800\n",
      "/\n",
      "&electrons\n",
      "diago_full_acc = .TRUE.\n",
      "/\n",
      "ATOMIC_SPECIES\n",
      "C 14 C_ONCV_PBE-1.2.upf\n",
      "ATOMIC_POSITIONS bohr\n",
      "C  6.560216999227  1.317708999068  0.000000000000\n",
      "C  5.716322000011  2.686502999941 -2.213027000418\n",
      "C  6.560216999227 -1.317708999068  0.000000000000\n",
      "C  4.900061000384  1.363055000501 -4.347289999376\n",
      "C  2.686503999607  2.213028000083 -5.716321000346\n",
      "C  4.347291000932  4.900060000718 -1.363055000501\n",
      "C  2.213028000083  5.716322000011 -2.686502000276\n",
      "C  1.363056000166  4.347291000932 -4.900058999163\n",
      "C  4.900058999163 -1.363055000501  4.347289999376\n",
      "C  4.900058999163  1.363055000501  4.347289999376\n",
      "C  5.716321000346 -2.686502999941  2.213027000418\n",
      "C  5.716321000346  2.686502999941  2.213027000418\n",
      "C  4.347291000932  4.900060000718  1.363055000501\n",
      "C  2.686501000610  2.213028000083  5.716321000346\n",
      "C  1.363054000835  4.347291000932  4.900058999163\n",
      "C  2.213027000418  5.716322000011  2.686502000276\n",
      "C  2.213027000418 -5.716322000011  2.686502000276\n",
      "C  1.363054000835 -4.347291000932  4.900058999163\n",
      "C  4.347291000932 -4.900060000718  1.363055000501\n",
      "C  2.686501000610 -2.213028000083  5.716321000346\n",
      "C  1.317706999737  0.000000000000  6.560215999562\n",
      "C -1.363056000166 -4.347291000932  4.900058999163\n",
      "C -2.686503999607 -2.213028000083  5.716321000346\n",
      "C -1.317711000289  0.000000000000  6.560215999562\n",
      "C  2.213028000083 -5.716322000011 -2.686502000276\n",
      "C  0.000000000000 -6.560218000782 -1.317708999068\n",
      "C  4.347291000932 -4.900060000718 -1.363055000501\n",
      "C  0.000000000000 -6.560218000782  1.317708999068\n",
      "C -2.213028000083 -5.716322000011  2.686502000276\n",
      "C -2.213027000418 -5.716322000011 -2.686502000276\n",
      "C -4.347291000932 -4.900060000718 -1.363055000501\n",
      "C -4.347291000932 -4.900060000718  1.363055000501\n",
      "C  4.900061000384 -1.363055000501 -4.347289999376\n",
      "C  2.686503999607 -2.213028000083 -5.716321000346\n",
      "C  5.716322000011 -2.686502999941 -2.213027000418\n",
      "C  1.363056000166 -4.347291000932 -4.900058999163\n",
      "C -1.363054000835 -4.347291000932 -4.900058999163\n",
      "C  1.317711000289  0.000000000000 -6.560215999562\n",
      "C -1.317706999737  0.000000000000 -6.560215999562\n",
      "C -2.686501000610 -2.213028000083 -5.716321000346\n",
      "C -6.560216999227 -1.317708999068  0.000000000000\n",
      "C -5.716321000346 -2.686502999941 -2.213027000418\n",
      "C -4.900058999163 -1.363055000501 -4.347289999376\n",
      "C -6.560216999227  1.317708999068  0.000000000000\n",
      "C -4.900061000384  1.363055000501  4.347289999376\n",
      "C -4.900061000384 -1.363055000501  4.347289999376\n",
      "C -5.716322000011 -2.686502999941  2.213027000418\n",
      "C -5.716322000011  2.686502999941  2.213027000418\n",
      "C -2.213028000083  5.716322000011  2.686502000276\n",
      "C -1.363056000166  4.347291000932  4.900058999163\n",
      "C -2.686503999607  2.213028000083  5.716321000346\n",
      "C -4.347291000932  4.900060000718  1.363055000501\n",
      "C -2.213027000418  5.716322000011 -2.686502000276\n",
      "C  0.000000000000  6.560218000782 -1.317708999068\n",
      "C  0.000000000000  6.560218000782  1.317708999068\n",
      "C -4.347291000932  4.900060000718 -1.363055000501\n",
      "C -4.900058999163  1.363055000501 -4.347289999376\n",
      "C -2.686501000610  2.213028000083 -5.716321000346\n",
      "C -1.363054000835  4.347291000932 -4.900058999163\n",
      "C -5.716321000346  2.686502999941 -2.213027000418\n",
      "K_POINTS gamma\n",
      "CELL_PARAMETERS bohr\n",
      "30.0 0.0 0.0\n",
      "0.0 30.0 0.0\n",
      "0.0 0.0 30.0\n"
     ]
    }
   ],
   "source": [
    "%%bash\n",
    "cat nscf.in"
   ]
  },
  {
   "cell_type": "markdown",
   "id": "af9516cf",
   "metadata": {},
   "source": [
    "We run `pw.x` again on 32 cores."
   ]
  },
  {
   "cell_type": "code",
   "execution_count": null,
   "id": "c2c43d6a",
   "metadata": {},
   "outputs": [],
   "source": [
    "%%bash\n",
    "mpirun -n 32 pw.x -i nscf.in > nscf.out"
   ]
  },
  {
   "cell_type": "markdown",
   "id": "c8d53dbb",
   "metadata": {},
   "source": [
    "### Step 1.2: Mean-field calculation with Qbox"
   ]
  },
  {
   "cell_type": "markdown",
   "id": "6010762e",
   "metadata": {
    "scrolled": false
   },
   "source": [
    "Next we repeat the mean-field electronic structure calculation using the [Qbox](http://qboxcode.org/) code.\n",
    "\n",
    "Download the following files to your working directory:"
   ]
  },
  {
   "cell_type": "code",
   "execution_count": null,
   "id": "4a6a6e7d",
   "metadata": {},
   "outputs": [],
   "source": [
    "%%bash\n",
    "wget -N -q http://www.west-code.org/doc/training/c60/qb.in\n",
    "wget -N -q http://www.quantum-simulation.org/potentials/sg15_oncv/xml/C_ONCV_PBE-1.2.xml"
   ]
  },
  {
   "cell_type": "markdown",
   "id": "17a427d8",
   "metadata": {},
   "source": [
    "We can inspect the `qb.in` file, the input for the `qb` code:"
   ]
  },
  {
   "cell_type": "code",
   "execution_count": 3,
   "id": "c571f9e7",
   "metadata": {},
   "outputs": [
    {
     "name": "stdout",
     "output_type": "stream",
     "text": [
      "set cell 30.0 0.0 0.0  0.0 30.0 0.0  0.0 0.0 30.0\n",
      "species carbon C_ONCV_PBE-1.2.xml\n",
      "atom C1 carbon  6.560216999227  1.317708999068  0.000000000000\n",
      "atom C2 carbon  5.716322000011  2.686502999941 -2.213027000418\n",
      "atom C3 carbon  6.560216999227 -1.317708999068  0.000000000000\n",
      "atom C4 carbon  4.900061000384  1.363055000501 -4.347289999376\n",
      "atom C5 carbon  2.686503999607  2.213028000083 -5.716321000346\n",
      "atom C6 carbon  4.347291000932  4.900060000718 -1.363055000501\n",
      "atom C7 carbon  2.213028000083  5.716322000011 -2.686502000276\n",
      "atom C8 carbon  1.363056000166  4.347291000932 -4.900058999163\n",
      "atom C9 carbon  4.900058999163 -1.363055000501  4.347289999376\n",
      "atom C10 carbon  4.900058999163  1.363055000501  4.347289999376\n",
      "atom C11 carbon  5.716321000346 -2.686502999941  2.213027000418\n",
      "atom C12 carbon  5.716321000346  2.686502999941  2.213027000418\n",
      "atom C13 carbon  4.347291000932  4.900060000718  1.363055000501\n",
      "atom C14 carbon  2.686501000610  2.213028000083  5.716321000346\n",
      "atom C15 carbon  1.363054000835  4.347291000932  4.900058999163\n",
      "atom C16 carbon  2.213027000418  5.716322000011  2.686502000276\n",
      "atom C17 carbon  2.213027000418 -5.716322000011  2.686502000276\n",
      "atom C18 carbon  1.363054000835 -4.347291000932  4.900058999163\n",
      "atom C19 carbon  4.347291000932 -4.900060000718  1.363055000501\n",
      "atom C20 carbon  2.686501000610 -2.213028000083  5.716321000346\n",
      "atom C21 carbon  1.317706999737  0.000000000000  6.560215999562\n",
      "atom C22 carbon -1.363056000166 -4.347291000932  4.900058999163\n",
      "atom C23 carbon -2.686503999607 -2.213028000083  5.716321000346\n",
      "atom C24 carbon -1.317711000289  0.000000000000  6.560215999562\n",
      "atom C25 carbon  2.213028000083 -5.716322000011 -2.686502000276\n",
      "atom C26 carbon  0.000000000000 -6.560218000782 -1.317708999068\n",
      "atom C27 carbon  4.347291000932 -4.900060000718 -1.363055000501\n",
      "atom C28 carbon  0.000000000000 -6.560218000782  1.317708999068\n",
      "atom C29 carbon -2.213028000083 -5.716322000011  2.686502000276\n",
      "atom C30 carbon -2.213027000418 -5.716322000011 -2.686502000276\n",
      "atom C31 carbon -4.347291000932 -4.900060000718 -1.363055000501\n",
      "atom C32 carbon -4.347291000932 -4.900060000718  1.363055000501\n",
      "atom C33 carbon  4.900061000384 -1.363055000501 -4.347289999376\n",
      "atom C34 carbon  2.686503999607 -2.213028000083 -5.716321000346\n",
      "atom C35 carbon  5.716322000011 -2.686502999941 -2.213027000418\n",
      "atom C36 carbon  1.363056000166 -4.347291000932 -4.900058999163\n",
      "atom C37 carbon -1.363054000835 -4.347291000932 -4.900058999163\n",
      "atom C38 carbon  1.317711000289  0.000000000000 -6.560215999562\n",
      "atom C39 carbon -1.317706999737  0.000000000000 -6.560215999562\n",
      "atom C40 carbon -2.686501000610 -2.213028000083 -5.716321000346\n",
      "atom C41 carbon -6.560216999227 -1.317708999068  0.000000000000\n",
      "atom C42 carbon -5.716321000346 -2.686502999941 -2.213027000418\n",
      "atom C43 carbon -4.900058999163 -1.363055000501 -4.347289999376\n",
      "atom C44 carbon -6.560216999227  1.317708999068  0.000000000000\n",
      "atom C45 carbon -4.900061000384  1.363055000501  4.347289999376\n",
      "atom C46 carbon -4.900061000384 -1.363055000501  4.347289999376\n",
      "atom C47 carbon -5.716322000011 -2.686502999941  2.213027000418\n",
      "atom C48 carbon -5.716322000011  2.686502999941  2.213027000418\n",
      "atom C49 carbon -2.213028000083  5.716322000011  2.686502000276\n",
      "atom C50 carbon -1.363056000166  4.347291000932  4.900058999163\n",
      "atom C51 carbon -2.686503999607  2.213028000083  5.716321000346\n",
      "atom C52 carbon -4.347291000932  4.900060000718  1.363055000501\n",
      "atom C53 carbon -2.213027000418  5.716322000011 -2.686502000276\n",
      "atom C54 carbon  0.000000000000  6.560218000782 -1.317708999068\n",
      "atom C55 carbon  0.000000000000  6.560218000782  1.317708999068\n",
      "atom C56 carbon -4.347291000932  4.900060000718 -1.363055000501\n",
      "atom C57 carbon -4.900058999163  1.363055000501 -4.347289999376\n",
      "atom C58 carbon -2.686501000610  2.213028000083 -5.716321000346\n",
      "atom C59 carbon -1.363054000835  4.347291000932 -4.900058999163\n",
      "atom C60 carbon -5.716321000346  2.686502999941 -2.213027000418\n",
      "\n",
      "set xc PBE\n",
      "set ecut 20\n",
      "set wf_dyn JD\n",
      "\n",
      "set scf_tol 1e-08\n",
      "\n",
      "randomize_wf 0.01\n",
      "set wf_dyn PSDA\n",
      "run -atomic_density 0 100 10\n",
      "\n",
      "set wf_diag T\n",
      "run 0\n",
      "save qb.gs.xml\n"
     ]
    }
   ],
   "source": [
    "%%bash\n",
    "cat qb.in"
   ]
  },
  {
   "cell_type": "markdown",
   "id": "714bbaf8",
   "metadata": {},
   "source": [
    "We use the same atomic positions, exchange-correlation functional, cutoff energy, and pseudopotential for `qb` as used for `pw.x` in the previous step. Check out the [Qbox documentation](http://qboxcode.org/doc/html/) for more information about how to operate the code.\n",
    "\n",
    "We run `qb` on 32 cores."
   ]
  },
  {
   "cell_type": "code",
   "execution_count": null,
   "id": "69ca8bb7",
   "metadata": {},
   "outputs": [],
   "source": [
    "%%bash\n",
    "mpirun -n 32 qb < qb.in > qb.out"
   ]
  },
  {
   "cell_type": "markdown",
   "id": "95d80af8",
   "metadata": {},
   "source": [
    "The information of the ground state calculation, including the Kohn-Sham wavefunctions, is stored in the file `qb.gs.xml`. Now we localize the ground state wavefunctions using the recursive subspace bisection technique implemented in Qbox. Download the input file to your working directory:"
   ]
  },
  {
   "cell_type": "code",
   "execution_count": null,
   "id": "e1946133",
   "metadata": {},
   "outputs": [],
   "source": [
    "%%bash\n",
    "wget -N -q http://www.west-code.org/doc/training/c60/qb2.in"
   ]
  },
  {
   "cell_type": "markdown",
   "id": "9e00f819",
   "metadata": {},
   "source": [
    "We can inspect the `qb2.in` file:"
   ]
  },
  {
   "cell_type": "code",
   "execution_count": 4,
   "id": "c47730b1",
   "metadata": {},
   "outputs": [
    {
     "name": "stdout",
     "output_type": "stream",
     "text": [
      "load qb.gs.xml\n",
      "\n",
      "bisection 5 5 5 0.0316\n",
      "save qb.bis.0.0316.xml\n",
      "\n",
      "set xc HF\n",
      "set btHF 0.0316\n",
      "set blHF 5 5 5\n",
      "\n",
      "set wf_dyn LOCKED\n",
      "\n",
      "run 0\n"
     ]
    }
   ],
   "source": [
    "%%bash\n",
    "cat qb2.in"
   ]
  },
  {
   "cell_type": "markdown",
   "id": "c81f615d",
   "metadata": {},
   "source": [
    "We run `qb` again on 32 cores."
   ]
  },
  {
   "cell_type": "code",
   "execution_count": null,
   "id": "7ebc3aee",
   "metadata": {},
   "outputs": [],
   "source": [
    "%%bash\n",
    "mpirun -n 32 qb < qb2.in > qb2.out"
   ]
  },
  {
   "cell_type": "markdown",
   "id": "bcaace03",
   "metadata": {},
   "source": [
    "`qb` will localize the wavefunctions stored in `qb.gs.xml`, then write the localized wavefunctions to the file `qb.bis.0.0316.xml`. We use the [WESTpy Python package](http://www.west-code.org/doc/westpy/latest/) to parse the Qbox output files."
   ]
  },
  {
   "cell_type": "code",
   "execution_count": null,
   "id": "7d4568b1",
   "metadata": {},
   "outputs": [],
   "source": [
    "from westpy.bse import *\n",
    "\n",
    "qb = Qbox2BSE(\"qb2.out\")\n",
    "qb.write_localization()\n",
    "qb.write_wavefunction()"
   ]
  },
  {
   "cell_type": "markdown",
   "id": "ac262b75",
   "metadata": {},
   "source": [
    "This should generate two files, namely `bis_info.1` containing bisection localization information and `qb_wfc.1` containing localized wavefunctions in the HDF5 format. The extension, `.1`, denotes the spin channel. Both files will be used in the BSE calculation."
   ]
  },
  {
   "cell_type": "markdown",
   "id": "2d4d8550",
   "metadata": {},
   "source": [
    "## Step 2: GW quasiparticle correction with WEST"
   ]
  },
  {
   "cell_type": "markdown",
   "id": "54837cf4",
   "metadata": {},
   "source": [
    "We compute GW quasiparticle energies following the steps detailed in [Tutorial 1](http://greatfire.uchicago.edu/west-public/West/raw/master/Doc/tutorials/basic/basic_001.ipynb), then use WESTpy to parse the output file:"
   ]
  },
  {
   "cell_type": "code",
   "execution_count": null,
   "id": "0d12fe74",
   "metadata": {},
   "outputs": [],
   "source": [
    "from westpy.bse import *\n",
    "\n",
    "qp = Wfreq2BSE(\"west.wfreq.save/wfreq.json\")\n",
    "qp.write_qp_correction()"
   ]
  },
  {
   "cell_type": "markdown",
   "id": "a8e0b651",
   "metadata": {},
   "source": [
    "This should generate a file called `qp_eig.1`, which contains the quasiparticle energies and will be used in the BSE calculation. The extension, `.1`, denotes the spin channel."
   ]
  },
  {
   "cell_type": "markdown",
   "id": "0bb5bbc2",
   "metadata": {},
   "source": [
    "## Step 3: BSE calculation with WEST"
   ]
  },
  {
   "cell_type": "markdown",
   "id": "e05a174c",
   "metadata": {},
   "source": [
    "### Step 3.1: BSE initialization"
   ]
  },
  {
   "cell_type": "markdown",
   "id": "4e9830ce",
   "metadata": {},
   "source": [
    "We perform an initialization step using the `wbse_init.x` executable. Download the following files to your working directory:"
   ]
  },
  {
   "cell_type": "code",
   "execution_count": null,
   "id": "78aee4ef",
   "metadata": {},
   "outputs": [],
   "source": [
    "%%bash\n",
    "wget -N -q http://www.west-code.org/doc/training/c60/wbse_init.in"
   ]
  },
  {
   "cell_type": "markdown",
   "id": "924adf12",
   "metadata": {},
   "source": [
    "Let us inspect the `wbse_init.in` file:"
   ]
  },
  {
   "cell_type": "code",
   "execution_count": 5,
   "id": "1d1cbe6b",
   "metadata": {},
   "outputs": [
    {
     "name": "stdout",
     "output_type": "stream",
     "text": [
      "input_west:\n",
      "  outdir: ./\n",
      "\n",
      "wbse_init_control:\n",
      "  wbse_init_calculation: S\n",
      "  localization: B\n",
      "\n",
      "server_control:\n",
      "  document: {\"response\": {\"amplitude\": 0, \"nitscf\": 20, \"nite\": 0}, \"script\": [\"load ./qb.gs.xml \\n set xc PBE \\n set wf_dyn PSDA \\n set blHF 2 2 2 \\n set btHF    0.00 \\n\"]}\n"
     ]
    }
   ],
   "source": [
    "%%bash\n",
    "cat wbse_init.in"
   ]
  },
  {
   "cell_type": "markdown",
   "id": "a69f38ed",
   "metadata": {},
   "source": [
    "The `localization: B` keyword instructs the code to use wavefunctions localized by the recursive subspace bisection method implemented in Qbox. If two localized wavefunctions do not overlap with each other, the evaluation of the corresponding screened exchange integral is skipped, thus reducing the computational cost. Localized wavefunctions and bisection information are read from files `bis_info.1` and `qb_wfc.1` obtained in Step 1.2.\n",
    "\n",
    "The `document` keyword in the `server_control` section is used to run WEST and Qbox in the client-server mode. In this mode, we run `wbse_init.x` together with multiple instances of `qb`. The client, `wbse_init.x`, dispatches finite field calculations to the server, `qb`. Each instance of `qb` computes the density response to the finite electric field. An example script to run such a calculation looks as follows:"
   ]
  },
  {
   "cell_type": "code",
   "execution_count": null,
   "id": "29e49b56",
   "metadata": {},
   "outputs": [],
   "source": [
    "%%bash\n",
    "nimages=8\n",
    "\n",
    "# Submit nimages instances of Qbox (each instance runs on 32 cores)\n",
    "\n",
    "for (( i=0; i<$nimages; i++ ))\n",
    "do\n",
    "    qb_in=`printf \"qb.%d.in\" $i`\n",
    "    qb_out=`printf \"qb.%d.out\" $i`\n",
    "    mpirun -n 32 ./qb -server $qb_in $qb_out &\n",
    "    sleep 1\n",
    "done\n",
    "\n",
    "# Submit 1 instance of WEST (it runs on 32 cores)\n",
    "mpirun -n 32 ./wbse_init.x -ni $nimages -i wbse_init.in > wbse_init.out &\n",
    "wait"
   ]
  },
  {
   "cell_type": "markdown",
   "id": "fb2479c7",
   "metadata": {},
   "source": [
    "The user must request computational resources for `wbse_init.x` and all instances of `qb`. In this example, we run `wbse_init.x` with eight instances of `qb`, requesting $32 \\times (1+8) = 288$ cores."
   ]
  },
  {
   "cell_type": "markdown",
   "id": "6ec1d298",
   "metadata": {},
   "source": [
    "### Step 3.2: BSE"
   ]
  },
  {
   "cell_type": "markdown",
   "id": "79770ccc",
   "metadata": {},
   "source": [
    "Now we can carry out the main BSE calculation using the `wbse.x` executable. Download the following files to your working directory:"
   ]
  },
  {
   "cell_type": "code",
   "execution_count": null,
   "id": "af6d4814",
   "metadata": {},
   "outputs": [],
   "source": [
    "%%bash\n",
    "wget -N -q http://www.west-code.org/doc/training/c60/wbse.in"
   ]
  },
  {
   "cell_type": "markdown",
   "id": "2beadc85",
   "metadata": {},
   "source": [
    "Let us inspect the `wbse.in` file:"
   ]
  },
  {
   "cell_type": "code",
   "execution_count": 6,
   "id": "4bb676dd",
   "metadata": {},
   "outputs": [
    {
     "name": "stdout",
     "output_type": "stream",
     "text": [
      "input_west:\n",
      "  outdir: ./\n",
      "\n",
      "wbse_init_control:\n",
      "  wbse_init_calculation: S\n",
      "  localization: B\n",
      "\n",
      "server_control:\n",
      "  document: {\"response\": {\"amplitude\": 0, \"nitscf\": 20, \"nite\": 0}, \"script\": [\"load ./qb.gs.xml \\n set xc PBE \\n set wf_dyn PSDA \\n set blHF 2 2 2 \\n set btHF    0.00 \\n\"]}\n",
      "\n",
      "wbse_control:\n",
      "  wbse_calculation: L\n",
      "  qp_correction: qp_eig\n",
      "  ipol_input: XYZ\n",
      "  n_lanczos: 1300\n"
     ]
    }
   ],
   "source": [
    "%%bash\n",
    "cat wbse.in"
   ]
  },
  {
   "cell_type": "markdown",
   "id": "20253ec0",
   "metadata": {},
   "source": [
    "The `wbse_calculation: L` keyword instructs the code to compute absorption spectra using the Liouville-Lanczos algorithm. The `qp_correction: qp_eig` keyword specifies the name of the file that contains the quasiparticle correction. An extension of `.1`, corresponding to spin channel 1, will be automatically appended to the file name. The `ipol_input: XYZ` keyword specifies which components of the polarizability tensor are computed, where `XYZ` means that three Lanczos chains are sequentially performed to compute the full polarizability tensor.\n",
    "\n",
    "We run `wbse.x` on 512 cores:"
   ]
  },
  {
   "cell_type": "code",
   "execution_count": null,
   "id": "79945a56",
   "metadata": {},
   "outputs": [],
   "source": [
    "%%bash\n",
    "mpirun -n 512 ./wbse.x -ni 16 -i wbse.in > wbse.out"
   ]
  },
  {
   "cell_type": "markdown",
   "id": "c22c3788",
   "metadata": {},
   "source": [
    "By specifying `-ni 16`, we launch `wbse.x` with 16 images. The overlapping pairs of wavefunctions are distributed across the images to evaluate the screened exchange integral in parallel.\n",
    "\n",
    "The output can be found in the file `west.wbse.save/wbse.json`. If the reader does NOT have the computational resources to run the calculations, the output file can be directly downloaded as:"
   ]
  },
  {
   "cell_type": "code",
   "execution_count": null,
   "id": "c21c2be5",
   "metadata": {},
   "outputs": [],
   "source": [
    "%%bash\n",
    "mkdir -p west.wbse.save\n",
    "wget -N -q http://www.west-code.org/doc/training/c60/wbse.json -O west.wbse.save/wbse.json"
   ]
  },
  {
   "cell_type": "markdown",
   "id": "45917525",
   "metadata": {},
   "source": [
    "We use WESTpy to parse this file and plot the absorption coefficient as a function of the photon frequency."
   ]
  },
  {
   "cell_type": "code",
   "execution_count": 7,
   "id": "b31933b5",
   "metadata": {},
   "outputs": [
    {
     "name": "stdout",
     "output_type": "stream",
     "text": [
      " \n",
      " _    _ _____ _____ _____            \n",
      "| |  | |  ___/  ___|_   _|           \n",
      "| |  | | |__ \\ `--.  | |_ __  _   _  \n",
      "| |/\\| |  __| `--. \\ | | '_ \\| | | | \n",
      "\\  /\\  / |___/\\__/ / | | |_) | |_| | \n",
      " \\/  \\/\\____/\\____/  \\_/ .__/ \\__, | \n",
      "                       | |     __/ | \n",
      "                       |_|    |___/  \n",
      " \n",
      "WEST version     :  5.2.0\n",
      "Today            :  2022-12-14 19:03:26.038641\n",
      "output written in :  chi_XYZ.png\n",
      "waiting for user to close image preview...\n"
     ]
    },
    {
     "data": {
      "image/png": "[encoded data removed]",
      "text/plain": [
       "<Figure size 640x480 with 1 Axes>"
      ]
     },
     "metadata": {},
     "output_type": "display_data"
    }
   ],
   "source": [
    "from westpy.bse import *\n",
    "\n",
    "wbse = BSEResult(\"west.wbse.save/wbse.json\")\n",
    "wbse.plotSpectrum(ipol=\"XYZ\",energyRange=[0.0,10.0,0.01],sigma=0.1,n_extra=98700)"
   ]
  }
 ],
 "metadata": {
  "kernelspec": {
   "display_name": "Python 3 (ipykernel)",
   "language": "python",
   "name": "python3"
  },
  "language_info": {
   "codemirror_mode": {
    "name": "ipython",
    "version": 3
   },
   "file_extension": ".py",
   "mimetype": "text/x-python",
   "name": "python",
   "nbconvert_exporter": "python",
   "pygments_lexer": "ipython3",
   "version": "3.9.15"
  }
 },
 "nbformat": 4,
 "nbformat_minor": 5
}
