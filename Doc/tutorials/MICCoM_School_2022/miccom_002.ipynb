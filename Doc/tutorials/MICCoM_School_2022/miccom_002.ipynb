{
 "cells": [
  {
   "cell_type": "markdown",
   "metadata": {},
   "source": [
    "# MICCoM School 2022 Ex#2 : Parallelization"
   ]
  },
  {
   "cell_type": "markdown",
   "metadata": {},
   "source": [
    "## 2.1 : Parallelization levels in WEST\n",
    "\n",
    "We are going to explain the multilevel parallelization strategy implemented in WEST. When running `wstat.x` and `wfreq.x`, several levels of [MPI](https://en.wikipedia.org/wiki/Message_Passing_Interface) and [OpenMP](https://www.openmp.org) parallelization may be utilized to accelerate the calculation, by distributing the workload across processors:\n",
    "\n",
    "- `world`: The group of all MPI processes.\n",
    "- `image`: `world` can be partitioned into `images`. When using the projective dielectric eigendecomposition (PDEP) technique to compute the static dielectric screening, perturbations are distributed across images. Each image is responsible for computing the density response only for the perturbations owned by the image.\n",
    "- `pool`: Each `image` can be partitioned into `pools`, each working on a subgroup of k-points and spin channels.\n",
    "- `bgrp`: Each `pool` can be partitioned into `band groups`, each working on a subgroup of bands (wavefunctions).\n",
    "- `R&G`: Wavefunctions in the plane-wave basis set, as well as density in either real (R) or reciprocal (G) space, are distributed across MPI processes. Fast Fourier transform (FFT) is used to transform quantities between R space and G space. By default, a 3D FFT is parallelized by distributing planes of the 3D grid in real space to MPI processes. In reciprocal space, the G-vectors are distributed.\n",
    "- `SIMT`: (*used only if GPUs are available*) Each MPI process in a band group is capable of offloading computations to a GPU device using the single instruction, multiple threads (SIMT) protocol.\n",
    "\n",
    "<img src=\"https://pubs.acs.org/cms/10.1021/acs.jctc.2c00241/asset/images/large/ct2c00241_0002.jpeg\" width=\"90%\">\n",
    "\n",
    "In this figure, the multilevel parallelization of WEST is exemplified for the case of 16 total MPI processes. The processes are divided into two images. Each image is divided into two pools, each of which is further divided into two band groups. Within each band group there are two MPI processes, each of which is connected to a GPU device.\n",
    "\n",
    "For more information about the implementation, the reader is referred to [J. Chem. Theory Comput. 11, 2680 (2015)](https://doi.org/10.1021/ct500958p) and [J. Chem. Theory Comput. 18, 4690-4707 (2022)](https://doi.org/10.1021/acs.jctc.2c00241)."
   ]
  },
  {
   "cell_type": "markdown",
   "metadata": {},
   "source": [
    "## 2.2 : Run WEST in parallel\n",
    "\n",
    "\n",
    "`wstat.x` and `wfreq.x` support image parallelization, pool parallelization for spin channels (currently not for k-points), band parallelization, and R&G parallelization. The following command is using `N` MPI processes, `NI` images, `NK` pools, `NB` band groups, and `N/(NI*NK*NB)` cores per FFT:\n",
    "\n",
    "```\n",
    "mpirun -n N wstat.x -nimage NI -npool NK -nbgrp NB -i wstat.in > wstat.out\n",
    "```\n",
    "\n",
    "Or equivalently\n",
    "\n",
    "```\n",
    "mpirun -n N wstat.x -ni NI -nk NK -nb NB -i wstat.in > wstat.out\n",
    "```\n",
    "\n",
    "Some remarks:\n",
    "\n",
    "- If any parallelization flag is NOT given, it is the same as setting the corresponding flag to 1, for instance: `mpirun -n 2 wstat.x -i wstat.in > wstat.out` is the same as: `mpirun -n 2 wstat.x -ni 1 -nk 1 -nb 1 -i wstat.in > wstat.out`. This implies that if no parallelization flag is specified, WEST by default only uses the R&G level of parallelization.\n",
    "- The `R&G` parallelization level helps reduce memory footprint (per MPI process), as each process only stores a fraction of the wavefunctions.\n",
    "- The amount of data exchange is *low* for `image` and `pool`, *mild* for `bgrp`, and *high* for `R&G`, as the parallel FFT algorithm is known to require all-to-all communications, that is, every MPI process within the same band group must exchange data with every other process. Therefore, lowest walltimes are obtained using the least number of cores per band group.\n",
    "\n",
    "WEST achieved good scaling on CPU-based and GPU-based supercomputers, such as the Mira supercomputer at Argonne National Laboratory where the code makes efficient use of up to **524,288 CPU cores**, and the Summit supercomputer at Oak Ridge National Laboratory where the code makes efficient use of up to **25,920 NVIDIA V100 GPUs**."
   ]
  },
  {
   "cell_type": "markdown",
   "metadata": {},
   "source": [
    "Now let us try running WEST with the image parallelization level. We will compute the quasiparticle energy levels of the benzene molecule. First we download the input files."
   ]
  },
  {
   "cell_type": "code",
   "execution_count": 1,
   "metadata": {},
   "outputs": [],
   "source": [
    "# download the pseudopotential files\n",
    "!wget -N -q http://www.quantum-simulation.org/potentials/sg15_oncv/upf/H_ONCV_PBE-1.2.upf\n",
    "!wget -N -q http://www.quantum-simulation.org/potentials/sg15_oncv/upf/C_ONCV_PBE-1.2.upf\n",
    "\n",
    "# download the input files\n",
    "!wget -N -q http://www.west-code.org/doc/training/benzene/pw.in\n",
    "!wget -N -q http://www.west-code.org/doc/training/benzene/wstat.in\n",
    "!wget -N -q http://www.west-code.org/doc/training/benzene/wfreq.in"
   ]
  },
  {
   "cell_type": "markdown",
   "metadata": {},
   "source": [
    "As before, we run `pw.x`, `wstat.x`, and `wfreq.x`. We will repeat the `wstat.x` and `wfreq.x` calculations with image parallelization and using different number of cores. These calculations should finish in 15 minutes."
   ]
  },
  {
   "cell_type": "code",
   "execution_count": 2,
   "metadata": {},
   "outputs": [],
   "source": [
    "!rm -f benzene.*.save/*.json\n",
    "\n",
    "!mpirun -n 16 pw.x -i pw.in > pw.out\n",
    "\n",
    "!mpirun -n 16 wstat.x -ni 8 -i wstat.in > wstat.out\n",
    "!mpirun -n 16 wfreq.x -ni 8 -i wfreq.in > wfreq.out\n",
    "!mv benzene.wstat.save/wstat.json wstat_N16_I8.json\n",
    "!mv benzene.wfreq.save/wfreq.json wfreq_N16_I8.json\n",
    "\n",
    "!mpirun -n 32 wstat.x -ni 8 -i wstat.in > wstat.out\n",
    "!mpirun -n 32 wfreq.x -ni 8 -i wfreq.in > wfreq.out\n",
    "!mv benzene.wstat.save/wstat.json wstat_N32_I8.json\n",
    "!mv benzene.wfreq.save/wfreq.json wfreq_N32_I8.json\n",
    "\n",
    "!mpirun -n 64 wstat.x -ni 8 -i wstat.in > wstat.out\n",
    "!mpirun -n 64 wfreq.x -ni 8 -i wfreq.in > wfreq.out\n",
    "!mv benzene.wstat.save/wstat.json wstat_N64_I8.json\n",
    "!mv benzene.wfreq.save/wfreq.json wfreq_N64_I8.json\n",
    "\n",
    "!mpirun -n 64 wstat.x -ni 4 -i wstat.in > wstat.out\n",
    "!mpirun -n 64 wfreq.x -ni 4 -i wfreq.in > wfreq.out\n",
    "!mv benzene.wstat.save/wstat.json wstat_N64_I4.json\n",
    "!mv benzene.wfreq.save/wfreq.json wfreq_N64_I4.json"
   ]
  },
  {
   "cell_type": "code",
   "execution_count": 3,
   "metadata": {},
   "outputs": [
    {
     "name": "stdout",
     "output_type": "stream",
     "text": [
      "-rw-r--r-- 1 yuw cels 25457 Oct 11 09:40 wstat_N16_I8.json\r\n",
      "-rw-r--r-- 1 yuw cels 20646 Oct 11 09:41 wfreq_N16_I8.json\r\n",
      "-rw-r--r-- 1 yuw cels 25537 Oct 11 09:43 wstat_N32_I8.json\r\n",
      "-rw-r--r-- 1 yuw cels 20735 Oct 11 09:44 wfreq_N32_I8.json\r\n",
      "-rw-r--r-- 1 yuw cels 25615 Oct 11 09:46 wstat_N64_I8.json\r\n",
      "-rw-r--r-- 1 yuw cels 20831 Oct 11 09:46 wfreq_N64_I8.json\r\n",
      "-rw-r--r-- 1 yuw cels 25868 Oct 11 09:47 wstat_N64_I4.json\r\n",
      "-rw-r--r-- 1 yuw cels 21075 Oct 11 09:48 wfreq_N64_I4.json\r\n"
     ]
    }
   ],
   "source": [
    "!ls -lrt w*N*.json"
   ]
  },
  {
   "cell_type": "markdown",
   "metadata": {},
   "source": [
    "Load the output files."
   ]
  },
  {
   "cell_type": "code",
   "execution_count": 4,
   "metadata": {},
   "outputs": [],
   "source": [
    "import json\n",
    "\n",
    "# load data\n",
    "data = {}\n",
    "for code in ['wstat','wfreq'] :\n",
    "    data[code] = {}\n",
    "    for para in ['N16_I8','N32_I8','N64_I8','N64_I4'] :\n",
    "        with open(f'{code}_{para}.json') as file :\n",
    "            data[code][para] = json.load(file)\n",
    "\n",
    "# colors of the plot\n",
    "c = {}\n",
    "c['N16_I8'] = 'red'\n",
    "c['N32_I8'] = 'blue'\n",
    "c['N64_I8'] = 'green'\n",
    "c['N64_I4'] = 'purple'\n",
    "c['N1_G1'] = 'black'"
   ]
  },
  {
   "cell_type": "markdown",
   "metadata": {},
   "source": [
    "We verify that the quasiparticle energies are not altered by using different parallelization strategies."
   ]
  },
  {
   "cell_type": "code",
   "execution_count": 5,
   "metadata": {},
   "outputs": [
    {
     "data": {
      "image/png": "[encoded data removed]",
      "text/plain": [
       "<Figure size 432x288 with 1 Axes>"
      ]
     },
     "metadata": {
      "needs_background": "light"
     },
     "output_type": "display_data"
    }
   ],
   "source": [
    "import matplotlib.pyplot as plt\n",
    "\n",
    "# energy levels\n",
    "e = {}\n",
    "for para in ['N16_I8','N32_I8','N64_I8','N64_I4'] :\n",
    "    e[para] = data['wfreq'][para]['output']['Q']['K000001']['eqpSec']\n",
    "\n",
    "# plot\n",
    "x = list(range(1, len(e)+1))\n",
    "labels = e.keys()\n",
    "\n",
    "ax = plt.subplot()\n",
    "for counter, label in enumerate(labels) :\n",
    "    for a in e[label] :\n",
    "        ax.hlines(a, x[counter]-0.25, x[counter]+0.25, color=c[label])\n",
    "\n",
    "plt.title('Energy structure')\n",
    "plt.xticks(x, labels)\n",
    "plt.ylabel('Energy (eV)')\n",
    "\n",
    "plt.show()"
   ]
  },
  {
   "cell_type": "markdown",
   "metadata": {},
   "source": [
    "We can also compare the timings."
   ]
  },
  {
   "cell_type": "code",
   "execution_count": 6,
   "metadata": {},
   "outputs": [
    {
     "data": {
      "image/png": "[encoded data removed]",
      "text/plain": [
       "<Figure size 936x288 with 2 Axes>"
      ]
     },
     "metadata": {
      "needs_background": "light"
     },
     "output_type": "display_data"
    }
   ],
   "source": [
    "import matplotlib.pyplot as plt\n",
    "\n",
    "# timings\n",
    "t = {}\n",
    "for code in ['wstat','wfreq'] :\n",
    "    t[code] = {}\n",
    "    for para in ['N16_I8','N32_I8','N64_I8','N64_I4'] :\n",
    "        t[code][para] = data[code][para]['timing'][code.upper()]['wall:sec']\n",
    "\n",
    "# plot\n",
    "fig = plt.figure(figsize=(13,4))\n",
    "\n",
    "for icode, code in enumerate(['wstat','wfreq']) :\n",
    "    x = list(range(1, len(t[code])+1))\n",
    "    labels = t[code].keys()\n",
    "\n",
    "    ax = fig.add_subplot(1, 2, icode+1)\n",
    "    ax.set_title(code)\n",
    "    ax.set_xticks(x, labels)\n",
    "    ax.set_ylim(0, 250)\n",
    "    ax.set_ylabel('Time (s)')\n",
    "\n",
    "    for counter, label in enumerate(labels) :\n",
    "        ax.bar(x[counter], t[code][label], width=0.4, color=c[label])\n",
    "\n",
    "plt.show()"
   ]
  },
  {
   "cell_type": "markdown",
   "metadata": {},
   "source": [
    "We underline the importance of choosing the parallelization strategy for running large-scale simulations on massively parallel supercomputers. The optimal parameters would of course depend on the specifics of the simulation and the hardware. In general, the image parallelization level is preferred over the other parallelization levels. Using the spin parallelization level usually speeds up calculations of spin-polarized systems. The efficiency of the R&G level of parallelization is largely limited by the efficiency of parallel FFTs."
   ]
  },
  {
   "cell_type": "markdown",
   "metadata": {},
   "source": [
    "## 2.3 : Run WEST on GPUs"
   ]
  },
  {
   "cell_type": "markdown",
   "metadata": {},
   "source": [
    "On the latest release (June 2022) of the [TOP500](https://top500.org/lists/top500/2022/06/) list, 7 of the top 10 supercomputers have GPUs. A GPU device consists of hundreds to thousands of cores that operate at a relatively low frequency and can perform parallel computational tasks in a more energy efficient way than by CPUs. WEST has been ported to NVIDIA GPUs, achieving substantial speedup over its CPU-only version and excellent parallel scalability on over 25,000 GPUs. Using the GPU version of WEST, we carried out some of the largest deterministic full frequency G$_0$W$_0$ calculations performed to date, including an interface model consisting of 10,368 electrons.\n",
    "\n",
    "For more information about the GPU implementation of WEST, the reader is referred to [J. Chem. Theory Comput. 18, 4690-4707 (2022)](https://doi.org/10.1021/acs.jctc.2c00241)."
   ]
  },
  {
   "cell_type": "markdown",
   "metadata": {},
   "source": [
    "We will redo the `wstat.x` and `wfreq.x` calculations on 1 [NVIDIA A100 GPU](https://www.nvidia.com/en-us/data-center/a100/).\n",
    "\n",
    "Open a new terminal, and follow these steps:\n",
    "\n",
    "**1) ssh to Swing**\n",
    "\n",
    "```\n",
    "ssh <username>@swing.lcrc.anl.gov\n",
    "```\n",
    "\n",
    "**2) load WEST**\n",
    "```\n",
    "module load nvhpc/21.9-4pt64om\n",
    "module load west/5.2.0\n",
    "```\n",
    "\n",
    "**3) download input files**\n",
    "```\n",
    "mkdir -p /home/user/MICCoM_School_2022/gpu_swing\n",
    "cd /home/user/MICCoM_School_2022/gpu_swing\n",
    "wget -N -q http://www.quantum-simulation.org/potentials/sg15_oncv/upf/H_ONCV_PBE-1.2.upf\n",
    "wget -N -q http://www.quantum-simulation.org/potentials/sg15_oncv/upf/C_ONCV_PBE-1.2.upf\n",
    "wget -N -q http://www.west-code.org/doc/training/benzene/pw.in\n",
    "wget -N -q http://www.west-code.org/doc/training/benzene/wstat.in\n",
    "wget -N -q http://www.west-code.org/doc/training/benzene/wfreq.in\n",
    "```\n",
    "\n",
    "**4) copy the job submission script and submit it**\n",
    "```\n",
    "cp /lcrc/project/MICCoM-train/west_tutorial/swing_job_submit .\n",
    "sbatch swing_job_submit\n",
    "```\n",
    "\n",
    "**5) check the status of the job, which should finish in a minute**\n",
    "```\n",
    "squeue -u $USER\n",
    "```\n",
    "\n",
    "**6) collect the output files**\n",
    "```\n",
    "mv benzene.wstat.save/wstat.json ../wstat_N1_G1.json\n",
    "mv benzene.wfreq.save/wfreq.json ../wfreq_N1_G1.json\n",
    "```"
   ]
  },
  {
   "cell_type": "markdown",
   "metadata": {},
   "source": [
    "We compare the quasiparticle energies and timings of the CPU and GPU runs."
   ]
  },
  {
   "cell_type": "code",
   "execution_count": 7,
   "metadata": {},
   "outputs": [],
   "source": [
    "import json\n",
    "\n",
    "# load data\n",
    "for code in ['wstat','wfreq'] :\n",
    "    with open(f'{code}_N1_G1.json') as file :\n",
    "        data[code]['N1_G1'] = json.load(file)"
   ]
  },
  {
   "cell_type": "code",
   "execution_count": 8,
   "metadata": {},
   "outputs": [
    {
     "data": {
      "image/png": "[encoded data removed]",
      "text/plain": [
       "<Figure size 432x288 with 1 Axes>"
      ]
     },
     "metadata": {
      "needs_background": "light"
     },
     "output_type": "display_data"
    }
   ],
   "source": [
    "import matplotlib.pyplot as plt\n",
    "\n",
    "# energy levels\n",
    "e = {}\n",
    "for para in ['N16_I8','N32_I8','N64_I8','N64_I4','N1_G1'] :\n",
    "    e[para] = data['wfreq'][para]['output']['Q']['K000001']['eqpSec']\n",
    "\n",
    "# plot\n",
    "x = list(range(1, len(e)+1))\n",
    "labels = e.keys()\n",
    "\n",
    "ax = plt.subplot()\n",
    "for counter, label in enumerate(labels) :\n",
    "    for a in e[label] :\n",
    "        ax.hlines(a, x[counter]-0.25, x[counter]+0.25, color=c[label])\n",
    "\n",
    "plt.title('Energy structure')\n",
    "plt.xticks(x, labels)\n",
    "plt.ylabel('Energy (eV)')\n",
    "\n",
    "plt.show()"
   ]
  },
  {
   "cell_type": "code",
   "execution_count": 9,
   "metadata": {},
   "outputs": [
    {
     "data": {
      "image/png": "[encoded data removed]",
      "text/plain": [
       "<Figure size 936x288 with 2 Axes>"
      ]
     },
     "metadata": {
      "needs_background": "light"
     },
     "output_type": "display_data"
    }
   ],
   "source": [
    "import matplotlib.pyplot as plt\n",
    "\n",
    "# timings\n",
    "t = {}\n",
    "for code in ['wstat','wfreq'] :\n",
    "    t[code] = {}\n",
    "    for para in ['N16_I8','N32_I8','N64_I8','N64_I4','N1_G1'] :\n",
    "        t[code][para] = data[code][para]['timing'][code.upper()]['wall:sec']\n",
    "\n",
    "# plot\n",
    "fig = plt.figure(figsize=(13,4))\n",
    "\n",
    "for icode, code in enumerate(['wstat','wfreq']) :\n",
    "    x = list(range(1, len(t[code])+1))\n",
    "    labels = t[code].keys()\n",
    "\n",
    "    ax = fig.add_subplot(1, 2, icode+1)\n",
    "    ax.set_title(code)\n",
    "    ax.set_xticks(x, labels)\n",
    "    ax.set_ylim(0, 250)\n",
    "    ax.set_ylabel('Time (s)')\n",
    "\n",
    "    for counter, label in enumerate(labels) :\n",
    "        ax.bar(x[counter], t[code][label], width=0.4, color=c[label])\n",
    "\n",
    "plt.show()"
   ]
  },
  {
   "cell_type": "markdown",
   "metadata": {},
   "source": [
    "**Question**: *Is the performance on GPU expected?*\n",
    "\n",
    "Hint: Theoretical double-precision performance of the hardware\n",
    "\n",
    "- 1 KNL node: 2.7 TFLOPS (10$^{12}$ floating-point operations per second)\n",
    "- 1 NVIDIA A100 GPU: 9.7 TFLOPS, 19.5 TFLOPS with tensor core"
   ]
  }
 ],
 "metadata": {
  "kernelspec": {
   "display_name": "Python 3 (ipykernel)",
   "language": "python",
   "name": "python3"
  },
  "language_info": {
   "codemirror_mode": {
    "name": "ipython",
    "version": 3
   },
   "file_extension": ".py",
   "mimetype": "text/x-python",
   "name": "python",
   "nbconvert_exporter": "python",
   "pygments_lexer": "ipython3",
   "version": "3.8.13"
  }
 },
 "nbformat": 4,
 "nbformat_minor": 4
}
