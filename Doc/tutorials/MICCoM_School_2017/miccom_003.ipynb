{
 "cells": [
  {
   "cell_type": "markdown",
   "metadata": {},
   "source": [
    "# MICCoM School 2017 Ex#3 : The GW self-energy"
   ]
  },
  {
   "cell_type": "markdown",
   "metadata": {},
   "source": [
    "We are going to dive into the GW calculation done in Exercise #1.\n",
    "\n",
    "In this excercixe we will focus on the input for `wfreq.x`."
   ]
  },
  {
   "cell_type": "code",
   "execution_count": null,
   "metadata": {
    "scrolled": true
   },
   "outputs": [],
   "source": [
    "# download the pseudopotentials\n",
    "!wget -N -q http://www.quantum-simulation.org/potentials/sg15_oncv/upf/Si_ONCV_PBE-1.2.upf\n",
    "!wget -N -q http://www.quantum-simulation.org/potentials/sg15_oncv/upf/H_ONCV_PBE-1.2.upf\n",
    "\n",
    "# download the input files\n",
    "!wget -N -q http://www.west-code.org/doc/training/silane/pw.in\n",
    "!wget -N -q http://www.west-code.org/doc/training/silane/wstat.in\n",
    "!wget -N -q http://www.west-code.org/doc/training/silane/wfreq.in"
   ]
  },
  {
   "cell_type": "markdown",
   "metadata": {},
   "source": [
    "We need to read the output of a DFT calculation, therefore as first step we run the DFT calculation invoking the executable `pw.x` on 8 cores."
   ]
  },
  {
   "cell_type": "code",
   "execution_count": null,
   "metadata": {},
   "outputs": [],
   "source": [
    "!mpirun -n 8 pw.x -i pw.in > pw.out"
   ]
  },
  {
   "cell_type": "markdown",
   "metadata": {},
   "source": [
    "We also need the dielectric matrix eigenpotentials in order to build G and W, therefore as second step we run the PDEP calculation invoking the executable `wstat.x` on 8 cores."
   ]
  },
  {
   "cell_type": "code",
   "execution_count": null,
   "metadata": {},
   "outputs": [],
   "source": [
    "!mpirun -n 8 wstat.x -i wstat.in > wstat.out"
   ]
  },
  {
   "cell_type": "markdown",
   "metadata": {},
   "source": [
    "## 3.1 : Calculation of the GW self-energy\n",
    "\n",
    "Let's give a quick look at the input for `wfreq.x` (description of the input variables for `wfreq.x` can be found here: http://www.west-code.org/doc/West/latest/manual.html#wfreq-control)."
   ]
  },
  {
   "cell_type": "code",
   "execution_count": null,
   "metadata": {},
   "outputs": [],
   "source": [
    "!cat wfreq.in"
   ]
  },
  {
   "cell_type": "markdown",
   "metadata": {},
   "source": [
    "The keywords \"XWGQ\" instruct the code to compute the exact exchange operator (\"X\"), the screened Coulomb operator (\"W\"), the Green's function (\"G\"), and the quasiparticle energies (\"Q\").\n",
    "\n",
    "In this case we are using the 50 eigenpotentials $\\phi_i$ obtained by `wstat.x`.\n",
    "\n",
    "We are going to compute the GW energy of the states 1, 2, 3, 4 (HOMO), and 5 (LUMO). Remember that in this example (spin-unpolarized) each state can host two electrons.\n",
    "\n",
    "The frequency cutoff controls the contour deformation integration.\n",
    "\n",
    "Details about the implementation are described in <a href=\"https://pubs.acs.org/doi/full/10.1021/ct500958p#showFigures\">J. Chem. Theory Comput. 11, 2680 (2015)</a> :\n",
    "<img src=\"https://pubs.acs.org/cms/10.1021/ct500958p/asset/images/medium/ct-2014-00958p_0007.gif\" width=\"50%\">"
   ]
  },
  {
   "cell_type": "code",
   "execution_count": null,
   "metadata": {
    "scrolled": false
   },
   "outputs": [],
   "source": [
    "!mpirun -n 8 wfreq.x -i wfreq.in > wfreq.out"
   ]
  },
  {
   "cell_type": "markdown",
   "metadata": {},
   "source": [
    "We now load the output (JSON) of the `wfreq.x` calculation, which can be found in the `wfreq.save` folder."
   ]
  },
  {
   "cell_type": "code",
   "execution_count": null,
   "metadata": {},
   "outputs": [],
   "source": [
    "import json\n",
    "\n",
    "# read data from JSON file\n",
    "with open('silane.wfreq.save/wfreq.json') as file:\n",
    "    data = json.load(file)\n",
    "\n",
    "# pretty print the data\n",
    "print(json.dumps(data, indent=2))"
   ]
  },
  {
   "cell_type": "markdown",
   "metadata": {},
   "source": [
    "We plot the energy levels of DFT and GW."
   ]
  },
  {
   "cell_type": "code",
   "execution_count": null,
   "metadata": {
    "scrolled": true
   },
   "outputs": [],
   "source": [
    "import numpy as np\n",
    "import matplotlib.pyplot as plt\n",
    "\n",
    "# extracting energy levels from the data\n",
    "y = {}\n",
    "y['dft'] = data['output']['Q']['K000001']['eks']\n",
    "y['gw']  = data['output']['Q']['K000001']['eqpSec']\n",
    "\n",
    "# colors\n",
    "c = {}\n",
    "c['dft'] = 'red'\n",
    "c['gw']  = 'green'\n",
    "\n",
    "# plot\n",
    "x = list( range( 1, len(y)+1 ) )\n",
    "labels = y.keys()\n",
    "\n",
    "fig, ax = plt.subplots(1, 1)\n",
    "counter = 0\n",
    "for i in labels :\n",
    "    for a in y[i] :\n",
    "        ax.hlines(a, x[counter]-0.25, x[counter]+0.25, color=c[i])\n",
    "    counter += 1\n",
    "\n",
    "plt.xticks(x, labels)\n",
    "\n",
    "plt.ylabel('Energy (eV)')\n",
    "plt.title('Electronic structure')\n",
    "\n",
    "plt.show()"
   ]
  },
  {
   "cell_type": "markdown",
   "metadata": {},
   "source": [
    "Let's plot the density of states (DOS) of DFT and GW, obtained as a sum of Gaussian functions\n",
    "\n",
    "\\begin{equation}\n",
    "DOS(E) = \\sum_{i=1}^{states} \\frac{1}{\\sqrt{2\\pi\\sigma^2}} e^{-\\frac{(E-E_i)^2}{2\\sigma^2}}\n",
    "\\end{equation}\n",
    "\n",
    "We are going to set $\\sigma=0.2eV$."
   ]
  },
  {
   "cell_type": "code",
   "execution_count": null,
   "metadata": {},
   "outputs": [],
   "source": [
    "from westpy import *\n",
    "\n",
    "es = ElectronicStructure()\n",
    "\n",
    "for key in ['dft','gw'] :\n",
    "    es.addKey(key,key)\n",
    "    b = 0\n",
    "    for energy in y[key] :\n",
    "        es.addDataPoint([1,1,b+1],key,y[key][b])\n",
    "        b += 1\n",
    "\n",
    "es.plotDOS(kk=[1],ss=[1],energyKeys=['dft','gw'],energyRange=[-18.,2.,0.01],fname='dos.png')"
   ]
  },
  {
   "cell_type": "markdown",
   "metadata": {},
   "source": [
    "## 5.2 : GW-full and GW-linear\n",
    "\n",
    "The algorithms implemented in WEST make affordable the calculation of the quasiparticle equation self-consistently, which we can call **GW-full**\n",
    "\n",
    "\\begin{equation}\n",
    "E^{GW-full}_n = \\varepsilon^{DFT}_n + \\left\\langle \\psi_n \\right | \\Sigma(E^{GW-full}_n) - V_{xc}\\left| \\psi_n \\right\\rangle\n",
    "\\end{equation}\n",
    "\n",
    "However, in literature one often introduces a Taylor expansion of the self-energy $\\Sigma$ around the DFT energy\n",
    "\n",
    "\\begin{equation}\n",
    "\\Sigma(E^{QP}_n) = \\Sigma(\\varepsilon^{DFT}_n) + \\left.\\frac{d\\Sigma}{dE}\\right|_{E=\\varepsilon^{DFT}_n} (E^{QP}_n-\\varepsilon^{DFT}_n)+\\cdots\n",
    "\\end{equation}\n",
    "\n",
    "In this way, called here **GW-linear**, operators can be evaluated one time at DFT energies only (no iteration is needed)\n",
    "\n",
    "\\begin{equation}\n",
    "E^{GW-linear}_n = \\varepsilon^{DFT}_n + Z_n \\left\\langle \\psi_n \\right | \\Sigma(\\varepsilon^{DFT}_n) - V_{xc}\\left| \\psi_n \\right\\rangle\n",
    "\\end{equation}\n",
    "\n",
    "where $Z_n=\\left(1-\\left.\\frac{d\\Sigma}{dE}\\right|_{E=\\varepsilon^{DFT}_n}\\right)^{-1}$.\n",
    "\n",
    "WEST will always aim at computing **GW-full**, using a secant iteration scheme, however **GW-linear** is saved in output as it corresponds to the first iteration of the secant method."
   ]
  },
  {
   "cell_type": "markdown",
   "metadata": {},
   "source": [
    "We plot the energy levels of DFT and **GW-full** and **GW-linear**."
   ]
  },
  {
   "cell_type": "code",
   "execution_count": null,
   "metadata": {},
   "outputs": [],
   "source": [
    "import numpy as np\n",
    "import matplotlib.pyplot as plt\n",
    "\n",
    "# extracting energy levels from the data\n",
    "y = {}\n",
    "y['dft']     = data['output']['Q']['K000001']['eks']\n",
    "y['gw-lin']  = data['output']['Q']['K000001']['eqpLin']\n",
    "y['gw-full'] = data['output']['Q']['K000001']['eqpSec']\n",
    "\n",
    "print('gw-lin :' , y['gw-lin'])\n",
    "print('gw-full :', y['gw-full'])\n",
    "\n",
    "# colors\n",
    "c = {}\n",
    "c['dft']     = 'red'\n",
    "c['gw-lin']  = 'green'\n",
    "c['gw-full'] = 'blue'\n",
    "\n",
    "# plot\n",
    "x = list( range( 1, len(y)+1 ) )\n",
    "labels = y.keys()\n",
    "\n",
    "fig, ax = plt.subplots(1, 1)\n",
    "counter = 0\n",
    "for i in labels :\n",
    "    for a in y[i] :\n",
    "        ax.hlines(a, x[counter]-0.25, x[counter]+0.25, color=c[i])\n",
    "    counter += 1\n",
    "\n",
    "plt.xticks(x, labels)\n",
    "\n",
    "plt.ylabel('Energy (eV)')\n",
    "plt.title('Electronic structure')\n",
    "\n",
    "plt.show()"
   ]
  },
  {
   "cell_type": "markdown",
   "metadata": {},
   "source": [
    "**GW-linear** and **GW-full** give similar results. In order to understand why Taylor exapanding the self-energy $\\Sigma$ around DFT energies, we redo the calculation turning on the runlevel `P`, which will compute $\\Sigma(E)$ on a regular mesh of energies.\n",
    "\n",
    "Let's add the part related to the plot of the self-energy in `wfreq.in`."
   ]
  },
  {
   "cell_type": "code",
   "execution_count": null,
   "metadata": {},
   "outputs": [],
   "source": [
    "import yaml\n",
    "\n",
    "# read data wfreq.in\n",
    "with open('wfreq.in') as file:\n",
    "    input_data = yaml.load(file, Loader=yaml.FullLoader)\n",
    "\n",
    "# pretty print\n",
    "print('input_data')\n",
    "print(yaml.dump(input_data, sort_keys=False))\n",
    "\n",
    "# modify the input_data\n",
    "input_data['wfreq_control']['wfreq_calculation'] = 'XWGQP'\n",
    "input_data['wfreq_control']['qp_bandrange'] = [4,5]\n",
    "input_data['wfreq_control']['ecut_spectralf'] = [-1.5,0.5]\n",
    "input_data['wfreq_control']['n_spectralf'] = 300\n",
    "\n",
    "# write data to YAML file\n",
    "with open('wfreq_P.in', 'w') as file:\n",
    "    yaml.dump(input_data, file, sort_keys=False)\n",
    "\n",
    "# show content of the file\n",
    "print('wfreq_P.in')\n",
    "!cat wfreq_P.in"
   ]
  },
  {
   "cell_type": "code",
   "execution_count": null,
   "metadata": {
    "scrolled": false
   },
   "outputs": [],
   "source": [
    "!mpirun -n 8 wfreq.x -i wfreq_P.in > wfreq_P.out"
   ]
  },
  {
   "cell_type": "markdown",
   "metadata": {},
   "source": [
    "<p>We plot the self-energy.</p>"
   ]
  },
  {
   "cell_type": "code",
   "execution_count": null,
   "metadata": {},
   "outputs": [],
   "source": [
    "!cat silane.wfreq.save/wfreq.json"
   ]
  },
  {
   "cell_type": "code",
   "execution_count": null,
   "metadata": {
    "scrolled": false
   },
   "outputs": [],
   "source": [
    "import json\n",
    "import numpy as np\n",
    "\n",
    "# Load the output data\n",
    "with open('silane.wfreq.save/wfreq_P.json') as json_file:\n",
    "    data = json.load(json_file)\n",
    "\n",
    "# Extract converged quasiparticle (QP) corrections\n",
    "k = 1\n",
    "kindex = f'K{k:06d}'\n",
    "\n",
    "bandmap = data['output']['Q']['bandmap']\n",
    "eqp = data['output']['Q'][kindex]\n",
    "\n",
    "freqlist = np.array(data['output']['P']['freqlist'], dtype='f8')\n",
    "spf = data['output']['P'][kindex]\n",
    "\n",
    "# Plot\n",
    "import matplotlib.pyplot as plt\n",
    "\n",
    "for i, b in enumerate(bandmap) :\n",
    "\n",
    "    eks, eqpLin, eqpSec = eqp['eks'][i], eqp['eqpLin'][i], eqp['eqpSec'][i]\n",
    "\n",
    "    # Print QP corrections\n",
    "    print(f\"{'k':^10} | {'band':^10} | {'eks [eV]':^15} | {'eqpLin [eV]':^15} | {'eqpSec [eV]':^15}\")\n",
    "    print(77*'-')\n",
    "    print(f'{k:^10} | {b:^10} | {eks:^15.3f} | {eqpLin:^15.3f} | {eqpSec:^15.3f}')\n",
    "\n",
    "    sigmax, vxcl, vxcnl = eqp['sigmax'][i], eqp['vxcl'][i], eqp['vxcnl'][i]\n",
    "    sigmac_eks = eqp['sigmac_eks']['re'][i]\n",
    "    sigmac_eqpLin = eqp['sigmac_eqpLin']['re'][i]\n",
    "    sigmac_eqpSec = eqp['sigmac_eqpSec']['re'][i]\n",
    "    z = eqp['z'][i]\n",
    "\n",
    "    bindex = f'B{b:06d}'\n",
    "    sigmac = np.array(spf[bindex]['sigmac']['re'], dtype='f8')\n",
    "\n",
    "    # Left-hand side of QP equation\n",
    "    plt.plot(freqlist,freqlist-eks,'r-',label=r'$E-\\varepsilon_{KS}$')\n",
    "\n",
    "    # Right-hand side of QP equation without linearization\n",
    "    plt.plot(freqlist,sigmac+sigmax-vxcl-vxcnl,'b-',label=r'$\\Sigma(E)-V_{xc}$')\n",
    "\n",
    "    # Right-hand side of QP equation with linearization\n",
    "    plt.plot(freqlist,sigmac_eks+sigmax-vxcl-vxcnl+(1-1/z)*(freqlist-eks),'g-',label=r'$\\Sigma^{lin}(E)-V_{xc}$')\n",
    "\n",
    "    plt.legend()\n",
    "    plt.title(kindex+' '+bindex)\n",
    "    plt.xlabel('frequency (eV)')\n",
    "    plt.ylabel('function (eV)')\n",
    "    xmin, xmax = min(eks, eqpLin, eqpSec), max(eks, eqpLin, eqpSec)\n",
    "    ymin, ymax = min(sigmac_eks, sigmac_eqpLin, sigmac_eqpSec), max(sigmac_eks, sigmac_eqpLin, sigmac_eqpSec)\n",
    "    ymin += sigmax - vxcl -vxcnl\n",
    "    ymax += sigmax - vxcl -vxcnl\n",
    "    plt.vlines(x=eks,ymin=ymin-0.2*(ymax-ymin),ymax=ymax+0.2*(ymax-ymin),ls='--')\n",
    "    plt.vlines(x=eqpLin,ymin=ymin-0.2*(ymax-ymin),ymax=ymax+0.2*(ymax-ymin),ls=':',color='g')\n",
    "    plt.vlines(x=eqpSec,ymin=ymin-0.2*(ymax-ymin),ymax=ymax+0.2*(ymax-ymin),ls=':',color='b')\n",
    "    plt.xlim([xmin-0.2*(xmax-xmin),xmax+0.2*(xmax-xmin)])\n",
    "    plt.ylim([ymin-0.2*(ymax-ymin),ymax+0.2*(ymax-ymin)])\n",
    "    plt.show()"
   ]
  },
  {
   "cell_type": "markdown",
   "metadata": {},
   "source": [
    "<p><b>Question</b>: <i>Why for SiH<sub>4</sub> GW-linear energies are lower than GW-full ones?</i></p>"
   ]
  },
  {
   "cell_type": "markdown",
   "metadata": {},
   "source": [
    "## 5.3 : Convergence of GW with respect to npdep\n",
    "\n",
    "The basis set used to represent the dielectric matrix needs to be converged. We have computed $50$ eigenpotentials. We can now use <i>fewer</i> eigenpotentials in GW and test the convergece.\n",
    "\n",
    "Let's prepare the input for 5 calculations done with 10, 20, 30, 40, 50 eigenpotentials. We will also stash the output file for later comparison."
   ]
  },
  {
   "cell_type": "code",
   "execution_count": null,
   "metadata": {},
   "outputs": [],
   "source": [
    "import yaml\n",
    "\n",
    "# we need to create 5 files, each with a different value of the variable n_pdep_eigen_to_use\n",
    "for npdep in [10, 20, 30, 40, 50] :\n",
    "\n",
    "    # read data wfreq.in\n",
    "    with open('wfreq.in') as file:\n",
    "        input_data = yaml.load(file, Loader=yaml.FullLoader)\n",
    "\n",
    "    # modify the input_data\n",
    "    input_data['wfreq_control']['n_pdep_eigen_to_use'] = npdep\n",
    "\n",
    "    # write data to YAML file\n",
    "    with open('wfreq_'+str(npdep)+'.in', 'w') as file:\n",
    "        yaml.dump(input_data, file, sort_keys=False)"
   ]
  },
  {
   "cell_type": "code",
   "execution_count": null,
   "metadata": {},
   "outputs": [],
   "source": [
    "# give a quick look\n",
    "!cat wfreq_10.in\n",
    "!cat wfreq_20.in\n",
    "!cat wfreq_30.in\n",
    "!cat wfreq_40.in\n",
    "!cat wfreq_50.in"
   ]
  },
  {
   "cell_type": "code",
   "execution_count": null,
   "metadata": {},
   "outputs": [],
   "source": [
    "# run them all and stash the output\n",
    "\n",
    "!mpirun -n 8 wfreq.x -i wfreq_10.in > wfreq_10.out\n",
    "!cp silane.wfreq.save/wfreq.json wfreq_10.json\n",
    "\n",
    "!mpirun -n 8 wfreq.x -i wfreq_20.in > wfreq_20.out\n",
    "!cp silane.wfreq.save/wfreq.json wfreq_20.json\n",
    "\n",
    "!mpirun -n 8 wfreq.x -i wfreq_30.in > wfreq_30.out\n",
    "!cp silane.wfreq.save/wfreq.json wfreq_30.json\n",
    "\n",
    "!mpirun -n 8 wfreq.x -i wfreq_40.in > wfreq_40.out\n",
    "!cp silane.wfreq.save/wfreq.json wfreq_40.json\n",
    "\n",
    "!mpirun -n 8 wfreq.x -i wfreq_50.in > wfreq_50.out\n",
    "!cp silane.wfreq.save/wfreq.json wfreq_50.json"
   ]
  },
  {
   "cell_type": "code",
   "execution_count": null,
   "metadata": {},
   "outputs": [],
   "source": [
    "!ls -lrt wfreq_*json"
   ]
  },
  {
   "cell_type": "markdown",
   "metadata": {},
   "source": [
    "Load the files."
   ]
  },
  {
   "cell_type": "code",
   "execution_count": null,
   "metadata": {},
   "outputs": [],
   "source": [
    "import json\n",
    "\n",
    "data = {}\n",
    "\n",
    "for npdep in [10, 20, 30, 40, 50] :\n",
    "\n",
    "    # read data wfreq_XX.json\n",
    "    with open('wfreq_'+str(npdep)+'.json') as file:\n",
    "        data[npdep] = json.load(file)\n",
    "\n",
    "print(json.dumps(data, indent=2))"
   ]
  },
  {
   "cell_type": "markdown",
   "metadata": {},
   "source": [
    "We plot the energy levels of DFT and GW."
   ]
  },
  {
   "cell_type": "code",
   "execution_count": null,
   "metadata": {},
   "outputs": [],
   "source": [
    "import numpy as np\n",
    "import matplotlib.pyplot as plt\n",
    "\n",
    "# energy levels\n",
    "y = {}\n",
    "y[10] = data[10]['output']['Q']['K000001']['eqpSec']\n",
    "y[20] = data[20]['output']['Q']['K000001']['eqpSec']\n",
    "y[30] = data[30]['output']['Q']['K000001']['eqpSec']\n",
    "y[40] = data[40]['output']['Q']['K000001']['eqpSec']\n",
    "y[50] = data[50]['output']['Q']['K000001']['eqpSec']\n",
    "\n",
    "# colors\n",
    "c = {}\n",
    "c[10] = 'red'\n",
    "c[20] = 'blue'\n",
    "c[30] = 'green'\n",
    "c[40] = 'purple'\n",
    "c[50] = 'black'\n",
    "\n",
    "# plot\n",
    "x = list( range( 1, len(y)+1 ) )\n",
    "labels = y.keys()\n",
    "\n",
    "fig, ax = plt.subplots(1, 1)\n",
    "counter = 0\n",
    "for i in labels :\n",
    "    for a in y[i] :\n",
    "        ax.hlines(a, x[counter]-0.25, x[counter]+0.25, color=c[i])\n",
    "    counter += 1\n",
    "\n",
    "#plt.ylim([-13,-11])\n",
    "\n",
    "plt.xticks(x, labels)\n",
    "plt.ylabel('Energy (eV)')\n",
    "\n",
    "plt.title('Energy structure')\n",
    "\n",
    "plt.show()"
   ]
  }
 ],
 "metadata": {
  "kernelspec": {
   "display_name": "Python 3 (ipykernel)",
   "language": "python",
   "name": "python3"
  },
  "language_info": {
   "codemirror_mode": {
    "name": "ipython",
    "version": 3
   },
   "file_extension": ".py",
   "mimetype": "text/x-python",
   "name": "python",
   "nbconvert_exporter": "python",
   "pygments_lexer": "ipython3",
   "version": "3.8.8"
  }
 },
 "nbformat": 4,
 "nbformat_minor": 2
}
