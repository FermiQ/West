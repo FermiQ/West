{
 "cells": [
  {
   "cell_type": "markdown",
   "metadata": {},
   "source": [
    "# Exercise #5 : Hybrid functionals"
   ]
  },
  {
   "cell_type": "markdown",
   "metadata": {},
   "source": [
    "<p>We are going to use the SX hybrid functional in order to compute the VIP of silane.</p>\n",
    "<p>A hybrid functional contains a mixture of semilocal ($V_{x}$) and exact exchange ($V_{xx}$): <br><br>\n",
    "\\begin{equation}\n",
    "H^{hyb}= T + V_{ion} + V_{Hartree} + V_{xc} + \\alpha (V_{xx}-V_{x})\n",
    "\\end{equation}<br>\n",
    "For the hybrid functional PBE0 $\\alpha=0.25$. <br>\n",
    "A class of dielectric dependent hybrid functionals was developed in order to make $\\alpha$ material dependent and to obtain higher accuracy. For dielectric dependent hybrid functionals $\\alpha$ is a parameter that can be determined from first principles: \n",
    "<ul>\n",
    "<li>For solids (sc-hybrid functional): $\\alpha = \\epsilon_\\infty^{-1}$ [<a href=\"https://journals.aps.org/prb/abstract/10.1103/PhysRevB.89.195112\">Phys. Rev. B 89, 195112 (2014)</a>]\n",
    "<li>For molecules (SX functional): $\\alpha_n = \\frac{\\left\\langle \\psi_n \\right| \\Sigma_{SEX} \\left | \\psi_n \\right\\rangle}{\\left\\langle \\psi_n \\right| \\Sigma_{EX} \\left | \\psi_n \\right\\rangle} $ [<a href=\"https://journals.aps.org/prx/abstract/10.1103/PhysRevX.6.041002\">Phys. Rev. X 6, 041002 (2016)</a>]\n",
    "</ul>\n",
    "where $\\Sigma_{SEX}$ is the screened exact exchange and $\\Sigma_{SX}$ is the exact exchange:<br><br>\n",
    "\\begin{equation}\n",
    "\\Sigma_{SEX}(\\mathbf{r},\\mathbf{r^\\prime}) = -\\sum_n^{states} \\psi_n(\\mathbf{r}) W(\\mathbf{r},\\mathbf{r^\\prime}) \\psi^\\ast_n(\\mathbf{r^\\prime}) \n",
    "\\end{equation}\n",
    "and\n",
    "\\begin{equation}\n",
    "\\Sigma_{EX}(\\mathbf{r},\\mathbf{r^\\prime}) = -\\sum_n^{states} \\psi_n(\\mathbf{r}) v_{Coulomb}(\\mathbf{r},\\mathbf{r^\\prime}) \\psi^\\ast_n(\\mathbf{r^\\prime}) \n",
    "\\end{equation}<br>\n",
    "</p>\n",
    "<p>In order to compute the SX constant we need to compute the DFT electronic structure with semilocal functionals (<tt><b>pw.x</b></tt>), compute the eigendecomposition of the dielectric screening (<tt><b>wstat.x</b></tt>), and extract the information about the screening with the WEST post-processing (<tt><b>westpp.x</b></tt>). </p>\n",
    "<p>Let's download the material.</p>"
   ]
  },
  {
   "cell_type": "code",
   "execution_count": null,
   "metadata": {
    "scrolled": true
   },
   "outputs": [],
   "source": [
    "# pseudopotentials \n",
    "!wget -N http://www.quantum-simulation.org/potentials/sg15_oncv/upf/Si_ONCV_PBE-1.2.upf\n",
    "!wget -N http://www.quantum-simulation.org/potentials/sg15_oncv/upf/H_ONCV_PBE-1.2.upf\n",
    "\n",
    "# input files\n",
    "!wget -N http://www.west-code.org/doc/training/silane/pw.in\n",
    "!wget -N http://www.west-code.org/doc/training/silane/wstat.in\n",
    "!wget -N http://www.west-code.org/doc/training/silane/westpp.in"
   ]
  },
  {
   "cell_type": "markdown",
   "metadata": {},
   "source": [
    "<p>These two steps may be familiar:</p>"
   ]
  },
  {
   "cell_type": "code",
   "execution_count": null,
   "metadata": {
    "scrolled": true
   },
   "outputs": [],
   "source": [
    "!mpirun -n 8 pw.x -i pw.in > pw.out"
   ]
  },
  {
   "cell_type": "code",
   "execution_count": null,
   "metadata": {},
   "outputs": [],
   "source": [
    "!mpirun -n 8 wstat.x -i wstat.in > wstat.out"
   ]
  },
  {
   "cell_type": "markdown",
   "metadata": {},
   "source": [
    "<h2>5.1 The SX constant</h2>\n",
    "<p>The clauclation of the SX constant is done by <tt><b>westpp.x</b></tt>.</p>"
   ]
  },
  {
   "cell_type": "markdown",
   "metadata": {},
   "source": [
    "<p>Let's give a quick look at the input for <tt><b>westpp.x</b></tt> (description of the input variables for <tt><b>westpp.x</b></tt> can be found here: http://www.west-code.org/doc/West/latest/manual.html#westpp-control)</p>"
   ]
  },
  {
   "cell_type": "code",
   "execution_count": null,
   "metadata": {},
   "outputs": [],
   "source": [
    "# quick look at the input file for westpp.x \n",
    "!cat westpp.in"
   ]
  },
  {
   "cell_type": "markdown",
   "metadata": {},
   "source": [
    "<p>The input instructs the code to read the output of DFT and 50 eigenpotentials (previously computed), then extract the values of $\\left\\langle \\psi_n \\right| \\Sigma_{EX} \\left | \\psi_n \\right\\rangle$ and $\\left\\langle \\psi_n \\right| \\Sigma_{SEX} \\left | \\psi_n \\right\\rangle$ for states 1, 2, 3, and 4. "
   ]
  },
  {
   "cell_type": "code",
   "execution_count": null,
   "metadata": {
    "scrolled": true
   },
   "outputs": [],
   "source": [
    "!mpirun -n 8 westpp.x -i westpp.in > westpp.out"
   ]
  },
  {
   "cell_type": "markdown",
   "metadata": {},
   "source": [
    "<p>For HOMO $\\alpha=0.758899$, let's use it to perform a hybrid DFT calculation.<br>\n",
    "Note the addition of:\n",
    "<code>\n",
    "input_dft       ='PBE0'\n",
    "exx_fraction    = 0.758899\n",
    "</code>\n",
    "in the input file for <tt><b>pw.x</b></tt>. \n",
    "</p>"
   ]
  },
  {
   "cell_type": "code",
   "execution_count": null,
   "metadata": {},
   "outputs": [],
   "source": [
    "# write to file\n",
    "with open('pw_hybrid.in', 'w') as text_file :\n",
    "    text_file.write(\"\"\"&control\n",
    "calculation  = 'scf'\n",
    "restart_mode = 'from_scratch'\n",
    "pseudo_dir   = './'\n",
    "outdir       = './'\n",
    "prefix       = 'silane'\n",
    "wf_collect   = .TRUE.\n",
    "/\n",
    "&system\n",
    "ibrav           = 1\n",
    "celldm(1)       = 20\n",
    "nat             = 5\n",
    "ntyp            = 2\n",
    "ecutwfc         = 25.0\n",
    "nbnd            = 10\n",
    "assume_isolated ='mp'\n",
    "input_dft       ='PBE0'\n",
    "exx_fraction    = 0.758899\n",
    "/\n",
    "&electrons\n",
    "diago_full_acc = .TRUE.\n",
    "/\n",
    "ATOMIC_SPECIES\n",
    "Si 28.0855  Si_ONCV_PBE-1.2.upf\n",
    "H  1.00794   H_ONCV_PBE-1.2.upf\n",
    "ATOMIC_POSITIONS bohr\n",
    "Si      10.000000   10.000000  10.000000\n",
    "H       11.614581   11.614581  11.614581\n",
    "H        8.385418    8.385418  11.614581\n",
    "H        8.385418   11.614581   8.385418\n",
    "H       11.614581    8.385418   8.385418\n",
    "K_POINTS {gamma}\n",
    "\"\"\")"
   ]
  },
  {
   "cell_type": "code",
   "execution_count": null,
   "metadata": {
    "scrolled": true
   },
   "outputs": [],
   "source": [
    "!mpirun -n 8 pw.x -i pw_hybrid.in > pw_hybrid.out"
   ]
  },
  {
   "cell_type": "markdown",
   "metadata": {},
   "source": [
    "<p>We plot the energy levels.</p>"
   ]
  },
  {
   "cell_type": "code",
   "execution_count": null,
   "metadata": {},
   "outputs": [],
   "source": [
    "import numpy as np\n",
    "import matplotlib.pyplot as plt\n",
    "\n",
    "# VIP\n",
    "y = {}\n",
    "y['exp'] = [ 12.3 ]\n",
    "y['DFT'] = [ 8.2314 ]\n",
    "y['GW']  = [ 12.044023 ]\n",
    "y['SX']  = [ 12.3729 ]\n",
    "\n",
    "# colors\n",
    "c = {}\n",
    "c['exp'] = 'black'\n",
    "c['DFT'] = 'blue'\n",
    "c['GW']  = 'green'\n",
    "c['SX']  = 'red'\n",
    "\n",
    "# plot\n",
    "x = list( range( 1, len(y)+1 ) )\n",
    "labels = y.keys()\n",
    "\n",
    "fig, ax = plt.subplots(1, 1)\n",
    "counter = 0\n",
    "for i in labels :\n",
    "    for a in y[i] :\n",
    "        ax.hlines(a, x[counter]-0.25, x[counter]+0.25, color=c[i])\n",
    "    counter += 1\n",
    "\n",
    "plt.xticks(x, labels)\n",
    "\n",
    "plt.ylabel('Energy (eV)')\n",
    "plt.title('VIP')\n",
    "\n",
    "plt.show()"
   ]
  }
 ],
 "metadata": {
  "kernelspec": {
   "display_name": "Python 3 (ipykernel)",
   "language": "python",
   "name": "python3"
  },
  "language_info": {
   "codemirror_mode": {
    "name": "ipython",
    "version": 3
   },
   "file_extension": ".py",
   "mimetype": "text/x-python",
   "name": "python",
   "nbconvert_exporter": "python",
   "pygments_lexer": "ipython3",
   "version": "3.8.13"
  }
 },
 "nbformat": 4,
 "nbformat_minor": 2
}
