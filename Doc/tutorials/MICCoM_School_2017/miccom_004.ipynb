{
 "cells": [
  {
   "cell_type": "markdown",
   "metadata": {},
   "source": [
    "<h1>Exercise #4 : Parallelization</h1>\n",
    "<p>We are going to explain the parallelization levels present in WEST.</p>"
   ]
  },
  {
   "cell_type": "markdown",
   "metadata": {},
   "source": [
    "<h2>4.1 Download the material</h2>\n",
    "<p>In this excercixe we will focus on the <tt><b>wstat.x</b></tt> input.</p>"
   ]
  },
  {
   "cell_type": "code",
   "execution_count": null,
   "metadata": {
    "scrolled": true
   },
   "outputs": [],
   "source": [
    "# pseudopotentials\n",
    "!wget -N http://www.quantum-simulation.org/potentials/sg15_oncv/upf/Si_ONCV_PBE-1.2.upf\n",
    "!wget -N http://www.quantum-simulation.org/potentials/sg15_oncv/upf/H_ONCV_PBE-1.2.upf\n",
    "\n",
    "# input files \n",
    "!wget -N http://www.west-code.org/doc/training/silane/pw.in\n",
    "!wget -N http://www.west-code.org/doc/training/silane/wstat.in"
   ]
  },
  {
   "cell_type": "markdown",
   "metadata": {},
   "source": [
    "<p>We need to read the output of a DFT calculation, therefore as first step we run the DFT calculation invoking the executable <tt><b>pw.x</b></tt> on 8 cores.</p>"
   ]
  },
  {
   "cell_type": "code",
   "execution_count": null,
   "metadata": {
    "scrolled": true
   },
   "outputs": [],
   "source": [
    "!mpirun -n 8 pw.x -i pw.in > pw.out"
   ]
  },
  {
   "cell_type": "markdown",
   "metadata": {},
   "source": [
    "<h2>1.1 Parallelization schemes in WEST</h2>\n",
    "<p>WEST uses up to four layers of parallelism on CPU-based computers:\n",
    "<ul>\n",
    "<li>Plane-waves (FFT)\n",
    "<li>Bands\n",
    "<li>Spin channels\n",
    "<li>Eigenpotentials\n",
    "</ul>\n",
    "The following command is using <b>N</b> CPU cores, <b>NI</b> images, <b>NK</b> pools, <b>NB</b> band groups, and <b>N</b>/(<b>NI</b>*<b>NK</b>*<b>NB</b>) cores per FFT: <br>\n",
    "<code>mpirun -n <b>N</b> wstat.x -nimage <b>NI</b> -npool <b>NK</b> -nbgrp <b>NB</b> -i wstat.in > wstat.out <br></code>\n",
    "This is how we achieved good scaling on CPU-based supercomputers such as the BG/Q Mira at Argonne National Laboratory, where WEST makes efficient use of $512$ cores per FFT and $1024$ images, for a total of N$=512\\times 1024 = 524288$ cores. \n",
    "Details about the implementation are described in <a href=\"https://pubs.acs.org/doi/full/10.1021/ct500958p#showFigures\">J. Chem. Theory Comput. 11, 2680 (2015)</a> : \n",
    "<img src=\"https://pubs.acs.org/cms/10.1021/ct500958p/asset/images/medium/ct-2014-00958p_0005.gif\" width=\"50%\">\n",
    "On computers equipped with GPU accelerators, WEST is capable of harnessing the data parallelism provided by GPUs. Again, we achieved good scaling on GPU-accelerated supercomputers such as Summit at Oak Ridge National Laboratory, where WEST makes efficient use of over $25,000$ NVIDIA V100 GPUs.\n",
    "Details about the implementation are described in <a href=\"https://pubs.acs.org/doi/10.1021/acs.jctc.2c00241\">J. Chem. Theory Comput. 18, 4690-4707 (2022)</a>.\n",
    "</p>"
   ]
  },
  {
   "cell_type": "code",
   "execution_count": null,
   "metadata": {
    "scrolled": true
   },
   "outputs": [],
   "source": [
    "%%bash\n",
    "export OMP_NUM_THREADS=1\n",
    "mpirun -n 2 wstat.x -nimage 1 -i wstat.in > wstat.out"
   ]
  },
  {
   "cell_type": "code",
   "execution_count": null,
   "metadata": {},
   "outputs": [],
   "source": [
    "cp silane.wstat.save/wstat.json wstat_cores2_image1.json"
   ]
  },
  {
   "cell_type": "code",
   "execution_count": null,
   "metadata": {
    "scrolled": true
   },
   "outputs": [],
   "source": [
    "%%bash\n",
    "export OMP_NUM_THREADS=1\n",
    "mpirun -n 4 wstat.x -nimage 1 -i wstat.in > wstat.out"
   ]
  },
  {
   "cell_type": "code",
   "execution_count": null,
   "metadata": {},
   "outputs": [],
   "source": [
    "cp silane.wstat.save/wstat.json wstat_cores4_image1.json"
   ]
  },
  {
   "cell_type": "code",
   "execution_count": null,
   "metadata": {
    "scrolled": true
   },
   "outputs": [],
   "source": [
    "%%bash\n",
    "export OMP_NUM_THREADS=1\n",
    "mpirun -n 4 wstat.x -nimage 2 -i wstat.in > wstat.out"
   ]
  },
  {
   "cell_type": "code",
   "execution_count": null,
   "metadata": {},
   "outputs": [],
   "source": [
    "cp silane.wstat.save/wstat.json wstat_cores4_image2.json"
   ]
  },
  {
   "cell_type": "code",
   "execution_count": null,
   "metadata": {
    "scrolled": true
   },
   "outputs": [],
   "source": [
    "%%bash\n",
    "export OMP_NUM_THREADS=1\n",
    "mpirun -n 8 wstat.x -nimage 1 -i wstat.in > wstat.out"
   ]
  },
  {
   "cell_type": "code",
   "execution_count": null,
   "metadata": {},
   "outputs": [],
   "source": [
    "cp silane.wstat.save/wstat.json wstat_cores8_image1.json"
   ]
  },
  {
   "cell_type": "code",
   "execution_count": null,
   "metadata": {
    "scrolled": true
   },
   "outputs": [],
   "source": [
    "%%bash\n",
    "export OMP_NUM_THREADS=1\n",
    "mpirun -n 8 wstat.x -nimage 2 -i wstat.in > wstat.out"
   ]
  },
  {
   "cell_type": "code",
   "execution_count": null,
   "metadata": {},
   "outputs": [],
   "source": [
    "cp silane.wstat.save/wstat.json wstat_cores8_image2.json"
   ]
  },
  {
   "cell_type": "code",
   "execution_count": null,
   "metadata": {
    "scrolled": true
   },
   "outputs": [],
   "source": [
    "%%bash\n",
    "export OMP_NUM_THREADS=1\n",
    "mpirun -n 8 wstat.x -nimage 4 -i wstat.in > wstat.out"
   ]
  },
  {
   "cell_type": "code",
   "execution_count": null,
   "metadata": {},
   "outputs": [],
   "source": [
    "cp silane.wstat.save/wstat.json wstat_cores8_image4.json"
   ]
  },
  {
   "cell_type": "code",
   "execution_count": null,
   "metadata": {},
   "outputs": [],
   "source": [
    "!ls -lrt wstat_*json"
   ]
  },
  {
   "cell_type": "markdown",
   "metadata": {},
   "source": [
    "<p>Load the files.</p>"
   ]
  },
  {
   "cell_type": "code",
   "execution_count": null,
   "metadata": {},
   "outputs": [],
   "source": [
    "import json\n",
    "\n",
    "data = {}\n",
    "\n",
    "for name in ['cores2_image1', 'cores4_image1', 'cores4_image2', 'cores8_image1', 'cores8_image2', 'cores8_image4'] : \n",
    "    # read data wstat_XX.json\n",
    "    with open('wstat_'+name+'.json') as file:\n",
    "        data[name] = json.load(file)\n",
    "\n",
    "print(json.dumps(data, indent=2))"
   ]
  },
  {
   "cell_type": "markdown",
   "metadata": {},
   "source": [
    "<p>We plot the energy levels of DFT and GW.</p>"
   ]
  },
  {
   "cell_type": "code",
   "execution_count": null,
   "metadata": {},
   "outputs": [],
   "source": [
    "import numpy as np\n",
    "import matplotlib.pyplot as plt\n",
    "\n",
    "# timings\n",
    "y = {}\n",
    "c = {}\n",
    "\n",
    "# 2 cores\n",
    "for name in ['cores2_image1'] : \n",
    "    y[name] = [ data[name]['timing']['WSTAT']['wall:sec'] ]\n",
    "    c[name] = 'black'\n",
    "\n",
    "# 4 cores\n",
    "for name in ['cores4_image1', 'cores4_image2'] :\n",
    "    y[name] = [ data[name]['timing']['WSTAT']['wall:sec'] ]\n",
    "    c[name] = 'blue'\n",
    "\n",
    "# 8 cores\n",
    "for name in ['cores8_image1','cores8_image2','cores8_image4'] :\n",
    "    y[name] = [ data[name]['timing']['WSTAT']['wall:sec'] ]\n",
    "    c[name] = 'green'\n",
    "\n",
    "print(y)\n",
    "\n",
    "# plot\n",
    "x = list( range( 1, len(y)+1 ) )\n",
    "labels = y.keys()\n",
    "\n",
    "fig, ax = plt.subplots(1, 1)\n",
    "counter = 0\n",
    "for i in labels :\n",
    "    for a in y[i] :\n",
    "        ax.hlines(a, x[counter]-0.25, x[counter]+0.25, color=c[i])\n",
    "    counter += 1\n",
    "\n",
    "plt.xticks(x, labels, rotation='vertical')\n",
    "plt.ylabel('Time (s)')\n",
    "\n",
    "plt.title('Parallelization')\n",
    "\n",
    "plt.show()"
   ]
  }
 ],
 "metadata": {
  "kernelspec": {
   "display_name": "Python 3 (ipykernel)",
   "language": "python",
   "name": "python3"
  },
  "language_info": {
   "codemirror_mode": {
    "name": "ipython",
    "version": 3
   },
   "file_extension": ".py",
   "mimetype": "text/x-python",
   "name": "python",
   "nbconvert_exporter": "python",
   "pygments_lexer": "ipython3",
   "version": "3.8.13"
  }
 },
 "nbformat": 4,
 "nbformat_minor": 2
}
