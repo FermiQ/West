{
 "cells": [
  {
   "cell_type": "markdown",
   "metadata": {},
   "source": [
    "# MICCoM School 2017 Ex#1 : The VIP of SiH<sub>4</sub>"
   ]
  },
  {
   "cell_type": "markdown",
   "metadata": {},
   "source": [
    "We are going to compute the Vertical Ionization Potential (VIP) of the silane molecule using DFT@PBE and GW.\n",
    "\n",
    "The VIP is the minimum amount of energy that is needed in order to remove an electron from a molecule. When the removal does not take into account ion relaxation processes (change of molecular geometry), the ionization is said to be *vertical*.\n",
    "\n",
    "The experimental value for the VIP of silane is tabulated in the NIST chemistry webbook: http://webbook.nist.gov/chemistry/form-ser/.\n",
    "\n",
    "<p><center><b>VIP of silane = $12.3\\, eV$ (experimental value)</b></center></p>\n",
    "\n",
    "~ *We would like to compute the VIP of silane from first principles using DFT and GW.* ~\n",
    "\n",
    "Let's see which level of theory performs better."
   ]
  },
  {
   "cell_type": "markdown",
   "metadata": {},
   "source": [
    "## 1.1 : DFT calculation\n",
    "\n",
    "We are going to numerically solve the Kohn-Sham equations for valence electrons only. Electronic wavefunctions and single particle energies are obtained by solving the secular equation:\n",
    "\n",
    "\\begin{equation}\n",
    "H^{\\text{KS}}[\\rho] \\, \\psi_n = \\varepsilon_n^{\\text{KS}} \\psi_n\n",
    "\\end{equation}\n",
    "\n",
    "The Hamiltonian of $N$ interacting electrons is formed by the following terms:\n",
    "\n",
    "\\begin{equation}\n",
    "H^{\\text{KS}}[\\rho] = T + V_{\\text{ion}} + V_{\\text{Hartree}}[\\rho] + V_{\\text{xc}}[\\rho]\n",
    "\\end{equation}\n",
    "\n",
    "where $T$ is the kinetic energy, $V_{\\text{ion}}$ is the electron-ion potential, $V_{\\text{Hartree}}$ is the Hartree potential, and $V_{\\text{xc}}$ is the exchange-correlation potential.\n",
    "\n",
    "Note that the secular equation needs to be solved self-consistenly since the operator that we are diagonalizing depends on the eigenvectors ($\\rho = \\sum_n |\\psi_n|^2$).\n",
    "\n",
    "In this implemenation of DFT we are going to use plane-waves as basis set. This means that an electronic wavefunction $\\psi_n$ is obtained by computing the coefficients $C_n$ of the plane-waves expansion:\n",
    "\n",
    "\\begin{equation}\n",
    "\\psi_n(\\mathbf{r}) = \\sum_{\\mathbf{G}} C_n(\\mathbf{G}) e^{i\\mathbf{G}\\cdot\\mathbf{r}}\n",
    "\\end{equation}\n",
    "\n",
    "In this way the kinetic energy of an electronic wavefunction will be obtained as $\\sum_{\\mathbf{G}} \\left| C_n(\\mathbf{G}) \\right|^2 G^2$. The total number of plane-waves is determined once we specify the size of the simulation box and the kinetic energy cutoff.\n",
    "\n",
    "The electron-ion potetial $V_{\\text{ion}}$ is solved separately for each given atomic species. Pseudopotential files contain this information (previously computed) are typically loaded at the beginning of the calculation. Pseudopotentials can be downloaded from several websites, for instance:\n",
    "\n",
    "- SG15 : http://www.quantum-simulation.org/potentials/sg15_oncv/\n",
    "- Quantum ESPRESSO : https://www.quantum-espresso.org/pseudopotentials/\n",
    "\n",
    "Note that we will be using only Norm-Conserving pseudopotentials (i.e., no Ultrasoft or PAW).\n",
    "\n",
    "The Hartree potential is determined self-consistely as $V_{\\text{Hartree}}(\\mathbf{r}) = \\int d\\mathbf{r^\\prime} \\rho(\\mathbf{r^\\prime}) \\frac{1}{|\\mathbf{r}-\\mathbf{r^\\prime}|}$.\n",
    "\n",
    "The exact form for the exchange and correlation potential is unknown, many approximations are available. The user needs to make this decision.\n",
    "\n",
    "If we interpret $\\varepsilon^{\\text{KS}}_n$ as electronic excitation energies (which is physically incorrect but people still do this as an approximation), the VIP will simply be the energy of the highest occupied molecular orbital (HOMO) obtained in a DFT calculation.\n",
    "\n",
    "\\begin{equation}\n",
    "\\text{VIP}^{\\text{DFT}} = 0 - \\varepsilon^{\\text{KS}}_{\\text{HOMO}}\n",
    "\\end{equation}\n",
    "\n",
    "**Question**: *Where did the core electrons go?*\n",
    "    \n",
    "**Question**: *How many valence electrons do we have in SiH<sub>4</sub>?*\n",
    "\n",
    "**Question**: *Plane-waves satisfy periodic boundary conditions, how can we simulate an isolated molecule?*"
   ]
  },
  {
   "cell_type": "markdown",
   "metadata": {},
   "source": [
    "The following files are needed in order to compute the electronic structure of SiH<sub>4</sub> with DFT:\n",
    "\n",
    "- `Si_ONCV_PBE-1.2.upf` : pseudopotential file for Si\n",
    "- `H_ONCV_PBE-1.2.upf` : pseudopotential file for H\n",
    "- `pw.in` : input file for the DFT calculation (executable : `pw.x`)"
   ]
  },
  {
   "cell_type": "code",
   "execution_count": 1,
   "metadata": {
    "scrolled": true
   },
   "outputs": [],
   "source": [
    "#download the material\n",
    "\n",
    "#pseudopotential files\n",
    "!wget -N -q http://www.quantum-simulation.org/potentials/sg15_oncv/upf/Si_ONCV_PBE-1.2.upf\n",
    "!wget -N -q http://www.quantum-simulation.org/potentials/sg15_oncv/upf/H_ONCV_PBE-1.2.upf\n",
    "\n",
    "#input file\n",
    "!wget -N -q http://www.west-code.org/doc/training/silane/pw.in"
   ]
  },
  {
   "cell_type": "markdown",
   "metadata": {},
   "source": [
    "Let's give a quick look at the input for DFT (description of the input variables for `pw.x` can be found here: https://www.quantum-espresso.org/Doc/INPUT_PW.html)."
   ]
  },
  {
   "cell_type": "code",
   "execution_count": 2,
   "metadata": {},
   "outputs": [
    {
     "name": "stdout",
     "output_type": "stream",
     "text": [
      "&control\r\n",
      "calculation  = 'scf'\r\n",
      "restart_mode = 'from_scratch'\r\n",
      "pseudo_dir   = './'\r\n",
      "outdir       = './'\r\n",
      "prefix       = 'silane'\r\n",
      "wf_collect   = .TRUE.\r\n",
      "/\r\n",
      "&system\r\n",
      "ibrav           = 1\r\n",
      "celldm(1)       = 20\r\n",
      "nat             = 5\r\n",
      "ntyp            = 2\r\n",
      "ecutwfc         = 25.0\r\n",
      "nbnd            = 10\r\n",
      "assume_isolated ='mp'\r\n",
      "/\r\n",
      "&electrons\r\n",
      "diago_full_acc = .TRUE.\r\n",
      "/\r\n",
      "ATOMIC_SPECIES\r\n",
      "Si 28.0855  Si_ONCV_PBE-1.2.upf\r\n",
      "H  1.00794   H_ONCV_PBE-1.2.upf\r\n",
      "ATOMIC_POSITIONS bohr\r\n",
      "Si      10.000000   10.000000  10.000000\r\n",
      "H       11.614581   11.614581  11.614581\r\n",
      "H        8.385418    8.385418  11.614581\r\n",
      "H        8.385418   11.614581   8.385418\r\n",
      "H       11.614581    8.385418   8.385418\r\n",
      "K_POINTS {gamma}\r\n"
     ]
    }
   ],
   "source": [
    "!cat pw.in"
   ]
  },
  {
   "cell_type": "markdown",
   "metadata": {},
   "source": [
    "We have placed the silane molecule in a cubic box (edge = 20 bohr), and selected a kinetic energy cutoff of 25 Ry."
   ]
  },
  {
   "cell_type": "markdown",
   "metadata": {},
   "source": [
    "We can run the DFT calculation invoking the executable `pw.x` on 8 cores."
   ]
  },
  {
   "cell_type": "code",
   "execution_count": null,
   "metadata": {
    "scrolled": true
   },
   "outputs": [],
   "source": [
    "!mpirun -n 8 pw.x -i pw.in > pw.out"
   ]
  },
  {
   "cell_type": "markdown",
   "metadata": {},
   "source": [
    "The highest occupied molecular orbital (HOMO) predicted by DFT is located at $-8.2314\\,eV$.\n",
    "\n",
    "The lowest unoccupied molecular orbital (LUMO) predicted by DFT is located at $-0.4659\\,eV$.\n",
    "\n",
    "Let's plot this result."
   ]
  },
  {
   "cell_type": "code",
   "execution_count": 3,
   "metadata": {},
   "outputs": [
    {
     "data": {
      "image/png": "[encoded data removed]",
      "text/plain": [
       "<Figure size 432x288 with 1 Axes>"
      ]
     },
     "metadata": {
      "needs_background": "light"
     },
     "output_type": "display_data"
    }
   ],
   "source": [
    "import numpy as np\n",
    "import matplotlib.pyplot as plt\n",
    "\n",
    "# VIP\n",
    "y = {}\n",
    "y['exp'] = [12.3]     # experimental\n",
    "y['dft'] = [8.2314]   # DFT\n",
    "\n",
    "#colors of the plot\n",
    "c = {}\n",
    "c['exp'] = 'black'\n",
    "c['dft'] = 'red'\n",
    "\n",
    "# plot\n",
    "x = list(range(1, len(y)+1))\n",
    "labels = y.keys()\n",
    "\n",
    "fig, ax = plt.subplots(1, 1)\n",
    "counter = 0\n",
    "for i in labels :\n",
    "    for a in y[i] :\n",
    "        ax.hlines(a, x[counter]-0.25, x[counter]+0.25, color=c[i])\n",
    "    counter += 1\n",
    "\n",
    "plt.xticks(x, labels)\n",
    "plt.ylabel('Energy (eV)')\n",
    "\n",
    "plt.title('VIP')\n",
    "\n",
    "plt.show()"
   ]
  },
  {
   "cell_type": "markdown",
   "metadata": {},
   "source": [
    "**Question**: *Is this level of agreement ok?*"
   ]
  },
  {
   "cell_type": "markdown",
   "metadata": {},
   "source": [
    "## 1.2 : GW calculation\n",
    "Using Many-Body Perturbation Theory (MBPT) can improve the result of DFT by computing single particle excitations as the eigenvalues of the quasiparticle (QP) Hamiltonian:\n",
    "\n",
    "\\begin{equation}\n",
    "H^{\\text{QP}}[\\rho] = T + V_{\\text{ion}} + V_{\\text{Hartree}}[\\rho] + \\Sigma\n",
    "\\end{equation}\n",
    "\n",
    "Note that $H^{\\text{QP}}$ can be obtained from $H^{KS}$ by replacing the exchange and correlation potential with the self-energy $\\Sigma$. In the GW approximation the electron self-energy can be written as :\n",
    "\n",
    "\\begin{equation}\n",
    "\\Sigma(\\mathbf{r},\\mathbf{r^\\prime};E)  = i \\int \\frac{d\\omega}{2\\pi} G(\\mathbf{r},\\mathbf{r^\\prime};E-\\omega) W(\\mathbf{r},\\mathbf{r^\\prime};\\omega)\n",
    "\\end{equation}\n",
    "\n",
    "$G$ is the Green's function and $W=\\epsilon^{-1}v$ is the screened Coulomb potential. Because both $G$ and $W$ depend self-consistently on the solution of the QP Hamiltonian, typically the eigenvalues of the operator of $H^{\\text{QP}}$ are obtained using the eigenvalues and eigenvectors of $H^{\\text{KS}}$ (computed previously in DFT) and using first order perturbation theory:\n",
    "\n",
    "\\begin{equation}\n",
    "E^{\\text{QP}}_n = \\varepsilon^{\\text{KS}}_n + \\left\\langle \\psi_n \\right | \\Sigma(E^{\\text{QP}}_n) - V_{\\text{xc}}\\left| \\psi_n \\right\\rangle\n",
    "\\end{equation}\n",
    "\n",
    "Following the workflow discussed in [J. Chem. Theory Comput. 11, 2680 (2015)](https://pubs.acs.org/doi/full/10.1021/ct500958p#showFigures), we use the DFT output to:\n",
    "\n",
    "- compute the Projective Dielectric EigendecomPosition (PDEP) : executable `wstat.x`\n",
    "- compute the GW electronic structure : executable `wfreq.x`\n",
    "\n",
    "<img src=\"https://pubs.acs.org/cms/10.1021/ct500958p/asset/images/medium/ct-2014-00958p_0015.gif\" width=\"50%\">\n",
    "\n",
    "In this case we will have:\n",
    "\n",
    "\\begin{equation}\n",
    "\\text{VIP}^{\\text{GW}} = 0 - E^{\\text{QP}}_{\\text{HOMO}}\n",
    "\\end{equation}"
   ]
  },
  {
   "cell_type": "code",
   "execution_count": 4,
   "metadata": {},
   "outputs": [],
   "source": [
    "#download the material\n",
    "\n",
    "#input file\n",
    "!wget -N -q http://www.west-code.org/doc/training/silane/wstat.in\n",
    "!wget -N -q http://www.west-code.org/doc/training/silane/wfreq.in"
   ]
  },
  {
   "cell_type": "markdown",
   "metadata": {},
   "source": [
    "Let's give a quick look at the input for `wstat.x` (description of the input variables for `wstat.x` can be found here: http://www.west-code.org/doc/West/latest/manual.html#wstat-control)."
   ]
  },
  {
   "cell_type": "code",
   "execution_count": 5,
   "metadata": {},
   "outputs": [
    {
     "name": "stdout",
     "output_type": "stream",
     "text": [
      "input_west:\r\n",
      "    qe_prefix: silane\r\n",
      "    west_prefix: silane\r\n",
      "    outdir: ./\r\n",
      "\r\n",
      "wstat_control:\r\n",
      "    wstat_calculation: S\r\n",
      "    n_pdep_eigen: 50"
     ]
    }
   ],
   "source": [
    "!cat wstat.in"
   ]
  },
  {
   "cell_type": "markdown",
   "metadata": {},
   "source": [
    "The variable `silane` instructs the code to find the output of DFT in the folder `silane.save`. We are going to compute 50 eigenpotentials."
   ]
  },
  {
   "cell_type": "markdown",
   "metadata": {},
   "source": [
    "We can run the PDEP calculation invoking the executable `wstat.x` on 8 cores."
   ]
  },
  {
   "cell_type": "code",
   "execution_count": null,
   "metadata": {
    "scrolled": false
   },
   "outputs": [],
   "source": [
    "!mpirun -n 8 wstat.x -i wstat.in > wstat.out"
   ]
  },
  {
   "cell_type": "markdown",
   "metadata": {},
   "source": [
    "Now we compute G, W and solve the GW electronic structure. Let's give a quick look at the input for `wfreq.x` (description of the input variables for `wfreq.x` can be found here: http://www.west-code.org/doc/West/latest/manual.html#wfreq-control)."
   ]
  },
  {
   "cell_type": "code",
   "execution_count": 6,
   "metadata": {},
   "outputs": [
    {
     "name": "stdout",
     "output_type": "stream",
     "text": [
      "input_west:\r\n",
      "    qe_prefix: silane\r\n",
      "    west_prefix: silane\r\n",
      "    outdir: ./\r\n",
      "\r\n",
      "wstat_control:\r\n",
      "    wstat_calculation: S\r\n",
      "    n_pdep_eigen: 50\r\n",
      "\r\n",
      "wfreq_control:\r\n",
      "    wfreq_calculation: XWGQ\r\n",
      "    n_pdep_eigen_to_use: 50\r\n",
      "    qp_bandrange: [1,5]\r\n",
      "    n_refreq: 300\r\n",
      "    ecut_refreq: 2.0"
     ]
    }
   ],
   "source": [
    "!cat wfreq.in"
   ]
  },
  {
   "cell_type": "markdown",
   "metadata": {},
   "source": [
    "We are going to compute the GW energy of the states 1, 2, 3, 4 (HOMO), and 5 (LUMO). Remember that in this example each state can host two electrons."
   ]
  },
  {
   "cell_type": "markdown",
   "metadata": {},
   "source": [
    "We can run the GW calculation invoking the executable `wfreq.x` on 8 cores."
   ]
  },
  {
   "cell_type": "code",
   "execution_count": null,
   "metadata": {
    "scrolled": false
   },
   "outputs": [],
   "source": [
    "!mpirun -n 8 wfreq.x -i wfreq.in > wfreq.out"
   ]
  },
  {
   "cell_type": "markdown",
   "metadata": {},
   "source": [
    "The highest occupied molecular orbital (HOMO) predicted by GW is located at $-12.044023\\,eV$.\n",
    "\n",
    "Let's update the plot shown before."
   ]
  },
  {
   "cell_type": "code",
   "execution_count": 7,
   "metadata": {},
   "outputs": [
    {
     "data": {
      "image/png": "[encoded data removed]",
      "text/plain": [
       "<Figure size 432x288 with 1 Axes>"
      ]
     },
     "metadata": {
      "needs_background": "light"
     },
     "output_type": "display_data"
    }
   ],
   "source": [
    "import numpy as np\n",
    "import matplotlib.pyplot as plt\n",
    "\n",
    "# VIP\n",
    "y = {}\n",
    "y['exp'] = [12.3]      # experimental\n",
    "y['dft'] = [8.2314]    # dft\n",
    "y['gw']  = [12.044023] # gw\n",
    "\n",
    "# colors\n",
    "c = {}\n",
    "c['exp'] = 'black'\n",
    "c['dft'] = 'red'\n",
    "c['gw']  = 'blue'\n",
    "\n",
    "# plot\n",
    "x = list( range( 1, len(y)+1 ) )\n",
    "labels = y.keys()\n",
    "\n",
    "fig, ax = plt.subplots(1, 1)\n",
    "counter = 0\n",
    "for i in labels :\n",
    "   for a in y[i] :\n",
    "      ax.hlines(a, x[counter]-0.25, x[counter]+0.25,color=c[i])\n",
    "   counter += 1\n",
    "\n",
    "plt.xticks(x, labels)\n",
    "plt.ylabel('Energy (eV)')\n",
    "\n",
    "plt.title('VIP')\n",
    "\n",
    "plt.show()"
   ]
  },
  {
   "cell_type": "markdown",
   "metadata": {},
   "source": [
    "If we take into account finite size effects we have:\n",
    "\n",
    "\\begin{equation}\n",
    "\\text{VIP}^{\\text{GW}} = E_{\\text{vacuum}} - E^{\\text{QP}}_{\\text{HOMO}}\n",
    "\\end{equation}\n",
    "\n",
    "The vaccum energy is $0.24574632 \\, eV$. Let's update the plot."
   ]
  },
  {
   "cell_type": "code",
   "execution_count": 8,
   "metadata": {},
   "outputs": [
    {
     "data": {
      "image/png": "[encoded data removed]",
      "text/plain": [
       "<Figure size 432x288 with 1 Axes>"
      ]
     },
     "metadata": {
      "needs_background": "light"
     },
     "output_type": "display_data"
    }
   ],
   "source": [
    "import numpy as np\n",
    "import matplotlib.pyplot as plt\n",
    "\n",
    "# vacumm\n",
    "vacuum = 0.24574632\n",
    "\n",
    "# VIP\n",
    "y = {}\n",
    "y['exp']     = [12.3]             # experimental\n",
    "y['dft']     = [8.2314]           # dft\n",
    "y['dft_vac'] = [8.2314+vacuum]    # dft\n",
    "y['gw']      = [12.044023]        # gw\n",
    "y['gw_vac']  = [12.044023+vacuum] # gw\n",
    "\n",
    "# colors\n",
    "c = {}\n",
    "c['exp']     = 'black'\n",
    "c['dft']     = 'red'\n",
    "c['dft_vac'] = 'red'\n",
    "c['gw']      = 'blue'\n",
    "c['gw_vac']  = 'blue'\n",
    "\n",
    "# plot\n",
    "x = list( range( 1, len(y)+1 ) )\n",
    "labels = y.keys()\n",
    "\n",
    "fig, ax = plt.subplots(1, 1)\n",
    "counter = 0\n",
    "for i in labels :\n",
    "    for a in y[i] :\n",
    "        ax.hlines(a, x[counter]-0.25, x[counter]+0.25, color=c[i])\n",
    "    counter += 1\n",
    "\n",
    "plt.xticks(x, labels)\n",
    "plt.ylabel('Energy (eV)')\n",
    "\n",
    "plt.title('VIP')\n",
    "\n",
    "plt.show()"
   ]
  },
  {
   "cell_type": "markdown",
   "metadata": {},
   "source": [
    "**Question**: *Which level of theory better describes electronic excitations?*"
   ]
  }
 ],
 "metadata": {
  "kernelspec": {
   "display_name": "Python 3 (ipykernel)",
   "language": "python",
   "name": "python3"
  },
  "language_info": {
   "codemirror_mode": {
    "name": "ipython",
    "version": 3
   },
   "file_extension": ".py",
   "mimetype": "text/x-python",
   "name": "python",
   "nbconvert_exporter": "python",
   "pygments_lexer": "ipython3",
   "version": "3.8.13"
  }
 },
 "nbformat": 4,
 "nbformat_minor": 2
}
