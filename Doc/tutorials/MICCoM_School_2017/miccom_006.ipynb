{
 "cells": [
  {
   "cell_type": "markdown",
   "metadata": {},
   "source": [
    "# MICCoM School 2017 Ex#6 : Interface with ASE"
   ]
  },
  {
   "cell_type": "markdown",
   "metadata": {},
   "source": [
    "<p>You can try different systems, here are some examples.</p>\n",
    "\n",
    "We will use the ASE ([Atomistic Simulation Package](https://wiki.fysik.dtu.dk/ase/)) Python package to build the input structures. "
   ]
  },
  {
   "cell_type": "markdown",
   "metadata": {
    "collapsed": true
   },
   "source": [
    "<h2>6.1 : Benzene molecule</h2>"
   ]
  },
  {
   "cell_type": "code",
   "execution_count": 1,
   "metadata": {},
   "outputs": [],
   "source": [
    "# We download the pseudopotentials \n",
    "!wget -N -q http://www.quantum-simulation.org/potentials/sg15_oncv/upf/C_ONCV_PBE-1.2.upf\n",
    "!wget -N -q http://www.quantum-simulation.org/potentials/sg15_oncv/upf/H_ONCV_PBE-1.2.upf"
   ]
  },
  {
   "cell_type": "code",
   "execution_count": 2,
   "metadata": {},
   "outputs": [],
   "source": [
    "# We build the input for DFT\n",
    "from ase import Atom, Atoms\n",
    "from ase.cell import Cell\n",
    "from ase.io import write\n",
    "\n",
    "cell = Cell([[10,0,0],[0,10,0],[0,0,10]]) #Angstroms\n",
    "\n",
    "positions = []\n",
    "positions.append(Atom('C',[1.2115,0.6995,0.0000])) #Angstroms\n",
    "positions.append(Atom('C',[1.2115,-0.6995,0.0000]))\n",
    "positions.append(Atom('C',[0.0000,-1.3990,0.0000]))\n",
    "positions.append(Atom('C',[-1.2115,-0.6995,0.0000]))\n",
    "positions.append(Atom('C',[-1.2115,0.6995,0.0000]))\n",
    "positions.append(Atom('H',[0.0000,2.5000,0.0000]))\n",
    "positions.append(Atom('H',[2.1651,1.2500,0.0000]))\n",
    "positions.append(Atom('H',[2.1651,-1.2500,0.0000]))\n",
    "positions.append(Atom('H',[0.0000,-2.5000,0.0000]))\n",
    "positions.append(Atom('H',[-2.1651,-1.2500,0.0000]))\n",
    "positions.append(Atom('H',[-2.1651,1.2500,0.0000]))\n",
    "\n",
    "atoms = Atoms(positions,cell=cell)\n",
    "\n",
    "pseudopotentials = {}\n",
    "pseudopotentials['C']='C_ONCV_PBE-1.2.upf'\n",
    "pseudopotentials['H']='H_ONCV_PBE-1.2.upf'\n",
    "\n",
    "inp_data = {}\n",
    "inp_data['calculation'] = 'scf'\n",
    "inp_data['restart_mode'] = 'from_scratch'\n",
    "inp_data['prefix'] = 'benzene'\n",
    "inp_data['outdir'] = './'\n",
    "inp_data['pseudo_dir'] = './'\n",
    "inp_data['verbosity'] = 'high'\n",
    "inp_data['wf_collect'] = True\n",
    "\n",
    "inp_data['ecutwfc'] = 50\n",
    "inp_data['nspin'] = 1\n",
    "inp_data['nbnd'] = 40\n",
    "inp_data['assume_isolated'] = 'mp'\n",
    "\n",
    "inp_data['diago_full_acc'] = True\n",
    "\n",
    "write('benzene.pwi',atoms,pseudopotentials=pseudopotentials,input_data=inp_data)"
   ]
  },
  {
   "cell_type": "code",
   "execution_count": 3,
   "metadata": {},
   "outputs": [
    {
     "name": "stdout",
     "output_type": "stream",
     "text": [
      "&CONTROL\r\n",
      "   calculation      = 'scf'\r\n",
      "   verbosity        = 'high'\r\n",
      "   restart_mode     = 'from_scratch'\r\n",
      "   wf_collect       = .true.\r\n",
      "   outdir           = './'\r\n",
      "   prefix           = 'benzene'\r\n",
      "   pseudo_dir       = './'\r\n",
      "/\r\n",
      "&SYSTEM\r\n",
      "   nbnd             = 40\r\n",
      "   ecutwfc          = 50\r\n",
      "   nspin            = 1\r\n",
      "   assume_isolated  = 'mp'\r\n",
      "   ntyp             = 2\r\n",
      "   nat              = 11\r\n",
      "   ibrav            = 0\r\n",
      "/\r\n",
      "&ELECTRONS\r\n",
      "   diago_full_acc   = .true.\r\n",
      "/\r\n",
      "&IONS\r\n",
      "/\r\n",
      "&CELL\r\n",
      "/\r\n",
      "\r\n",
      "ATOMIC_SPECIES\r\n",
      "C 12.011 C_ONCV_PBE-1.2.upf\r\n",
      "H 1.008 H_ONCV_PBE-1.2.upf\r\n",
      "\r\n",
      "K_POINTS gamma\r\n",
      "\r\n",
      "CELL_PARAMETERS angstrom\r\n",
      "10.00000000000000 0.00000000000000 0.00000000000000\r\n",
      "0.00000000000000 10.00000000000000 0.00000000000000\r\n",
      "0.00000000000000 0.00000000000000 10.00000000000000\r\n",
      "\r\n",
      "ATOMIC_POSITIONS angstrom\r\n",
      "C 1.2115000000 0.6995000000 0.0000000000 \r\n",
      "C 1.2115000000 -0.6995000000 0.0000000000 \r\n",
      "C 0.0000000000 -1.3990000000 0.0000000000 \r\n",
      "C -1.2115000000 -0.6995000000 0.0000000000 \r\n",
      "C -1.2115000000 0.6995000000 0.0000000000 \r\n",
      "H 0.0000000000 2.5000000000 0.0000000000 \r\n",
      "H 2.1651000000 1.2500000000 0.0000000000 \r\n",
      "H 2.1651000000 -1.2500000000 0.0000000000 \r\n",
      "H 0.0000000000 -2.5000000000 0.0000000000 \r\n",
      "H -2.1651000000 -1.2500000000 0.0000000000 \r\n",
      "H -2.1651000000 1.2500000000 0.0000000000 \r\n",
      "\r\n"
     ]
    }
   ],
   "source": [
    "!cat benzene.pwi"
   ]
  },
  {
   "cell_type": "code",
   "execution_count": 4,
   "metadata": {},
   "outputs": [],
   "source": [
    "# We build the input for MBPT\n",
    "import yaml\n",
    "\n",
    "west={}\n",
    "west['input_west']={} \n",
    "west['input_west']['qe_prefix']='benzene'\n",
    "west['input_west']['west_prefix']='benzene'\n",
    "west['input_west']['outdir']='./'\n",
    "\n",
    "west['wstat_control']={} \n",
    "west['wstat_control']['wstat_calculation']='S'\n",
    "west['wstat_control']['n_pdep_eigen']=50\n",
    "\n",
    "west['wfreq_control']={} \n",
    "west['wfreq_control']['wfreq_calculation']='XWGQ'\n",
    "west['wfreq_control']['n_pdep_eigen_to_use']=50\n",
    "west['wfreq_control']['qp_bandrange']=[1,5]\n",
    "west['wfreq_control']['n_refreq']=300\n",
    "west['wfreq_control']['ecut_refreq']=2.0\n",
    "\n",
    "with open('west.in', 'w') as file:\n",
    "    yaml.dump(west, file, sort_keys=False)"
   ]
  },
  {
   "cell_type": "code",
   "execution_count": 5,
   "metadata": {},
   "outputs": [
    {
     "name": "stdout",
     "output_type": "stream",
     "text": [
      "input_west:\r\n",
      "  qe_prefix: benzene\r\n",
      "  west_prefix: benzene\r\n",
      "  outdir: ./\r\n",
      "wstat_control:\r\n",
      "  wstat_calculation: S\r\n",
      "  n_pdep_eigen: 50\r\n",
      "wfreq_control:\r\n",
      "  wfreq_calculation: XWGQ\r\n",
      "  n_pdep_eigen_to_use: 50\r\n",
      "  qp_bandrange:\r\n",
      "  - 1\r\n",
      "  - 5\r\n",
      "  n_refreq: 300\r\n",
      "  ecut_refreq: 2.0\r\n"
     ]
    }
   ],
   "source": [
    "!cat west.in"
   ]
  },
  {
   "cell_type": "code",
   "execution_count": null,
   "metadata": {},
   "outputs": [],
   "source": [
    "!mpirun -n 8 pw.x -i benzene.pwi > benzene.pwo\n",
    "!mpirun -n 8 wstat.x -i wstat.in > wstat.out\n",
    "!mpirun -n 8 wfreq.x -i wfreq.in > wfreq.out"
   ]
  },
  {
   "cell_type": "markdown",
   "metadata": {
    "collapsed": true
   },
   "source": [
    "<h2>6.2 : H<sub>2</sub>O</h2>"
   ]
  },
  {
   "cell_type": "code",
   "execution_count": 9,
   "metadata": {},
   "outputs": [],
   "source": [
    "# We download the pseudopotentials \n",
    "!wget -N -q http://www.quantum-simulation.org/potentials/sg15_oncv/upf/O_ONCV_PBE-1.2.upf\n",
    "!wget -N -q http://www.quantum-simulation.org/potentials/sg15_oncv/upf/H_ONCV_PBE-1.2.upf\n",
    "!wget -N -q http://west-code.org/doc/training/water/H2O.cif"
   ]
  },
  {
   "cell_type": "code",
   "execution_count": 10,
   "metadata": {},
   "outputs": [],
   "source": [
    "# We build the input for DFT, starting from a CIF file\n",
    "from ase.io import read, write\n",
    "\n",
    "atoms = read('H2O.cif')\n",
    "\n",
    "pseudopotentials = {}\n",
    "pseudopotentials['O']='O_ONCV_PBE-1.2.upf'\n",
    "pseudopotentials['H']='H_ONCV_PBE-1.2.upf'\n",
    "\n",
    "inp_data = {}\n",
    "inp_data['calculation'] = 'scf'\n",
    "inp_data['restart_mode'] = 'from_scratch'\n",
    "inp_data['prefix'] = 'h2o'\n",
    "inp_data['outdir'] = './'\n",
    "inp_data['pseudo_dir'] = './'\n",
    "inp_data['verbosity'] = 'high'\n",
    "inp_data['wf_collect'] = True\n",
    "\n",
    "inp_data['ecutwfc'] = 60\n",
    "inp_data['nspin'] = 1\n",
    "inp_data['nbnd'] = 120\n",
    "\n",
    "inp_data['diago_full_acc'] = True\n",
    "\n",
    "write('h2o.pwi',atoms,pseudopotentials=pseudopotentials,input_data=inp_data)"
   ]
  },
  {
   "cell_type": "code",
   "execution_count": 8,
   "metadata": {},
   "outputs": [
    {
     "name": "stdout",
     "output_type": "stream",
     "text": [
      "&CONTROL\r\n",
      "   calculation      = 'scf'\r\n",
      "   verbosity        = 'high'\r\n",
      "   restart_mode     = 'from_scratch'\r\n",
      "   wf_collect       = .true.\r\n",
      "   outdir           = './'\r\n",
      "   prefix           = 'h2o'\r\n",
      "   pseudo_dir       = './'\r\n",
      "/\r\n",
      "&SYSTEM\r\n",
      "   nbnd             = 120\r\n",
      "   ecutwfc          = 60\r\n",
      "   nspin            = 1\r\n",
      "   ntyp             = 2\r\n",
      "   nat              = 36\r\n",
      "   ibrav            = 0\r\n",
      "/\r\n",
      "&ELECTRONS\r\n",
      "   diago_full_acc   = .true.\r\n",
      "/\r\n",
      "&IONS\r\n",
      "/\r\n",
      "&CELL\r\n",
      "/\r\n",
      "\r\n",
      "ATOMIC_SPECIES\r\n",
      "H 1.008 H_ONCV_PBE-1.2.upf\r\n",
      "O 15.999 O_ONCV_PBE-1.2.upf\r\n",
      "\r\n",
      "K_POINTS gamma\r\n",
      "\r\n",
      "CELL_PARAMETERS angstrom\r\n",
      "7.60356630000000 0.00000000000000 0.00000000000000\r\n",
      "-3.80178315000000 6.58488157515925 0.00000000000000\r\n",
      "0.00000000000000 0.00000000000000 7.14296200000000\r\n",
      "\r\n",
      "ATOMIC_POSITIONS angstrom\r\n",
      "H 2.5154346141 0.0000000000 1.4030777397 \r\n",
      "H -1.2577173070 2.1784302773 1.4030777397 \r\n",
      "H 2.5440658430 4.4064512978 1.4030777397 \r\n",
      "H 5.0881316859 0.0000000000 4.9745587397 \r\n",
      "H -2.5440658430 4.4064512978 4.9745587397 \r\n",
      "H 1.2577173070 2.1784302773 4.9745587397 \r\n",
      "H 3.4394504051 0.0000000000 0.0760439735 \r\n",
      "H -1.7197252026 2.9786514259 0.0760439735 \r\n",
      "H 2.0820579474 3.6062301493 0.0760439735 \r\n",
      "H 4.1641158949 0.0000000000 3.6475249735 \r\n",
      "H -2.0820579474 3.6062301493 3.6475249735 \r\n",
      "H 1.7197252026 2.9786514259 3.6475249735 \r\n",
      "H 1.7103728160 5.7785299019 6.9918669248 \r\n",
      "H -2.0577569496 5.1768429328 6.9918669248 \r\n",
      "H 0.3473841335 2.2143903156 6.9918669248 \r\n",
      "H 5.5121559660 0.8063516733 6.9918669248 \r\n",
      "H 1.7440262004 1.4080386423 6.9918669248 \r\n",
      "H 4.1491672835 4.3704912595 6.9918669248 \r\n",
      "H 2.0914103340 0.8063516733 3.4203859248 \r\n",
      "H 5.8595400996 1.4080386423 3.4203859248 \r\n",
      "H 3.4543990165 4.3704912595 3.4203859248 \r\n",
      "H -1.7103728160 5.7785299019 3.4203859248 \r\n",
      "H 2.0577569496 5.1768429328 3.4203859248 \r\n",
      "H -0.3473841335 2.2143903156 3.4203859248 \r\n",
      "O 2.4836441034 0.0000000000 0.3975629790 \r\n",
      "O -1.2418220517 2.1508988875 0.3975629790 \r\n",
      "O 2.5599610983 4.4339826877 0.3975629790 \r\n",
      "O 5.1199221966 0.0000000000 3.9690439790 \r\n",
      "O -2.5599610983 4.4339826877 3.9690439790 \r\n",
      "O 1.2418220517 2.1508988875 3.9690439790 \r\n",
      "O 5.0229539156 0.0000000000 6.6399189011 \r\n",
      "O -2.5114769578 4.3500056930 6.6399189011 \r\n",
      "O 1.2903061922 2.2348758822 6.6399189011 \r\n",
      "O 2.5806123844 0.0000000000 3.0684379011 \r\n",
      "O -1.2903061922 2.2348758822 3.0684379011 \r\n",
      "O 2.5114769578 4.3500056930 3.0684379011 \r\n",
      "\r\n"
     ]
    }
   ],
   "source": [
    "!cat h2o.pwi"
   ]
  },
  {
   "cell_type": "code",
   "execution_count": 11,
   "metadata": {},
   "outputs": [],
   "source": [
    "# We build the input for MBPT\n",
    "\n",
    "import yaml\n",
    "\n",
    "west={}\n",
    "west['input_west']={} \n",
    "west['input_west']['qe_prefix']='h2o'\n",
    "west['input_west']['west_prefix']='h2o'\n",
    "west['input_west']['outdir']='./'\n",
    "\n",
    "west['wstat_control']={} \n",
    "west['wstat_control']['wstat_calculation']='S'\n",
    "west['wstat_control']['n_pdep_eigen']=200\n",
    "\n",
    "west['wfreq_control']={} \n",
    "west['wfreq_control']['wfreq_calculation']='XWGQ'\n",
    "west['wfreq_control']['macropol_calculation']='C' \n",
    "# Note that for a solid we must set macropol_calculation to 'C', the default 'N' is good for molecules\n",
    "west['wfreq_control']['n_pdep_eigen_to_use']=200\n",
    "west['wfreq_control']['qp_bandrange']=[20,30]\n",
    "west['wfreq_control']['n_refreq']=300\n",
    "west['wfreq_control']['ecut_refreq']=2.0\n",
    "\n",
    "with open('west.in', 'w') as file:\n",
    "    yaml.dump(west, file, sort_keys=False)"
   ]
  },
  {
   "cell_type": "code",
   "execution_count": 12,
   "metadata": {},
   "outputs": [
    {
     "name": "stdout",
     "output_type": "stream",
     "text": [
      "input_west:\r\n",
      "  qe_prefix: h2o\r\n",
      "  west_prefix: h2o\r\n",
      "  outdir: ./\r\n",
      "wstat_control:\r\n",
      "  wstat_calculation: S\r\n",
      "  n_pdep_eigen: 200\r\n",
      "wfreq_control:\r\n",
      "  wfreq_calculation: XWGQ\r\n",
      "  macropol_calculation: C\r\n",
      "  n_pdep_eigen_to_use: 200\r\n",
      "  qp_bandrange:\r\n",
      "  - 20\r\n",
      "  - 30\r\n",
      "  n_refreq: 300\r\n",
      "  ecut_refreq: 2.0\r\n"
     ]
    }
   ],
   "source": [
    "!cat west.in"
   ]
  },
  {
   "cell_type": "code",
   "execution_count": null,
   "metadata": {},
   "outputs": [],
   "source": [
    "!mpirun -n 8 pw.x -i h2o.pwi > h2o.pwo\n",
    "!mpirun -n 8 wstat.x -i wstat.in > wstat.out\n",
    "!mpirun -n 8 wfreq.x -i wfreq.in > wfreq.out"
   ]
  },
  {
   "cell_type": "markdown",
   "metadata": {
    "collapsed": true
   },
   "source": [
    "<h2>6.3 : SiC solid</h2>"
   ]
  },
  {
   "cell_type": "code",
   "execution_count": 13,
   "metadata": {},
   "outputs": [],
   "source": [
    "# We download the pseudopotentials \n",
    "!wget -N -q http://www.quantum-simulation.org/potentials/sg15_oncv/upf/C_ONCV_PBE-1.2.upf\n",
    "!wget -N -q http://www.quantum-simulation.org/potentials/sg15_oncv/upf/Si_ONCV_PBE-1.2.upf"
   ]
  },
  {
   "cell_type": "code",
   "execution_count": 14,
   "metadata": {},
   "outputs": [],
   "source": [
    "# We build the input for DFT\n",
    "from ase.build import bulk\n",
    "\n",
    "atoms = bulk('SiC', 'zincblende', a=8.56, cubic=True) # Angstrom\n",
    "\n",
    "pseudopotentials = {}\n",
    "pseudopotentials['C'] = 'C_ONCV_PBE-1.2.upf'\n",
    "pseudopotentials['Si'] = 'Si_ONCV_PBE-1.2.upf'\n",
    "\n",
    "inp_data = {}\n",
    "inp_data['calculation'] = 'scf'\n",
    "inp_data['restart_mode'] = 'from_scratch'\n",
    "inp_data['prefix'] = 'sic'\n",
    "inp_data['outdir'] = './'\n",
    "inp_data['pseudo_dir'] = './'\n",
    "inp_data['verbosity'] = 'high'\n",
    "inp_data['wf_collect'] = True\n",
    "\n",
    "inp_data['ecutwfc'] = 60\n",
    "inp_data['nspin'] = 1\n",
    "inp_data['nbnd'] = 100\n",
    "\n",
    "inp_data['diago_full_acc'] = True\n",
    "\n",
    "write('sic_scf.pwi',atoms,pseudopotentials=pseudopotentials,input_data=inp_data,kpts=[8,8,8])\n",
    "\n",
    "inp_data['calculation'] = 'nscf'\n",
    "inp_data['nosym'] = True\n",
    "inp_data['noinv'] = True\n",
    "\n",
    "# Note that for systems with k-points we run a nscf calculation making sure that symmetries are turned off\n",
    "\n",
    "write('sic_nscf.pwi',atoms,pseudopotentials=pseudopotentials,input_data=inp_data,kpts=[2,2,2])"
   ]
  },
  {
   "cell_type": "code",
   "execution_count": 15,
   "metadata": {},
   "outputs": [
    {
     "name": "stdout",
     "output_type": "stream",
     "text": [
      "&CONTROL\r\n",
      "   calculation      = 'scf'\r\n",
      "   verbosity        = 'high'\r\n",
      "   restart_mode     = 'from_scratch'\r\n",
      "   wf_collect       = .true.\r\n",
      "   outdir           = './'\r\n",
      "   prefix           = 'sic'\r\n",
      "   pseudo_dir       = './'\r\n",
      "/\r\n",
      "&SYSTEM\r\n",
      "   nbnd             = 100\r\n",
      "   ecutwfc          = 60\r\n",
      "   nspin            = 1\r\n",
      "   ntyp             = 2\r\n",
      "   nat              = 8\r\n",
      "   ibrav            = 0\r\n",
      "/\r\n",
      "&ELECTRONS\r\n",
      "   diago_full_acc   = .true.\r\n",
      "/\r\n",
      "&IONS\r\n",
      "/\r\n",
      "&CELL\r\n",
      "/\r\n",
      "\r\n",
      "ATOMIC_SPECIES\r\n",
      "Si 28.085 Si_ONCV_PBE-1.2.upf\r\n",
      "C 12.011 C_ONCV_PBE-1.2.upf\r\n",
      "\r\n",
      "K_POINTS automatic\r\n",
      "8 8 8  0 0 0\r\n",
      "\r\n",
      "CELL_PARAMETERS angstrom\r\n",
      "8.56000000000000 0.00000000000000 0.00000000000000\r\n",
      "0.00000000000000 8.56000000000000 0.00000000000000\r\n",
      "0.00000000000000 0.00000000000000 8.56000000000000\r\n",
      "\r\n",
      "ATOMIC_POSITIONS angstrom\r\n",
      "Si 0.0000000000 0.0000000000 0.0000000000 \r\n",
      "C 2.1400000000 2.1400000000 2.1400000000 \r\n",
      "Si 0.0000000000 4.2800000000 4.2800000000 \r\n",
      "C 2.1400000000 6.4200000000 6.4200000000 \r\n",
      "Si 4.2800000000 0.0000000000 4.2800000000 \r\n",
      "C 6.4200000000 2.1400000000 6.4200000000 \r\n",
      "Si 4.2800000000 4.2800000000 0.0000000000 \r\n",
      "C 6.4200000000 6.4200000000 2.1400000000 \r\n",
      "\r\n"
     ]
    }
   ],
   "source": [
    "!cat sic_scf.pwi"
   ]
  },
  {
   "cell_type": "code",
   "execution_count": 16,
   "metadata": {},
   "outputs": [
    {
     "name": "stdout",
     "output_type": "stream",
     "text": [
      "&CONTROL\r\n",
      "   calculation      = 'nscf'\r\n",
      "   verbosity        = 'high'\r\n",
      "   restart_mode     = 'from_scratch'\r\n",
      "   wf_collect       = .true.\r\n",
      "   outdir           = './'\r\n",
      "   prefix           = 'sic'\r\n",
      "   pseudo_dir       = './'\r\n",
      "/\r\n",
      "&SYSTEM\r\n",
      "   nbnd             = 100\r\n",
      "   ecutwfc          = 60\r\n",
      "   nosym            = .true.\r\n",
      "   noinv            = .true.\r\n",
      "   nspin            = 1\r\n",
      "   ntyp             = 2\r\n",
      "   nat              = 8\r\n",
      "   ibrav            = 0\r\n",
      "/\r\n",
      "&ELECTRONS\r\n",
      "   diago_full_acc   = .true.\r\n",
      "/\r\n",
      "&IONS\r\n",
      "/\r\n",
      "&CELL\r\n",
      "/\r\n",
      "\r\n",
      "ATOMIC_SPECIES\r\n",
      "Si 28.085 Si_ONCV_PBE-1.2.upf\r\n",
      "C 12.011 C_ONCV_PBE-1.2.upf\r\n",
      "\r\n",
      "K_POINTS automatic\r\n",
      "2 2 2  0 0 0\r\n",
      "\r\n",
      "CELL_PARAMETERS angstrom\r\n",
      "8.56000000000000 0.00000000000000 0.00000000000000\r\n",
      "0.00000000000000 8.56000000000000 0.00000000000000\r\n",
      "0.00000000000000 0.00000000000000 8.56000000000000\r\n",
      "\r\n",
      "ATOMIC_POSITIONS angstrom\r\n",
      "Si 0.0000000000 0.0000000000 0.0000000000 \r\n",
      "C 2.1400000000 2.1400000000 2.1400000000 \r\n",
      "Si 0.0000000000 4.2800000000 4.2800000000 \r\n",
      "C 2.1400000000 6.4200000000 6.4200000000 \r\n",
      "Si 4.2800000000 0.0000000000 4.2800000000 \r\n",
      "C 6.4200000000 2.1400000000 6.4200000000 \r\n",
      "Si 4.2800000000 4.2800000000 0.0000000000 \r\n",
      "C 6.4200000000 6.4200000000 2.1400000000 \r\n",
      "\r\n"
     ]
    }
   ],
   "source": [
    "!cat sic_nscf.pwi"
   ]
  },
  {
   "cell_type": "code",
   "execution_count": 17,
   "metadata": {},
   "outputs": [],
   "source": [
    "# We build the input for MBPT\n",
    "import yaml\n",
    "\n",
    "west={}\n",
    "west['input_west']={} \n",
    "west['input_west']['qe_prefix']='sic'\n",
    "west['input_west']['west_prefix']='sic'\n",
    "west['input_west']['outdir']='./'\n",
    "\n",
    "west['wstat_control']={} \n",
    "west['wstat_control']['wstat_calculation']='S'\n",
    "west['wstat_control']['n_pdep_eigen']=200\n",
    "\n",
    "west['wfreq_control']={} \n",
    "west['wfreq_control']['wfreq_calculation']='XWGQ'\n",
    "west['wfreq_control']['macropol_calculation']='C'\n",
    "west['wfreq_control']['n_pdep_eigen_to_use']=200\n",
    "west['wfreq_control']['qp_bandrange']=[20,30]\n",
    "west['wfreq_control']['n_refreq']=300\n",
    "west['wfreq_control']['ecut_refreq']=2.0\n",
    "\n",
    "with open('west.in', 'w') as file:\n",
    "    yaml.dump(west, file, sort_keys=False)"
   ]
  },
  {
   "cell_type": "code",
   "execution_count": 18,
   "metadata": {},
   "outputs": [
    {
     "name": "stdout",
     "output_type": "stream",
     "text": [
      "input_west:\r\n",
      "  qe_prefix: sic\r\n",
      "  west_prefix: sic\r\n",
      "  outdir: ./\r\n",
      "wstat_control:\r\n",
      "  wstat_calculation: S\r\n",
      "  n_pdep_eigen: 200\r\n",
      "wfreq_control:\r\n",
      "  wfreq_calculation: XWGQ\r\n",
      "  macropol_calculation: C\r\n",
      "  n_pdep_eigen_to_use: 200\r\n",
      "  qp_bandrange:\r\n",
      "  - 20\r\n",
      "  - 30\r\n",
      "  n_refreq: 300\r\n",
      "  ecut_refreq: 2.0\r\n"
     ]
    }
   ],
   "source": [
    "!cat west.in"
   ]
  },
  {
   "cell_type": "code",
   "execution_count": null,
   "metadata": {},
   "outputs": [],
   "source": [
    "!mpirun -n 8 pw.x -i sic_scf.pwi > sic_scf.pwo\n",
    "!mpirun -n 8 pw.x -i sic_nscf.pwi > sic_nscf.pwo\n",
    "!mpirun -n 8 wstat.x -i wstat.in > wstat.out\n",
    "!mpirun -n 8 wfreq.x -i wfreq.in > wfreq.out"
   ]
  }
 ],
 "metadata": {
  "kernelspec": {
   "display_name": "Python 3 (ipykernel)",
   "language": "python",
   "name": "python3"
  },
  "language_info": {
   "codemirror_mode": {
    "name": "ipython",
    "version": 3
   },
   "file_extension": ".py",
   "mimetype": "text/x-python",
   "name": "python",
   "nbconvert_exporter": "python",
   "pygments_lexer": "ipython3",
   "version": "3.8.8"
  }
 },
 "nbformat": 4,
 "nbformat_minor": 2
}
