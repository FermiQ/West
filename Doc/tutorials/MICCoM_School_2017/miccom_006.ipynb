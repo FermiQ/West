{
 "cells": [
  {
   "cell_type": "markdown",
   "metadata": {},
   "source": [
    "# Exercise #6 : Other systems"
   ]
  },
  {
   "cell_type": "markdown",
   "metadata": {},
   "source": [
    "<p>You can try different systems, here are some examples.</p>\n",
    "\n",
    "We will use the ASE Python package to build the input structures. "
   ]
  },
  {
   "cell_type": "markdown",
   "metadata": {
    "collapsed": true
   },
   "source": [
    "<h2>6.1 : Benzene molecule</h2>"
   ]
  },
  {
   "cell_type": "code",
   "execution_count": null,
   "metadata": {},
   "outputs": [],
   "source": [
    "# We download the pseudopotentials \n",
    "!wget -N -q http://www.quantum-simulation.org/potentials/sg15_oncv/upf/C_ONCV_PBE-1.2.upf\n",
    "!wget -N -q http://www.quantum-simulation.org/potentials/sg15_oncv/upf/H_ONCV_PBE-1.2.upf"
   ]
  },
  {
   "cell_type": "code",
   "execution_count": null,
   "metadata": {},
   "outputs": [],
   "source": [
    "# We build the input for DFT\n",
    "from ase import Atom, Atoms\n",
    "from ase.cell import Cell\n",
    "from ase.io import write\n",
    "\n",
    "cell = Cell([[10,0,0],[0,10,0],[0,0,10]]) #Angstroms\n",
    "\n",
    "positions = []\n",
    "positions.append(Atom('C',[1.2115,0.6995,0.0000])) #Angstroms\n",
    "positions.append(Atom('C',[1.2115,-0.6995,0.0000]))\n",
    "positions.append(Atom('C',[0.0000,-1.3990,0.0000]))\n",
    "positions.append(Atom('C',[-1.2115,-0.6995,0.0000]))\n",
    "positions.append(Atom('C',[-1.2115,0.6995,0.0000]))\n",
    "positions.append(Atom('H',[0.0000,2.5000,0.0000]))\n",
    "positions.append(Atom('H',[2.1651,1.2500,0.0000]))\n",
    "positions.append(Atom('H',[2.1651,-1.2500,0.0000]))\n",
    "positions.append(Atom('H',[0.0000,-2.5000,0.0000]))\n",
    "positions.append(Atom('H',[-2.1651,-1.2500,0.0000]))\n",
    "positions.append(Atom('H',[-2.1651,1.2500,0.0000]))\n",
    "\n",
    "atoms = Atoms(positions,cell=cell)\n",
    "\n",
    "pseudopotentials = {}\n",
    "pseudopotentials['C']='C_ONCV_PBE-1.2.upf'\n",
    "pseudopotentials['H']='H_ONCV_PBE-1.2.upf'\n",
    "\n",
    "inp_data = {}\n",
    "inp_data['calculation'] = 'scf'\n",
    "inp_data['restart_mode'] = 'from_scratch'\n",
    "inp_data['prefix'] = 'benzene'\n",
    "inp_data['outdir'] = './'\n",
    "inp_data['pseudo_dir'] = './'\n",
    "inp_data['verbosity'] = 'high'\n",
    "inp_data['wf_collect'] = True\n",
    "\n",
    "inp_data['ecutwfc'] = 50\n",
    "inp_data['nspin'] = 1\n",
    "inp_data['nbnd'] = 40\n",
    "inp_data['assume_isolated'] = 'mp'\n",
    "\n",
    "inp_data['diago_full_acc'] = True\n",
    "\n",
    "write('benzene.pwi',atoms,pseudopotentials=pseudopotentials,input_data=inp_data)"
   ]
  },
  {
   "cell_type": "code",
   "execution_count": null,
   "metadata": {},
   "outputs": [],
   "source": [
    "!cat benzene.pwi"
   ]
  },
  {
   "cell_type": "code",
   "execution_count": null,
   "metadata": {},
   "outputs": [],
   "source": [
    "# We build the input for MBPT\n",
    "import yaml\n",
    "\n",
    "west={}\n",
    "west['input_west']={} \n",
    "west['input_west']['qe_prefix']='benzene'\n",
    "west['input_west']['west_prefix']='benzene'\n",
    "west['input_west']['outdir']='./'\n",
    "\n",
    "west['wstat_control']={} \n",
    "west['wstat_control']['wstat_calculation']='S'\n",
    "west['wstat_control']['n_pdep_eigen']=50\n",
    "\n",
    "west['wfreq_control']={} \n",
    "west['wfreq_control']['wfreq_calculation']='XWGQ'\n",
    "west['wfreq_control']['n_pdep_eigen_to_use']=50\n",
    "west['wfreq_control']['qp_bandrange']=[1,5]\n",
    "west['wfreq_control']['n_refreq']=300\n",
    "west['wfreq_control']['ecut_refreq']=2.0\n",
    "\n",
    "with open('west.in', 'w') as file:\n",
    "    yaml.dump(west, file, sort_keys=False)"
   ]
  },
  {
   "cell_type": "code",
   "execution_count": null,
   "metadata": {},
   "outputs": [],
   "source": [
    "!cat west.in"
   ]
  },
  {
   "cell_type": "code",
   "execution_count": null,
   "metadata": {},
   "outputs": [],
   "source": [
    "!mpirun -n 8 pw.x -i benzene.pwi > benzene.pwo\n",
    "!mpirun -n 8 wstat.x -i wstat.in > wstat.out\n",
    "!mpirun -n 8 wfreq.x -i wfreq.in > wfreq.out"
   ]
  },
  {
   "cell_type": "markdown",
   "metadata": {
    "collapsed": true
   },
   "source": [
    "<h2>6.2 : H<sub>2</sub>O</h2>"
   ]
  },
  {
   "cell_type": "code",
   "execution_count": null,
   "metadata": {},
   "outputs": [],
   "source": [
    "# We download the pseudopotentials \n",
    "!wget -N -q http://www.quantum-simulation.org/potentials/sg15_oncv/upf/O_ONCV_PBE-1.2.upf\n",
    "!wget -N -q http://www.quantum-simulation.org/potentials/sg15_oncv/upf/H_ONCV_PBE-1.2.upf"
   ]
  },
  {
   "cell_type": "code",
   "execution_count": null,
   "metadata": {},
   "outputs": [],
   "source": [
    "# We build the input for DFT, starting from a CIF file\n",
    "from ase.io import read, write\n",
    "\n",
    "atoms = read('H2O.cif')\n",
    "\n",
    "pseudopotentials = {}\n",
    "pseudopotentials['O']='O_ONCV_PBE-1.2.upf'\n",
    "pseudopotentials['H']='H_ONCV_PBE-1.2.upf'\n",
    "\n",
    "inp_data = {}\n",
    "inp_data['calculation'] = 'scf'\n",
    "inp_data['restart_mode'] = 'from_scratch'\n",
    "inp_data['prefix'] = 'h2o'\n",
    "inp_data['outdir'] = './'\n",
    "inp_data['pseudo_dir'] = './'\n",
    "inp_data['verbosity'] = 'high'\n",
    "inp_data['wf_collect'] = True\n",
    "\n",
    "inp_data['ecutwfc'] = 60\n",
    "inp_data['nspin'] = 1\n",
    "inp_data['nbnd'] = 120\n",
    "\n",
    "inp_data['diago_full_acc'] = True\n",
    "\n",
    "write('h2o.pwi',atoms,pseudopotentials=pseudopotentials,input_data=inp_data)"
   ]
  },
  {
   "cell_type": "code",
   "execution_count": null,
   "metadata": {},
   "outputs": [],
   "source": [
    "!cat h2o.pwi"
   ]
  },
  {
   "cell_type": "code",
   "execution_count": null,
   "metadata": {},
   "outputs": [],
   "source": [
    "# We build the input for MBPT\n",
    "\n",
    "import yaml\n",
    "\n",
    "west={}\n",
    "west['input_west']={} \n",
    "west['input_west']['qe_prefix']='h2o'\n",
    "west['input_west']['west_prefix']='h2o'\n",
    "west['input_west']['outdir']='./'\n",
    "\n",
    "west['wstat_control']={} \n",
    "west['wstat_control']['wstat_calculation']='S'\n",
    "west['wstat_control']['n_pdep_eigen']=200\n",
    "\n",
    "west['wfreq_control']={} \n",
    "west['wfreq_control']['wfreq_calculation']='XWGQ'\n",
    "west['wfreq_control']['macropol_calculation']='C' \n",
    "# Note that for a solid we must set macropol_calculation to 'C', the default 'N' is good for molecules\n",
    "west['wfreq_control']['n_pdep_eigen_to_use']=200\n",
    "west['wfreq_control']['qp_bandrange']=[20,30]\n",
    "west['wfreq_control']['n_refreq']=300\n",
    "west['wfreq_control']['ecut_refreq']=2.0\n",
    "\n",
    "with open('west.in', 'w') as file:\n",
    "    yaml.dump(west, file, sort_keys=False)"
   ]
  },
  {
   "cell_type": "code",
   "execution_count": null,
   "metadata": {},
   "outputs": [],
   "source": [
    "!cat west.in"
   ]
  },
  {
   "cell_type": "code",
   "execution_count": null,
   "metadata": {},
   "outputs": [],
   "source": [
    "!mpirun -n 8 pw.x -i h2o.pwi > h2o.pwo\n",
    "!mpirun -n 8 wstat.x -i wstat.in > wstat.out\n",
    "!mpirun -n 8 wfreq.x -i wfreq.in > wfreq.out"
   ]
  },
  {
   "cell_type": "markdown",
   "metadata": {
    "collapsed": true
   },
   "source": [
    "<h2>6.3 : SiC solid</h2>"
   ]
  },
  {
   "cell_type": "code",
   "execution_count": null,
   "metadata": {},
   "outputs": [],
   "source": [
    "# We download the pseudopotentials \n",
    "!wget -N -q http://www.quantum-simulation.org/potentials/sg15_oncv/upf/C_ONCV_PBE-1.2.upf\n",
    "!wget -N -q http://www.quantum-simulation.org/potentials/sg15_oncv/upf/Si_ONCV_PBE-1.2.upf"
   ]
  },
  {
   "cell_type": "code",
   "execution_count": null,
   "metadata": {},
   "outputs": [],
   "source": [
    "# We build the input for DFT\n",
    "from ase.build import bulk\n",
    "\n",
    "atoms = bulk('SiC', 'zincblende', a=8.56, cubic=True) # Angstrom\n",
    "\n",
    "pseudopotentials = {}\n",
    "pseudopotentials['C'] = 'C_ONCV_PBE-1.2.upf'\n",
    "pseudopotentials['Si'] = 'Si_ONCV_PBE-1.2.upf'\n",
    "\n",
    "inp_data = {}\n",
    "inp_data['calculation'] = 'scf'\n",
    "inp_data['restart_mode'] = 'from_scratch'\n",
    "inp_data['prefix'] = 'sic'\n",
    "inp_data['outdir'] = './'\n",
    "inp_data['pseudo_dir'] = './'\n",
    "inp_data['verbosity'] = 'high'\n",
    "inp_data['wf_collect'] = True\n",
    "\n",
    "inp_data['ecutwfc'] = 60\n",
    "inp_data['nspin'] = 1\n",
    "inp_data['nbnd'] = 100\n",
    "\n",
    "inp_data['diago_full_acc'] = True\n",
    "\n",
    "write('sic_scf.pwi',atoms,pseudopotentials=pseudopotentials,input_data=inp_data,kpts=[8,8,8])\n",
    "\n",
    "inp_data['calculation'] = 'nscf'\n",
    "inp_data['nosym'] = True\n",
    "inp_data['noinv'] = True\n",
    "\n",
    "# Note that for systems with k-points we run a nscf calculation making sure that symmetries are turned off\n",
    "\n",
    "write('sic_nscf.pwi',atoms,pseudopotentials=pseudopotentials,input_data=inp_data,kpts=[2,2,2])"
   ]
  },
  {
   "cell_type": "code",
   "execution_count": null,
   "metadata": {},
   "outputs": [],
   "source": [
    "!cat sic_scf.pwi"
   ]
  },
  {
   "cell_type": "code",
   "execution_count": null,
   "metadata": {},
   "outputs": [],
   "source": [
    "!cat sic_nscf.pwi"
   ]
  },
  {
   "cell_type": "code",
   "execution_count": null,
   "metadata": {},
   "outputs": [],
   "source": [
    "# We build the input for MBPT\n",
    "import yaml\n",
    "\n",
    "west={}\n",
    "west['input_west']={} \n",
    "west['input_west']['qe_prefix']='sic'\n",
    "west['input_west']['west_prefix']='sic'\n",
    "west['input_west']['outdir']='./'\n",
    "\n",
    "west['wstat_control']={} \n",
    "west['wstat_control']['wstat_calculation']='S'\n",
    "west['wstat_control']['n_pdep_eigen']=200\n",
    "\n",
    "west['wfreq_control']={} \n",
    "west['wfreq_control']['wfreq_calculation']='XWGQ'\n",
    "west['wfreq_control']['macropol_calculation']='C'\n",
    "west['wfreq_control']['n_pdep_eigen_to_use']=200\n",
    "west['wfreq_control']['qp_bandrange']=[20,30]\n",
    "west['wfreq_control']['n_refreq']=300\n",
    "west['wfreq_control']['ecut_refreq']=2.0\n",
    "\n",
    "with open('west.in', 'w') as file:\n",
    "    yaml.dump(west, file, sort_keys=False)"
   ]
  },
  {
   "cell_type": "code",
   "execution_count": null,
   "metadata": {},
   "outputs": [],
   "source": [
    "!cat west.in"
   ]
  },
  {
   "cell_type": "code",
   "execution_count": null,
   "metadata": {},
   "outputs": [],
   "source": [
    "!mpirun -n 8 pw.x -i sic_scf.pwi > sic_scf.pwo\n",
    "!mpirun -n 8 pw.x -i sic_nscf.pwi > sic_nscf.pwo\n",
    "!mpirun -n 8 wstat.x -i wstat.in > wstat.out\n",
    "!mpirun -n 8 wfreq.x -i wfreq.in > wfreq.out"
   ]
  }
 ],
 "metadata": {
  "kernelspec": {
   "display_name": "Python 3 (ipykernel)",
   "language": "python",
   "name": "python3"
  },
  "language_info": {
   "codemirror_mode": {
    "name": "ipython",
    "version": 3
   },
   "file_extension": ".py",
   "mimetype": "text/x-python",
   "name": "python",
   "nbconvert_exporter": "python",
   "pygments_lexer": "ipython3",
   "version": "3.8.13"
  }
 },
 "nbformat": 4,
 "nbformat_minor": 2
}
