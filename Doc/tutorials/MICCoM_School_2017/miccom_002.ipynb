{
 "cells": [
  {
   "cell_type": "markdown",
   "metadata": {},
   "source": [
    "# MICCoM School 2017 Ex#2 : Computation of the dielectric screening"
   ]
  },
  {
   "cell_type": "markdown",
   "metadata": {},
   "source": [
    "We are going to dive into the calculation of the dielectric screening done in Exercise #1.\n",
    "\n",
    "In this excercixe we will focus on the input for `wstat.x`."
   ]
  },
  {
   "cell_type": "code",
   "execution_count": null,
   "metadata": {},
   "outputs": [],
   "source": [
    "# download the pseudopotentials\n",
    "!wget -N -q http://www.quantum-simulation.org/potentials/sg15_oncv/upf/Si_ONCV_PBE-1.2.upf\n",
    "!wget -N -q http://www.quantum-simulation.org/potentials/sg15_oncv/upf/H_ONCV_PBE-1.2.upf\n",
    "\n",
    "# download the input files\n",
    "!wget -N -q http://www.west-code.org/doc/training/silane/pw.in\n",
    "!wget -N -q http://www.west-code.org/doc/training/silane/wstat.in"
   ]
  },
  {
   "cell_type": "markdown",
   "metadata": {},
   "source": [
    "In order to compute the dielectric screening we need to read the output of a DFT calculation, therefore as first step we run the DFT calculation invoking the executable `pw.x` on 8 CPU cores."
   ]
  },
  {
   "cell_type": "code",
   "execution_count": null,
   "metadata": {
    "scrolled": false
   },
   "outputs": [],
   "source": [
    "!mpirun -n 8 pw.x -i pw.in > pw.out"
   ]
  },
  {
   "cell_type": "markdown",
   "metadata": {},
   "source": [
    "## 2.1 : Iterative diagonalization of the static dielectric matrix\n",
    "\n",
    "Wstat will read the output of DFT and will compute the static dielectric screening from first principles. An iterative diagonalization of the dielectric matrix is performed:\n",
    "\n",
    "\\begin{equation}\n",
    "\\epsilon_{\\mathbf{G},\\mathbf{G^\\prime}}(\\omega=0) = \\sum_{i=1}^{\\texttt{n_pdep_eigen}} \\, \\phi_i(\\mathbf{G}) \\, \\lambda_i \\phi^\\ast_i(\\mathbf{G^\\prime})\n",
    "\\end{equation}\n",
    "\n",
    "where $\\phi_i$ and $\\lambda_i$ are the eigenvectors and eigenvalues of the dielectric matrix (extressed here in terms of plane waves).\n",
    "\n",
    "The diagonalization is started with random potentials and then iterated using the Davidson algorithm. Details about the implementation are described in <a href=\"https://pubs.acs.org/doi/full/10.1021/ct500958p#showFigures\">J. Chem. Theory Comput. 11, 2680 (2015)</a> :\n",
    "<img src=\"https://pubs.acs.org/cms/10.1021/ct500958p/asset/images/medium/ct-2014-00958p_0003.gif\" width=\"50%\">"
   ]
  },
  {
   "cell_type": "markdown",
   "metadata": {},
   "source": [
    "Let's give a quick look at the input for `wstat.x` (description of the input variables for `wstat.x` can be found here: http://www.west-code.org/doc/West/latest/manual.html#wstat-control))"
   ]
  },
  {
   "cell_type": "code",
   "execution_count": null,
   "metadata": {},
   "outputs": [],
   "source": [
    "!cat wstat.in"
   ]
  },
  {
   "cell_type": "markdown",
   "metadata": {},
   "source": [
    "In this case we are computing 50 eigenpotentials $\\phi_i$."
   ]
  },
  {
   "cell_type": "markdown",
   "metadata": {},
   "source": [
    "We run `wstat.x` on 8 cores."
   ]
  },
  {
   "cell_type": "code",
   "execution_count": null,
   "metadata": {
    "scrolled": true
   },
   "outputs": [],
   "source": [
    "!mpirun -n 8 wstat.x -i wstat.in > wstat.out"
   ]
  },
  {
   "cell_type": "markdown",
   "metadata": {},
   "source": [
    "We now load the output (JSON) of the `wstat.x` calculation, which can be found in the `wstat.save` folder."
   ]
  },
  {
   "cell_type": "code",
   "execution_count": null,
   "metadata": {},
   "outputs": [],
   "source": [
    "import json\n",
    "\n",
    "# read data from JSON file\n",
    "with open('silane.wstat.save/wstat.json') as file:\n",
    "    data = json.load(file)\n",
    "\n",
    "# pretty print the data\n",
    "print(json.dumps(data, indent=2))"
   ]
  },
  {
   "cell_type": "markdown",
   "metadata": {},
   "source": [
    "We plot the $50$ eigenvalues $\\lambda_i$ of the dielectric matrix."
   ]
  },
  {
   "cell_type": "code",
   "execution_count": null,
   "metadata": {},
   "outputs": [],
   "source": [
    "import numpy as np\n",
    "import matplotlib.pyplot as plt\n",
    "\n",
    "# y : eigenvalues of the dielectic matrix\n",
    "y = data['output']['eigenval']\n",
    "# x : index of eigenvalue\n",
    "x = np.arange(1, len(y)+1, 1)\n",
    "\n",
    "print('y : ', y)\n",
    "print('x : ', x)\n",
    "\n",
    "# plot\n",
    "fig, ax = plt.subplots(1, 1)\n",
    "ax.plot(x, y, 'ro-'')\n",
    "\n",
    "plt.xlabel('i')\n",
    "plt.ylabel('Eigenvalue')\n",
    "\n",
    "plt.title('PDEP')\n",
    "\n",
    "plt.show()"
   ]
  },
  {
   "cell_type": "markdown",
   "metadata": {},
   "source": [
    "We can track how the eigenvalues converge during the iterative diagonalization."
   ]
  },
  {
   "cell_type": "code",
   "execution_count": null,
   "metadata": {},
   "outputs": [],
   "source": [
    "import numpy as np\n",
    "import matplotlib.pyplot as plt\n",
    "\n",
    "# y : eigenvalues of the dielectic matrix (now for every iteration)\n",
    "y = []\n",
    "for i in range(data['exec']['ndav']) :\n",
    "    y.append(data['exec']['davitr'][i]['ev'])\n",
    "# x : index of the eigenvalues\n",
    "x = np.arange(1, len(y[0])+1, 1)\n",
    "\n",
    "# plot\n",
    "fig, ax = plt.subplots(1, 1)\n",
    "\n",
    "for i in range(data['exec']['ndav']) :\n",
    "    ax.plot(x, y[i], 'o-', label='iter'+str(i+1))\n",
    "\n",
    "plt.xlabel('i')\n",
    "plt.ylabel('Eigenvalue')\n",
    "\n",
    "plt.legend()\n",
    "\n",
    "plt.title('PDEP')\n",
    "plt.show()"
   ]
  },
  {
   "cell_type": "markdown",
   "metadata": {
    "collapsed": true
   },
   "source": [
    "<b>Question</b>: <i>How do we compute 70 eigenpotentials?</i>\n",
    "\n",
    "<i>~ Edit the file below, execute it, and plot the eigenvalues! ~</i>"
   ]
  },
  {
   "cell_type": "code",
   "execution_count": null,
   "metadata": {},
   "outputs": [],
   "source": [
    "import yaml\n",
    "\n",
    "# read data: wstat.in --> input_data\n",
    "with open('wstat.in') as file:\n",
    "    input_data = yaml.load(file, Loader=yaml.FullLoader)\n",
    "\n",
    "# pretty print\n",
    "print('input_data')\n",
    "print(yaml.dump(input_data, sort_keys=False))\n",
    "\n",
    "# modify the variable n_pdep_eigen in input_data\n",
    "# input_data[..........  EDIT HERE ...............] = 70\n",
    "\n",
    "# write data to YAML file: input_data --> wstat_70.in\n",
    "with open('wstat_70.in', 'w') as file:\n",
    "    yaml.dump(input_data, file, sort_keys=False)\n",
    "\n",
    "# show content of the file\n",
    "print('wstat_70.in')\n",
    "!cat wstat_70.in"
   ]
  },
  {
   "cell_type": "code",
   "execution_count": null,
   "metadata": {
    "scrolled": true
   },
   "outputs": [],
   "source": [
    "!mpirun -n 8 wstat.x -i wstat_70.in > wstat_70.out"
   ]
  },
  {
   "cell_type": "markdown",
   "metadata": {
    "collapsed": true
   },
   "source": [
    "Now plot the data and compare."
   ]
  }
 ],
 "metadata": {
  "kernelspec": {
   "display_name": "Python 3 (ipykernel)",
   "language": "python",
   "name": "python3"
  },
  "language_info": {
   "codemirror_mode": {
    "name": "ipython",
    "version": 3
   },
   "file_extension": ".py",
   "mimetype": "text/x-python",
   "name": "python",
   "nbconvert_exporter": "python",
   "pygments_lexer": "ipython3",
   "version": "3.8.13"
  }
 },
 "nbformat": 4,
 "nbformat_minor": 2
}
