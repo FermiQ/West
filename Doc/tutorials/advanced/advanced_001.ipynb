{
 "cells": [
  {
   "cell_type": "markdown",
   "id": "c91f28d7",
   "metadata": {},
   "source": [
    "This tutorial can be downloaded [link](http://greatfire.uchicago.edu/west-public/West/raw/master/Doc/tutorials/advanced/advanced_001.ipynb)."
   ]
  },
  {
   "cell_type": "markdown",
   "id": "77fd310d",
   "metadata": {},
   "source": [
    "# Advanced tutorial 1: Symmetry analysis in Quantum Defect Embedding Theory (QDET)"
   ]
  },
  {
   "cell_type": "markdown",
   "id": "bbd93a58",
   "metadata": {},
   "source": [
    "We explain how to identify the symmetry of excited many-body states calculated with the Quantum Defect Embedding Theory (QDET) using the point symmetry of the defect. \n",
    "In this tutorial, we focus on the $\\mathrm{NV^-}$ center in diamond."
   ]
  },
  {
   "cell_type": "markdown",
   "id": "66bafb9d",
   "metadata": {},
   "source": [
    "## Step 1: Mean-field starting point"
   ]
  },
  {
   "cell_type": "markdown",
   "id": "06eec18a",
   "metadata": {},
   "source": [
    "As for a standard QDET calculation, we need to determine the mean-field starting point first. In order to perform the symmetry analysis, we will additionally write the single-particle wavefunctions to cube files, in order to determine their symmetry character."
   ]
  },
  {
   "cell_type": "markdown",
   "id": "4febd675",
   "metadata": {},
   "source": [
    "Download the following files in your working directory:"
   ]
  },
  {
   "cell_type": "code",
   "execution_count": null,
   "id": "ccae5f0d",
   "metadata": {},
   "outputs": [],
   "source": [
    "%%bash\n",
    "wget -N -q http://www.west-code.org/doc/training/nv_diamond_63/pw.in\n",
    "wget -N -q http://www.west-code.org/doc/training/nv_diamond_63/pp.in\n",
    "wget -N -q http://www.quantum-simulation.org/potentials/sg15_oncv/upf/C_ONCV_PBE-1.0.upf\n",
    "wget -N -q http://www.quantum-simulation.org/potentials/sg15_oncv/upf/N_ONCV_PBE-1.0.upf"
   ]
  },
  {
   "cell_type": "markdown",
   "id": "fb6e2772",
   "metadata": {},
   "source": [
    "We can now inspect the `pw.in` file, the input for the `pw.x` code:"
   ]
  },
  {
   "cell_type": "code",
   "execution_count": null,
   "id": "1611504f",
   "metadata": {},
   "outputs": [],
   "source": [
    "%%bash\n",
    "cat pw.in"
   ]
  },
  {
   "cell_type": "markdown",
   "id": "7aed6e63",
   "metadata": {},
   "source": [
    "We can now run `pw.x` on 2 cores."
   ]
  },
  {
   "cell_type": "code",
   "execution_count": null,
   "id": "91a6f305",
   "metadata": {},
   "outputs": [],
   "source": [
    "%%bash\n",
    "mpirun -n 2 pw.x -i pw.in > pw.out"
   ]
  },
  {
   "cell_type": "markdown",
   "id": "d2e5c9b1",
   "metadata": {},
   "source": [
    "Once the ground state calculation has finished successfully, we can write the single-particle wavefunctions using the `pp.x` executable. The input file is given as"
   ]
  },
  {
   "cell_type": "code",
   "execution_count": null,
   "id": "778d2edc",
   "metadata": {},
   "outputs": [],
   "source": [
    "%%bash\n",
    "cat pp.in"
   ]
  },
  {
   "cell_type": "markdown",
   "id": "3c7f1da8",
   "metadata": {},
   "source": [
    "And the calculation is performed with the following command"
   ]
  },
  {
   "cell_type": "code",
   "execution_count": null,
   "id": "a38ed3c3",
   "metadata": {},
   "outputs": [],
   "source": [
    "%%bash\n",
    "mpirun -n 2 pp.x -i pp.in > pp.out"
   ]
  },
  {
   "cell_type": "markdown",
   "id": "60a827a7",
   "metadata": {},
   "source": [
    "## Step 2: Definition of the point group"
   ]
  },
  {
   "cell_type": "markdown",
   "id": "8f61e024",
   "metadata": {},
   "source": [
    "We now define the point group. A point group is characterized by two quantities:\n",
    "* a set of symmetry operations (identity, reflection, and rotation operations)\n",
    "* a corresponding character table"
   ]
  },
  {
   "cell_type": "code",
   "execution_count": null,
   "id": "da9abad7",
   "metadata": {},
   "outputs": [],
   "source": [
    "import numpy as np\n",
    "from westpy.qdet.symm import PointGroup, PointGroupOperation, PointGroupRotation, PointGroupReflection\n",
    "\n",
    "sq3 = np.sqrt(3)\n",
    "\n",
    "# the origin is set to the Nitrogen site.\n",
    "# The prefactor corresponds to the real-space grid along each direction.\n",
    "origin = 64 * np.array([0.48731,  0.48731,  0.48731])\n",
    "\n",
    "point_group = PointGroup(\n",
    "    name=\"C3v\",\n",
    "    operations={\n",
    "        \"E\": PointGroupOperation(T=np.eye(4)),\n",
    "        \"C3_1\": PointGroupRotation(rotvec=2 * np.pi / 3 * np.array([1/sq3, 1/sq3, 1/sq3]),\n",
    "                                   origin=origin),\n",
    "        \"C3_2\": PointGroupRotation(rotvec=4 * np.pi / 3 * np.array([1/sq3, 1/sq3, 1/sq3]),\n",
    "                                   origin=origin),\n",
    "        \"Cv_1\": PointGroupReflection(normal=(1, -1, 0), origin=origin),\n",
    "        \"Cv_2\": PointGroupReflection(normal=(0, -1, 1), origin=origin),\n",
    "        \"Cv_3\": PointGroupReflection(normal=(-1, 0, 1), origin=origin)\n",
    "    },\n",
    "    ctable={\n",
    "        \"A1\": [1, 1, 1, 1, 1, 1],\n",
    "        \"A2\": [1, 1, 1, -1, -1, -1],\n",
    "        \"E\": [2, -1, -1, 0, 0, 0]})"
   ]
  },
  {
   "cell_type": "markdown",
   "id": "43262ecc",
   "metadata": {},
   "source": [
    "## Step 3: Diagonalization of QDET Hamiltonian"
   ]
  },
  {
   "cell_type": "markdown",
   "id": "33421065",
   "metadata": {},
   "source": [
    "In this tutorial, we focus on the symmetry analysis with QDET. To avoid costly calculations of the matrix elements of the effective Hamiltonian, we simply download the input and output files of the QDET calculation. To learn how to perform QDET calculations, see [Basic Tutorial 5](http://greatfire.uchicago.edu/west-public/West/raw/master/Doc/tutorials/basic/basic_005.ipynb)."
   ]
  },
  {
   "cell_type": "code",
   "execution_count": null,
   "id": "20d0d158",
   "metadata": {},
   "outputs": [],
   "source": [
    "%%bash\n",
    "mkdir -p west.wfreq.save\n",
    "wget -N -q http://www.west-code.org/doc/training/nv_diamond_63/wfreq.in\n",
    "wget -N -q http://www.west-code.org/doc/training/nv_diamond_63/wfreq.json -O west.wfreq.save/wfreq.json"
   ]
  },
  {
   "cell_type": "markdown",
   "id": "9897df7f",
   "metadata": {},
   "source": [
    "To add point-group analysis to QDET, we simply pass the point-group object defined above to the Hamiltonian object. Additionally, we provide the list of filenames for the wavefunctions.\n",
    "\n",
    "The code will apply the symmetry operations to the Kohn-Sham wavefunctions stored in the cube files and determine the character of these wavefunctions. After the diagonalization of the effective Hamiltonian, the character of the many-body states can then be inferred from the character of the wavefunctions."
   ]
  },
  {
   "cell_type": "code",
   "execution_count": null,
   "id": "c25c8527",
   "metadata": {},
   "outputs": [],
   "source": [
    "# Here, we provide the list of file paths for the cube files for each basis function of the active space.\n",
    "wfct_filenames = ['wfct_K001_B087.cube','wfct_K001_B122.cube', 'wfct_K001_B123.cube',\n",
    "                  'wfct_K001_B126.cube', 'wfct_K001_B127.cube', 'wfct_K001_B128.cube']"
   ]
  },
  {
   "cell_type": "code",
   "execution_count": null,
   "id": "7fa11423",
   "metadata": {},
   "outputs": [],
   "source": [
    "# the diagonalization is exactly the same as without the symmetry analysis.\n",
    "from westpy.qdet import QDETResult\n",
    "\n",
    "# construct object for effective Hamiltonian\n",
    "effective_hamiltonian = QDETResult(filename='west.wfreq.save/wfreq.json', point_group=point_group,\n",
    "                                  wfct_filenames=wfct_filenames)\n",
    "\n",
    "# diagonalize Hamiltonian\n",
    "solution = effective_hamiltonian.solve()"
   ]
  },
  {
   "cell_type": "code",
   "execution_count": null,
   "id": "c31692aa",
   "metadata": {},
   "outputs": [],
   "source": []
  }
 ],
 "metadata": {
  "kernelspec": {
   "display_name": "Python 3 (ipykernel)",
   "language": "python",
   "name": "python3"
  },
  "language_info": {
   "codemirror_mode": {
    "name": "ipython",
    "version": 3
   },
   "file_extension": ".py",
   "mimetype": "text/x-python",
   "name": "python",
   "nbconvert_exporter": "python",
   "pygments_lexer": "ipython3",
   "version": "3.8.8"
  }
 },
 "nbformat": 4,
 "nbformat_minor": 5
}
