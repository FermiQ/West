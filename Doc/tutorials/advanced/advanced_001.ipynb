{
 "cells": [
  {
   "cell_type": "markdown",
   "id": "c91f28d7",
   "metadata": {},
   "source": [
    "This tutorial can be downloaded [link](https://github.com/west-code-development/West/raw/master/Doc/tutorials/advanced/advanced_001.ipynb)."
   ]
  },
  {
   "cell_type": "markdown",
   "id": "77fd310d",
   "metadata": {},
   "source": [
    "# Advanced Tutorial 1: Symmetry Analysis in QDET Calculations"
   ]
  },
  {
   "cell_type": "markdown",
   "id": "bbd93a58",
   "metadata": {},
   "source": [
    "We explain how to identify the symmetry of excited many-body states calculated with the Quantum Defect Embedding Theory (QDET) using the point symmetry of the defect.\n",
    "\n",
    "In this tutorial, we focus on the $\\mathrm{NV^-}$ center in diamond."
   ]
  },
  {
   "cell_type": "markdown",
   "id": "66bafb9d",
   "metadata": {},
   "source": [
    "## Step 1: Mean-field starting point"
   ]
  },
  {
   "cell_type": "markdown",
   "id": "06eec18a",
   "metadata": {},
   "source": [
    "Similarly to the case of a standard QDET calculation, the workflow starts with the calculation of the mean-field starting point. In order to perform the symmetry analysis, we additionally write the single-particle wavefunctions to cube files.\n",
    "\n",
    "Download the following files in your working directory:"
   ]
  },
  {
   "cell_type": "code",
   "execution_count": 1,
   "id": "ccae5f0d",
   "metadata": {},
   "outputs": [],
   "source": [
    "%%bash\n",
    "wget -N -q https://west-code.org/doc/training/nv_diamond_63/pw.in\n",
    "wget -N -q http://www.quantum-simulation.org/potentials/sg15_oncv/upf/C_ONCV_PBE-1.2.upf\n",
    "wget -N -q http://www.quantum-simulation.org/potentials/sg15_oncv/upf/N_ONCV_PBE-1.2.upf"
   ]
  },
  {
   "cell_type": "markdown",
   "id": "fb6e2772",
   "metadata": {},
   "source": [
    "We can now inspect the `pw.in` file, the input for the `pw.x` code:"
   ]
  },
  {
   "cell_type": "code",
   "execution_count": 2,
   "id": "1611504f",
   "metadata": {},
   "outputs": [
    {
     "name": "stdout",
     "output_type": "stream",
     "text": [
      "&CONTROL\n",
      "calculation = 'scf'\n",
      "pseudo_dir = './'\n",
      "/\n",
      "&SYSTEM\n",
      "input_dft = 'PBE'\n",
      "ibrav = 0\n",
      "ecutwfc = 50\n",
      "tot_charge = -1\n",
      "nspin = 1\n",
      "nbnd = 176\n",
      "occupations = 'from_input'\n",
      "nat = 63\n",
      "ntyp = 2\n",
      "/\n",
      "&ELECTRONS\n",
      "diago_full_acc = .true.\n",
      "/\n",
      "K_POINTS gamma\n",
      "CELL_PARAMETERS angstrom\n",
      "7.136012  0.000000  0.000000\n",
      "0.000000  7.136012  0.000000\n",
      "0.000000  0.000000  7.136012\n",
      "ATOMIC_SPECIES\n",
      "C  12.01099968  C_ONCV_PBE-1.2.upf\n",
      "N  14.00699997  N_ONCV_PBE-1.2.upf\n",
      "ATOMIC_POSITIONS crystal\n",
      "C    0.99996000  0.99996000  0.99996000\n",
      "C    0.12495000  0.12495000  0.12495000\n",
      "C    0.99905000  0.25039000  0.25039000\n",
      "C    0.12350000  0.37499000  0.37499000\n",
      "C    0.25039000  0.99905000  0.25039000\n",
      "C    0.37499000  0.12350000  0.37499000\n",
      "C    0.25039000  0.25039000  0.99905000\n",
      "C    0.37499000  0.37499000  0.12350000\n",
      "C    0.00146000  0.00146000  0.50100000\n",
      "C    0.12510000  0.12510000  0.62503000\n",
      "C    0.00102000  0.24944000  0.74960000\n",
      "C    0.12614000  0.37542000  0.87402000\n",
      "C    0.24944000  0.00102000  0.74960000\n",
      "C    0.37542000  0.12614000  0.87402000\n",
      "C    0.24839000  0.24839000  0.49966000\n",
      "C    0.37509000  0.37509000  0.61906000\n",
      "C    0.00146000  0.50100000  0.00146000\n",
      "C    0.12510000  0.62503000  0.12510000\n",
      "C    0.00102000  0.74960000  0.24944000\n",
      "C    0.12614000  0.87402000  0.37542000\n",
      "C    0.24839000  0.49966000  0.24839000\n",
      "C    0.37509000  0.61906000  0.37509000\n",
      "C    0.24944000  0.74960000  0.00102000\n",
      "C    0.37542000  0.87402000  0.12614000\n",
      "C    0.99883000  0.50076000  0.50076000\n",
      "C    0.12502000  0.62512000  0.62512000\n",
      "C    0.99961000  0.74983000  0.74983000\n",
      "C    0.12491000  0.87493000  0.87493000\n",
      "C    0.25216000  0.50142000  0.74767000\n",
      "C    0.37740000  0.62659000  0.87314000\n",
      "C    0.25216000  0.74767000  0.50142000\n",
      "C    0.37740000  0.87314000  0.62659000\n",
      "C    0.50100000  0.00146000  0.00146000\n",
      "C    0.62503000  0.12510000  0.12510000\n",
      "C    0.49966000  0.24839000  0.24839000\n",
      "C    0.61906000  0.37509000  0.37509000\n",
      "C    0.74960000  0.00102000  0.24944000\n",
      "C    0.87402000  0.12614000  0.37542000\n",
      "C    0.74960000  0.24944000  0.00102000\n",
      "C    0.87402000  0.37542000  0.12614000\n",
      "C    0.50076000  0.99883000  0.50076000\n",
      "C    0.62512000  0.12502000  0.62512000\n",
      "C    0.50142000  0.25216000  0.74767000\n",
      "C    0.62659000  0.37740000  0.87314000\n",
      "C    0.74983000  0.99961000  0.74983000\n",
      "C    0.87493000  0.12491000  0.87493000\n",
      "C    0.74767000  0.25216000  0.50142000\n",
      "C    0.87314000  0.37740000  0.62659000\n",
      "C    0.50076000  0.50076000  0.99883000\n",
      "C    0.62512000  0.62512000  0.12502000\n",
      "C    0.50142000  0.74767000  0.25216000\n",
      "C    0.62659000  0.87314000  0.37740000\n",
      "C    0.74767000  0.50142000  0.25216000\n",
      "C    0.87314000  0.62659000  0.37740000\n",
      "C    0.74983000  0.74983000  0.99961000\n",
      "C    0.87493000  0.87493000  0.12491000\n",
      "N    0.48731000  0.48731000  0.48731000\n",
      "C    0.49191000  0.76093000  0.76093000\n",
      "C    0.62368000  0.87476000  0.87476000\n",
      "C    0.76093000  0.49191000  0.76093000\n",
      "C    0.87476000  0.62368000  0.87476000\n",
      "C    0.76093000  0.76093000  0.49191000\n",
      "C    0.87476000  0.87476000  0.62368000\n",
      "OCCUPATIONS\n",
      "2 2 2 2 2 2 2 2 2 2\n",
      "2 2 2 2 2 2 2 2 2 2\n",
      "2 2 2 2 2 2 2 2 2 2\n",
      "2 2 2 2 2 2 2 2 2 2\n",
      "2 2 2 2 2 2 2 2 2 2\n",
      "2 2 2 2 2 2 2 2 2 2\n",
      "2 2 2 2 2 2 2 2 2 2\n",
      "2 2 2 2 2 2 2 2 2 2\n",
      "2 2 2 2 2 2 2 2 2 2\n",
      "2 2 2 2 2 2 2 2 2 2\n",
      "2 2 2 2 2 2 2 2 2 2\n",
      "2 2 2 2 2 2 2 2 2 2\n",
      "2 2 2 2 2 2 1 1 0 0\n",
      "0 0 0 0 0 0 0 0 0 0\n",
      "0 0 0 0 0 0 0 0 0 0\n",
      "0 0 0 0 0 0 0 0 0 0\n",
      "0 0 0 0 0 0 0 0 0 0\n",
      "0 0 0 0 0 0\n"
     ]
    }
   ],
   "source": [
    "%%bash\n",
    "cat pw.in"
   ]
  },
  {
   "cell_type": "markdown",
   "id": "7aed6e63",
   "metadata": {},
   "source": [
    "We run `pw.x` on 2 cores."
   ]
  },
  {
   "cell_type": "code",
   "execution_count": null,
   "id": "91a6f305",
   "metadata": {},
   "outputs": [],
   "source": [
    "%%bash\n",
    "mpirun -n 2 pw.x -i pw.in > pw.out"
   ]
  },
  {
   "cell_type": "markdown",
   "id": "ca092cb5-9cef-42ea-b368-78ea4cbc89ce",
   "metadata": {},
   "source": [
    "We use `westpp.x` to write the wavefunctions to cube files. Create the input file `westpp.in`:"
   ]
  },
  {
   "cell_type": "code",
   "execution_count": 3,
   "id": "e488ec4e-a449-49c7-94b1-9aa51cd9c622",
   "metadata": {},
   "outputs": [],
   "source": [
    "import yaml\n",
    "\n",
    "d = {}\n",
    "d[\"westpp_control\"] = {}\n",
    "d[\"westpp_control\"][\"westpp_calculation\"] = \"W\"\n",
    "d[\"westpp_control\"][\"westpp_range\"] = [1, 176]\n",
    "d[\"westpp_control\"][\"westpp_format\"] = \"C\"\n",
    "d[\"westpp_control\"][\"westpp_sign\"] = True\n",
    "        \n",
    "with open(\"westpp.in\", \"w\") as f:\n",
    "    yaml.dump(d, f, sort_keys=False)"
   ]
  },
  {
   "cell_type": "code",
   "execution_count": 4,
   "id": "778d2edc",
   "metadata": {},
   "outputs": [
    {
     "name": "stdout",
     "output_type": "stream",
     "text": [
      "westpp_control:\n",
      "  westpp_calculation: W\n",
      "  westpp_range:\n",
      "  - 1\n",
      "  - 176\n",
      "  westpp_format: C\n",
      "  westpp_sign: true\n"
     ]
    }
   ],
   "source": [
    "%%bash\n",
    "cat westpp.in"
   ]
  },
  {
   "cell_type": "markdown",
   "id": "3c7f1da8",
   "metadata": {},
   "source": [
    "We run `westpp.x` on 2 cores."
   ]
  },
  {
   "cell_type": "code",
   "execution_count": null,
   "id": "a38ed3c3",
   "metadata": {},
   "outputs": [],
   "source": [
    "%%bash\n",
    "mpirun -n 2 westpp.x -i westpp.in > westpp.out"
   ]
  },
  {
   "cell_type": "markdown",
   "id": "60a827a7",
   "metadata": {},
   "source": [
    "## Step 2: Definition of the point group"
   ]
  },
  {
   "cell_type": "markdown",
   "id": "8f61e024",
   "metadata": {},
   "source": [
    "We now define the point group. A point group is characterized by two quantities:\n",
    "\n",
    "- a set of symmetry operations (identity, reflection, and rotation operations)\n",
    "- a corresponding character table"
   ]
  },
  {
   "cell_type": "code",
   "execution_count": 5,
   "id": "da9abad7",
   "metadata": {},
   "outputs": [
    {
     "name": "stdout",
     "output_type": "stream",
     "text": [
      " \n",
      " _    _ _____ _____ _____            \n",
      "| |  | |  ___/  ___|_   _|           \n",
      "| |  | | |__ \\ `--.  | |_ __  _   _  \n",
      "| |/\\| |  __| `--. \\ | | '_ \\| | | | \n",
      "\\  /\\  / |___/\\__/ / | | |_) | |_| | \n",
      " \\/  \\/\\____/\\____/  \\_/ .__/ \\__, | \n",
      "                       | |     __/ | \n",
      "                       |_|    |___/  \n",
      " \n",
      "WEST version     :  6.0.0\n",
      "Today            :  2024-06-19 10:30:15.939195\n"
     ]
    }
   ],
   "source": [
    "import numpy as np\n",
    "from westpy.qdet.symm import PointGroup, PointGroupOperation, PointGroupRotation, PointGroupReflection\n",
    "\n",
    "sq3 = np.sqrt(3)\n",
    "\n",
    "# the origin is set to the nitrogen site.\n",
    "# The prefactor corresponds to the real-space FFT grid along each direction.\n",
    "origin = 64 * np.array([0.48731,  0.48731,  0.48731])\n",
    "\n",
    "point_group = PointGroup(\n",
    "    name=\"C3v\",\n",
    "    operations={\n",
    "        \"E\": PointGroupOperation(T=np.eye(4)),\n",
    "        \"C3_1\": PointGroupRotation(rotvec=2 * np.pi / 3 * np.array([1/sq3, 1/sq3, 1/sq3]),\n",
    "                                   origin=origin),\n",
    "        \"C3_2\": PointGroupRotation(rotvec=4 * np.pi / 3 * np.array([1/sq3, 1/sq3, 1/sq3]),\n",
    "                                   origin=origin),\n",
    "        \"Cv_1\": PointGroupReflection(normal=(1, -1, 0), origin=origin),\n",
    "        \"Cv_2\": PointGroupReflection(normal=(0, -1, 1), origin=origin),\n",
    "        \"Cv_3\": PointGroupReflection(normal=(-1, 0, 1), origin=origin)\n",
    "    },\n",
    "    ctable={\n",
    "        \"A1\": [1, 1, 1, 1, 1, 1],\n",
    "        \"A2\": [1, 1, 1, -1, -1, -1],\n",
    "        \"E\": [2, -1, -1, 0, 0, 0]})"
   ]
  },
  {
   "cell_type": "markdown",
   "id": "43262ecc",
   "metadata": {},
   "source": [
    "## Step 3: Diagonalization of QDET Hamiltonian"
   ]
  },
  {
   "cell_type": "markdown",
   "id": "33421065",
   "metadata": {},
   "source": [
    "In this tutorial, we focus on the symmetry analysis with QDET. To avoid costly calculations of the matrix elements of the effective Hamiltonian, we simply download the output file of the QDET calculation. To learn how to perform QDET calculations, see [Basic Tutorial 5](https://github.com/west-code-development/West/raw/master/Doc/tutorials/basic/basic_005.ipynb)."
   ]
  },
  {
   "cell_type": "code",
   "execution_count": 6,
   "id": "20d0d158",
   "metadata": {},
   "outputs": [],
   "source": [
    "%%bash\n",
    "mkdir -p west.wfreq.save\n",
    "wget -N -q https://west-code.org/doc/training/nv_diamond_63/wfreq.json -O west.wfreq.save/wfreq.json"
   ]
  },
  {
   "cell_type": "markdown",
   "id": "9897df7f",
   "metadata": {},
   "source": [
    "To add point group analysis to QDET, we pass the point group object defined above to the Hamiltonian object. Additionally, we provide the list of filenames for the wavefunctions.\n",
    "\n",
    "The code will apply the symmetry operations to the Kohn-Sham wavefunctions stored in the cube files and determine the character of these wavefunctions. After the diagonalization of the effective Hamiltonian, the character of the many-body states can then be inferred from the character of the wavefunctions."
   ]
  },
  {
   "cell_type": "code",
   "execution_count": null,
   "id": "051b2f45",
   "metadata": {},
   "outputs": [],
   "source": [
    "%%bash\n",
    "wget -N -q https://west-code.org/doc/training/nv_diamond_63/wfcK000001B000087.cube\n",
    "wget -N -q https://west-code.org/doc/training/nv_diamond_63/wfcK000001B000122.cube\n",
    "wget -N -q https://west-code.org/doc/training/nv_diamond_63/wfcK000001B000123.cube\n",
    "wget -N -q https://west-code.org/doc/training/nv_diamond_63/wfcK000001B000126.cube\n",
    "wget -N -q https://west-code.org/doc/training/nv_diamond_63/wfcK000001B000127.cube\n",
    "wget -N -q https://west-code.org/doc/training/nv_diamond_63/wfcK000001B000128.cube"
   ]
  },
  {
   "cell_type": "code",
   "execution_count": 7,
   "id": "7fa11423",
   "metadata": {},
   "outputs": [
    {
     "name": "stdout",
     "output_type": "stream",
     "text": [
      "PointGroupRep: rep matrices are orthogonal\n",
      "Irrep of orbitals: ['A1(1.00)', 'A1(1.00)', 'A1(1.00)', 'A1(1.00)', 'E(1.00)', 'E(1.00)']\n",
      "Solutions are projected onto irreps of C3v group\n",
      "-----------------------------------------------------\n",
      "===============================================================\n",
      "Building effective Hamiltonian...\n",
      "nspin: 1\n",
      "occupations: [[2. 2. 2. 2. 1. 1.]]\n",
      "===============================================================\n"
     ]
    },
    {
     "data": {
      "text/html": [
       "<div>\n",
       "<style scoped>\n",
       "    .dataframe tbody tr th:only-of-type {\n",
       "        vertical-align: middle;\n",
       "    }\n",
       "\n",
       "    .dataframe tbody tr th {\n",
       "        vertical-align: top;\n",
       "    }\n",
       "\n",
       "    .dataframe thead tr th {\n",
       "        text-align: left;\n",
       "    }\n",
       "</style>\n",
       "<table border=\"1\" class=\"dataframe\">\n",
       "  <thead>\n",
       "    <tr>\n",
       "      <th></th>\n",
       "      <th colspan=\"2\" halign=\"left\"></th>\n",
       "      <th colspan=\"6\" halign=\"left\">diag[1RDM - 1RDM(GS)]</th>\n",
       "    </tr>\n",
       "    <tr>\n",
       "      <th></th>\n",
       "      <th>E [eV]</th>\n",
       "      <th>char</th>\n",
       "      <th>87</th>\n",
       "      <th>122</th>\n",
       "      <th>123</th>\n",
       "      <th>126</th>\n",
       "      <th>127</th>\n",
       "      <th>128</th>\n",
       "    </tr>\n",
       "  </thead>\n",
       "  <tbody>\n",
       "    <tr>\n",
       "      <th>0</th>\n",
       "      <td>0.000</td>\n",
       "      <td>3A2</td>\n",
       "      <td>0.000</td>\n",
       "      <td>0.000</td>\n",
       "      <td>0.000</td>\n",
       "      <td>0.000</td>\n",
       "      <td>0.000</td>\n",
       "      <td>0.000</td>\n",
       "    </tr>\n",
       "    <tr>\n",
       "      <th>1</th>\n",
       "      <td>0.436</td>\n",
       "      <td>1E</td>\n",
       "      <td>-0.001</td>\n",
       "      <td>-0.009</td>\n",
       "      <td>-0.018</td>\n",
       "      <td>-0.067</td>\n",
       "      <td>0.004</td>\n",
       "      <td>0.091</td>\n",
       "    </tr>\n",
       "    <tr>\n",
       "      <th>2</th>\n",
       "      <td>0.436</td>\n",
       "      <td>1E</td>\n",
       "      <td>-0.001</td>\n",
       "      <td>-0.009</td>\n",
       "      <td>-0.018</td>\n",
       "      <td>-0.067</td>\n",
       "      <td>0.092</td>\n",
       "      <td>0.002</td>\n",
       "    </tr>\n",
       "    <tr>\n",
       "      <th>3</th>\n",
       "      <td>1.251</td>\n",
       "      <td>1A1</td>\n",
       "      <td>-0.002</td>\n",
       "      <td>-0.019</td>\n",
       "      <td>-0.023</td>\n",
       "      <td>-0.067</td>\n",
       "      <td>0.054</td>\n",
       "      <td>0.057</td>\n",
       "    </tr>\n",
       "    <tr>\n",
       "      <th>4</th>\n",
       "      <td>1.939</td>\n",
       "      <td>3E</td>\n",
       "      <td>-0.003</td>\n",
       "      <td>-0.010</td>\n",
       "      <td>-0.127</td>\n",
       "      <td>-0.860</td>\n",
       "      <td>1.000</td>\n",
       "      <td>0.000</td>\n",
       "    </tr>\n",
       "    <tr>\n",
       "      <th>5</th>\n",
       "      <td>1.940</td>\n",
       "      <td>3E</td>\n",
       "      <td>-0.003</td>\n",
       "      <td>-0.010</td>\n",
       "      <td>-0.127</td>\n",
       "      <td>-0.860</td>\n",
       "      <td>0.000</td>\n",
       "      <td>1.000</td>\n",
       "    </tr>\n",
       "    <tr>\n",
       "      <th>6</th>\n",
       "      <td>2.935</td>\n",
       "      <td>1E</td>\n",
       "      <td>-0.000</td>\n",
       "      <td>-0.032</td>\n",
       "      <td>-0.043</td>\n",
       "      <td>-0.855</td>\n",
       "      <td>0.929</td>\n",
       "      <td>0.002</td>\n",
       "    </tr>\n",
       "    <tr>\n",
       "      <th>7</th>\n",
       "      <td>2.936</td>\n",
       "      <td>1E</td>\n",
       "      <td>-0.000</td>\n",
       "      <td>-0.032</td>\n",
       "      <td>-0.043</td>\n",
       "      <td>-0.855</td>\n",
       "      <td>0.002</td>\n",
       "      <td>0.929</td>\n",
       "    </tr>\n",
       "    <tr>\n",
       "      <th>8</th>\n",
       "      <td>4.661</td>\n",
       "      <td>1A1</td>\n",
       "      <td>-0.006</td>\n",
       "      <td>-0.054</td>\n",
       "      <td>-0.188</td>\n",
       "      <td>-1.672</td>\n",
       "      <td>0.960</td>\n",
       "      <td>0.960</td>\n",
       "    </tr>\n",
       "    <tr>\n",
       "      <th>9</th>\n",
       "      <td>5.080</td>\n",
       "      <td>3E</td>\n",
       "      <td>-0.014</td>\n",
       "      <td>-0.698</td>\n",
       "      <td>-0.213</td>\n",
       "      <td>-0.075</td>\n",
       "      <td>1.000</td>\n",
       "      <td>0.000</td>\n",
       "    </tr>\n",
       "  </tbody>\n",
       "</table>\n",
       "</div>"
      ],
      "text/plain": [
       "              diag[1RDM - 1RDM(GS)]                                 \n",
       "  E [eV] char                    87    122    123    126   127   128\n",
       "0  0.000  3A2                 0.000  0.000  0.000  0.000 0.000 0.000\n",
       "1  0.436   1E                -0.001 -0.009 -0.018 -0.067 0.004 0.091\n",
       "2  0.436   1E                -0.001 -0.009 -0.018 -0.067 0.092 0.002\n",
       "3  1.251  1A1                -0.002 -0.019 -0.023 -0.067 0.054 0.057\n",
       "4  1.939   3E                -0.003 -0.010 -0.127 -0.860 1.000 0.000\n",
       "5  1.940   3E                -0.003 -0.010 -0.127 -0.860 0.000 1.000\n",
       "6  2.935   1E                -0.000 -0.032 -0.043 -0.855 0.929 0.002\n",
       "7  2.936   1E                -0.000 -0.032 -0.043 -0.855 0.002 0.929\n",
       "8  4.661  1A1                -0.006 -0.054 -0.188 -1.672 0.960 0.960\n",
       "9  5.080   3E                -0.014 -0.698 -0.213 -0.075 1.000 0.000"
      ]
     },
     "metadata": {},
     "output_type": "display_data"
    },
    {
     "name": "stdout",
     "output_type": "stream",
     "text": [
      "-----------------------------------------------------\n"
     ]
    }
   ],
   "source": [
    "# the diagonalization is the same as without the symmetry analysis\n",
    "from westpy.qdet import QDETResult\n",
    "\n",
    "# list of cube files for the wavefunctions\n",
    "wfct_filenames = [\"wfcK000001B000087.cube\", \"wfcK000001B000122.cube\", \"wfcK000001B000123.cube\",\n",
    "                  \"wfcK000001B000126.cube\", \"wfcK000001B000127.cube\", \"wfcK000001B000128.cube\"]\n",
    "\n",
    "# construct object for effective Hamiltonian\n",
    "effective_hamiltonian = QDETResult(filename=\"west.wfreq.save/wfreq.json\", point_group=point_group, wfct_filenames=wfct_filenames)\n",
    "\n",
    "# diagonalize Hamiltonian\n",
    "solution = effective_hamiltonian.solve()"
   ]
  }
 ],
 "metadata": {
  "kernelspec": {
   "display_name": "Python 3 (ipykernel)",
   "language": "python",
   "name": "python3"
  },
  "language_info": {
   "codemirror_mode": {
    "name": "ipython",
    "version": 3
   },
   "file_extension": ".py",
   "mimetype": "text/x-python",
   "name": "python",
   "nbconvert_exporter": "python",
   "pygments_lexer": "ipython3",
   "version": "3.11.5"
  }
 },
 "nbformat": 4,
 "nbformat_minor": 5
}
