{
 "cells": [
  {
   "cell_type": "markdown",
   "id": "527d8459",
   "metadata": {},
   "source": [
    "This tutorial can be downloaded [link](https://github.com/west-code-development/West/raw/master/Doc/tutorials/advanced/advanced_002.ipynb)."
   ]
  },
  {
   "cell_type": "markdown",
   "id": "47c6f131",
   "metadata": {},
   "source": [
    "# Advanced Tutorial 2: Detailed Analysis of QDET Many-Body States"
   ]
  },
  {
   "cell_type": "markdown",
   "id": "44cd1fe2",
   "metadata": {},
   "source": [
    "In this tutorial, we show how the full diagonalization of effective Hamiltonian in QDET enables a detailed analysis of the excited states of the defect.\n",
    "\n",
    "As we focus on the analysis in this tutorial, we download the input and output files from the QDET calculation. For more details about how to perform the underlying QDET calculations, see [Basic Tutorial 5](https://github.com/west-code-development/West/raw/master/Doc/tutorials/basic/basic_005.ipynb)."
   ]
  },
  {
   "cell_type": "code",
   "execution_count": 1,
   "id": "d916ee93",
   "metadata": {},
   "outputs": [],
   "source": [
    "%%bash\n",
    "mkdir -p west.wfreq.save\n",
    "wget -N -q https://west-code.org/doc/training/nv_diamond_63/wfreq.in\n",
    "wget -N -q https://west-code.org/doc/training/nv_diamond_63/wfreq.json -O west.wfreq.save/wfreq.json"
   ]
  },
  {
   "cell_type": "markdown",
   "id": "a2cee1a2",
   "metadata": {},
   "source": [
    "## Solution of QDET for $m_S=0$"
   ]
  },
  {
   "cell_type": "markdown",
   "id": "170a0b34",
   "metadata": {},
   "source": [
    "We diagonalize the QDET Hamiltonian as usual:"
   ]
  },
  {
   "cell_type": "code",
   "execution_count": 2,
   "id": "2c89fa12",
   "metadata": {},
   "outputs": [
    {
     "name": "stdout",
     "output_type": "stream",
     "text": [
      " \n",
      " _    _ _____ _____ _____            \n",
      "| |  | |  ___/  ___|_   _|           \n",
      "| |  | | |__ \\ `--.  | |_ __  _   _  \n",
      "| |/\\| |  __| `--. \\ | | '_ \\| | | | \n",
      "\\  /\\  / |___/\\__/ / | | |_) | |_| | \n",
      " \\/  \\/\\____/\\____/  \\_/ .__/ \\__, | \n",
      "                       | |     __/ | \n",
      "                       |_|    |___/  \n",
      " \n",
      "WEST version     :  5.5.0\n",
      "Today            :  2024-02-02 14:09:28.333370\n",
      "-----------------------------------------------------\n",
      "===============================================================\n",
      "Building effective Hamiltonian...\n",
      "nspin: 1\n",
      "occupations: [[2. 2. 2. 2. 1. 1.]]\n",
      "===============================================================\n"
     ]
    },
    {
     "data": {
      "text/html": [
       "<div>\n",
       "<style scoped>\n",
       "    .dataframe tbody tr th:only-of-type {\n",
       "        vertical-align: middle;\n",
       "    }\n",
       "\n",
       "    .dataframe tbody tr th {\n",
       "        vertical-align: top;\n",
       "    }\n",
       "\n",
       "    .dataframe thead tr th {\n",
       "        text-align: left;\n",
       "    }\n",
       "</style>\n",
       "<table border=\"1\" class=\"dataframe\">\n",
       "  <thead>\n",
       "    <tr>\n",
       "      <th></th>\n",
       "      <th colspan=\"2\" halign=\"left\"></th>\n",
       "      <th colspan=\"6\" halign=\"left\">diag[1RDM - 1RDM(GS)]</th>\n",
       "    </tr>\n",
       "    <tr>\n",
       "      <th></th>\n",
       "      <th>E [eV]</th>\n",
       "      <th>char</th>\n",
       "      <th>87</th>\n",
       "      <th>122</th>\n",
       "      <th>123</th>\n",
       "      <th>126</th>\n",
       "      <th>127</th>\n",
       "      <th>128</th>\n",
       "    </tr>\n",
       "  </thead>\n",
       "  <tbody>\n",
       "    <tr>\n",
       "      <th>0</th>\n",
       "      <td>0.000</td>\n",
       "      <td>3-</td>\n",
       "      <td>0.000</td>\n",
       "      <td>0.000</td>\n",
       "      <td>0.000</td>\n",
       "      <td>0.000</td>\n",
       "      <td>0.000</td>\n",
       "      <td>0.000</td>\n",
       "    </tr>\n",
       "    <tr>\n",
       "      <th>1</th>\n",
       "      <td>0.436</td>\n",
       "      <td>1-</td>\n",
       "      <td>-0.001</td>\n",
       "      <td>-0.009</td>\n",
       "      <td>-0.018</td>\n",
       "      <td>-0.067</td>\n",
       "      <td>0.004</td>\n",
       "      <td>0.091</td>\n",
       "    </tr>\n",
       "    <tr>\n",
       "      <th>2</th>\n",
       "      <td>0.436</td>\n",
       "      <td>1-</td>\n",
       "      <td>-0.001</td>\n",
       "      <td>-0.009</td>\n",
       "      <td>-0.018</td>\n",
       "      <td>-0.067</td>\n",
       "      <td>0.092</td>\n",
       "      <td>0.002</td>\n",
       "    </tr>\n",
       "    <tr>\n",
       "      <th>3</th>\n",
       "      <td>1.251</td>\n",
       "      <td>1-</td>\n",
       "      <td>-0.002</td>\n",
       "      <td>-0.019</td>\n",
       "      <td>-0.023</td>\n",
       "      <td>-0.067</td>\n",
       "      <td>0.054</td>\n",
       "      <td>0.057</td>\n",
       "    </tr>\n",
       "    <tr>\n",
       "      <th>4</th>\n",
       "      <td>1.939</td>\n",
       "      <td>3-</td>\n",
       "      <td>-0.003</td>\n",
       "      <td>-0.010</td>\n",
       "      <td>-0.127</td>\n",
       "      <td>-0.860</td>\n",
       "      <td>1.000</td>\n",
       "      <td>0.000</td>\n",
       "    </tr>\n",
       "    <tr>\n",
       "      <th>5</th>\n",
       "      <td>1.940</td>\n",
       "      <td>3-</td>\n",
       "      <td>-0.003</td>\n",
       "      <td>-0.010</td>\n",
       "      <td>-0.127</td>\n",
       "      <td>-0.860</td>\n",
       "      <td>0.000</td>\n",
       "      <td>1.000</td>\n",
       "    </tr>\n",
       "    <tr>\n",
       "      <th>6</th>\n",
       "      <td>2.935</td>\n",
       "      <td>1-</td>\n",
       "      <td>-0.000</td>\n",
       "      <td>-0.032</td>\n",
       "      <td>-0.043</td>\n",
       "      <td>-0.855</td>\n",
       "      <td>0.929</td>\n",
       "      <td>0.002</td>\n",
       "    </tr>\n",
       "    <tr>\n",
       "      <th>7</th>\n",
       "      <td>2.936</td>\n",
       "      <td>1-</td>\n",
       "      <td>-0.000</td>\n",
       "      <td>-0.032</td>\n",
       "      <td>-0.043</td>\n",
       "      <td>-0.855</td>\n",
       "      <td>0.002</td>\n",
       "      <td>0.929</td>\n",
       "    </tr>\n",
       "    <tr>\n",
       "      <th>8</th>\n",
       "      <td>4.661</td>\n",
       "      <td>1-</td>\n",
       "      <td>-0.006</td>\n",
       "      <td>-0.054</td>\n",
       "      <td>-0.188</td>\n",
       "      <td>-1.672</td>\n",
       "      <td>0.960</td>\n",
       "      <td>0.960</td>\n",
       "    </tr>\n",
       "    <tr>\n",
       "      <th>9</th>\n",
       "      <td>5.080</td>\n",
       "      <td>3-</td>\n",
       "      <td>-0.014</td>\n",
       "      <td>-0.698</td>\n",
       "      <td>-0.213</td>\n",
       "      <td>-0.075</td>\n",
       "      <td>1.000</td>\n",
       "      <td>0.000</td>\n",
       "    </tr>\n",
       "  </tbody>\n",
       "</table>\n",
       "</div>"
      ],
      "text/plain": [
       "              diag[1RDM - 1RDM(GS)]                                 \n",
       "  E [eV] char                    87    122    123    126   127   128\n",
       "0  0.000   3-                 0.000  0.000  0.000  0.000 0.000 0.000\n",
       "1  0.436   1-                -0.001 -0.009 -0.018 -0.067 0.004 0.091\n",
       "2  0.436   1-                -0.001 -0.009 -0.018 -0.067 0.092 0.002\n",
       "3  1.251   1-                -0.002 -0.019 -0.023 -0.067 0.054 0.057\n",
       "4  1.939   3-                -0.003 -0.010 -0.127 -0.860 1.000 0.000\n",
       "5  1.940   3-                -0.003 -0.010 -0.127 -0.860 0.000 1.000\n",
       "6  2.935   1-                -0.000 -0.032 -0.043 -0.855 0.929 0.002\n",
       "7  2.936   1-                -0.000 -0.032 -0.043 -0.855 0.002 0.929\n",
       "8  4.661   1-                -0.006 -0.054 -0.188 -1.672 0.960 0.960\n",
       "9  5.080   3-                -0.014 -0.698 -0.213 -0.075 1.000 0.000"
      ]
     },
     "metadata": {},
     "output_type": "display_data"
    },
    {
     "name": "stdout",
     "output_type": "stream",
     "text": [
      "-----------------------------------------------------\n"
     ]
    }
   ],
   "source": [
    "from westpy.qdet import QDETResult\n",
    "\n",
    "# construct object for effective Hamiltonian\n",
    "effective_hamiltonian = QDETResult(filename='west.wfreq.save/wfreq.json')\n",
    "\n",
    "# diagonalize Hamiltonian\n",
    "solution = effective_hamiltonian.solve()"
   ]
  },
  {
   "cell_type": "markdown",
   "id": "caf08335",
   "metadata": {},
   "source": [
    "The solution was obtained for 10 electrons (5 in each spin channel) and 6 orbitals:"
   ]
  },
  {
   "cell_type": "code",
   "execution_count": 3,
   "id": "96492ccc",
   "metadata": {},
   "outputs": [
    {
     "name": "stdout",
     "output_type": "stream",
     "text": [
      "(5, 5)\n",
      "6\n"
     ]
    }
   ],
   "source": [
    "print(solution['nelec'])\n",
    "print(solution['norb'])"
   ]
  },
  {
   "cell_type": "markdown",
   "id": "697a4c0c",
   "metadata": {},
   "source": [
    "These numbers can be compared with the `basis` and `occupation` stored in the effective Hamiltonian."
   ]
  },
  {
   "cell_type": "code",
   "execution_count": 4,
   "id": "992bac94",
   "metadata": {},
   "outputs": [
    {
     "name": "stdout",
     "output_type": "stream",
     "text": [
      "[ 87 122 123 126 127 128]\n",
      "6\n"
     ]
    }
   ],
   "source": [
    "print(effective_hamiltonian.basis)\n",
    "print(len(effective_hamiltonian.basis))"
   ]
  },
  {
   "cell_type": "code",
   "execution_count": 5,
   "id": "101316e2",
   "metadata": {},
   "outputs": [
    {
     "name": "stdout",
     "output_type": "stream",
     "text": [
      "[[2. 2. 2. 2. 1. 1.]]\n",
      "10.0\n"
     ]
    }
   ],
   "source": [
    "import numpy as np\n",
    "print(effective_hamiltonian.occupation)\n",
    "print(np.sum(effective_hamiltonian.occupation))"
   ]
  },
  {
   "cell_type": "markdown",
   "id": "4e1a276c",
   "metadata": {},
   "source": [
    "This is the case of solutions with $m_S=0$. We will later discuss the case with $m_S=1$.\n",
    "\n",
    "To check for the value of $S^2$ and spin multiplicity, one can easily:"
   ]
  },
  {
   "cell_type": "code",
   "execution_count": 6,
   "id": "672d7789",
   "metadata": {},
   "outputs": [
    {
     "name": "stdout",
     "output_type": "stream",
     "text": [
      "i=0, energy [eV]=0.000, <S^2>=2.000, mult=3.000\n",
      "i=1, energy [eV]=0.436, <S^2>=0.000, mult=1.000\n",
      "i=2, energy [eV]=0.436, <S^2>=0.000, mult=1.000\n",
      "i=3, energy [eV]=1.251, <S^2>=0.000, mult=1.000\n",
      "i=4, energy [eV]=1.939, <S^2>=2.000, mult=3.000\n",
      "i=5, energy [eV]=1.940, <S^2>=2.000, mult=3.000\n",
      "i=6, energy [eV]=2.935, <S^2>=0.000, mult=1.000\n",
      "i=7, energy [eV]=2.936, <S^2>=0.000, mult=1.000\n",
      "i=8, energy [eV]=4.661, <S^2>=0.000, mult=1.000\n",
      "i=9, energy [eV]=5.080, <S^2>=2.000, mult=3.000\n"
     ]
    }
   ],
   "source": [
    "import pyscf\n",
    "fcisolver = pyscf.fci.direct_spin1.FCISolver()\n",
    "\n",
    "for i, state in enumerate(solution['evcs']):\n",
    "    en = solution['evs'][i]\n",
    "    ss, mult = fcisolver.spin_square(state, norb=solution['norb'], nelec=solution['nelec'])\n",
    "    print(f\"i={i}, energy [eV]={en:.3f}, <S^2>={ss:.3f}, mult={mult:.3f}\")"
   ]
  },
  {
   "cell_type": "markdown",
   "id": "7aafea91",
   "metadata": {},
   "source": [
    "The eigenstate of each many-body state is a matrix of size (number of Slater determinants in the spin-alpha channel, number of Slater determinants in the spin-beta channel), where each entry represents the contribution of that product of Slater determinants to the many-body states. We can determine the number of Slater determinants in each spin-channel as follows:"
   ]
  },
  {
   "cell_type": "code",
   "execution_count": 7,
   "id": "4c42414c",
   "metadata": {},
   "outputs": [
    {
     "name": "stdout",
     "output_type": "stream",
     "text": [
      "No. Slater determinants in spin-channel alpha = 6\n",
      "No. Slater determinants in spin-channel beta = 6\n"
     ]
    }
   ],
   "source": [
    "from pyscf.fci import cistring\n",
    "\n",
    "# print the number of possible Slater determinants in each spin channel\n",
    "for ispin, spinlabel in enumerate(['alpha','beta']):\n",
    "    print(f'No. Slater determinants in spin-channel {spinlabel} = {len(cistring.make_strings(range(solution[\"norb\"]),solution[\"nelec\"][ispin]))}')"
   ]
  },
  {
   "cell_type": "markdown",
   "id": "80a6188b",
   "metadata": {},
   "source": [
    "We check that the shape of the eigenvector matrix is 6x6"
   ]
  },
  {
   "cell_type": "code",
   "execution_count": 8,
   "id": "6ac22672",
   "metadata": {},
   "outputs": [
    {
     "name": "stdout",
     "output_type": "stream",
     "text": [
      "(6, 6)\n"
     ]
    }
   ],
   "source": [
    "print(solution['evcs'][0].shape)"
   ]
  },
  {
   "cell_type": "markdown",
   "id": "5c71409c",
   "metadata": {},
   "source": [
    "We can now inspect the contribution of the various Slater determinants to a given excited many-body state."
   ]
  },
  {
   "cell_type": "code",
   "execution_count": 9,
   "id": "1feb1879",
   "metadata": {},
   "outputs": [
    {
     "name": "stdout",
     "output_type": "stream",
     "text": [
      "i= 0, en [eV]=0.0,  -0.707|011111>|101111>+0.707|101111>|011111>\n",
      "\n",
      "i= 1, en [eV]=0.4359576505738596,  +0.313|011111>|011111>+0.596|011111>|101111>-0.035|011111>|110111>-0.018|011111>|111011>+0.012|011111>|111101>+0.004|011111>|111110>+0.596|101111>|011111>-0.312|101111>|101111>+0.180|101111>|110111>+0.093|101111>|111011>-0.064|101111>|111101>-0.021|101111>|111110>-0.035|110111>|011111>+0.180|110111>|101111>-0.018|111011>|011111>+0.093|111011>|101111>+0.012|111101>|011111>-0.064|111101>|101111>+0.004|111110>|011111>-0.021|111110>|101111>\n",
      "\n",
      "i= 2, en [eV]=0.43629670382916214,  +0.596|011111>|011111>-0.312|011111>|101111>-0.180|011111>|110111>-0.093|011111>|111011>+0.064|011111>|111101>+0.021|011111>|111110>-0.312|101111>|011111>-0.595|101111>|101111>-0.035|101111>|110111>-0.018|101111>|111011>+0.012|101111>|111101>+0.004|101111>|111110>-0.180|110111>|011111>-0.035|110111>|101111>-0.093|111011>|011111>-0.018|111011>|101111>+0.064|111101>|011111>+0.012|111101>|101111>+0.021|111110>|011111>+0.004|111110>|101111>\n",
      "\n",
      "i= 3, en [eV]=1.2505228566304396,  +0.687|011111>|011111>+0.688|101111>|101111>-0.145|110111>|110111>-0.082|110111>|111011>+0.074|110111>|111101>+0.022|110111>|111110>-0.082|111011>|110111>-0.051|111011>|111011>+0.046|111011>|111101>+0.014|111011>|111110>+0.074|111101>|110111>+0.046|111101>|111011>-0.040|111101>|111101>-0.012|111101>|111110>+0.022|111110>|110111>+0.014|111110>|111011>-0.012|111110>|111101>-0.007|111110>|111110>\n",
      "\n",
      "i= 4, en [eV]=1.9393654779292357,  +0.656|011111>|110111>+0.252|011111>|111011>-0.070|011111>|111101>-0.037|011111>|111110>+0.013|101111>|110111>+0.005|101111>|111011>-0.001|101111>|111101>-0.656|110111>|011111>-0.013|110111>|101111>-0.252|111011>|011111>-0.005|111011>|101111>+0.070|111101>|011111>+0.001|111101>|101111>+0.037|111110>|011111>\n",
      "\n",
      "i= 5, en [eV]=1.940122558236312,  +0.013|011111>|110111>+0.005|011111>|111011>-0.001|011111>|111101>-0.656|101111>|110111>-0.252|101111>|111011>+0.070|101111>|111101>+0.037|101111>|111110>-0.013|110111>|011111>+0.656|110111>|101111>-0.005|111011>|011111>+0.252|111011>|101111>+0.001|111101>|011111>-0.070|111101>|101111>-0.037|111110>|101111>\n",
      "\n",
      "i= 6, en [eV]=2.9352449224310595,  +0.176|011111>|011111>-0.061|011111>|101111>+0.653|011111>|110111>+0.146|011111>|111011>+0.127|011111>|111101>+0.004|011111>|111110>-0.061|101111>|011111>-0.176|101111>|101111>+0.027|101111>|110111>+0.006|101111>|111011>+0.005|101111>|111101>+0.653|110111>|011111>+0.027|110111>|101111>+0.146|111011>|011111>+0.006|111011>|101111>+0.127|111101>|011111>+0.005|111101>|101111>+0.004|111110>|011111>\n",
      "\n",
      "i= 7, en [eV]=2.9363046696777113,  -0.061|011111>|011111>-0.176|011111>|101111>-0.027|011111>|110111>-0.006|011111>|111011>-0.005|011111>|111101>-0.176|101111>|011111>+0.061|101111>|101111>+0.653|101111>|110111>+0.146|101111>|111011>+0.127|101111>|111101>+0.004|101111>|111110>-0.027|110111>|011111>+0.653|110111>|101111>-0.006|111011>|011111>+0.146|111011>|101111>-0.005|111101>|011111>+0.127|111101>|101111>+0.004|111110>|101111>\n",
      "\n",
      "i= 8, en [eV]=4.660579248302518,  -0.141|011111>|011111>-0.141|101111>|101111>-0.856|110111>|110111>-0.294|110111>|111011>+0.125|110111>|111101>+0.049|110111>|111110>-0.294|111011>|110111>-0.084|111011>|111011>+0.018|111011>|111101>+0.009|111011>|111110>+0.125|111101>|110111>+0.018|111101>|111011>+0.106|111101>|111101>+0.016|111101>|111110>+0.049|111110>|110111>+0.009|111110>|111011>+0.016|111110>|111101>+0.006|111110>|111110>\n",
      "\n",
      "i= 9, en [eV]=5.079583342421291,  +0.194|011111>|110111>-0.326|011111>|111011>+0.591|011111>|111101>+0.084|011111>|111110>+0.004|101111>|110111>-0.006|101111>|111011>+0.011|101111>|111101>+0.002|101111>|111110>-0.194|110111>|011111>-0.004|110111>|101111>+0.326|111011>|011111>+0.006|111011>|101111>-0.591|111101>|011111>-0.011|111101>|101111>-0.084|111110>|011111>-0.002|111110>|101111>\n",
      "\n"
     ]
    }
   ],
   "source": [
    "from westpy.qdet import visualize_correlated_state\n",
    "\n",
    "for i, state in enumerate(solution['evcs']):\n",
    "    en = solution['evs'][i]\n",
    "    print(f'i= {i}, en [eV]={en}, ',visualize_correlated_state(state, solution['norb'], solution['nelec'], cutoff=10 **(-3)))\n",
    "    print( )"
   ]
  },
  {
   "cell_type": "markdown",
   "id": "ae166dd8",
   "metadata": {},
   "source": [
    "The ground state is a linear combination of products of two Slater determinants, namely $|011111\\rangle| 101111\\rangle$, where the first one ($|011111\\rangle$) is the Slater determinant in the alpha-channel, and the second one ($|101111\\rangle$) is the determinant in the beta-channel.\n",
    "\n",
    "Slater determinants are in the Fock-representation, where the orbitals with the lowest energy is on the right. For example, $|011111\\rangle$ means that the 5 orbitals with the lowest energy are occupied and the orbital with the highest energy is unoccupied.\n",
    "\n",
    "Finally, the `cutoff` in `visualize_correlated_state` is the cutoff for Slater determinants. Only Slater determinants with prefactors larger (in absolute value) than the cutoff are printed.\n",
    "\n",
    "We can visualize the contribution of the various Slater determinants to a given excited many-body state."
   ]
  },
  {
   "cell_type": "code",
   "execution_count": 10,
   "id": "80fe52c8",
   "metadata": {},
   "outputs": [
    {
     "data": {
      "image/png": "[encoded data removed]",
      "text/plain": [
       "<Figure size 640x480 with 2 Axes>"
      ]
     },
     "metadata": {},
     "output_type": "display_data"
    }
   ],
   "source": [
    "import matplotlib.pyplot as plt\n",
    "\n",
    "index1 = 0\n",
    "index2 = 1\n",
    "\n",
    "fig = plt.figure()\n",
    "ax1 = fig.add_subplot(121)\n",
    "ax2 = fig.add_subplot(122)\n",
    "\n",
    "ax1.set_title('Ground state')\n",
    "ax2.set_title('1st Excited state')\n",
    "\n",
    "ax1.set_xlabel('Slater determinant index')\n",
    "ax1.set_ylabel('Contribution of Slater determinant')\n",
    "\n",
    "ax2.set_xlabel('Slater determinant index')\n",
    "\n",
    "\n",
    "ax1.bar([i for i in range(solution['evcs'][index1].flatten().shape[0])],\n",
    "        abs(solution['evcs'][index1].flatten()))\n",
    "\n",
    "ax2.bar([i for i in range(solution['evcs'][index2].flatten().shape[0])],\n",
    "        abs(solution['evcs'][index2].flatten()))\n",
    "\n",
    "plt.show()"
   ]
  },
  {
   "cell_type": "markdown",
   "id": "ec034b9b",
   "metadata": {},
   "source": [
    "## Solution of QDET for $m_S=1$"
   ]
  },
  {
   "cell_type": "markdown",
   "id": "27791caa",
   "metadata": {},
   "source": [
    "We demonstate how to diagonalize the effective Hamiltonian for $m_S=1$. In this case the alpha spin cannel will have more electrons than the beta spin-channel."
   ]
  },
  {
   "cell_type": "markdown",
   "id": "84ecb93c",
   "metadata": {},
   "source": [
    "We re-download the dataset obtained with WEST."
   ]
  },
  {
   "cell_type": "code",
   "execution_count": 11,
   "id": "d7fa8ae8",
   "metadata": {},
   "outputs": [],
   "source": [
    "%%bash\n",
    "mkdir -p west.wfreq.save\n",
    "wget -N -q https://west-code.org/doc/training/nv_diamond_63/wfreq.in\n",
    "wget -N -q https://west-code.org/doc/training/nv_diamond_63/wfreq.json -O west.wfreq.save/wfreq.json"
   ]
  },
  {
   "cell_type": "markdown",
   "id": "a064d41f",
   "metadata": {},
   "source": [
    "We now diagonalize the effective Hamiltonian choosing manually the number of electrons."
   ]
  },
  {
   "cell_type": "code",
   "execution_count": 12,
   "id": "1d95a6ef",
   "metadata": {},
   "outputs": [
    {
     "name": "stdout",
     "output_type": "stream",
     "text": [
      "(6, 4)\n",
      "-----------------------------------------------------\n",
      "===============================================================\n",
      "Building effective Hamiltonian...\n",
      "nspin: 1\n",
      "occupations: [[2. 2. 2. 2. 1. 1.]]\n",
      "===============================================================\n"
     ]
    },
    {
     "data": {
      "text/html": [
       "<div>\n",
       "<style scoped>\n",
       "    .dataframe tbody tr th:only-of-type {\n",
       "        vertical-align: middle;\n",
       "    }\n",
       "\n",
       "    .dataframe tbody tr th {\n",
       "        vertical-align: top;\n",
       "    }\n",
       "\n",
       "    .dataframe thead tr th {\n",
       "        text-align: left;\n",
       "    }\n",
       "</style>\n",
       "<table border=\"1\" class=\"dataframe\">\n",
       "  <thead>\n",
       "    <tr>\n",
       "      <th></th>\n",
       "      <th colspan=\"2\" halign=\"left\"></th>\n",
       "      <th colspan=\"6\" halign=\"left\">diag[1RDM - 1RDM(GS)]</th>\n",
       "    </tr>\n",
       "    <tr>\n",
       "      <th></th>\n",
       "      <th>E [eV]</th>\n",
       "      <th>char</th>\n",
       "      <th>87</th>\n",
       "      <th>122</th>\n",
       "      <th>123</th>\n",
       "      <th>126</th>\n",
       "      <th>127</th>\n",
       "      <th>128</th>\n",
       "    </tr>\n",
       "  </thead>\n",
       "  <tbody>\n",
       "    <tr>\n",
       "      <th>0</th>\n",
       "      <td>0.000</td>\n",
       "      <td>3-</td>\n",
       "      <td>0.000</td>\n",
       "      <td>0.000</td>\n",
       "      <td>0.000</td>\n",
       "      <td>0.000</td>\n",
       "      <td>0.000</td>\n",
       "      <td>0.000</td>\n",
       "    </tr>\n",
       "    <tr>\n",
       "      <th>1</th>\n",
       "      <td>1.939</td>\n",
       "      <td>3-</td>\n",
       "      <td>-0.003</td>\n",
       "      <td>-0.010</td>\n",
       "      <td>-0.127</td>\n",
       "      <td>-0.860</td>\n",
       "      <td>1.000</td>\n",
       "      <td>0.000</td>\n",
       "    </tr>\n",
       "    <tr>\n",
       "      <th>2</th>\n",
       "      <td>1.940</td>\n",
       "      <td>3-</td>\n",
       "      <td>-0.003</td>\n",
       "      <td>-0.010</td>\n",
       "      <td>-0.127</td>\n",
       "      <td>-0.860</td>\n",
       "      <td>0.000</td>\n",
       "      <td>1.000</td>\n",
       "    </tr>\n",
       "    <tr>\n",
       "      <th>3</th>\n",
       "      <td>5.080</td>\n",
       "      <td>3-</td>\n",
       "      <td>-0.014</td>\n",
       "      <td>-0.698</td>\n",
       "      <td>-0.213</td>\n",
       "      <td>-0.075</td>\n",
       "      <td>1.000</td>\n",
       "      <td>0.000</td>\n",
       "    </tr>\n",
       "    <tr>\n",
       "      <th>4</th>\n",
       "      <td>5.080</td>\n",
       "      <td>3-</td>\n",
       "      <td>-0.014</td>\n",
       "      <td>-0.698</td>\n",
       "      <td>-0.213</td>\n",
       "      <td>-0.075</td>\n",
       "      <td>0.000</td>\n",
       "      <td>1.000</td>\n",
       "    </tr>\n",
       "    <tr>\n",
       "      <th>5</th>\n",
       "      <td>6.163</td>\n",
       "      <td>3-</td>\n",
       "      <td>-0.001</td>\n",
       "      <td>-0.278</td>\n",
       "      <td>-0.657</td>\n",
       "      <td>-0.064</td>\n",
       "      <td>0.999</td>\n",
       "      <td>0.001</td>\n",
       "    </tr>\n",
       "    <tr>\n",
       "      <th>6</th>\n",
       "      <td>6.163</td>\n",
       "      <td>3-</td>\n",
       "      <td>-0.001</td>\n",
       "      <td>-0.278</td>\n",
       "      <td>-0.657</td>\n",
       "      <td>-0.064</td>\n",
       "      <td>0.001</td>\n",
       "      <td>0.999</td>\n",
       "    </tr>\n",
       "    <tr>\n",
       "      <th>7</th>\n",
       "      <td>7.030</td>\n",
       "      <td>3-</td>\n",
       "      <td>-0.017</td>\n",
       "      <td>-0.691</td>\n",
       "      <td>-0.353</td>\n",
       "      <td>-0.939</td>\n",
       "      <td>1.000</td>\n",
       "      <td>1.000</td>\n",
       "    </tr>\n",
       "    <tr>\n",
       "      <th>8</th>\n",
       "      <td>8.016</td>\n",
       "      <td>3-</td>\n",
       "      <td>-0.003</td>\n",
       "      <td>-0.303</td>\n",
       "      <td>-0.761</td>\n",
       "      <td>-0.933</td>\n",
       "      <td>1.000</td>\n",
       "      <td>1.000</td>\n",
       "    </tr>\n",
       "    <tr>\n",
       "      <th>9</th>\n",
       "      <td>11.138</td>\n",
       "      <td>3-</td>\n",
       "      <td>-0.019</td>\n",
       "      <td>-0.976</td>\n",
       "      <td>-0.877</td>\n",
       "      <td>-0.127</td>\n",
       "      <td>1.000</td>\n",
       "      <td>1.000</td>\n",
       "    </tr>\n",
       "  </tbody>\n",
       "</table>\n",
       "</div>"
      ],
      "text/plain": [
       "              diag[1RDM - 1RDM(GS)]                                 \n",
       "  E [eV] char                    87    122    123    126   127   128\n",
       "0  0.000   3-                 0.000  0.000  0.000  0.000 0.000 0.000\n",
       "1  1.939   3-                -0.003 -0.010 -0.127 -0.860 1.000 0.000\n",
       "2  1.940   3-                -0.003 -0.010 -0.127 -0.860 0.000 1.000\n",
       "3  5.080   3-                -0.014 -0.698 -0.213 -0.075 1.000 0.000\n",
       "4  5.080   3-                -0.014 -0.698 -0.213 -0.075 0.000 1.000\n",
       "5  6.163   3-                -0.001 -0.278 -0.657 -0.064 0.999 0.001\n",
       "6  6.163   3-                -0.001 -0.278 -0.657 -0.064 0.001 0.999\n",
       "7  7.030   3-                -0.017 -0.691 -0.353 -0.939 1.000 1.000\n",
       "8  8.016   3-                -0.003 -0.303 -0.761 -0.933 1.000 1.000\n",
       "9 11.138   3-                -0.019 -0.976 -0.877 -0.127 1.000 1.000"
      ]
     },
     "metadata": {},
     "output_type": "display_data"
    },
    {
     "name": "stdout",
     "output_type": "stream",
     "text": [
      "-----------------------------------------------------\n"
     ]
    }
   ],
   "source": [
    "from westpy.qdet import QDETResult\n",
    "\n",
    "# construct object for effective Hamiltonian\n",
    "effective_hamiltonian = QDETResult(filename='west.wfreq.save/wfreq.json')\n",
    "\n",
    "\n",
    "nelec=(int(np.sum(effective_hamiltonian.occupation)//2)+1,int(np.sum(effective_hamiltonian.occupation)//2)-1)\n",
    "print(nelec)\n",
    "\n",
    "# diagonalize Hamiltonian\n",
    "solution = effective_hamiltonian.solve(nelec=nelec)"
   ]
  },
  {
   "cell_type": "markdown",
   "id": "ef766184",
   "metadata": {},
   "source": [
    "We see that we have found only triplet states. In order to find singlet and triplet states, it is necessary to have $m_S=0$, which is the assumption made by default in the `solve` method."
   ]
  }
 ],
 "metadata": {
  "kernelspec": {
   "display_name": "Python 3 (ipykernel)",
   "language": "python",
   "name": "python3"
  },
  "language_info": {
   "codemirror_mode": {
    "name": "ipython",
    "version": 3
   },
   "file_extension": ".py",
   "mimetype": "text/x-python",
   "name": "python",
   "nbconvert_exporter": "python",
   "pygments_lexer": "ipython3",
   "version": "3.9.18"
  }
 },
 "nbformat": 4,
 "nbformat_minor": 5
}
